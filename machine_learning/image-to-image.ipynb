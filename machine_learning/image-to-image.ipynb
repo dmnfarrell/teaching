{
 "cells": [
  {
   "cell_type": "markdown",
   "id": "e7c02331",
   "metadata": {},
   "source": [
    "## image-to-image\n",
    "\n",
    "* https://blog.roboflow.com/stable-diffusion-image-to-image-pipeline/"
   ]
  },
  {
   "cell_type": "code",
   "execution_count": 1,
   "id": "07599106-0e2a-4254-95df-c2668c226c61",
   "metadata": {
    "tags": []
   },
   "outputs": [
    {
     "name": "stderr",
     "output_type": "stream",
     "text": [
      "/storage/local/stablediff/lib/python3.10/site-packages/tqdm/auto.py:21: TqdmWarning: IProgress not found. Please update jupyter and ipywidgets. See https://ipywidgets.readthedocs.io/en/stable/user_install.html\n",
      "  from .autonotebook import tqdm as notebook_tqdm\n"
     ]
    }
   ],
   "source": [
    "import os, glob\n",
    "import random, math\n",
    "import numpy as np\n",
    "import pandas as pd\n",
    "from PIL import Image\n",
    "import torch\n",
    "from diffusers import StableDiffusionPipeline, EulerDiscreteScheduler\n",
    "styles = pd.read_csv('stable_diffusion_artist_styles.csv')"
   ]
  },
  {
   "cell_type": "code",
   "execution_count": 2,
   "id": "049bbb08",
   "metadata": {},
   "outputs": [
    {
     "name": "stderr",
     "output_type": "stream",
     "text": [
      "Loading pipeline components...: 100%|██████████| 6/6 [00:01<00:00,  5.33it/s]\n"
     ]
    }
   ],
   "source": [
    "from diffusers import StableDiffusionImg2ImgPipeline\n",
    "model_id = \"stabilityai/stable-diffusion-2-1\"\n",
    "scheduler = EulerDiscreteScheduler.from_pretrained(model_id, subfolder=\"scheduler\")\n",
    "pipe = StableDiffusionImg2ImgPipeline.from_pretrained(\n",
    "    model_id, scheduler=scheduler, torch_dtype=torch.float16).to(\"cuda\")"
   ]
  },
  {
   "cell_type": "code",
   "execution_count": 19,
   "id": "d8348e79-e893-401a-a135-851ff9265db0",
   "metadata": {
    "tags": []
   },
   "outputs": [],
   "source": [
    "def get_words():\n",
    "    import requests\n",
    "    word_site = \"https://www.mit.edu/~ecprice/wordlist.10000\"\n",
    "    response = requests.get(word_site)\n",
    "    w = response.content.splitlines()\n",
    "    w = [i.decode() for i in w]\n",
    "    w = [i for i in w if len(i)>3]\n",
    "    return w\n",
    "\n",
    "randwords = get_words()\n",
    "\n",
    "def random_image(image, style, path, n=1,k=3, strength=0.8):\n",
    "\n",
    "    for i in range(n):\n",
    "        words = random.choices(randwords,k=k)\n",
    "        print (words)\n",
    "        txt = ' '.join(words)\n",
    "        img2imgprompt(txt, style=style, path=path, init_images=[image], strength=strength)"
   ]
  },
  {
   "cell_type": "code",
   "execution_count": 6,
   "id": "15ab901a",
   "metadata": {},
   "outputs": [],
   "source": [
    "def tile_images(image_paths, outfile, grid=False, tile_width=300):\n",
    "    \"\"\"Make tiled image\"\"\"\n",
    "\n",
    "    from PIL import Image, ImageDraw\n",
    "    images = [Image.open(path) for path in image_paths]\n",
    "      \n",
    "    ratio = images[0].height / images[0].width\n",
    "    tile_height = int( tile_width * ratio )\n",
    "    num_rows = int(math.sqrt(len(image_paths)))\n",
    "    # Calculate number of cols\n",
    "    num_columns = (len(images) + num_rows - 1) // num_rows\n",
    "\n",
    "    tiled_width = num_columns * tile_width\n",
    "    tiled_height = num_rows * tile_height\n",
    "    tiled_image = Image.new(\"RGB\", (tiled_width, tiled_height))\n",
    "\n",
    "    for idx, image in enumerate(images):      \n",
    "        row = idx // num_columns\n",
    "        col = idx % num_columns\n",
    "        x_offset = col * tile_width\n",
    "        y_offset = row * tile_height\n",
    "        tiled_image.paste(image.resize((tile_width, tile_height)), (x_offset, y_offset))\n",
    "    if grid == True:\n",
    "        draw = ImageDraw.Draw(tiled_image)\n",
    "        # Draw borders around each tile\n",
    "        for row in range(num_rows):\n",
    "            for col in range(num_columns):\n",
    "                x1 = col * tile_width\n",
    "                y1 = row * tile_height\n",
    "                x2 = x1 + tile_width\n",
    "                y2 = y1 + tile_height\n",
    "                draw.rectangle([x1, y1, x2, y2], outline=(0, 0, 0), width=3)  \n",
    "\n",
    "    tiled_image.save(outfile)\n",
    "    return tiled_image"
   ]
  },
  {
   "cell_type": "code",
   "execution_count": 7,
   "id": "800bb568",
   "metadata": {},
   "outputs": [],
   "source": [
    "def make_gif(path, outfile):\n",
    "    \"\"\"make gif from same condition image\"\"\"\n",
    "\n",
    "    import glob\n",
    "    from PIL import Image\n",
    "    files = sorted(glob.glob(path+'/*.png'))\n",
    "    #print (files)\n",
    "    img = Image.open(files[0])    \n",
    "    #size = img.size\n",
    "    images=[]\n",
    "    images = [Image.open(f) for f in files]\n",
    "    images[0].save(outfile,\n",
    "               save_all=True, append_images=images[1:], \n",
    "               optimize=False, duration=400, loop=0)\n",
    "    return\n"
   ]
  },
  {
   "cell_type": "code",
   "execution_count": 8,
   "id": "52f6d98b",
   "metadata": {},
   "outputs": [],
   "source": [
    "def img2imgprompt(prompt, n=1, style=None, path='.', negative_prompt=None, \n",
    "                    init_images=None, strength=0.8, guidance_scale=9, seed=None):\n",
    "    \"\"\"Image-to-image prompt, assumes the correct pipe object\"\"\"\n",
    "\n",
    "    if style != None:\n",
    "        prompt += ' by %s'%style\n",
    "    init_images = [Image.open(image).convert(\"RGB\").resize((768,768)) for image in init_images]\n",
    "    if negative_prompt == None:\n",
    "        negative_prompt = 'disfigured, bad anatomy, low quality, ugly, tiling, poorly drawn hands, poorly drawn feet, out of frame'\n",
    "    for c in range(n):        \n",
    "        if seed == None:\n",
    "            currseed = torch.randint(0, 10000, (1,)).item()\n",
    "        else:\n",
    "            currseed = None\n",
    "        print (prompt, strength, currseed)\n",
    "        generator = torch.Generator(device=\"cuda\").manual_seed(currseed)        \n",
    "        image = pipe(prompt, negative_prompt='', image=init_images, num_inference_steps=50,\n",
    "                     guidance_scale=guidance_scale, generator=generator, strength=strength).images[0]\n",
    "        if not os.path.exists(path):\n",
    "            os.makedirs(path)\n",
    "        i=1\n",
    "        imgfile = os.path.join(path,prompt[:100]+'_%02d_%d.png' %(i,currseed))\n",
    "        print (imgfile)\n",
    "        while os.path.exists(imgfile):\n",
    "            i+=1\n",
    "            imgfile = os.path.join(path,prompt[:100]+'_%02d_%d.png' %(i,currseed))\n",
    "        image.save(imgfile,'png')        \n",
    "    return image"
   ]
  },
  {
   "cell_type": "code",
   "execution_count": null,
   "id": "7babca1b",
   "metadata": {},
   "outputs": [],
   "source": [
    "images = ['girl.jpg']\n",
    "img2imgprompt(', dramatic lighting, high quality, beautiful, highly detailed, 8k',\n",
    "         style='still photography',path='test',n=4,init_images=images, guidance_scale=5, strength=0.85)                 "
   ]
  },
  {
   "cell_type": "code",
   "execution_count": null,
   "id": "23884392-077a-4527-8bbf-e7d1f9998518",
   "metadata": {
    "tags": []
   },
   "outputs": [],
   "source": [
    "random_image('dredd.jpg','cezanne','dredd',n=2, strength=0.6)"
   ]
  },
  {
   "cell_type": "code",
   "execution_count": null,
   "id": "656040a8",
   "metadata": {},
   "outputs": [],
   "source": [
    "#combinations\n",
    "images = ['man.jpg']\n",
    "def combine_artists(txt, path, n=1):\n",
    "    names = ['Paul Hedley','Paul Cezanne','Paul Klee','Robert Bateman',\n",
    "            'Ray Harris-Ching','Erin Hanson','Carl Rungius','Inessa Garmash','Alphonse Mucha']\n",
    "    for i in range(n):\n",
    "        n1,n2,n3 = random.sample(names,k=3)\n",
    "        style='%s, %s & %s' %(n1,n2,n3)\n",
    "        img2imgprompt(txt, style=style,path=path,init_images=images, guidance_scale=7, strength=0.5)\n",
    "\n",
    "combine_artists('lizard man, dramatic lighting, artstation, high quality, highly detailed', 'fauci', n=10)"
   ]
  },
  {
   "cell_type": "code",
   "execution_count": null,
   "id": "41ecdb29",
   "metadata": {},
   "outputs": [],
   "source": [
    "images = ['supermanreeve.jpg']\n",
    "for s in np.arange(0.05,1,0.25):\n",
    "    img2imgprompt('superman',\n",
    "                  style='carl rungius, paul hedley',path='superman2',init_images=images, strength=s, seed=343)"
   ]
  },
  {
   "cell_type": "code",
   "execution_count": 293,
   "id": "10a3291f",
   "metadata": {},
   "outputs": [],
   "source": [
    "def vary_strength(image, text, path, seed=None):    \n",
    "    for s in np.arange(0.05,0.98,0.03):\n",
    "        img2imgprompt(text, path=path,init_images=[image], strength=s, seed=seed)"
   ]
  },
  {
   "cell_type": "code",
   "execution_count": null,
   "id": "ecc171e6",
   "metadata": {},
   "outputs": [],
   "source": [
    "files = glob.glob('superman2/*.png')\n",
    "#x = random.sample(files, 6)\n",
    "x=sorted(files[-20:])\n",
    "tile_images(x, 'superman_varystrength.png', grid=True)"
   ]
  },
  {
   "cell_type": "code",
   "execution_count": 29,
   "id": "822a811d",
   "metadata": {},
   "outputs": [],
   "source": [
    "make_gif('monalisa6','monalisa6.gif')"
   ]
  },
  {
   "cell_type": "code",
   "execution_count": null,
   "metadata": {},
   "outputs": [],
   "source": []
  }
 ],
 "metadata": {
  "kernelspec": {
   "display_name": "stablediff",
   "language": "python",
   "name": "python3"
  },
  "language_info": {
   "codemirror_mode": {
    "name": "ipython",
    "version": 3
   },
   "file_extension": ".py",
   "mimetype": "text/x-python",
   "name": "python",
   "nbconvert_exporter": "python",
   "pygments_lexer": "ipython3",
   "version": "3.10.12"
  }
 },
 "nbformat": 4,
 "nbformat_minor": 5
}
