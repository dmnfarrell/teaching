{
 "cells": [
  {
   "cell_type": "markdown",
   "id": "e7c02331",
   "metadata": {},
   "source": [
    "## image-to-image\n",
    "\n",
    "* https://blog.roboflow.com/stable-diffusion-image-to-image-pipeline/"
   ]
  },
  {
   "cell_type": "code",
   "execution_count": 1,
   "id": "07599106-0e2a-4254-95df-c2668c226c61",
   "metadata": {
    "tags": []
   },
   "outputs": [],
   "source": [
    "import os, glob\n",
    "import random, math\n",
    "import numpy as np\n",
    "import pandas as pd\n",
    "from PIL import Image\n",
    "import torch\n",
    "from diffusers import StableDiffusionPipeline, EulerDiscreteScheduler\n",
    "styles = pd.read_csv('stable_diffusion_artist_styles.csv')"
   ]
  },
  {
   "cell_type": "code",
   "execution_count": 2,
   "id": "049bbb08",
   "metadata": {},
   "outputs": [
    {
     "data": {
      "application/vnd.jupyter.widget-view+json": {
       "model_id": "71a6c327565047d68248efbaf9809a67",
       "version_major": 2,
       "version_minor": 0
      },
      "text/plain": [
       "Loading pipeline components...:   0%|          | 0/6 [00:00<?, ?it/s]"
      ]
     },
     "metadata": {},
     "output_type": "display_data"
    }
   ],
   "source": [
    "from diffusers import StableDiffusionImg2ImgPipeline\n",
    "model_id = \"stabilityai/stable-diffusion-2-1\"\n",
    "scheduler = EulerDiscreteScheduler.from_pretrained(model_id, subfolder=\"scheduler\")\n",
    "pipe = StableDiffusionImg2ImgPipeline.from_pretrained(\n",
    "    model_id, scheduler=scheduler, torch_dtype=torch.float16).to(\"cuda\")"
   ]
  },
  {
   "cell_type": "code",
   "execution_count": 3,
   "id": "d8348e79-e893-401a-a135-851ff9265db0",
   "metadata": {
    "tags": []
   },
   "outputs": [],
   "source": [
    "def get_words():\n",
    "    import requests\n",
    "    word_site = \"https://www.mit.edu/~ecprice/wordlist.10000\"\n",
    "    response = requests.get(word_site)\n",
    "    w = response.content.splitlines()\n",
    "    w = [i.decode() for i in w]\n",
    "    w = [i for i in w if len(i)>3]\n",
    "    return w\n",
    "\n",
    "randwords = get_words()\n",
    "\n",
    "def random_image(image, style, path, n=1,k=3, strength=0.8):\n",
    "\n",
    "    for i in range(n):\n",
    "        words = random.choices(randwords,k=k)\n",
    "        print (words)\n",
    "        txt = ' '.join(words)\n",
    "        img2imgprompt(txt, style=style, path=path, init_images=[image], strength=strength)"
   ]
  },
  {
   "cell_type": "code",
   "execution_count": 3,
   "id": "15ab901a",
   "metadata": {},
   "outputs": [],
   "source": [
    "def tile_images(image_paths, outfile, grid=False, tile_width=300):\n",
    "    \"\"\"Make tiled image\"\"\"\n",
    "\n",
    "    from PIL import Image, ImageDraw\n",
    "    images = [Image.open(path) for path in image_paths]\n",
    "      \n",
    "    ratio = images[0].height / images[0].width\n",
    "    tile_height = int( tile_width * ratio )\n",
    "    num_rows = int(math.sqrt(len(image_paths)))\n",
    "    # Calculate number of cols\n",
    "    num_columns = (len(images) + num_rows - 1) // num_rows\n",
    "\n",
    "    tiled_width = num_columns * tile_width\n",
    "    tiled_height = num_rows * tile_height\n",
    "    tiled_image = Image.new(\"RGB\", (tiled_width, tiled_height))\n",
    "\n",
    "    for idx, image in enumerate(images):      \n",
    "        row = idx // num_columns\n",
    "        col = idx % num_columns\n",
    "        x_offset = col * tile_width\n",
    "        y_offset = row * tile_height\n",
    "        tiled_image.paste(image.resize((tile_width, tile_height)), (x_offset, y_offset))\n",
    "    if grid == True:\n",
    "        draw = ImageDraw.Draw(tiled_image)\n",
    "        # Draw borders around each tile\n",
    "        for row in range(num_rows):\n",
    "            for col in range(num_columns):\n",
    "                x1 = col * tile_width\n",
    "                y1 = row * tile_height\n",
    "                x2 = x1 + tile_width\n",
    "                y2 = y1 + tile_height\n",
    "                draw.rectangle([x1, y1, x2, y2], outline=(0, 0, 0), width=3)  \n",
    "\n",
    "    tiled_image.save(outfile)\n",
    "    return tiled_image"
   ]
  },
  {
   "cell_type": "code",
   "execution_count": 5,
   "id": "800bb568",
   "metadata": {},
   "outputs": [],
   "source": [
    "def make_gif(path, outfile):\n",
    "    \"\"\"make gif from same condition image\"\"\"\n",
    "\n",
    "    import glob\n",
    "    from PIL import Image\n",
    "    files = sorted(glob.glob(path+'/*.png'))\n",
    "    #print (files)\n",
    "    img = Image.open(files[0])    \n",
    "    #size = img.size\n",
    "    images=[]\n",
    "    images = [Image.open(f) for f in files]\n",
    "    images[0].save(outfile,\n",
    "               save_all=True, append_images=images[1:], \n",
    "               optimize=False, duration=400, loop=0)\n",
    "    return\n"
   ]
  },
  {
   "cell_type": "code",
   "execution_count": 4,
   "id": "52f6d98b",
   "metadata": {},
   "outputs": [],
   "source": [
    "def img2imgprompt(prompt, n=1, style=None, path='.', negative_prompt=None, \n",
    "                    init_images=None, strength=0.8, guidance_scale=9, seed=None):\n",
    "    \"\"\"Image-to-image prompt, assumes the correct pipe object\"\"\"\n",
    "\n",
    "    if style != None:\n",
    "        prompt += ' by %s'%style\n",
    "    init_images = [Image.open(image).convert(\"RGB\").resize((768,768)) for image in init_images]\n",
    "    if negative_prompt == None:\n",
    "        negative_prompt = 'disfigured, bad anatomy, low quality, ugly, tiling, poorly drawn hands, poorly drawn feet, out of frame'\n",
    "    for c in range(n):        \n",
    "        if seed == None:\n",
    "            currseed = torch.randint(0, 10000, (1,)).item()\n",
    "        else:\n",
    "            currseed = seed\n",
    "        print (prompt, strength, currseed)\n",
    "        generator = torch.Generator(device=\"cuda\").manual_seed(currseed)        \n",
    "        image = pipe(prompt, negative_prompt='', image=init_images, num_inference_steps=50,\n",
    "                     guidance_scale=guidance_scale, generator=generator, strength=strength).images[0]\n",
    "        if not os.path.exists(path):\n",
    "            os.makedirs(path)\n",
    "        i=1\n",
    "        imgfile = os.path.join(path,prompt[:120]+'_%02d_%d.png' %(i,currseed))\n",
    "        print (imgfile)\n",
    "        while os.path.exists(imgfile):\n",
    "            i+=1\n",
    "            imgfile = os.path.join(path,prompt[:120]+'_%02d_%d.png' %(i,currseed))\n",
    "        image.save(imgfile,'png')        \n",
    "    return image"
   ]
  },
  {
   "cell_type": "code",
   "execution_count": null,
   "id": "7babca1b",
   "metadata": {},
   "outputs": [],
   "source": [
    "images = ['girl3.jpg']\n",
    "p = '4k, high quality'\n",
    "img2imgprompt(p, style='pop art',path='test',\n",
    "              n=10,init_images=images, guidance_scale=9, strength=0.9)                 "
   ]
  },
  {
   "cell_type": "code",
   "execution_count": null,
   "id": "23884392-077a-4527-8bbf-e7d1f9998518",
   "metadata": {
    "tags": []
   },
   "outputs": [],
   "source": [
    "random_image('bb.jpg','paul hedley, cezanne, klee','children',n=10, strength=0.7)"
   ]
  },
  {
   "cell_type": "code",
   "execution_count": 11,
   "id": "656040a8",
   "metadata": {},
   "outputs": [
    {
     "name": "stdout",
     "output_type": "stream",
     "text": [
      "town in middle of lake on fire, the hobbit, dramatic light, 4k, high quality by Paul Hedley, HR Giger & Robert Bateman 0.8 2209\n"
     ]
    },
    {
     "data": {
      "application/vnd.jupyter.widget-view+json": {
       "model_id": "da95bf57d9574bb89071e69cc40707db",
       "version_major": 2,
       "version_minor": 0
      },
      "text/plain": [
       "  0%|          | 0/40 [00:00<?, ?it/s]"
      ]
     },
     "metadata": {},
     "output_type": "display_data"
    },
    {
     "name": "stdout",
     "output_type": "stream",
     "text": [
      "fantasy/town in middle of lake on fire, the hobbit, dramatic light, 4k, high quality by Paul Hedley, HR Giger & Robert Bateman_01_2209.png\n",
      "town in middle of lake on fire, the hobbit, dramatic light, 4k, high quality by HR Giger, Robert Bateman & Paul Hedley 0.8 5111\n"
     ]
    },
    {
     "data": {
      "application/vnd.jupyter.widget-view+json": {
       "model_id": "42cabcf947e54566b2efbda209e614f7",
       "version_major": 2,
       "version_minor": 0
      },
      "text/plain": [
       "  0%|          | 0/40 [00:00<?, ?it/s]"
      ]
     },
     "metadata": {},
     "output_type": "display_data"
    },
    {
     "name": "stdout",
     "output_type": "stream",
     "text": [
      "fantasy/town in middle of lake on fire, the hobbit, dramatic light, 4k, high quality by HR Giger, Robert Bateman & Paul Hedley_01_5111.png\n",
      "town in middle of lake on fire, the hobbit, dramatic light, 4k, high quality by tolkien, Paul Klee & Paul Hedley 0.8 2627\n"
     ]
    },
    {
     "data": {
      "application/vnd.jupyter.widget-view+json": {
       "model_id": "1541384459904d558fbd0bf5dc9a031e",
       "version_major": 2,
       "version_minor": 0
      },
      "text/plain": [
       "  0%|          | 0/40 [00:00<?, ?it/s]"
      ]
     },
     "metadata": {},
     "output_type": "display_data"
    },
    {
     "name": "stdout",
     "output_type": "stream",
     "text": [
      "fantasy/town in middle of lake on fire, the hobbit, dramatic light, 4k, high quality by tolkien, Paul Klee & Paul Hedley_01_2627.png\n",
      "town in middle of lake on fire, the hobbit, dramatic light, 4k, high quality by Erin Hanson, HR Giger & Paul Cezanne 0.8 7306\n"
     ]
    },
    {
     "data": {
      "application/vnd.jupyter.widget-view+json": {
       "model_id": "53838a34accf4e76bad4007748fff545",
       "version_major": 2,
       "version_minor": 0
      },
      "text/plain": [
       "  0%|          | 0/40 [00:00<?, ?it/s]"
      ]
     },
     "metadata": {},
     "output_type": "display_data"
    },
    {
     "name": "stdout",
     "output_type": "stream",
     "text": [
      "fantasy/town in middle of lake on fire, the hobbit, dramatic light, 4k, high quality by Erin Hanson, HR Giger & Paul Cezanne_01_7306.png\n",
      "town in middle of lake on fire, the hobbit, dramatic light, 4k, high quality by Paul Klee, Paul Hedley & Erin Hanson 0.8 5848\n"
     ]
    },
    {
     "data": {
      "application/vnd.jupyter.widget-view+json": {
       "model_id": "a6893f94f81c4f4eb66a84610fc285ad",
       "version_major": 2,
       "version_minor": 0
      },
      "text/plain": [
       "  0%|          | 0/40 [00:00<?, ?it/s]"
      ]
     },
     "metadata": {},
     "output_type": "display_data"
    },
    {
     "name": "stdout",
     "output_type": "stream",
     "text": [
      "fantasy/town in middle of lake on fire, the hobbit, dramatic light, 4k, high quality by Paul Klee, Paul Hedley & Erin Hanson_01_5848.png\n",
      "town in middle of lake on fire, the hobbit, dramatic light, 4k, high quality by Ray Harris-Ching, Carl Rungius & Paul Cezanne 0.8 7841\n"
     ]
    },
    {
     "data": {
      "application/vnd.jupyter.widget-view+json": {
       "model_id": "760bb10a11864c7cb1d51d2c045baaa0",
       "version_major": 2,
       "version_minor": 0
      },
      "text/plain": [
       "  0%|          | 0/40 [00:00<?, ?it/s]"
      ]
     },
     "metadata": {},
     "output_type": "display_data"
    },
    {
     "name": "stdout",
     "output_type": "stream",
     "text": [
      "fantasy/town in middle of lake on fire, the hobbit, dramatic light, 4k, high quality by Ray Harris-Ching, Carl Rungius & Paul Ce_01_7841.png\n",
      "town in middle of lake on fire, the hobbit, dramatic light, 4k, high quality by tolkien, Paul Hedley & Carl Rungius 0.8 9804\n"
     ]
    },
    {
     "data": {
      "application/vnd.jupyter.widget-view+json": {
       "model_id": "b122ab475a5246c9a202b89476fa8cc2",
       "version_major": 2,
       "version_minor": 0
      },
      "text/plain": [
       "  0%|          | 0/40 [00:00<?, ?it/s]"
      ]
     },
     "metadata": {},
     "output_type": "display_data"
    },
    {
     "name": "stdout",
     "output_type": "stream",
     "text": [
      "fantasy/town in middle of lake on fire, the hobbit, dramatic light, 4k, high quality by tolkien, Paul Hedley & Carl Rungius_01_9804.png\n",
      "town in middle of lake on fire, the hobbit, dramatic light, 4k, high quality by Paul Cezanne, Carl Rungius & tolkien 0.8 5863\n"
     ]
    },
    {
     "data": {
      "application/vnd.jupyter.widget-view+json": {
       "model_id": "488b9f3776d345f4ac44cf98de0038dd",
       "version_major": 2,
       "version_minor": 0
      },
      "text/plain": [
       "  0%|          | 0/40 [00:00<?, ?it/s]"
      ]
     },
     "metadata": {},
     "output_type": "display_data"
    },
    {
     "name": "stdout",
     "output_type": "stream",
     "text": [
      "fantasy/town in middle of lake on fire, the hobbit, dramatic light, 4k, high quality by Paul Cezanne, Carl Rungius & tolkien_01_5863.png\n",
      "town in middle of lake on fire, the hobbit, dramatic light, 4k, high quality by Paul Klee, Paul Hedley & Ray Harris-Ching 0.8 6714\n"
     ]
    },
    {
     "data": {
      "application/vnd.jupyter.widget-view+json": {
       "model_id": "adaa59c4307b4801aafa34e67f0456d9",
       "version_major": 2,
       "version_minor": 0
      },
      "text/plain": [
       "  0%|          | 0/40 [00:00<?, ?it/s]"
      ]
     },
     "metadata": {},
     "output_type": "display_data"
    },
    {
     "name": "stdout",
     "output_type": "stream",
     "text": [
      "fantasy/town in middle of lake on fire, the hobbit, dramatic light, 4k, high quality by Paul Klee, Paul Hedley & Ray Harris-Chin_01_6714.png\n",
      "town in middle of lake on fire, the hobbit, dramatic light, 4k, high quality by Ray Harris-Ching, Paul Klee & Paul Cezanne 0.8 1592\n"
     ]
    },
    {
     "data": {
      "application/vnd.jupyter.widget-view+json": {
       "model_id": "3f649f7ac82e4eccbb5a7a943a88e171",
       "version_major": 2,
       "version_minor": 0
      },
      "text/plain": [
       "  0%|          | 0/40 [00:00<?, ?it/s]"
      ]
     },
     "metadata": {},
     "output_type": "display_data"
    },
    {
     "name": "stdout",
     "output_type": "stream",
     "text": [
      "fantasy/town in middle of lake on fire, the hobbit, dramatic light, 4k, high quality by Ray Harris-Ching, Paul Klee & Paul Cezan_01_1592.png\n",
      "town in middle of lake on fire, the hobbit, dramatic light, 4k, high quality by Paul Klee, HR Giger & Robert Bateman 0.8 2478\n"
     ]
    },
    {
     "data": {
      "application/vnd.jupyter.widget-view+json": {
       "model_id": "1339192953e74593823c659b388b6d56",
       "version_major": 2,
       "version_minor": 0
      },
      "text/plain": [
       "  0%|          | 0/40 [00:00<?, ?it/s]"
      ]
     },
     "metadata": {},
     "output_type": "display_data"
    },
    {
     "name": "stdout",
     "output_type": "stream",
     "text": [
      "fantasy/town in middle of lake on fire, the hobbit, dramatic light, 4k, high quality by Paul Klee, HR Giger & Robert Bateman_01_2478.png\n",
      "town in middle of lake on fire, the hobbit, dramatic light, 4k, high quality by Carl Rungius, HR Giger & Erin Hanson 0.8 2573\n"
     ]
    },
    {
     "data": {
      "application/vnd.jupyter.widget-view+json": {
       "model_id": "e3241a00c574462a94596350c68d130e",
       "version_major": 2,
       "version_minor": 0
      },
      "text/plain": [
       "  0%|          | 0/40 [00:00<?, ?it/s]"
      ]
     },
     "metadata": {},
     "output_type": "display_data"
    },
    {
     "name": "stdout",
     "output_type": "stream",
     "text": [
      "fantasy/town in middle of lake on fire, the hobbit, dramatic light, 4k, high quality by Carl Rungius, HR Giger & Erin Hanson_01_2573.png\n",
      "town in middle of lake on fire, the hobbit, dramatic light, 4k, high quality by Robert Bateman, tolkien & Ray Harris-Ching 0.8 3435\n"
     ]
    },
    {
     "data": {
      "application/vnd.jupyter.widget-view+json": {
       "model_id": "3d874e8af3994fe2bcf8f4b934a927a7",
       "version_major": 2,
       "version_minor": 0
      },
      "text/plain": [
       "  0%|          | 0/40 [00:00<?, ?it/s]"
      ]
     },
     "metadata": {},
     "output_type": "display_data"
    },
    {
     "name": "stdout",
     "output_type": "stream",
     "text": [
      "fantasy/town in middle of lake on fire, the hobbit, dramatic light, 4k, high quality by Robert Bateman, tolkien & Ray Harris-Chi_01_3435.png\n",
      "town in middle of lake on fire, the hobbit, dramatic light, 4k, high quality by Robert Bateman, Paul Klee & Erin Hanson 0.8 4174\n"
     ]
    },
    {
     "data": {
      "application/vnd.jupyter.widget-view+json": {
       "model_id": "f10a352011944dd78f4a95bf89bba95b",
       "version_major": 2,
       "version_minor": 0
      },
      "text/plain": [
       "  0%|          | 0/40 [00:00<?, ?it/s]"
      ]
     },
     "metadata": {},
     "output_type": "display_data"
    },
    {
     "name": "stdout",
     "output_type": "stream",
     "text": [
      "fantasy/town in middle of lake on fire, the hobbit, dramatic light, 4k, high quality by Robert Bateman, Paul Klee & Erin Hanson_01_4174.png\n",
      "town in middle of lake on fire, the hobbit, dramatic light, 4k, high quality by Robert Bateman, Paul Cezanne & Erin Hanson 0.8 1159\n"
     ]
    },
    {
     "data": {
      "application/vnd.jupyter.widget-view+json": {
       "model_id": "b91fb998d58a439a87437e9c88d09df3",
       "version_major": 2,
       "version_minor": 0
      },
      "text/plain": [
       "  0%|          | 0/40 [00:00<?, ?it/s]"
      ]
     },
     "metadata": {},
     "output_type": "display_data"
    },
    {
     "name": "stdout",
     "output_type": "stream",
     "text": [
      "fantasy/town in middle of lake on fire, the hobbit, dramatic light, 4k, high quality by Robert Bateman, Paul Cezanne & Erin Hans_01_1159.png\n",
      "town in middle of lake on fire, the hobbit, dramatic light, 4k, high quality by tolkien, Paul Hedley & Paul Klee 0.8 4946\n"
     ]
    },
    {
     "data": {
      "application/vnd.jupyter.widget-view+json": {
       "model_id": "1330d52e3388492abfbf74f20930ecff",
       "version_major": 2,
       "version_minor": 0
      },
      "text/plain": [
       "  0%|          | 0/40 [00:00<?, ?it/s]"
      ]
     },
     "metadata": {},
     "output_type": "display_data"
    },
    {
     "name": "stdout",
     "output_type": "stream",
     "text": [
      "fantasy/town in middle of lake on fire, the hobbit, dramatic light, 4k, high quality by tolkien, Paul Hedley & Paul Klee_01_4946.png\n",
      "town in middle of lake on fire, the hobbit, dramatic light, 4k, high quality by Robert Bateman, Paul Hedley & Ray Harris-Ching 0.8 4672\n"
     ]
    },
    {
     "data": {
      "application/vnd.jupyter.widget-view+json": {
       "model_id": "d19e86bff94d4b87b4a6d358d047ff82",
       "version_major": 2,
       "version_minor": 0
      },
      "text/plain": [
       "  0%|          | 0/40 [00:00<?, ?it/s]"
      ]
     },
     "metadata": {},
     "output_type": "display_data"
    },
    {
     "name": "stdout",
     "output_type": "stream",
     "text": [
      "fantasy/town in middle of lake on fire, the hobbit, dramatic light, 4k, high quality by Robert Bateman, Paul Hedley & Ray Harris_01_4672.png\n",
      "town in middle of lake on fire, the hobbit, dramatic light, 4k, high quality by Paul Cezanne, Ray Harris-Ching & tolkien 0.8 3660\n"
     ]
    },
    {
     "data": {
      "application/vnd.jupyter.widget-view+json": {
       "model_id": "bd7b67a54d9d490e9ff89eaa76b117b2",
       "version_major": 2,
       "version_minor": 0
      },
      "text/plain": [
       "  0%|          | 0/40 [00:00<?, ?it/s]"
      ]
     },
     "metadata": {},
     "output_type": "display_data"
    },
    {
     "name": "stdout",
     "output_type": "stream",
     "text": [
      "fantasy/town in middle of lake on fire, the hobbit, dramatic light, 4k, high quality by Paul Cezanne, Ray Harris-Ching & tolkien_01_3660.png\n",
      "town in middle of lake on fire, the hobbit, dramatic light, 4k, high quality by Paul Cezanne, Carl Rungius & Ray Harris-Ching 0.8 4734\n"
     ]
    },
    {
     "data": {
      "application/vnd.jupyter.widget-view+json": {
       "model_id": "7266483f48444d88bbeacf2643ac0ef9",
       "version_major": 2,
       "version_minor": 0
      },
      "text/plain": [
       "  0%|          | 0/40 [00:00<?, ?it/s]"
      ]
     },
     "metadata": {},
     "output_type": "display_data"
    },
    {
     "name": "stdout",
     "output_type": "stream",
     "text": [
      "fantasy/town in middle of lake on fire, the hobbit, dramatic light, 4k, high quality by Paul Cezanne, Carl Rungius & Ray Harris-_01_4734.png\n",
      "town in middle of lake on fire, the hobbit, dramatic light, 4k, high quality by Robert Bateman, Carl Rungius & Erin Hanson 0.8 3865\n"
     ]
    },
    {
     "data": {
      "application/vnd.jupyter.widget-view+json": {
       "model_id": "b82ec2ea3d934a789aba7e24dd4094a7",
       "version_major": 2,
       "version_minor": 0
      },
      "text/plain": [
       "  0%|          | 0/40 [00:00<?, ?it/s]"
      ]
     },
     "metadata": {},
     "output_type": "display_data"
    },
    {
     "name": "stdout",
     "output_type": "stream",
     "text": [
      "fantasy/town in middle of lake on fire, the hobbit, dramatic light, 4k, high quality by Robert Bateman, Carl Rungius & Erin Hans_01_3865.png\n"
     ]
    }
   ],
   "source": [
    "#combinations\n",
    "images = ['laketown.jpg']\n",
    "def combine_artists(txt, path, n=1):\n",
    "    names = ['Paul Hedley','Paul Cezanne','Paul Klee','Robert Bateman','HR Giger',\n",
    "            'Ray Harris-Ching','Erin Hanson','Carl Rungius','tolkien']\n",
    "    for i in range(n):\n",
    "        n1,n2,n3 = random.sample(names,k=3)\n",
    "        style='%s, %s & %s' %(n1,n2,n3)\n",
    "        img2imgprompt(txt, style=style,path=path,init_images=images, guidance_scale=8, strength=0.8)\n",
    "\n",
    "combine_artists('town in middle of lake on fire, the hobbit, dramatic light, 4k, high quality', 'fantasy', n=20)"
   ]
  },
  {
   "cell_type": "code",
   "execution_count": null,
   "id": "f39e0e13",
   "metadata": {},
   "outputs": [],
   "source": [
    "images = ['bruno.jpg']\n",
    "txt = ' in black leather, german style military uniform, fire and smoking rubble in background, dramatic lighting, high quality'\n",
    "for name in ['bill clinton','donald trump','biden','obama','george w bush']:\n",
    "    img2imgprompt(name+txt, style='Robert Bateman & Carl Rungius',path='presidents',\n",
    "                  init_images=images, guidance_scale=8, strength=0.7, n=1)"
   ]
  },
  {
   "cell_type": "code",
   "execution_count": null,
   "id": "77068cab",
   "metadata": {},
   "outputs": [],
   "source": [
    "images = ['dredd.jpg']\n",
    "img2imgprompt('judge dredd, dramatic lighting, high quality, 4k',\n",
    "                style='oil impressionism',path='people',init_images=images,n=4,strength=.7)"
   ]
  },
  {
   "cell_type": "code",
   "execution_count": null,
   "id": "41ecdb29",
   "metadata": {},
   "outputs": [],
   "source": [
    "#images = ['supermanreeve.jpg']\n",
    "images = ['bb.jpg']\n",
    "for s in np.arange(0.02,.65,0.02):\n",
    "    img2imgprompt('elves christmas, beautiful, dramatic lighting, high quality',\n",
    "                  style='paul hedley, Inessa Garmash & Cezanne',path='children1',init_images=images, strength=s, seed=6023)\n",
    "make_gif('children1','children1.gif')"
   ]
  },
  {
   "cell_type": "code",
   "execution_count": 146,
   "id": "10a3291f",
   "metadata": {},
   "outputs": [],
   "source": [
    "def vary_strength(image, text, path, seed=None):    \n",
    "    for s in np.arange(0.05,0.98,0.03):\n",
    "        img2imgprompt(text, path=path,init_images=[image], strength=s, seed=seed)"
   ]
  },
  {
   "cell_type": "code",
   "execution_count": null,
   "id": "ecc171e6",
   "metadata": {},
   "outputs": [],
   "source": [
    "files = glob.glob('superman2/*.png')\n",
    "#x = random.sample(files, 6)\n",
    "x=sorted(files[-20:])\n",
    "tile_images(x, 'superman_varystrength.png', grid=True)"
   ]
  },
  {
   "cell_type": "code",
   "execution_count": 29,
   "id": "822a811d",
   "metadata": {},
   "outputs": [],
   "source": [
    "make_gif('monalisa6','monalisa6.gif')"
   ]
  }
 ],
 "metadata": {
  "kernelspec": {
   "display_name": "stablediff",
   "language": "python",
   "name": "python3"
  },
  "language_info": {
   "codemirror_mode": {
    "name": "ipython",
    "version": 3
   },
   "file_extension": ".py",
   "mimetype": "text/x-python",
   "name": "python",
   "nbconvert_exporter": "python",
   "pygments_lexer": "ipython3",
   "version": "3.10.12"
  }
 },
 "nbformat": 4,
 "nbformat_minor": 5
}
