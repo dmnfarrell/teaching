{
 "cells": [
  {
   "cell_type": "markdown",
   "id": "bb2f5078-dfe9-4e13-a270-0ba27a2a6ded",
   "metadata": {},
   "source": [
    "# stable-diffusion-2\n",
    "\n",
    "* https://huggingface.co/stabilityai/stable-diffusion-2\n",
    "* https://proximacentaurib.notion.site/e28a4f8d97724f14a784a538b8589e7d?v=ab624266c6a44413b42a6c57a41d828c"
   ]
  },
  {
   "cell_type": "code",
   "execution_count": 1,
   "id": "07599106-0e2a-4254-95df-c2668c226c61",
   "metadata": {
    "tags": []
   },
   "outputs": [],
   "source": [
    "import os\n",
    "import random\n",
    "import pandas as pd"
   ]
  },
  {
   "cell_type": "code",
   "execution_count": 2,
   "id": "085ae411-0a9d-4c4c-baef-66384ca7b1bc",
   "metadata": {
    "tags": []
   },
   "outputs": [
    {
     "name": "stderr",
     "output_type": "stream",
     "text": [
      "/storage/local/stablediff/lib/python3.10/site-packages/tqdm/auto.py:21: TqdmWarning: IProgress not found. Please update jupyter and ipywidgets. See https://ipywidgets.readthedocs.io/en/stable/user_install.html\n",
      "  from .autonotebook import tqdm as notebook_tqdm\n",
      "Fetching 13 files: 100%|██████████████████████████████████████████████████████████████████████████████████████████████████| 13/13 [00:00<00:00, 125925.99it/s]\n",
      "/storage/local/stablediff/lib/python3.10/site-packages/transformers/models/clip/feature_extraction_clip.py:28: FutureWarning: The class CLIPFeatureExtractor is deprecated and will be removed in version 5 of Transformers. Please use CLIPImageProcessor instead.\n",
      "  warnings.warn(\n"
     ]
    }
   ],
   "source": [
    "from diffusers import StableDiffusionPipeline, EulerDiscreteScheduler\n",
    "import torch\n",
    "\n",
    "model_id = \"stabilityai/stable-diffusion-2\"\n",
    "\n",
    "# Use the Euler scheduler here instead\n",
    "scheduler = EulerDiscreteScheduler.from_pretrained(model_id, subfolder=\"scheduler\")\n",
    "pipe = StableDiffusionPipeline.from_pretrained(model_id, scheduler=scheduler, torch_dtype=torch.float16, safety_checker=None)\n",
    "pipe = pipe.to(\"cuda\")"
   ]
  },
  {
   "cell_type": "code",
   "execution_count": 3,
   "id": "407772c0-da49-442d-92c2-8d667906bdbb",
   "metadata": {
    "tags": []
   },
   "outputs": [],
   "source": [
    "def prompt(prompt, n=1, style=None, path='.'):    \n",
    "    if style != None:\n",
    "        prompt += ' by %s'%style    \n",
    "    for c in range(n):\n",
    "        print (prompt)\n",
    "        image = pipe(prompt, negative_prompt='disfigured').images[0]\n",
    "        if not os.path.exists(path):\n",
    "            os.makedirs(path)\n",
    "        i=1\n",
    "        imgfile = os.path.join(path,prompt[:60]+'_%s.png' %i)\n",
    "        while os.path.exists(imgfile):\n",
    "            i+=1\n",
    "            imgfile = os.path.join(path,prompt[:90]+'_%s.png' %i)\n",
    "        image.save(imgfile,'png')        \n",
    "    return image"
   ]
  },
  {
   "cell_type": "code",
   "execution_count": 4,
   "id": "fff2180c-5425-4573-af17-10389cec540f",
   "metadata": {
    "tags": []
   },
   "outputs": [],
   "source": [
    "def get_words():\n",
    "    import requests\n",
    "    word_site = \"https://www.mit.edu/~ecprice/wordlist.10000\"\n",
    "    response = requests.get(word_site)\n",
    "    w = response.content.splitlines()\n",
    "    w = [i.decode() for i in w]\n",
    "    return w\n",
    "\n",
    "randwords = get_words()"
   ]
  },
  {
   "cell_type": "code",
   "execution_count": 5,
   "id": "d8348e79-e893-401a-a135-851ff9265db0",
   "metadata": {
    "tags": []
   },
   "outputs": [],
   "source": [
    "def random_image(artist,n=1,k=3):\n",
    "    for i in range(n):\n",
    "        words = random.choices(randwords,k=k)\n",
    "        print (words)\n",
    "        txt = ' '.join(words)\n",
    "        prompt(txt, style=artist, path=artist)"
   ]
  },
  {
   "cell_type": "code",
   "execution_count": null,
   "id": "df10dbc5-baa5-45b4-8683-d3cc45dfb182",
   "metadata": {
    "tags": []
   },
   "outputs": [],
   "source": [
    "prompt(\"a beautiful oil painting of a bowl of fruit at evening time on a table\",n=5)"
   ]
  },
  {
   "cell_type": "code",
   "execution_count": null,
   "id": "5332d3d8-aaeb-44c3-8dd2-0d8a4308e017",
   "metadata": {
    "tags": []
   },
   "outputs": [],
   "source": [
    "prompt(\"liffey in Dublin\",style='willem kalf')"
   ]
  },
  {
   "cell_type": "code",
   "execution_count": null,
   "id": "ced59415-0d99-4885-bb33-ce03cd7d62c3",
   "metadata": {
    "tags": []
   },
   "outputs": [],
   "source": [
    "prompt(\"american eagle flying over europe with USA flag, painting, dramatic\")"
   ]
  },
  {
   "cell_type": "code",
   "execution_count": null,
   "id": "4a27e675-da3e-44e4-bf9d-3ff1250afb95",
   "metadata": {
    "tags": []
   },
   "outputs": [],
   "source": [
    "prompt(\"man sitting in sunlit pasture on chair\",style=\"baes firmin\")"
   ]
  },
  {
   "cell_type": "code",
   "execution_count": null,
   "id": "9c41daa3-e351-4d13-8d71-a4b53f43f079",
   "metadata": {
    "tags": []
   },
   "outputs": [],
   "source": [
    "prompt(\"river mountains distant cloudy watercolor pencil\",style='tolkien',path='tolkien')"
   ]
  },
  {
   "cell_type": "code",
   "execution_count": null,
   "id": "46375015-e812-4d84-82fe-7ea3f2711de6",
   "metadata": {
    "tags": []
   },
   "outputs": [],
   "source": [
    "prompt('giger alien derelict ship', n=5, style='moebius',path='moebius')"
   ]
  },
  {
   "cell_type": "code",
   "execution_count": null,
   "id": "d3616ca0-2dbb-4dee-8a59-6c142c06a6e7",
   "metadata": {},
   "outputs": [],
   "source": [
    "style=''\n",
    "prompt('3d cartoon render of cow using computer, trending on artstation,',n=15)"
   ]
  },
  {
   "cell_type": "markdown",
   "id": "a60fa8b4-ee0f-4825-b519-12decbe4b01b",
   "metadata": {},
   "source": [
    "## look at varying styles"
   ]
  },
  {
   "cell_type": "code",
   "execution_count": null,
   "id": "23884392-077a-4527-8bbf-e7d1f9998518",
   "metadata": {
    "tags": []
   },
   "outputs": [],
   "source": [
    "styles = pd.read_csv('stable_diffusion_artist_styles.csv')\n",
    "names = styles.sample(30).Name\n",
    "p='julian assange'\n",
    "for name in names:\n",
    "    prompt(p+'',style=name,path=p)"
   ]
  },
  {
   "cell_type": "code",
   "execution_count": null,
   "id": "567e2d17-befd-43aa-b73d-05faec61c742",
   "metadata": {
    "tags": []
   },
   "outputs": [],
   "source": [
    "pres=['ronald reagan','barack obama','john f kennedy','bill clinton','donald trump','george w bush','richard nixon','jimmy carter']\n",
    "artist='grant wood'\n",
    "for p in pres:\n",
    "    prompt(p,style=artist,path='presidents',n=1)"
   ]
  },
  {
   "cell_type": "markdown",
   "id": "5e0d015a-92cb-4c7c-a989-d23945f1d725",
   "metadata": {},
   "source": [
    "## random combination of a dictionary of words"
   ]
  },
  {
   "cell_type": "code",
   "execution_count": null,
   "id": "aa3f4978-46ae-4f4c-b8c4-7e497c93ac30",
   "metadata": {
    "tags": []
   },
   "outputs": [],
   "source": [
    "#artist='ernst haeckel'\n",
    "artist='paul hedley'\n",
    "#artist='robert bateman'\n",
    "#rtist='albert benois'\n",
    "#artist='antoine blanchard'\n",
    "#artist='vincent van gogh'\n",
    "#artist='phillipe druillet'\n",
    "#artist='ralph mcquarrie'\n",
    "#artist='moebius'\n",
    "#artist='hippolyte flandrin'\n",
    "#artist='gifford beale'\n",
    "#artist='greg rutkowski'\n",
    "#artist='vladimir volegov'\n",
    "#artist='albrecht anker'\n",
    "artist='norman rockwell'\n",
    "\n",
    "themes = {'tolkien':(['gondor','isengard','lothlorien','mordor','rohan','numenor'],['mountain','forest','tower','ruins'],['dwarves','orc','hobbit','gandalf','elf','eagle','bear']),\n",
    "        'ireland':(['ireland','dublin'],['monastic','castle','abbey','celtic','shamrock','green','ruins','cross'],['tree','oak','birch','moon','mountain','cliffs']),\n",
    "        'star trek':(['star trek','enterprise'],['scifi','70s','retro','vulcan']),\n",
    "        'nature':(['pond','forest','wood'],['landscape','mountain','valley'],['summer','spring','autumn']),\n",
    "        'imperialism':(['USA','nato','europe'],['hates','loves'],['war','nazi','peace','china','russia']),\n",
    "        'covid':(['surgical mask','vaccine'],['covid','virus','bacteria'],['obedience','locked up','lab','disease']),          \n",
    "        'wotw':(['hg wells','war of the worlds'],['invasion','martian','scifi'])}\n",
    "t='nature'\n",
    "for i in range(10):\n",
    "    words = themes[t]\n",
    "    #w = set(random.choices(words,k=4))\n",
    "    w = [random.choice(i) for i in words]\n",
    "    txt = '%s_'%t +' '.join(w)\n",
    "    prompt(txt, style=artist, path=artist)"
   ]
  },
  {
   "cell_type": "code",
   "execution_count": null,
   "id": "f85ee86a-eb4d-4207-bfd8-731248513289",
   "metadata": {},
   "outputs": [],
   "source": [
    "#random_image('ernst haeckel',10)\n",
    "random_image('inessa garmash',10)"
   ]
  },
  {
   "cell_type": "markdown",
   "id": "ab1985a5-bc28-4fc7-bc73-beac1e7980c1",
   "metadata": {},
   "source": [
    "## film scenes"
   ]
  },
  {
   "cell_type": "code",
   "execution_count": null,
   "id": "70cde296-a6a6-4b84-bfb0-cc95fa354a15",
   "metadata": {
    "tags": []
   },
   "outputs": [],
   "source": [
    "artist='robert bateman'\n",
    "modf = pd.read_csv('movies.csv')\n",
    "for p in modf.sample(10).name:\n",
    "    prompt(p, path='movie scenes',style=artist)"
   ]
  },
  {
   "cell_type": "markdown",
   "id": "7ed82841-a5fc-4c44-a3c8-5a89a4f4d05e",
   "metadata": {},
   "source": [
    "## panel app"
   ]
  },
  {
   "cell_type": "code",
   "execution_count": null,
   "id": "20cd5a5b-add3-454a-ab04-e12b6a3ca946",
   "metadata": {
    "tags": []
   },
   "outputs": [],
   "source": [
    "import panel as pn\n",
    "import panel.widgets as pnw"
   ]
  },
  {
   "cell_type": "code",
   "execution_count": null,
   "id": "508bc539-4fc1-47b8-bbff-ee311f880f8b",
   "metadata": {},
   "outputs": [],
   "source": []
  }
 ],
 "metadata": {
  "kernelspec": {
   "display_name": "stablediff",
   "language": "python",
   "name": "stablediff"
  },
  "language_info": {
   "codemirror_mode": {
    "name": "ipython",
    "version": 3
   },
   "file_extension": ".py",
   "mimetype": "text/x-python",
   "name": "python",
   "nbconvert_exporter": "python",
   "pygments_lexer": "ipython3",
   "version": "3.10.6"
  }
 },
 "nbformat": 4,
 "nbformat_minor": 5
}
