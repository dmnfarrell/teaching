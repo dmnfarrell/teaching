{
 "cells": [
  {
   "attachments": {},
   "cell_type": "markdown",
   "id": "bb2f5078-dfe9-4e13-a270-0ba27a2a6ded",
   "metadata": {},
   "source": [
    "# diffusers stable-diffusion\n",
    "\n",
    "* https://huggingface.co/stabilityai/stable-diffusion-2\n",
    "\n",
    "* https://huggingface.co/docs/diffusers/main/en/training/dreambooth\n",
    "* https://ngwaifoong92.medium.com/how-to-fine-tune-stable-diffusion-using-lora-85690292c6a8\n",
    "* https://towardsdatascience.com/improving-diffusers-package-for-high-quality-image-generation-a50fff04bdd4\n",
    "\n",
    "* https://stable-diffusion-art.com/controlnet"
   ]
  },
  {
   "cell_type": "code",
   "execution_count": 1,
   "id": "07599106-0e2a-4254-95df-c2668c226c61",
   "metadata": {
    "tags": []
   },
   "outputs": [
    {
     "name": "stderr",
     "output_type": "stream",
     "text": [
      "/storage/local/stablediff/lib/python3.10/site-packages/tqdm/auto.py:21: TqdmWarning: IProgress not found. Please update jupyter and ipywidgets. See https://ipywidgets.readthedocs.io/en/stable/user_install.html\n",
      "  from .autonotebook import tqdm as notebook_tqdm\n"
     ]
    }
   ],
   "source": [
    "import os, glob\n",
    "import random, math\n",
    "import numpy as np\n",
    "import pandas as pd\n",
    "from PIL import Image\n",
    "import torch\n",
    "from diffusers import StableDiffusionPipeline, EulerDiscreteScheduler\n",
    "styles = pd.read_csv('stable_diffusion_artist_styles.csv')"
   ]
  },
  {
   "cell_type": "code",
   "execution_count": 312,
   "id": "085ae411-0a9d-4c4c-baef-66384ca7b1bc",
   "metadata": {
    "tags": []
   },
   "outputs": [
    {
     "name": "stderr",
     "output_type": "stream",
     "text": [
      "Loading pipeline components...: 100%|██████████| 6/6 [00:01<00:00,  3.91it/s]\n"
     ]
    }
   ],
   "source": [
    "#model_id = \"runwayml/stable-diffusion-v1-5\"\n",
    "model_id = \"stabilityai/stable-diffusion-2-1\"\n",
    "#model_id = \"CompViz/stable-diffusion-2\"\n",
    "\n",
    "# Use the Euler scheduler here instead\n",
    "scheduler = EulerDiscreteScheduler.from_pretrained(model_id, subfolder=\"scheduler\")\n",
    "pipe = StableDiffusionPipeline.from_pretrained(model_id, scheduler=scheduler, torch_dtype=torch.float16, safety_checker=None)\n",
    "pipe = pipe.to(\"cuda\")"
   ]
  },
  {
   "cell_type": "code",
   "execution_count": 311,
   "id": "407772c0-da49-442d-92c2-8d667906bdbb",
   "metadata": {
    "tags": []
   },
   "outputs": [],
   "source": [
    "def prompt(prompt, n=1, style=None, path='.', negative_prompt=None, init_images=None, seed=None):\n",
    "    \"\"\"Prompt, assumes the correct pipe object\"\"\"\n",
    "\n",
    "    if style != None:\n",
    "        prompt += ' by %s'%style\n",
    "    if negative_prompt == None:\n",
    "        negative_prompt = 'disfigured, bad anatomy, low quality, ugly, tiling, poorly drawn hands, poorly drawn feet, out of frame'\n",
    "    for c in range(n):\n",
    "        print (prompt)\n",
    "        image = pipe(prompt, negative_prompt=negative_prompt, seed=seed).images[0]\n",
    "        if not os.path.exists(path):\n",
    "            os.makedirs(path)\n",
    "        i=1\n",
    "        imgfile = os.path.join(path,prompt[:90]+'_%s.png' %i)\n",
    "        while os.path.exists(imgfile):\n",
    "            i+=1\n",
    "            imgfile = os.path.join(path,prompt[:90]+'_%s.png' %i)\n",
    "        image.save(imgfile,'png')        \n",
    "    return image"
   ]
  },
  {
   "cell_type": "code",
   "execution_count": 4,
   "id": "fff2180c-5425-4573-af17-10389cec540f",
   "metadata": {
    "tags": []
   },
   "outputs": [],
   "source": [
    "def get_words():\n",
    "    import requests\n",
    "    word_site = \"https://www.mit.edu/~ecprice/wordlist.10000\"\n",
    "    response = requests.get(word_site)\n",
    "    w = response.content.splitlines()\n",
    "    w = [i.decode() for i in w]\n",
    "    w = [i for i in w if len(i)>3]\n",
    "    return w\n",
    "\n",
    "randwords = get_words()"
   ]
  },
  {
   "cell_type": "code",
   "execution_count": 5,
   "id": "d8348e79-e893-401a-a135-851ff9265db0",
   "metadata": {
    "tags": []
   },
   "outputs": [],
   "source": [
    "def random_image(artist,n=1,k=3,other='',path=None):\n",
    "    for i in range(n):\n",
    "        words = random.choices(randwords,k=k)\n",
    "        print (words)\n",
    "        txt = ' '.join(words)\n",
    "        if other != '':\n",
    "            txt+=', '+other\n",
    "        if path == None:\n",
    "            path = artist\n",
    "        prompt(txt, style=artist, path=path)"
   ]
  },
  {
   "cell_type": "code",
   "execution_count": 62,
   "id": "15ab901a",
   "metadata": {},
   "outputs": [],
   "source": [
    "def tile_images(image_paths, outfile, grid=False, tile_width=300):\n",
    "    \"\"\"Make tiled image\"\"\"\n",
    "\n",
    "    from PIL import Image, ImageDraw\n",
    "    images = [Image.open(path) for path in image_paths]\n",
    "      \n",
    "    ratio = images[0].height / images[0].width\n",
    "    tile_height = int( tile_width * ratio )\n",
    "    num_rows = int(math.sqrt(len(image_paths)))\n",
    "    # Calculate number of cols\n",
    "    num_columns = (len(images) + num_rows - 1) // num_rows\n",
    "\n",
    "    tiled_width = num_columns * tile_width\n",
    "    tiled_height = num_rows * tile_height\n",
    "    tiled_image = Image.new(\"RGB\", (tiled_width, tiled_height))\n",
    "\n",
    "    for idx, image in enumerate(images):      \n",
    "        row = idx // num_columns\n",
    "        col = idx % num_columns\n",
    "        x_offset = col * tile_width\n",
    "        y_offset = row * tile_height\n",
    "        tiled_image.paste(image.resize((tile_width, tile_height)), (x_offset, y_offset))\n",
    "    if grid == True:\n",
    "        draw = ImageDraw.Draw(tiled_image)\n",
    "        # Draw borders around each tile\n",
    "        for row in range(num_rows):\n",
    "            for col in range(num_columns):\n",
    "                x1 = col * tile_width\n",
    "                y1 = row * tile_height\n",
    "                x2 = x1 + tile_width\n",
    "                y2 = y1 + tile_height\n",
    "                draw.rectangle([x1, y1, x2, y2], outline=(0, 0, 0), width=3)  \n",
    "\n",
    "    tiled_image.save(outfile)\n",
    "    return tiled_image"
   ]
  },
  {
   "cell_type": "code",
   "execution_count": null,
   "id": "5afc138a",
   "metadata": {},
   "outputs": [],
   "source": [
    "name='mask'\n",
    "media = pd.read_csv('stable_diffusion_media.csv').Name\n",
    "for m in media:\n",
    "    prompt(name,style=m,n=1,path=name)"
   ]
  },
  {
   "cell_type": "code",
   "execution_count": null,
   "id": "ed187917",
   "metadata": {},
   "outputs": [],
   "source": [
    "media"
   ]
  },
  {
   "attachments": {},
   "cell_type": "markdown",
   "id": "a60fa8b4-ee0f-4825-b519-12decbe4b01b",
   "metadata": {},
   "source": [
    "## look at varying styles"
   ]
  },
  {
   "cell_type": "code",
   "execution_count": null,
   "id": "f85ee86a-eb4d-4207-bfd8-731248513289",
   "metadata": {},
   "outputs": [],
   "source": [
    "random_image('studio ghibli, makoto shinkai, by greg rutkowski, intricate',n=10,path='test')"
   ]
  },
  {
   "cell_type": "code",
   "execution_count": null,
   "metadata": {},
   "outputs": [],
   "source": [
    "prompt('angelina jolie wearing joker makeup, high quality, beautiful, highly detailed, 8k',\n",
    "         style='photography',path='test',n=10)"
   ]
  },
  {
   "cell_type": "code",
   "execution_count": null,
   "id": "23884392-077a-4527-8bbf-e7d1f9998518",
   "metadata": {
    "tags": []
   },
   "outputs": [],
   "source": [
    "names = styles.sample(10).Name\n",
    "p='julian assange'\n",
    "for artist in names:\n",
    "    prompt(p,style='%s expressionism' %artist,n=1,path='julian assange')\n",
    "#prompt(p,style='isometric 3d',path='julian assange',n=6)"
   ]
  },
  {
   "cell_type": "code",
   "execution_count": null,
   "id": "34a7cff8",
   "metadata": {},
   "outputs": [],
   "source": [
    "#prompt('ireland',style='tolkien, robert bateman & erin hanson',path='test',n=10)\n",
    "prompt('cow head logo',style='',path='test',n=20)\n",
    "#prompt('alien city',style='Carl Rungius, Giger & Paul Hedley, painting',path='test',n=20)"
   ]
  },
  {
   "cell_type": "code",
   "execution_count": null,
   "id": "567e2d17-befd-43aa-b73d-05faec61c742",
   "metadata": {
    "tags": []
   },
   "outputs": [],
   "source": [
    "names = styles.sample(20).Name\n",
    "p='happy child'\n",
    "for name in names:\n",
    "    prompt(p,style=name,path='test')"
   ]
  },
  {
   "cell_type": "code",
   "execution_count": null,
   "id": "656040a8",
   "metadata": {},
   "outputs": [],
   "source": [
    "#combinations\n",
    "def combine_artists(txt, path, n=1):\n",
    "    names = ['Paul Hedley','Paul Cezanne','Paul Klee','Robert Bateman',\n",
    "            'Ray Harris-Ching','Erin Hanson','Carl Rungius','Inessa Garmash','Alphonse Mucha']\n",
    "    for i in range(n):\n",
    "        n1,n2,n3 = random.sample(names,k=3)\n",
    "        prompt(txt,style='%s, %s & %s' %(n1,n2,n3),n=1,path=path)\n",
    "\n",
    "combine_artists('taylor swift', 'test', n=10)"
   ]
  },
  {
   "cell_type": "code",
   "execution_count": null,
   "id": "7e81cec2",
   "metadata": {},
   "outputs": [],
   "source": [
    "animals = [    \n",
    "    \"Penguin\",\"Giraffe\",\"Cat\",\"Fox\",\n",
    "    \"Lion\",\"Elephant\",\"Orangutan\",\"Chimpanzee\",\"Pig\",\n",
    "    \"Bear\",\"Hippopotamus\",\"Gorilla\",\"Zebra\",\n",
    "    \"Ostrich\",\"Badger\",\"Gazelle\",\"Raccoon\"]\n",
    "\n",
    "for a in animals:    \n",
    "    combine_artists(a, 'animals', n=2)"
   ]
  },
  {
   "attachments": {},
   "cell_type": "markdown",
   "id": "5e0d015a-92cb-4c7c-a989-d23945f1d725",
   "metadata": {},
   "source": [
    "## random combination of a dictionary of words"
   ]
  },
  {
   "cell_type": "code",
   "execution_count": null,
   "id": "aa3f4978-46ae-4f4c-b8c4-7e497c93ac30",
   "metadata": {
    "tags": []
   },
   "outputs": [],
   "source": [
    "#artist='paul hedley'\n",
    "artist='robert bateman'\n",
    "#artist='albert benois'\n",
    "#artist='antoine blanchard'\n",
    "#artist='phillipe druillet'\n",
    "#artist='moebius'\n",
    "#artist='vladimir volegov'\n",
    "#artist='albrecht anker'\n",
    "#artist='inessa garmash'\n",
    "#artist='jrr tolkien'\n",
    "\n",
    "themes = {'tolkien':(['middle earth'],['town','mountain','forest','tower','ruins','woodland','valley'],\n",
    "                     ['horses','men','dragon','lady','warrior','elves',]),\n",
    "        'ireland':(['ireland'],['monastic','castle','abbey','celtic','shamrock','green','ruins','cross'],['tree','oak','birch','moon','mountain','cliffs']),\n",
    "        'nature':(['pond','forest','wood','lake','coast','meadow'],['cloudy','mountain','valley','grotto'],['evening','dusk','summer','spring','autumn','winter']),\n",
    "        'woman':(['woman','lady'],['african','asian','russian','italian'],['beautiful','classical','elegant']),\n",
    "        'scifi':(['steampunk','futuristic'],['machine','city','vehicle','car','motorbike','train'],['retro'])}\n",
    "t='woman'\n",
    "for i in range(10):\n",
    "    words = themes[t]\n",
    "    w = [random.choice(i) for i in words]\n",
    "    w += ['impressionist']\n",
    "    txt = '%s_'%t +' '.join(w)\n",
    "    prompt(txt, style=artist, path=artist)"
   ]
  },
  {
   "attachments": {},
   "cell_type": "markdown",
   "id": "ab1985a5-bc28-4fc7-bc73-beac1e7980c1",
   "metadata": {},
   "source": [
    "## film scenes"
   ]
  },
  {
   "cell_type": "code",
   "execution_count": null,
   "id": "70cde296-a6a6-4b84-bfb0-cc95fa354a15",
   "metadata": {
    "tags": []
   },
   "outputs": [],
   "source": [
    "artist='paul hedley'\n",
    "modf = pd.read_csv('movies.csv')\n",
    "for p in modf.sample(20).name:\n",
    "    prompt(p+' impressionist', path='movie scenes',style=artist)"
   ]
  },
  {
   "cell_type": "markdown",
   "metadata": {},
   "source": [
    "## image-to-image\n",
    "\n",
    "* https://blog.roboflow.com/stable-diffusion-image-to-image-pipeline/"
   ]
  },
  {
   "cell_type": "code",
   "execution_count": 2,
   "metadata": {},
   "outputs": [
    {
     "name": "stderr",
     "output_type": "stream",
     "text": [
      "Loading pipeline components...: 100%|██████████| 6/6 [00:01<00:00,  5.07it/s]\n"
     ]
    }
   ],
   "source": [
    "from diffusers import StableDiffusionImg2ImgPipeline\n",
    "model_id = \"stabilityai/stable-diffusion-2-1\"\n",
    "scheduler = EulerDiscreteScheduler.from_pretrained(model_id, subfolder=\"scheduler\")\n",
    "pipe = StableDiffusionImg2ImgPipeline.from_pretrained(\n",
    "    model_id, scheduler=scheduler, torch_dtype=torch.float16).to(\"cuda\")"
   ]
  },
  {
   "cell_type": "code",
   "execution_count": 3,
   "metadata": {},
   "outputs": [],
   "source": [
    "def img2imgprompt(prompt, n=1, style=None, path='.', negative_prompt=None, \n",
    "                    init_images=None, strength=0.8, guidance_scale=9, seed=None):\n",
    "    \"\"\"Image-to-image prompt, assumes the correct pipe object\"\"\"\n",
    "\n",
    "    if style != None:\n",
    "        prompt += ' by %s'%style\n",
    "    if negative_prompt == None:\n",
    "        negative_prompt = 'disfigured, bad anatomy, low quality, ugly, tiling, poorly drawn hands, poorly drawn feet, out of frame'\n",
    "    for c in range(n):        \n",
    "        if seed == None:\n",
    "            seed = torch.randint(0, 10000, (1,)).item()\n",
    "        print (prompt, strength, seed)\n",
    "        generator = torch.Generator(device=\"cuda\").manual_seed(seed)\n",
    "        init_images = [Image.open(image).convert(\"RGB\").resize((768,768)) for image in init_images]\n",
    "        image = pipe(prompt, negative_prompt='', image=init_images, num_inference_steps=50,\n",
    "                     guidance_scale=guidance_scale, generator=generator, strength=strength).images[0]\n",
    "        if not os.path.exists(path):\n",
    "            os.makedirs(path)\n",
    "        i=1\n",
    "        imgfile = os.path.join(path,prompt[:90]+'_%02d_%d.png' %(i,seed))\n",
    "        while os.path.exists(imgfile):\n",
    "            i+=1\n",
    "            imgfile = os.path.join(path,prompt[:90]+'_%02d_%d.png' %(i,seed))\n",
    "        image.save(imgfile,'png')        \n",
    "    return image"
   ]
  },
  {
   "cell_type": "code",
   "execution_count": null,
   "metadata": {},
   "outputs": [],
   "source": [
    "names = styles.sample(10).Name\n",
    "images = ['vanna2.jpg']\n",
    "for n in names:\n",
    "    img2imgprompt(', dramatic lighting, high quality, beautiful, highly detailed, 8k',\n",
    "                  style='portrait photography',path='seeds',init_images=images, guidance_scale=7, strength=0.9)"
   ]
  },
  {
   "cell_type": "code",
   "execution_count": null,
   "metadata": {},
   "outputs": [],
   "source": [
    "images = ['monalisa.jpg']\n",
    "for s in np.arange(0.05,0.98,0.03):\n",
    "    img2imgprompt('taylor swift, high quality, beautiful, highly detailed',\n",
    "                  style='leonardo da vinci & paul hedley',path='monalisa6',init_images=images, strength=s, seed=187)"
   ]
  },
  {
   "cell_type": "code",
   "execution_count": null,
   "metadata": {},
   "outputs": [],
   "source": [
    "images = ['supermanreeve.jpg']\n",
    "for s in np.arange(0.05,1,0.25):\n",
    "    img2imgprompt('superman',\n",
    "                  style='carl rungius, paul hedley',path='superman2',init_images=images, strength=s, seed=343)"
   ]
  },
  {
   "cell_type": "code",
   "execution_count": 293,
   "metadata": {},
   "outputs": [],
   "source": [
    "def vary_strength(image, text, path, seed=None):    \n",
    "    for s in np.arange(0.05,0.98,0.03):\n",
    "        img2imgprompt(text, path=path,init_images=[image], strength=s, seed=seed)"
   ]
  },
  {
   "cell_type": "code",
   "execution_count": null,
   "metadata": {},
   "outputs": [],
   "source": [
    "files = glob.glob('superman2/*.png')\n",
    "#x = random.sample(files, 6)\n",
    "x=sorted(files[-20:])\n",
    "tile_images(x, 'superman_varystrength.png', grid=True)"
   ]
  },
  {
   "cell_type": "code",
   "execution_count": 29,
   "metadata": {},
   "outputs": [],
   "source": [
    "make_gif('monalisa6','monalisa6.gif')"
   ]
  },
  {
   "attachments": {},
   "cell_type": "markdown",
   "id": "d104832d-f80a-4c10-af75-380d3bb82a04",
   "metadata": {},
   "source": [
    "## fine tuned models"
   ]
  },
  {
   "cell_type": "code",
   "execution_count": null,
   "id": "cbb8faad",
   "metadata": {},
   "outputs": [],
   "source": [
    "model_id = \"runwayml/stable-diffusion-v1-5\"\n",
    "pipe = StableDiffusionPipeline.from_pretrained('/local/stablediff/', torch_dtype=torch.float16, safety_checker=None).to('cuda')\n",
    "#pipe.safety_checker = lambda images, clip_input: (images, False)"
   ]
  },
  {
   "cell_type": "code",
   "execution_count": null,
   "id": "ed3a83c2",
   "metadata": {},
   "outputs": [],
   "source": [
    "p=' photorealistic, high detail, high quality'\n",
    "neg='cartoon, 3d, ((disfigured)), ((bad art)), ((deformed)),((extra limbs)),((close up)), weird colors, blurry, (((duplicate))), ((mutilated)), [out of frame], extra fingers, mutated hands, ((poorly drawn hands)), ((poorly drawn face)), (((mutation))), (((deformed))), ((ugly)), blurry, ((bad anatomy)), (((bad proportions))), ((extra limbs)), cloned face, (((disfigured))), out of frame, ugly, extra limbs, (bad anatomy), gross proportions, (malformed limbs), ((missing arms)), ((missing legs)), (((extra arms))), (((extra legs))), mutated hands, (fused fingers), (too many fingers), (((long neck))), Photoshop, video game, ugly, tiling, poorly drawn hands, poorly drawn feet, poorly drawn face, out of frame, mutation, mutated, extra limbs, extra legs, extra arms, disfigured, deformed, cross-eye, body out of frame, blurry, bad art, bad anatomy, 3d render'\n",
    "for i in range(5):\n",
    "    prompt(p,path='test',negative_prompt=neg,style='')"
   ]
  },
  {
   "cell_type": "code",
   "execution_count": null,
   "id": "e98b903b",
   "metadata": {},
   "outputs": [],
   "source": [
    "files = glob.glob('../../twitter/julian_assange/*.png')\n",
    "files = glob.glob('elvis/*.png')\n",
    "x = random.sample(files, 8)\n",
    "tile_images(x, 'tiled.png', grid=True)"
   ]
  },
  {
   "cell_type": "code",
   "execution_count": 28,
   "id": "bb6dc2fe",
   "metadata": {},
   "outputs": [],
   "source": [
    "def make_gif(path, outfile):\n",
    "    \"\"\"make gif from same condition image\"\"\"\n",
    "\n",
    "    import glob\n",
    "    from PIL import Image\n",
    "    files = sorted(glob.glob(path+'/*.png'))\n",
    "    #print (files)\n",
    "    img = Image.open(files[0])    \n",
    "    #size = img.size\n",
    "    images=[]\n",
    "    images = [Image.open(f) for f in files]\n",
    "    images[0].save(outfile,\n",
    "               save_all=True, append_images=images[1:], \n",
    "               optimize=False, duration=400, loop=0)\n",
    "    return\n"
   ]
  },
  {
   "cell_type": "code",
   "execution_count": null,
   "metadata": {},
   "outputs": [],
   "source": []
  }
 ],
 "metadata": {
  "kernelspec": {
   "display_name": "stablediff",
   "language": "python",
   "name": "python3"
  },
  "language_info": {
   "codemirror_mode": {
    "name": "ipython",
    "version": 3
   },
   "file_extension": ".py",
   "mimetype": "text/x-python",
   "name": "python",
   "nbconvert_exporter": "python",
   "pygments_lexer": "ipython3",
   "version": "3.10.12"
  }
 },
 "nbformat": 4,
 "nbformat_minor": 5
}
