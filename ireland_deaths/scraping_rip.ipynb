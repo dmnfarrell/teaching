{
 "cells": [
  {
   "attachments": {},
   "cell_type": "markdown",
   "id": "d4327582",
   "metadata": {},
   "source": [
    "# web scraping RIP.ie with beautifulsoup"
   ]
  },
  {
   "cell_type": "code",
   "execution_count": 1,
   "id": "5c2fc234",
   "metadata": {
    "tags": []
   },
   "outputs": [],
   "source": [
    "import time\n",
    "import pandas as pd\n",
    "from bs4 import BeautifulSoup\n",
    "import requests\n",
    "import datefinder"
   ]
  },
  {
   "cell_type": "code",
   "execution_count": null,
   "metadata": {},
   "outputs": [],
   "source": [
    "def get_dn_page_old(n):\n",
    "    \"\"\"Get death notice text from page matching the id number\"\"\"\n",
    "    \n",
    "    url = 'https://rip.ie/showdn.php?dn=%s' %n\n",
    "\n",
    "    user_agent = 'Chrome/107.0.5304.110'\n",
    "    headers = {'User-Agent': user_agent}\n",
    "    req = requests.get(url,headers=headers)   \n",
    "    soup = BeautifulSoup(req.content, 'html.parser')\n",
    "    if soup.title == None:\n",
    "        title = ''\n",
    "    else:        \n",
    "        title  = soup.title.text.strip()\n",
    "    name=''    \n",
    "    for s in ['Death Notice of ','The death has occurred of ']:\n",
    "        if title.startswith(s):\n",
    "            name = title.split(s)[1]   \n",
    "    elem = soup.find_all(\"div\", id=\"dn_photo_and_text\")\n",
    "    \n",
    "    if len(elem) == 0:\n",
    "        return name, '', '', '', ''\n",
    "    rows = elem[0].find_all('p')\n",
    "    if len(rows) == 0:\n",
    "        rows = elem[0].find_all('td')\n",
    "    text = ';'.join([r.text.strip() for r in rows]).replace('\\n','')\n",
    "    #address\n",
    "    addrelem = soup.find(\"span\", class_='small_addr') \n",
    "    if addrelem != None:\n",
    "        address = addrelem.text.strip()\n",
    "    else:\n",
    "        address = ''\n",
    "    #county  \n",
    "    ctyelem = soup.find(\"li\", class_='fd_county') \n",
    "    if ctyelem != None:\n",
    "        county = ctyelem.text.strip()\n",
    "    else:\n",
    "        county = ''\n",
    "    #date\n",
    "    dateelem = soup.find(\"div\", class_='ddeath')\n",
    "    if dateelem == None:\n",
    "        dateelem = soup.find(\"div\", class_='dpubl')\n",
    "    s = dateelem.text.strip()\n",
    "    try:\n",
    "        date = list(datefinder.find_dates(s))[0]\n",
    "    except:\n",
    "        date = ''\n",
    "    print (n, date, name, address, county)\n",
    "    return name, date, county, address, text"
   ]
  },
  {
   "cell_type": "code",
   "execution_count": 20,
   "id": "467b9b88",
   "metadata": {},
   "outputs": [],
   "source": [
    "def get_dn_page_new(n):\n",
    "    \"\"\"Get death notice text from page matching the id number\"\"\"\n",
    "    \n",
    "    url = 'https://rip.ie/death-notice/%s' %n\n",
    "    print (url)\n",
    "    user_agent = 'Chrome/107.0.5304.110'\n",
    "    headers = {'User-Agent': user_agent}\n",
    "    req = requests.get(url,headers=headers)   \n",
    "    soup = BeautifulSoup(req.content, 'html.parser')\n",
    "   \n",
    "    elem = soup.select('[class*=DeathNotice_person-name]')\n",
    "    #print (elem)\n",
    "    if len(elem) == 0:\n",
    "        return '', '', '', '', ''\n",
    "    else:\n",
    "        name = elem[0].get_text(strip=True)\n",
    "    \n",
    "    elem = soup.select('[class*=DeathNotice_dates-death-date]')    \n",
    "    if len(elem) == 0:\n",
    "        print (n, name, 'no date')\n",
    "        return '', '', '', '', ''\n",
    "    else:\n",
    "        date = elem[0].get_text(strip=True)    \n",
    "    \n",
    "    date = list(datefinder.find_dates(date))[0]\n",
    "\n",
    "    address = soup.select('[class*=DeathNotice_tags-item]')[0].get_text(strip=True)\n",
    "    #print (address) \n",
    "    county = address.split()[-1]\n",
    "\n",
    "    desc = soup.select('[class*=DeathNotice_description]')\n",
    "    text = []\n",
    "    for elem in desc:\n",
    "        text.append(elem.get_text(strip=True))\n",
    "    text = ' '.join(text)\n",
    "    #print (text)\n",
    "   \n",
    "    print (n, date, name, address, county)\n",
    "    return name, date, county, address, text\n"
   ]
  },
  {
   "cell_type": "code",
   "execution_count": null,
   "id": "976c32f1",
   "metadata": {
    "tags": []
   },
   "outputs": [],
   "source": [
    "get_dn_page_new(504623)"
   ]
  },
  {
   "cell_type": "code",
   "execution_count": 37,
   "id": "6f45c0c7",
   "metadata": {},
   "outputs": [
    {
     "data": {
      "text/plain": [
       "903"
      ]
     },
     "execution_count": 37,
     "metadata": {},
     "output_type": "execute_result"
    }
   ],
   "source": [
    "df = pd.read_pickle('rip_dn_scrape.pkl')\n",
    "len(df)"
   ]
  },
  {
   "attachments": {},
   "cell_type": "markdown",
   "id": "306e0b4a",
   "metadata": {},
   "source": [
    "## iterate over a range of ids and get info"
   ]
  },
  {
   "cell_type": "code",
   "execution_count": null,
   "id": "274a23b7",
   "metadata": {
    "tags": []
   },
   "outputs": [],
   "source": [
    "#read current table in so we skip those already done\n",
    "df = pd.read_pickle('rip_dn_scrape_new.pkl')\n",
    "#df = pd.read_parquet('rip_dn_scrape.parquet')\n",
    "print (len(df))\n",
    "ids = list(df.id)\n",
    "\n",
    "results={}\n",
    "for n in range(50000,50210):\n",
    "    if n in ids:\n",
    "        continue\n",
    "    name,date,cty,addr,txt = get_dn_page_new(n)   \n",
    "    if name == '':\n",
    "        continue\n",
    "    results[n] = [name,date,cty,addr,txt]\n",
    "    time.sleep(0.04)"
   ]
  },
  {
   "cell_type": "code",
   "execution_count": 46,
   "id": "3ceba776",
   "metadata": {
    "tags": []
   },
   "outputs": [],
   "source": [
    "res = pd.DataFrame.from_dict(results,orient='index',columns=['name','date','county','address','notice']).reset_index()\n",
    "res = res.rename(columns={'index':'id'})"
   ]
  },
  {
   "cell_type": "code",
   "execution_count": null,
   "id": "22dad498-5b65-4d7b-af74-46c44c20ea8a",
   "metadata": {
    "tags": []
   },
   "outputs": [],
   "source": [
    "res"
   ]
  },
  {
   "cell_type": "code",
   "execution_count": 48,
   "id": "dc727d40",
   "metadata": {
    "tags": []
   },
   "outputs": [
    {
     "name": "stdout",
     "output_type": "stream",
     "text": [
      "1103 45957 47060\n"
     ]
    }
   ],
   "source": [
    "new = pd.concat([df,res]).reset_index(drop=True)\n",
    "new=new[~new.id.duplicated(keep='first')]\n",
    "#new=new.replace('',None).dropna(axis=0,subset=['date'])\n",
    "#new['date'] = pd.to_datetime(new['date']).apply(lambda x: x.strftime('%d/%m/%Y'))\n",
    "print (len(df),len(res),len(new))\n",
    "#new.to_parquet('rip_dn_scrape.parquet')\n",
    "new.to_pickle('rip_dn_scrape_new.pkl')"
   ]
  },
  {
   "attachments": {},
   "cell_type": "markdown",
   "id": "7887215a",
   "metadata": {},
   "source": [
    "## clean data"
   ]
  },
  {
   "cell_type": "code",
   "execution_count": 49,
   "id": "820b8741",
   "metadata": {
    "tags": []
   },
   "outputs": [
    {
     "name": "stdout",
     "output_type": "stream",
     "text": [
      "47060\n",
      "46155\n"
     ]
    }
   ],
   "source": [
    "x=new\n",
    "print (len(x))\n",
    "x=x.replace('',None).dropna(axis=0,subset=['date'])\n",
    "x['date'] = pd.to_datetime(x['date'],format='mixed')#.apply(lambda x: x.strftime('%d/%m/%Y'))\n",
    "x=x.drop_duplicates(['name','notice'])\n",
    "x=x.drop_duplicates(['name','address'])\n",
    "x=x.drop_duplicates(['name','date','county'])\n",
    "x = x[~x.address.isnull()]\n",
    "nc = ['Fermanagh','Armagh','Tyrone','Down','Antrim','Derry']\n",
    "x = x[~x.county.isin(nc)]\n",
    "x = x[~x.address.str.contains('|'.join(nc))]\n",
    "x=x.sort_values('id')\n",
    "print (len(x))\n",
    "#x.to_pickle('rip_dn_scrape_processed.pkl')\n",
    "x.to_parquet('rip_dn_scrape_processed_new.parquet')"
   ]
  }
 ],
 "metadata": {
  "kernelspec": {
   "display_name": "Python 3 (ipykernel)",
   "language": "python",
   "name": "python3"
  },
  "language_info": {
   "codemirror_mode": {
    "name": "ipython",
    "version": 3
   },
   "file_extension": ".py",
   "mimetype": "text/x-python",
   "name": "python",
   "nbconvert_exporter": "python",
   "pygments_lexer": "ipython3",
   "version": "3.11.6"
  },
  "vscode": {
   "interpreter": {
    "hash": "916dbcbb3f70747c44a77c7bcd40155683ae19c65e1c03b4aa3499c5328201f1"
   }
  }
 },
 "nbformat": 4,
 "nbformat_minor": 5
}
