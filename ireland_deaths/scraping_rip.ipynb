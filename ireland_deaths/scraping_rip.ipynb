{
 "cells": [
  {
   "cell_type": "markdown",
   "id": "d4327582",
   "metadata": {},
   "source": [
    "# web scraping RIP.ie with beautifulsoup"
   ]
  },
  {
   "cell_type": "code",
   "execution_count": 1,
   "id": "5c2fc234",
   "metadata": {},
   "outputs": [],
   "source": [
    "import time\n",
    "import pandas as pd\n",
    "from bs4 import BeautifulSoup\n",
    "import requests\n",
    "import datefinder\n",
    "\n",
    "def get_dn_page(n):\n",
    "    \"\"\"Get death notice text from page matching the id number\"\"\"\n",
    "    \n",
    "    url = 'https://rip.ie/showdn.php?dn=%s' %n\n",
    "    req = requests.get(url)\n",
    "    soup = BeautifulSoup(req.content, 'html.parser')\n",
    "    if soup.title == None:\n",
    "        title = ''\n",
    "    else:        \n",
    "        title  = soup.title.text.strip()\n",
    "    name=''    \n",
    "    for s in ['Death Notice of ','The death has occurred of ']:\n",
    "        if title.startswith(s):\n",
    "            name = title.split(s)[1]   \n",
    "    elem = soup.find_all(\"div\", id=\"dn_photo_and_text\")\n",
    "    \n",
    "    if len(elem) == 0:\n",
    "        return name, '', '', '', ''\n",
    "    rows = elem[0].find_all('p')\n",
    "    if len(rows) == 0:\n",
    "        rows = elem[0].find_all('td')\n",
    "    text = ';'.join([r.text.strip() for r in rows]).replace('\\n','')\n",
    "    #address\n",
    "    addrelem = soup.find(\"span\", class_='small_addr') \n",
    "    if addrelem != None:\n",
    "        address = addrelem.text.strip()\n",
    "    else:\n",
    "        address = ''\n",
    "    #county  \n",
    "    ctyelem = soup.find(\"li\", class_='fd_county') \n",
    "    if ctyelem != None:\n",
    "        county = ctyelem.text.strip()\n",
    "    else:\n",
    "        county = ''\n",
    "    #date\n",
    "    dateelem = soup.find(\"div\", class_='ddeath')\n",
    "    if dateelem == None:\n",
    "        dateelem = soup.find(\"div\", class_='dpubl')\n",
    "    s = dateelem.text.strip()\n",
    "    try:\n",
    "        date = list(datefinder.find_dates(s))[0]\n",
    "    except:\n",
    "        date = ''\n",
    "    print (n, date, name, address, county)\n",
    "    return name, date, county, address, text"
   ]
  },
  {
   "cell_type": "code",
   "execution_count": 9,
   "id": "976c32f1",
   "metadata": {},
   "outputs": [
    {
     "name": "stdout",
     "output_type": "stream",
     "text": [
      "390045 2019-06-05 00:00:00 Margaret  Kelly Avenue Grove, Ballymodan Place, Bandon,  Cork Cork\n"
     ]
    },
    {
     "data": {
      "text/plain": [
       "('Margaret  Kelly',\n",
       " datetime.datetime(2019, 6, 5, 0, 0),\n",
       " 'Cork',\n",
       " 'Avenue Grove, Ballymodan Place, Bandon,  Cork',\n",
       " \"Kelly (Avenue Grove, Ballymodan Place, Bandon and late of Currivreeda West) on June 5th 2019. Margaret, beloved daughter of the late Timothy and Ellen. Sadly missed by her loving sisters Ann and Eileen, brothers Teddy and John, Margaret's Partner William, brothers-in-law, sisters-in-law, nieces, nephews, relatives and good friend Malcolm.;;Rosary on Friday evening at 7pm in St. Patrick's Church, Bandon. Requiem Mass on Saturday at 12 noon, funeral afterwards to the adjoining cemetery.;;May Margaret Rest in Peace\")"
      ]
     },
     "execution_count": 9,
     "metadata": {},
     "output_type": "execute_result"
    }
   ],
   "source": [
    "get_dn_page(390045)"
   ]
  },
  {
   "cell_type": "code",
   "execution_count": 2,
   "id": "6f45c0c7",
   "metadata": {},
   "outputs": [
    {
     "data": {
      "text/plain": [
       "486800"
      ]
     },
     "execution_count": 2,
     "metadata": {},
     "output_type": "execute_result"
    }
   ],
   "source": [
    "#df = pd.read_csv('rip_dn_scrape.csv')\n",
    "df = pd.read_pickle('rip_dn_scrape.pkl')\n",
    "len(df)"
   ]
  },
  {
   "cell_type": "markdown",
   "id": "306e0b4a",
   "metadata": {},
   "source": [
    "## iterate over a range of ids and get info"
   ]
  },
  {
   "cell_type": "code",
   "execution_count": null,
   "id": "274a23b7",
   "metadata": {},
   "outputs": [],
   "source": [
    "#read current table in so we skip those already done\n",
    "df = pd.read_pickle('rip_dn_scrape.pkl')\n",
    "print (len(df))\n",
    "ids = list(df.id)\n",
    "\n",
    "results={}\n",
    "for n in range(486000,488515):\n",
    "    if n in ids:\n",
    "        continue\n",
    "    name,date,cty,addr,txt = get_dn_page(n)\n",
    "    if name == '':\n",
    "        continue\n",
    "    results[n] = [name,date,cty,addr,txt]\n",
    "    time.sleep(0.05)"
   ]
  },
  {
   "cell_type": "code",
   "execution_count": 12,
   "id": "3ceba776",
   "metadata": {},
   "outputs": [
    {
     "name": "stderr",
     "output_type": "stream",
     "text": [
      "<ipython-input-12-849ec239fce7>:1: FutureWarning: Inferring datetime64[ns] from data containing strings is deprecated and will be removed in a future version. To retain the old behavior explicitly pass Series(data, dtype=datetime64[ns])\n",
      "  res = pd.DataFrame.from_dict(results,orient='index',columns=['name','date','county','address','notice']).reset_index()\n"
     ]
    }
   ],
   "source": [
    "res = pd.DataFrame.from_dict(results,orient='index',columns=['name','date','county','address','notice']).reset_index()\n",
    "res = res.rename(columns={'index':'id'})"
   ]
  },
  {
   "cell_type": "code",
   "execution_count": 13,
   "id": "7cc14630",
   "metadata": {},
   "outputs": [
    {
     "data": {
      "text/html": [
       "<div>\n",
       "<style scoped>\n",
       "    .dataframe tbody tr th:only-of-type {\n",
       "        vertical-align: middle;\n",
       "    }\n",
       "\n",
       "    .dataframe tbody tr th {\n",
       "        vertical-align: top;\n",
       "    }\n",
       "\n",
       "    .dataframe thead th {\n",
       "        text-align: right;\n",
       "    }\n",
       "</style>\n",
       "<table border=\"1\" class=\"dataframe\">\n",
       "  <thead>\n",
       "    <tr style=\"text-align: right;\">\n",
       "      <th></th>\n",
       "      <th>id</th>\n",
       "      <th>name</th>\n",
       "      <th>date</th>\n",
       "      <th>county</th>\n",
       "      <th>address</th>\n",
       "      <th>notice</th>\n",
       "    </tr>\n",
       "  </thead>\n",
       "  <tbody>\n",
       "    <tr>\n",
       "      <th>0</th>\n",
       "      <td>487776</td>\n",
       "      <td>Jim (James)  BYRNE</td>\n",
       "      <td>2022-02-27</td>\n",
       "      <td>Dublin</td>\n",
       "      <td>late of Michael Mallin House, Vicar Street, Du...</td>\n",
       "      <td>BYRNE, Jim (James)  - 27 February 2022 - (late...</td>\n",
       "    </tr>\n",
       "    <tr>\n",
       "      <th>1</th>\n",
       "      <td>487777</td>\n",
       "      <td>Margaret  Higgins (née Armstrong)</td>\n",
       "      <td>2022-02-11</td>\n",
       "      <td></td>\n",
       "      <td>Castlecarra, Carnacon,  Mayo</td>\n",
       "      <td>Margaret Higgins (nee Armstrong) Coventry, Eng...</td>\n",
       "    </tr>\n",
       "    <tr>\n",
       "      <th>2</th>\n",
       "      <td>487778</td>\n",
       "      <td>Mary  Spellissy-Killeen</td>\n",
       "      <td>2022-02-27</td>\n",
       "      <td>Clare</td>\n",
       "      <td>Clonfeigh, Ennis,  Clare</td>\n",
       "      <td>Mary Spellissy Killeen, Clonfeigh, Ennis and f...</td>\n",
       "    </tr>\n",
       "    <tr>\n",
       "      <th>3</th>\n",
       "      <td>487779</td>\n",
       "      <td>Martina  Hayes</td>\n",
       "      <td>2022-02-23</td>\n",
       "      <td>Cork</td>\n",
       "      <td>Peacock Row, Cork City,  Cork</td>\n",
       "      <td>HAYES (Cork) On 23rd February 2022, unexpected...</td>\n",
       "    </tr>\n",
       "    <tr>\n",
       "      <th>4</th>\n",
       "      <td>487780</td>\n",
       "      <td>Anthony  Doherty</td>\n",
       "      <td>2022-02-26</td>\n",
       "      <td>Dublin</td>\n",
       "      <td>Kilbarrack,  Dublin</td>\n",
       "      <td>Doherty, Anthony - February 26, 2022 (late of ...</td>\n",
       "    </tr>\n",
       "    <tr>\n",
       "      <th>...</th>\n",
       "      <td>...</td>\n",
       "      <td>...</td>\n",
       "      <td>...</td>\n",
       "      <td>...</td>\n",
       "      <td>...</td>\n",
       "      <td>...</td>\n",
       "    </tr>\n",
       "    <tr>\n",
       "      <th>730</th>\n",
       "      <td>488510</td>\n",
       "      <td>Tony  Stack</td>\n",
       "      <td>2022-03-05</td>\n",
       "      <td>Kerry</td>\n",
       "      <td>Toor, Duagh,  Kerry</td>\n",
       "      <td>Tony Stack, Toor, Duagh, Co. Kerry. Suddenly, ...</td>\n",
       "    </tr>\n",
       "    <tr>\n",
       "      <th>731</th>\n",
       "      <td>488511</td>\n",
       "      <td>David  Wilson</td>\n",
       "      <td>2022-03-06</td>\n",
       "      <td>Donegal</td>\n",
       "      <td>Cully, Donegal Town,  Donegal</td>\n",
       "      <td>Reposing at his daughter Rebecca’s residence. ...</td>\n",
       "    </tr>\n",
       "    <tr>\n",
       "      <th>732</th>\n",
       "      <td>488512</td>\n",
       "      <td>Maurice  O'Shaughnessy</td>\n",
       "      <td>2022-03-06</td>\n",
       "      <td>Cork</td>\n",
       "      <td>Late of Farranferris Park, Farranree,  Cork / ...</td>\n",
       "      <td>O’SHAUGHNESSY (Cork) Late of Farranferris Park...</td>\n",
       "    </tr>\n",
       "    <tr>\n",
       "      <th>733</th>\n",
       "      <td>488513</td>\n",
       "      <td>Michael  Sweeney</td>\n",
       "      <td>2022-02-13</td>\n",
       "      <td>Longford</td>\n",
       "      <td>Brocklagh, Drumlish,  Longford</td>\n",
       "      <td>Michael Sweeney (Ballyedmond, Clonberne, Co. G...</td>\n",
       "    </tr>\n",
       "    <tr>\n",
       "      <th>734</th>\n",
       "      <td>488514</td>\n",
       "      <td>Joe  EARLS</td>\n",
       "      <td>2022-03-06</td>\n",
       "      <td>Wicklow</td>\n",
       "      <td>St. Manntan's Road, Wicklow Town,  Wicklow</td>\n",
       "      <td>Joseph (Joe) Earls,(St. Manntan's Road, Wicklo...</td>\n",
       "    </tr>\n",
       "  </tbody>\n",
       "</table>\n",
       "<p>735 rows × 6 columns</p>\n",
       "</div>"
      ],
      "text/plain": [
       "         id                               name       date    county  \\\n",
       "0    487776                 Jim (James)  BYRNE 2022-02-27    Dublin   \n",
       "1    487777  Margaret  Higgins (née Armstrong) 2022-02-11             \n",
       "2    487778            Mary  Spellissy-Killeen 2022-02-27     Clare   \n",
       "3    487779                     Martina  Hayes 2022-02-23      Cork   \n",
       "4    487780                   Anthony  Doherty 2022-02-26    Dublin   \n",
       "..      ...                                ...        ...       ...   \n",
       "730  488510                        Tony  Stack 2022-03-05     Kerry   \n",
       "731  488511                      David  Wilson 2022-03-06   Donegal   \n",
       "732  488512             Maurice  O'Shaughnessy 2022-03-06      Cork   \n",
       "733  488513                   Michael  Sweeney 2022-02-13  Longford   \n",
       "734  488514                         Joe  EARLS 2022-03-06   Wicklow   \n",
       "\n",
       "                                               address  \\\n",
       "0    late of Michael Mallin House, Vicar Street, Du...   \n",
       "1                         Castlecarra, Carnacon,  Mayo   \n",
       "2                             Clonfeigh, Ennis,  Clare   \n",
       "3                        Peacock Row, Cork City,  Cork   \n",
       "4                                  Kilbarrack,  Dublin   \n",
       "..                                                 ...   \n",
       "730                                Toor, Duagh,  Kerry   \n",
       "731                      Cully, Donegal Town,  Donegal   \n",
       "732  Late of Farranferris Park, Farranree,  Cork / ...   \n",
       "733                     Brocklagh, Drumlish,  Longford   \n",
       "734         St. Manntan's Road, Wicklow Town,  Wicklow   \n",
       "\n",
       "                                                notice  \n",
       "0    BYRNE, Jim (James)  - 27 February 2022 - (late...  \n",
       "1    Margaret Higgins (nee Armstrong) Coventry, Eng...  \n",
       "2    Mary Spellissy Killeen, Clonfeigh, Ennis and f...  \n",
       "3    HAYES (Cork) On 23rd February 2022, unexpected...  \n",
       "4    Doherty, Anthony - February 26, 2022 (late of ...  \n",
       "..                                                 ...  \n",
       "730  Tony Stack, Toor, Duagh, Co. Kerry. Suddenly, ...  \n",
       "731  Reposing at his daughter Rebecca’s residence. ...  \n",
       "732  O’SHAUGHNESSY (Cork) Late of Farranferris Park...  \n",
       "733  Michael Sweeney (Ballyedmond, Clonberne, Co. G...  \n",
       "734  Joseph (Joe) Earls,(St. Manntan's Road, Wicklo...  \n",
       "\n",
       "[735 rows x 6 columns]"
      ]
     },
     "execution_count": 13,
     "metadata": {},
     "output_type": "execute_result"
    }
   ],
   "source": [
    "res"
   ]
  },
  {
   "cell_type": "code",
   "execution_count": 14,
   "id": "dc727d40",
   "metadata": {},
   "outputs": [
    {
     "name": "stdout",
     "output_type": "stream",
     "text": [
      "487713 735 488448\n"
     ]
    }
   ],
   "source": [
    "new = pd.concat([df,res]).reset_index(drop=True)\n",
    "new=new[~new.id.duplicated(keep='first')]\n",
    "print (len(df),len(res),len(new))\n",
    "new.to_pickle('rip_dn_scrape.pkl')"
   ]
  },
  {
   "cell_type": "code",
   "execution_count": 9,
   "id": "9e8cac90",
   "metadata": {},
   "outputs": [],
   "source": [
    "#x.to_csv('rip_dn_scrape.csv')"
   ]
  },
  {
   "cell_type": "markdown",
   "id": "7887215a",
   "metadata": {},
   "source": [
    "## clean data"
   ]
  },
  {
   "cell_type": "code",
   "execution_count": 15,
   "id": "820b8741",
   "metadata": {},
   "outputs": [
    {
     "name": "stdout",
     "output_type": "stream",
     "text": [
      "488448\n",
      "453688\n"
     ]
    }
   ],
   "source": [
    "x=new\n",
    "print (len(x))\n",
    "x=x.replace('',None).dropna(axis=0,subset=['date'])\n",
    "x['date'] = pd.to_datetime(x['date']).apply(lambda x: x.strftime('%d/%m/%Y'))\n",
    "x=x.drop_duplicates(['name','notice'])\n",
    "x=x.drop_duplicates(['name','address'])\n",
    "x=x.drop_duplicates(['name','date','county'])\n",
    "x = x[~x.address.isnull()]\n",
    "nc = ['Fermanagh','Armagh','Tyrone','Down','Antrim','Derry']\n",
    "x = x[~x.county.isin(nc)]\n",
    "x = x[~x.address.str.contains('|'.join(nc))]\n",
    "x=x.sort_values('id')\n",
    "print (len(x))\n",
    "#x.to_csv('rip_dn_scrape_processed.csv')\n",
    "x.to_pickle('rip_dn_scrape_processed.pkl')"
   ]
  },
  {
   "cell_type": "code",
   "execution_count": null,
   "id": "8556db1d",
   "metadata": {},
   "outputs": [],
   "source": []
  }
 ],
 "metadata": {
  "kernelspec": {
   "display_name": "Python 3",
   "language": "python",
   "name": "python3"
  },
  "language_info": {
   "codemirror_mode": {
    "name": "ipython",
    "version": 3
   },
   "file_extension": ".py",
   "mimetype": "text/x-python",
   "name": "python",
   "nbconvert_exporter": "python",
   "pygments_lexer": "ipython3",
   "version": "3.9.7"
  }
 },
 "nbformat": 4,
 "nbformat_minor": 5
}
