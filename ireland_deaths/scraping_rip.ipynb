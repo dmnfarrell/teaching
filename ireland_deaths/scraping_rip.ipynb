{
 "cells": [
  {
   "cell_type": "markdown",
   "id": "d4327582",
   "metadata": {},
   "source": [
    "# web scraping RIP.ie with beautifulsoup"
   ]
  },
  {
   "cell_type": "code",
   "execution_count": 1,
   "id": "5c2fc234",
   "metadata": {},
   "outputs": [],
   "source": [
    "import time\n",
    "import pandas as pd\n",
    "from bs4 import BeautifulSoup\n",
    "import requests\n",
    "import datefinder\n",
    "\n",
    "def get_dn_page(n):\n",
    "    \"\"\"Get death notice text from page matching the id number\"\"\"\n",
    "    \n",
    "    url = 'https://rip.ie/showdn.php?dn=%s' %n\n",
    "    req = requests.get(url)\n",
    "    soup = BeautifulSoup(req.content, 'html.parser')\n",
    "    if soup.title == None:\n",
    "        title = ''\n",
    "    else:        \n",
    "        title  = soup.title.text.strip()\n",
    "    name=''    \n",
    "    for s in ['Death Notice of ','The death has occurred of ']:\n",
    "        if title.startswith(s):\n",
    "            name = title.split(s)[1]   \n",
    "    elem = soup.find_all(\"div\", id=\"dn_photo_and_text\")\n",
    "    \n",
    "    if len(elem) == 0:\n",
    "        return name, '', '', '', ''\n",
    "    rows = elem[0].find_all('p')\n",
    "    if len(rows) == 0:\n",
    "        rows = elem[0].find_all('td')\n",
    "    text = ';'.join([r.text.strip() for r in rows]).replace('\\n','')\n",
    "    #address\n",
    "    addrelem = soup.find(\"span\", class_='small_addr') \n",
    "    if addrelem != None:\n",
    "        address = addrelem.text.strip()\n",
    "    else:\n",
    "        address = ''\n",
    "    #county  \n",
    "    ctyelem = soup.find(\"li\", class_='fd_county') \n",
    "    if ctyelem != None:\n",
    "        county = ctyelem.text.strip()\n",
    "    else:\n",
    "        county = ''\n",
    "    #date\n",
    "    dateelem = soup.find(\"div\", class_='ddeath')\n",
    "    if dateelem == None:\n",
    "        dateelem = soup.find(\"div\", class_='dpubl')\n",
    "    s = dateelem.text.strip()\n",
    "    try:\n",
    "        date = list(datefinder.find_dates(s))[0]\n",
    "    except:\n",
    "        date = ''\n",
    "    print (n, date, name, address, county)\n",
    "    return name, date, county, address, text"
   ]
  },
  {
   "cell_type": "code",
   "execution_count": 9,
   "id": "976c32f1",
   "metadata": {},
   "outputs": [
    {
     "name": "stdout",
     "output_type": "stream",
     "text": [
      "390045 2019-06-05 00:00:00 Margaret  Kelly Avenue Grove, Ballymodan Place, Bandon,  Cork Cork\n"
     ]
    },
    {
     "data": {
      "text/plain": [
       "('Margaret  Kelly',\n",
       " datetime.datetime(2019, 6, 5, 0, 0),\n",
       " 'Cork',\n",
       " 'Avenue Grove, Ballymodan Place, Bandon,  Cork',\n",
       " \"Kelly (Avenue Grove, Ballymodan Place, Bandon and late of Currivreeda West) on June 5th 2019. Margaret, beloved daughter of the late Timothy and Ellen. Sadly missed by her loving sisters Ann and Eileen, brothers Teddy and John, Margaret's Partner William, brothers-in-law, sisters-in-law, nieces, nephews, relatives and good friend Malcolm.;;Rosary on Friday evening at 7pm in St. Patrick's Church, Bandon. Requiem Mass on Saturday at 12 noon, funeral afterwards to the adjoining cemetery.;;May Margaret Rest in Peace\")"
      ]
     },
     "execution_count": 9,
     "metadata": {},
     "output_type": "execute_result"
    }
   ],
   "source": [
    "get_dn_page(390045)"
   ]
  },
  {
   "cell_type": "code",
   "execution_count": 2,
   "id": "6f45c0c7",
   "metadata": {},
   "outputs": [
    {
     "data": {
      "text/plain": [
       "484021"
      ]
     },
     "execution_count": 2,
     "metadata": {},
     "output_type": "execute_result"
    }
   ],
   "source": [
    "#df = pd.read_csv('rip_dn_scrape.csv')\n",
    "df = pd.read_pickle('rip_dn_scrape.pkl')\n",
    "len(df)"
   ]
  },
  {
   "cell_type": "markdown",
   "id": "306e0b4a",
   "metadata": {},
   "source": [
    "## iterate over a range of ids and get info"
   ]
  },
  {
   "cell_type": "code",
   "execution_count": null,
   "id": "274a23b7",
   "metadata": {},
   "outputs": [],
   "source": [
    "#read current table in so we skip those already done\n",
    "df = pd.read_pickle('rip_dn_scrape.pkl')\n",
    "print (len(df))\n",
    "ids = list(df.id)\n",
    "\n",
    "results={}\n",
    "for n in range(484000,486841):\n",
    "    if n in ids:\n",
    "        continue\n",
    "    name,date,cty,addr,txt = get_dn_page(n)\n",
    "    if name == '':\n",
    "        continue\n",
    "    results[n] = [name,date,cty,addr,txt]\n",
    "    time.sleep(0.05)"
   ]
  },
  {
   "cell_type": "code",
   "execution_count": 4,
   "id": "3ceba776",
   "metadata": {},
   "outputs": [
    {
     "name": "stderr",
     "output_type": "stream",
     "text": [
      "<ipython-input-4-849ec239fce7>:1: FutureWarning: Inferring datetime64[ns] from data containing strings is deprecated and will be removed in a future version. To retain the old behavior explicitly pass Series(data, dtype=datetime64[ns])\n",
      "  res = pd.DataFrame.from_dict(results,orient='index',columns=['name','date','county','address','notice']).reset_index()\n"
     ]
    }
   ],
   "source": [
    "res = pd.DataFrame.from_dict(results,orient='index',columns=['name','date','county','address','notice']).reset_index()\n",
    "res = res.rename(columns={'index':'id'})"
   ]
  },
  {
   "cell_type": "code",
   "execution_count": 5,
   "id": "7cc14630",
   "metadata": {},
   "outputs": [
    {
     "data": {
      "text/html": [
       "<div>\n",
       "<style scoped>\n",
       "    .dataframe tbody tr th:only-of-type {\n",
       "        vertical-align: middle;\n",
       "    }\n",
       "\n",
       "    .dataframe tbody tr th {\n",
       "        vertical-align: top;\n",
       "    }\n",
       "\n",
       "    .dataframe thead th {\n",
       "        text-align: right;\n",
       "    }\n",
       "</style>\n",
       "<table border=\"1\" class=\"dataframe\">\n",
       "  <thead>\n",
       "    <tr style=\"text-align: right;\">\n",
       "      <th></th>\n",
       "      <th>id</th>\n",
       "      <th>name</th>\n",
       "      <th>date</th>\n",
       "      <th>county</th>\n",
       "      <th>address</th>\n",
       "      <th>notice</th>\n",
       "    </tr>\n",
       "  </thead>\n",
       "  <tbody>\n",
       "    <tr>\n",
       "      <th>0</th>\n",
       "      <td>484050</td>\n",
       "      <td>Veronica  GENOCKEY (née Farrelly)</td>\n",
       "      <td>2022-01-23</td>\n",
       "      <td>Dublin</td>\n",
       "      <td>Malahide,  Dublin</td>\n",
       "      <td>GENOCKEY (née Farrelly), Veronica (Malahide) -...</td>\n",
       "    </tr>\n",
       "    <tr>\n",
       "      <th>1</th>\n",
       "      <td>484051</td>\n",
       "      <td>Joe (Joseph)  Poole</td>\n",
       "      <td>2022-01-23</td>\n",
       "      <td>Dublin</td>\n",
       "      <td>Ballymun,  Dublin / Cabra, Dublin</td>\n",
       "      <td>POOLE, Joe (Joseph) (Ballymun, Dublin formerly...</td>\n",
       "    </tr>\n",
       "    <tr>\n",
       "      <th>2</th>\n",
       "      <td>484052</td>\n",
       "      <td>Michael Maurice  Moore</td>\n",
       "      <td>2022-01-23</td>\n",
       "      <td>Cork</td>\n",
       "      <td>Glanmire,  Cork</td>\n",
       "      <td>MOORE (Glanmire, Cork) : On January 23rd, 2022...</td>\n",
       "    </tr>\n",
       "    <tr>\n",
       "      <th>3</th>\n",
       "      <td>484053</td>\n",
       "      <td>Baby Theo  Ryan</td>\n",
       "      <td>2022-01-22</td>\n",
       "      <td>Tipperary</td>\n",
       "      <td>Rootagh, Newport,  Tipperary</td>\n",
       "      <td>Ryan, Baby Theo, Rootagh, Newport, Co. Tippera...</td>\n",
       "    </tr>\n",
       "    <tr>\n",
       "      <th>4</th>\n",
       "      <td>484054</td>\n",
       "      <td>Vera  Nicol (née O'Keeffe)</td>\n",
       "      <td>2022-01-23</td>\n",
       "      <td>Dublin</td>\n",
       "      <td>Ballyfermot,  Dublin / Whitehall, Dublin</td>\n",
       "      <td>Nicol, Marie (Vera) (nee O’Keeffe), January 23...</td>\n",
       "    </tr>\n",
       "    <tr>\n",
       "      <th>...</th>\n",
       "      <td>...</td>\n",
       "      <td>...</td>\n",
       "      <td>...</td>\n",
       "      <td>...</td>\n",
       "      <td>...</td>\n",
       "      <td>...</td>\n",
       "    </tr>\n",
       "    <tr>\n",
       "      <th>2774</th>\n",
       "      <td>486836</td>\n",
       "      <td>Mick  Russell</td>\n",
       "      <td>2022-02-18</td>\n",
       "      <td>Dublin</td>\n",
       "      <td>Malahide,  Dublin</td>\n",
       "      <td>Russell, Mick (Michael), Malahide and late of ...</td>\n",
       "    </tr>\n",
       "    <tr>\n",
       "      <th>2775</th>\n",
       "      <td>486837</td>\n",
       "      <td>Mary Jo  O'Grady (née Lyons)</td>\n",
       "      <td>2022-02-19</td>\n",
       "      <td>Mayo</td>\n",
       "      <td>Moate, Ballyhaunis,  Mayo</td>\n",
       "      <td>Mary Jo O'Grady (née Lyons), Moate, Ballyhauni...</td>\n",
       "    </tr>\n",
       "    <tr>\n",
       "      <th>2776</th>\n",
       "      <td>486838</td>\n",
       "      <td>Elmars  MUSINSKIS</td>\n",
       "      <td>2022-02-18</td>\n",
       "      <td>Tipperary</td>\n",
       "      <td>Camas Road, Cashel,  Tipperary</td>\n",
       "      <td>Camas Road, Cashel, Co. Tipperary and formerly...</td>\n",
       "    </tr>\n",
       "    <tr>\n",
       "      <th>2777</th>\n",
       "      <td>486839</td>\n",
       "      <td>Harry  Deering</td>\n",
       "      <td>2022-02-17</td>\n",
       "      <td>Kildare</td>\n",
       "      <td>Ballyburn, Castledermot,  Kildare</td>\n",
       "      <td>Peacefully in St. James's Hospital. Loving hus...</td>\n",
       "    </tr>\n",
       "    <tr>\n",
       "      <th>2778</th>\n",
       "      <td>486840</td>\n",
       "      <td>FILIP  GRZELAK</td>\n",
       "      <td>2022-02-15</td>\n",
       "      <td>Waterford</td>\n",
       "      <td>John's Lane, Waterford City,  Waterford</td>\n",
       "      <td>Filip Grzelak;John's Lane;Waterford.;Formerly ...</td>\n",
       "    </tr>\n",
       "  </tbody>\n",
       "</table>\n",
       "<p>2779 rows × 6 columns</p>\n",
       "</div>"
      ],
      "text/plain": [
       "          id                               name       date     county  \\\n",
       "0     484050  Veronica  GENOCKEY (née Farrelly) 2022-01-23     Dublin   \n",
       "1     484051                Joe (Joseph)  Poole 2022-01-23     Dublin   \n",
       "2     484052             Michael Maurice  Moore 2022-01-23       Cork   \n",
       "3     484053                    Baby Theo  Ryan 2022-01-22  Tipperary   \n",
       "4     484054         Vera  Nicol (née O'Keeffe) 2022-01-23     Dublin   \n",
       "...      ...                                ...        ...        ...   \n",
       "2774  486836                      Mick  Russell 2022-02-18     Dublin   \n",
       "2775  486837       Mary Jo  O'Grady (née Lyons) 2022-02-19       Mayo   \n",
       "2776  486838                  Elmars  MUSINSKIS 2022-02-18  Tipperary   \n",
       "2777  486839                     Harry  Deering 2022-02-17    Kildare   \n",
       "2778  486840                     FILIP  GRZELAK 2022-02-15  Waterford   \n",
       "\n",
       "                                       address  \\\n",
       "0                            Malahide,  Dublin   \n",
       "1            Ballymun,  Dublin / Cabra, Dublin   \n",
       "2                              Glanmire,  Cork   \n",
       "3                 Rootagh, Newport,  Tipperary   \n",
       "4     Ballyfermot,  Dublin / Whitehall, Dublin   \n",
       "...                                        ...   \n",
       "2774                         Malahide,  Dublin   \n",
       "2775                 Moate, Ballyhaunis,  Mayo   \n",
       "2776            Camas Road, Cashel,  Tipperary   \n",
       "2777         Ballyburn, Castledermot,  Kildare   \n",
       "2778   John's Lane, Waterford City,  Waterford   \n",
       "\n",
       "                                                 notice  \n",
       "0     GENOCKEY (née Farrelly), Veronica (Malahide) -...  \n",
       "1     POOLE, Joe (Joseph) (Ballymun, Dublin formerly...  \n",
       "2     MOORE (Glanmire, Cork) : On January 23rd, 2022...  \n",
       "3     Ryan, Baby Theo, Rootagh, Newport, Co. Tippera...  \n",
       "4     Nicol, Marie (Vera) (nee O’Keeffe), January 23...  \n",
       "...                                                 ...  \n",
       "2774  Russell, Mick (Michael), Malahide and late of ...  \n",
       "2775  Mary Jo O'Grady (née Lyons), Moate, Ballyhauni...  \n",
       "2776  Camas Road, Cashel, Co. Tipperary and formerly...  \n",
       "2777  Peacefully in St. James's Hospital. Loving hus...  \n",
       "2778  Filip Grzelak;John's Lane;Waterford.;Formerly ...  \n",
       "\n",
       "[2779 rows x 6 columns]"
      ]
     },
     "execution_count": 5,
     "metadata": {},
     "output_type": "execute_result"
    }
   ],
   "source": [
    "res"
   ]
  },
  {
   "cell_type": "code",
   "execution_count": 6,
   "id": "dc727d40",
   "metadata": {},
   "outputs": [
    {
     "name": "stdout",
     "output_type": "stream",
     "text": [
      "484021 2779 486800\n"
     ]
    }
   ],
   "source": [
    "new = pd.concat([df,res]).reset_index(drop=True)\n",
    "new=new[~new.id.duplicated(keep='first')]\n",
    "print (len(df),len(res),len(new))\n",
    "new.to_pickle('rip_dn_scrape.pkl')"
   ]
  },
  {
   "cell_type": "code",
   "execution_count": 9,
   "id": "9e8cac90",
   "metadata": {},
   "outputs": [],
   "source": [
    "#x.to_csv('rip_dn_scrape.csv')"
   ]
  },
  {
   "cell_type": "markdown",
   "id": "7887215a",
   "metadata": {},
   "source": [
    "## clean data"
   ]
  },
  {
   "cell_type": "code",
   "execution_count": 7,
   "id": "820b8741",
   "metadata": {},
   "outputs": [
    {
     "name": "stdout",
     "output_type": "stream",
     "text": [
      "486800\n",
      "452111\n"
     ]
    }
   ],
   "source": [
    "x=new\n",
    "print (len(x))\n",
    "x=x.replace('',None).dropna(axis=0,subset=['date'])\n",
    "x['date'] = pd.to_datetime(x['date']).apply(lambda x: x.strftime('%d/%m/%Y'))\n",
    "x=x.drop_duplicates(['name','notice'])\n",
    "x=x.drop_duplicates(['name','address'])\n",
    "x=x.drop_duplicates(['name','date','county'])\n",
    "x = x[~x.address.isnull()]\n",
    "nc = ['Fermanagh','Armagh','Tyrone','Down','Antrim','Derry']\n",
    "x = x[~x.county.isin(nc)]\n",
    "x = x[~x.address.str.contains('|'.join(nc))]\n",
    "x=x.sort_values('id')\n",
    "print (len(x))\n",
    "#x.to_csv('rip_dn_scrape_processed.csv')\n",
    "x.to_pickle('rip_dn_scrape_processed.pkl')"
   ]
  },
  {
   "cell_type": "code",
   "execution_count": null,
   "id": "8556db1d",
   "metadata": {},
   "outputs": [],
   "source": []
  }
 ],
 "metadata": {
  "kernelspec": {
   "display_name": "Python 3",
   "language": "python",
   "name": "python3"
  },
  "language_info": {
   "codemirror_mode": {
    "name": "ipython",
    "version": 3
   },
   "file_extension": ".py",
   "mimetype": "text/x-python",
   "name": "python",
   "nbconvert_exporter": "python",
   "pygments_lexer": "ipython3",
   "version": "3.9.7"
  }
 },
 "nbformat": 4,
 "nbformat_minor": 5
}
