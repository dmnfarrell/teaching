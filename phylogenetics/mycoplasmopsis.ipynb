{
 "cells": [
  {
   "cell_type": "markdown",
   "id": "283d17ca-70db-4b35-9252-4df8ff6a1a6a",
   "metadata": {},
   "source": [
    "# mycoplasmopsis phylogeny \n",
    "\n",
    "* https://lpsn.dsmz.de/genus/mycoplasmopsis"
   ]
  },
  {
   "cell_type": "code",
   "execution_count": 2,
   "id": "88f72100-1c96-4dce-86b0-7baf7f902f33",
   "metadata": {},
   "outputs": [],
   "source": [
    "import os,sys,subprocess,glob,re,shutil\n",
    "import json\n",
    "import numpy as np\n",
    "import pandas as pd\n",
    "import pylab as plt\n",
    "from importlib import reload\n",
    "from Bio import SeqIO\n",
    "from Bio.SeqRecord import SeqRecord\n",
    "pd.options.display.max_rows = 200\n",
    "pd.set_option('display.width', 1000)"
   ]
  },
  {
   "cell_type": "code",
   "execution_count": 2,
   "id": "ccc88018-93c2-49f3-b0c8-2c58c69656e9",
   "metadata": {},
   "outputs": [],
   "source": [
    "%load_ext rpy2.ipython"
   ]
  },
  {
   "cell_type": "code",
   "execution_count": 3,
   "id": "5e747436-2ef9-47c2-84e0-04e3bea1bef8",
   "metadata": {},
   "outputs": [],
   "source": [
    "#recs = list(SeqIO.parse('mycoplasmopsis_S20.faa',format='fasta'))\n",
    "recs = list(SeqIO.parse('uni,format='fasta'))"
   ]
  },
  {
   "cell_type": "code",
   "execution_count": 62,
   "id": "6b272653-b9de-4aa7-9394-9ad1c3ec622a",
   "metadata": {},
   "outputs": [
    {
     "data": {
      "text/plain": [
       "93"
      ]
     },
     "execution_count": 62,
     "metadata": {},
     "output_type": "execute_result"
    }
   ],
   "source": [
    "#convert orthodb format to get species name only\n",
    "new = []\n",
    "found = []\n",
    "for r in recs:\n",
    "    x = r.description    \n",
    "    data = json.loads(x.split(r.id)[1])     \n",
    "    org = data['organism_name'].replace(' ','_')    \n",
    "    if org in found:\n",
    "        continue\n",
    "    found.append(org)\n",
    "    new.append(SeqRecord(id=org,seq=r.seq))\n",
    "SeqIO.write(new,'mycoplasmopsis_S20_org.faa','fasta')"
   ]
  },
  {
   "cell_type": "code",
   "execution_count": 6,
   "id": "f4311aa1-d1c8-414a-bbca-79828686f0c1",
   "metadata": {},
   "outputs": [
    {
     "data": {
      "text/html": [
       "<div class=\"toyplot\" id=\"t40917edd0e8346e2937cb72543ec4bff\" style=\"text-align:center\"><svg class=\"toyplot-canvas-Canvas\" xmlns:toyplot=\"http://www.sandia.gov/toyplot\" xmlns:xlink=\"http://www.w3.org/1999/xlink\" xmlns=\"http://www.w3.org/2000/svg\" width=\"900.0px\" height=\"774.0px\" viewBox=\"0 0 900.0 774.0\" preserveAspectRatio=\"xMidYMid meet\" style=\"background-color:transparent;border-color:#292724;border-style:none;border-width:1.0;fill:rgb(16.1%,15.3%,14.1%);fill-opacity:1.0;font-family:Helvetica;font-size:12px;opacity:1.0;stroke:rgb(16.1%,15.3%,14.1%);stroke-opacity:1.0;stroke-width:1.0\" id=\"taba41f44f2a641189ef16e28ce9890c9\"><g class=\"toyplot-coordinates-Cartesian\" id=\"t9f9f0e75235844c7ad79d3222eb12b5d\"><clipPath id=\"t0fceaa6834a74af7b53fb5fdc1a0837a\"><rect x=\"30.0\" y=\"30.0\" width=\"840.0\" height=\"714.0\"></rect></clipPath><g clip-path=\"url(#t0fceaa6834a74af7b53fb5fdc1a0837a)\"><g class=\"toytree-mark-Toytree\" id=\"t8704723352f7415aa1b8638e50237803\"><g class=\"toytree-Edges\" style=\"fill:none;stroke:rgb(14.9%,14.9%,14.9%);stroke-linecap:round;stroke-opacity:1;stroke-width:2\"><path d=\"M 51.6 97.4 L 51.6 85.3 L 51.6 85.3\" id=\"80,79\"></path><path d=\"M 51.6 97.4 L 51.6 144.6 L 57.7 144.6\" id=\"80,78\"></path><path d=\"M 57.7 144.6 L 57.7 180.6 L 61.2 180.6\" id=\"78,77\"></path><path d=\"M 61.2 180.6 L 61.2 237.2 L 73.3 237.2\" id=\"77,76\"></path><path d=\"M 73.3 237.2 L 73.3 155.0 L 162.9 155.0\" id=\"76,75\"></path><path d=\"M 73.3 237.2 L 73.3 319.4 L 121.3 319.4\" id=\"76,74\"></path><path d=\"M 162.9 155.0 L 162.9 170.4 L 171.3 170.4\" id=\"75,73\"></path><path d=\"M 121.3 319.4 L 121.3 273.9 L 148.8 273.9\" id=\"74,72\"></path><path d=\"M 121.3 319.4 L 121.3 365.0 L 128.6 365.0\" id=\"74,71\"></path><path d=\"M 171.3 170.4 L 171.3 185.9 L 176.8 185.9\" id=\"73,70\"></path><path d=\"M 148.8 273.9 L 148.8 255.5 L 204.2 255.5\" id=\"72,69\"></path><path d=\"M 148.8 273.9 L 148.8 292.3 L 148.8 292.3\" id=\"72,68\"></path><path d=\"M 128.6 365.0 L 128.6 389.4 L 165.2 389.4\" id=\"71,67\"></path><path d=\"M 176.8 185.9 L 176.8 201.4 L 183.1 201.4\" id=\"70,66\"></path><path d=\"M 148.8 292.3 L 148.8 305.8 L 225.8 305.8\" id=\"68,65\"></path><path d=\"M 165.2 389.4 L 165.2 422.8 L 222.5 422.8\" id=\"67,64\"></path><path d=\"M 183.1 201.4 L 183.1 216.8 L 328.0 216.8\" id=\"66,63\"></path><path d=\"M 225.8 305.8 L 225.8 317.4 L 361.4 317.4\" id=\"65,62\"></path><path d=\"M 222.5 422.8 L 222.5 379.3 L 452.1 379.3\" id=\"64,61\"></path><path d=\"M 222.5 422.8 L 222.5 466.3 L 293.1 466.3\" id=\"64,60\"></path><path d=\"M 293.1 466.3 L 293.1 414.1 L 326.4 414.1\" id=\"60,59\"></path><path d=\"M 293.1 466.3 L 293.1 518.5 L 300.9 518.5\" id=\"60,58\"></path><path d=\"M 326.4 414.1 L 326.4 425.7 L 366.5 425.7\" id=\"59,57\"></path><path d=\"M 300.9 518.5 L 300.9 474.0 L 302.7 474.0\" id=\"58,56\"></path><path d=\"M 300.9 518.5 L 300.9 563.0 L 330.4 563.0\" id=\"58,55\"></path><path d=\"M 302.7 474.0 L 302.7 456.6 L 411.9 456.6\" id=\"56,54\"></path><path d=\"M 302.7 474.0 L 302.7 491.4 L 327.6 491.4\" id=\"56,53\"></path><path d=\"M 330.4 563.0 L 330.4 534.0 L 373.6 534.0\" id=\"55,52\"></path><path d=\"M 330.4 563.0 L 330.4 592.0 L 361.2 592.0\" id=\"55,51\"></path><path d=\"M 327.6 491.4 L 327.6 503.0 L 422.7 503.0\" id=\"53,50\"></path><path d=\"M 361.2 592.0 L 361.2 564.9 L 430.4 564.9\" id=\"51,49\"></path><path d=\"M 361.2 592.0 L 361.2 619.0 L 433.2 619.0\" id=\"51,48\"></path><path d=\"M 433.2 619.0 L 433.2 650.0 L 433.2 650.0\" id=\"48,47\"></path><path d=\"M 433.2 650.0 L 433.2 619.0 L 435.1 619.0\" id=\"47,46\"></path><path d=\"M 433.2 650.0 L 433.2 680.9 L 439.4 680.9\" id=\"47,45\"></path><path d=\"M 435.1 619.0 L 435.1 634.5 L 462.5 634.5\" id=\"46,44\"></path><path d=\"M 439.4 680.9 L 439.4 696.4 L 673.7 696.4\" id=\"45,43\"></path><path d=\"M 51.6 97.4 L 51.6 62.1 L 51.6 62.1\" id=\"80,42\"></path><path d=\"M 51.6 85.3 L 51.6 77.6 L 57.9 77.6\" id=\"79,41\"></path><path d=\"M 51.6 85.3 L 51.6 93.1 L 57.7 93.1\" id=\"79,40\"></path><path d=\"M 57.7 144.6 L 57.7 108.6 L 57.7 108.6\" id=\"78,39\"></path><path d=\"M 61.2 180.6 L 61.2 124.0 L 66.0 124.0\" id=\"77,38\"></path><path d=\"M 162.9 155.0 L 162.9 139.5 L 169.4 139.5\" id=\"75,37\"></path><path d=\"M 171.3 170.4 L 171.3 155.0 L 176.0 155.0\" id=\"73,36\"></path><path d=\"M 176.8 185.9 L 176.8 170.4 L 176.8 170.4\" id=\"70,35\"></path><path d=\"M 183.1 201.4 L 183.1 185.9 L 183.1 185.9\" id=\"66,34\"></path><path d=\"M 328.0 216.8 L 328.0 201.4 L 328.0 201.4\" id=\"63,33\"></path><path d=\"M 328.0 216.8 L 328.0 216.8 L 328.0 216.8\" id=\"63,32\"></path><path d=\"M 328.0 216.8 L 328.0 232.3 L 328.0 232.3\" id=\"63,31\"></path><path d=\"M 204.2 255.5 L 204.2 247.8 L 204.2 247.8\" id=\"69,30\"></path><path d=\"M 204.2 255.5 L 204.2 263.2 L 204.2 263.2\" id=\"69,29\"></path><path d=\"M 148.8 292.3 L 148.8 278.7 L 177.8 278.7\" id=\"68,28\"></path><path d=\"M 225.8 305.8 L 225.8 294.2 L 474.9 294.2\" id=\"65,27\"></path><path d=\"M 361.4 317.4 L 361.4 309.7 L 374.2 309.7\" id=\"62,26\"></path><path d=\"M 361.4 317.4 L 361.4 325.1 L 361.4 325.1\" id=\"62,25\"></path><path d=\"M 128.6 365.0 L 128.6 340.6 L 144.6 340.6\" id=\"71,24\"></path><path d=\"M 165.2 389.4 L 165.2 356.1 L 251.2 356.1\" id=\"67,23\"></path><path d=\"M 452.1 379.3 L 452.1 371.5 L 452.1 371.5\" id=\"61,22\"></path><path d=\"M 452.1 379.3 L 452.1 387.0 L 452.1 387.0\" id=\"61,21\"></path><path d=\"M 326.4 414.1 L 326.4 402.5 L 377.8 402.5\" id=\"59,20\"></path><path d=\"M 366.5 425.7 L 366.5 417.9 L 366.5 417.9\" id=\"57,19\"></path><path d=\"M 366.5 425.7 L 366.5 433.4 L 366.5 433.4\" id=\"57,18\"></path><path d=\"M 411.9 456.6 L 411.9 448.9 L 411.9 448.9\" id=\"54,17\"></path><path d=\"M 411.9 456.6 L 411.9 464.3 L 411.9 464.3\" id=\"54,16\"></path><path d=\"M 327.6 491.4 L 327.6 479.8 L 349.5 479.8\" id=\"53,15\"></path><path d=\"M 422.7 503.0 L 422.7 495.3 L 422.7 495.3\" id=\"50,14\"></path><path d=\"M 422.7 503.0 L 422.7 510.8 L 422.7 510.8\" id=\"50,13\"></path><path d=\"M 373.6 534.0 L 373.6 526.2 L 373.6 526.2\" id=\"52,12\"></path><path d=\"M 373.6 534.0 L 373.6 541.7 L 373.6 541.7\" id=\"52,11\"></path><path d=\"M 430.4 564.9 L 430.4 557.2 L 430.4 557.2\" id=\"49,10\"></path><path d=\"M 430.4 564.9 L 430.4 572.6 L 430.4 572.6\" id=\"49,9\"></path><path d=\"M 433.2 619.0 L 433.2 588.1 L 463.4 588.1\" id=\"48,8\"></path><path d=\"M 435.1 619.0 L 435.1 603.6 L 446.2 603.6\" id=\"46,7\"></path><path d=\"M 462.5 634.5 L 462.5 619.0 L 462.5 619.0\" id=\"44,6\"></path><path d=\"M 462.5 634.5 L 462.5 634.5 L 462.5 634.5\" id=\"44,5\"></path><path d=\"M 462.5 634.5 L 462.5 650.0 L 462.5 650.0\" id=\"44,4\"></path><path d=\"M 439.4 680.9 L 439.4 665.4 L 439.4 665.4\" id=\"45,3\"></path><path d=\"M 673.7 696.4 L 673.7 680.9 L 673.7 680.9\" id=\"43,2\"></path><path d=\"M 673.7 696.4 L 673.7 696.4 L 673.7 696.4\" id=\"43,1\"></path><path d=\"M 673.7 696.4 L 673.7 711.9 L 673.7 711.9\" id=\"43,0\"></path></g><g class=\"toytree-AlignEdges\" style=\"stroke:rgb(66.3%,66.3%,66.3%);stroke-dasharray:2, 4;stroke-linecap:round;stroke-opacity:1.0;stroke-width:2\"><path d=\"M 673.7 711.9 L 673.7 711.9\"></path><path d=\"M 673.7 696.4 L 673.7 696.4\"></path><path d=\"M 673.7 680.9 L 673.7 680.9\"></path><path d=\"M 673.7 665.4 L 439.4 665.4\"></path><path d=\"M 673.7 650.0 L 462.5 650.0\"></path><path d=\"M 673.7 634.5 L 462.5 634.5\"></path><path d=\"M 673.7 619.0 L 462.5 619.0\"></path><path d=\"M 673.7 603.6 L 446.2 603.6\"></path><path d=\"M 673.7 588.1 L 463.4 588.1\"></path><path d=\"M 673.7 572.6 L 430.4 572.6\"></path><path d=\"M 673.7 557.2 L 430.4 557.2\"></path><path d=\"M 673.7 541.7 L 373.6 541.7\"></path><path d=\"M 673.7 526.2 L 373.6 526.2\"></path><path d=\"M 673.7 510.8 L 422.7 510.8\"></path><path d=\"M 673.7 495.3 L 422.7 495.3\"></path><path d=\"M 673.7 479.8 L 349.5 479.8\"></path><path d=\"M 673.7 464.3 L 411.9 464.3\"></path><path d=\"M 673.7 448.9 L 411.9 448.9\"></path><path d=\"M 673.7 433.4 L 366.5 433.4\"></path><path d=\"M 673.7 417.9 L 366.5 417.9\"></path><path d=\"M 673.7 402.5 L 377.8 402.5\"></path><path d=\"M 673.7 387.0 L 452.1 387.0\"></path><path d=\"M 673.7 371.5 L 452.1 371.5\"></path><path d=\"M 673.7 356.1 L 251.2 356.1\"></path><path d=\"M 673.7 340.6 L 144.6 340.6\"></path><path d=\"M 673.7 325.1 L 361.4 325.1\"></path><path d=\"M 673.7 309.7 L 374.2 309.7\"></path><path d=\"M 673.7 294.2 L 474.9 294.2\"></path><path d=\"M 673.7 278.7 L 177.8 278.7\"></path><path d=\"M 673.7 263.2 L 204.2 263.2\"></path><path d=\"M 673.7 247.8 L 204.2 247.8\"></path><path d=\"M 673.7 232.3 L 328.0 232.3\"></path><path d=\"M 673.7 216.8 L 328.0 216.8\"></path><path d=\"M 673.7 201.4 L 328.0 201.4\"></path><path d=\"M 673.7 185.9 L 183.1 185.9\"></path><path d=\"M 673.7 170.4 L 176.8 170.4\"></path><path d=\"M 673.7 155.0 L 176.0 155.0\"></path><path d=\"M 673.7 139.5 L 169.4 139.5\"></path><path d=\"M 673.7 124.0 L 66.0 124.0\"></path><path d=\"M 673.7 108.6 L 57.7 108.6\"></path><path d=\"M 673.7 93.1 L 57.7 93.1\"></path><path d=\"M 673.7 77.6 L 57.9 77.6\"></path><path d=\"M 673.7 62.1 L 51.6 62.1\"></path></g><g class=\"toytree-TipLabels\" style=\"fill:rgb(14.9%,14.9%,14.9%);fill-opacity:1.0;font-family:helvetica;font-size:11px;font-weight:normal;stroke:none;white-space:pre\"><g transform=\"translate(673.74,711.85)rotate(0)\"><text x=\"15.00\" y=\"2.81\" style=\"\">Mycoplasmopsis bovis</text></g><g transform=\"translate(673.74,696.38)rotate(0)\"><text x=\"15.00\" y=\"2.81\" style=\"\">Mycoplasmopsis bovis</text></g><g transform=\"translate(673.74,680.92)rotate(0)\"><text x=\"15.00\" y=\"2.81\" style=\"\">Mycoplasmopsis bovis</text></g><g transform=\"translate(673.74,665.45)rotate(0)\"><text x=\"15.00\" y=\"2.81\" style=\"\">Mycoplasmopsis bovis</text></g><g transform=\"translate(673.74,649.98)rotate(0)\"><text x=\"15.00\" y=\"2.81\" style=\"\">Mycoplasmopsis bovis</text></g><g transform=\"translate(673.74,634.51)rotate(0)\"><text x=\"15.00\" y=\"2.81\" style=\"\">Mycoplasmopsis bovis; Mycoplasmopsis mucosicanis</text></g><g transform=\"translate(673.74,619.04)rotate(0)\"><text x=\"15.00\" y=\"2.81\" style=\"\">Mycoplasmopsis bovis</text></g><g transform=\"translate(673.74,603.57)rotate(0)\"><text x=\"15.00\" y=\"2.81\" style=\"\">Mycoplasmopsis bovis</text></g><g transform=\"translate(673.74,588.10)rotate(0)\"><text x=\"15.00\" y=\"2.81\" style=\"\">Mycoplasmopsis bovis</text></g><g transform=\"translate(673.74,572.63)rotate(0)\"><text x=\"15.00\" y=\"2.81\" style=\"\">Mycoplasmopsis primatum</text></g><g transform=\"translate(673.74,557.16)rotate(0)\"><text x=\"15.00\" y=\"2.81\" style=\"\">Mycoplasmopsis primatum</text></g><g transform=\"translate(673.74,541.69)rotate(0)\"><text x=\"15.00\" y=\"2.81\" style=\"\">Mycoplasmopsis felifaucium</text></g><g transform=\"translate(673.74,526.22)rotate(0)\"><text x=\"15.00\" y=\"2.81\" style=\"\">Mycoplasmopsis felifaucium</text></g><g transform=\"translate(673.74,510.75)rotate(0)\"><text x=\"15.00\" y=\"2.81\" style=\"\">Mycoplasmopsis mucosicanis</text></g><g transform=\"translate(673.74,495.28)rotate(0)\"><text x=\"15.00\" y=\"2.81\" style=\"\">Mycoplasmopsis mucosicanis</text></g><g transform=\"translate(673.74,479.82)rotate(0)\"><text x=\"15.00\" y=\"2.81\" style=\"\">Mycoplasmopsis lipofaciens</text></g><g transform=\"translate(673.74,464.35)rotate(0)\"><text x=\"15.00\" y=\"2.81\" style=\"\">Mycoplasmopsis opalescens</text></g><g transform=\"translate(673.74,448.88)rotate(0)\"><text x=\"15.00\" y=\"2.81\" style=\"\">Mycoplasmopsis opalescens</text></g><g transform=\"translate(673.74,433.41)rotate(0)\"><text x=\"15.00\" y=\"2.81\" style=\"\">Mycoplasmopsis iners</text></g><g transform=\"translate(673.74,417.94)rotate(0)\"><text x=\"15.00\" y=\"2.81\" style=\"\">Mycoplasmopsis iners</text></g><g transform=\"translate(673.74,402.47)rotate(0)\"><text x=\"15.00\" y=\"2.81\" style=\"\">Mycoplasmopsis meleagridis</text></g><g transform=\"translate(673.74,387.00)rotate(0)\"><text x=\"15.00\" y=\"2.81\" style=\"\">Mycoplasmopsis equigenitalium</text></g><g transform=\"translate(673.74,371.53)rotate(0)\"><text x=\"15.00\" y=\"2.81\" style=\"\">Mycoplasmopsis equigenitalium</text></g><g transform=\"translate(673.74,356.06)rotate(0)\"><text x=\"15.00\" y=\"2.81\" style=\"\">Mycoplasmopsis pullorum</text></g><g transform=\"translate(673.74,340.59)rotate(0)\"><text x=\"15.00\" y=\"2.81\" style=\"\">Mycoplasmopsis citelli</text></g><g transform=\"translate(673.74,325.12)rotate(0)\"><text x=\"15.00\" y=\"2.81\" style=\"\">Mycoplasmopsis synoviae</text></g><g transform=\"translate(673.74,309.65)rotate(0)\"><text x=\"15.00\" y=\"2.81\" style=\"\">Mycoplasmopsis synoviae</text></g><g transform=\"translate(673.74,294.18)rotate(0)\"><text x=\"15.00\" y=\"2.81\" style=\"\">Mycoplasmopsis arginini (Mycoplasma arginini)</text></g><g transform=\"translate(673.74,278.72)rotate(0)\"><text x=\"15.00\" y=\"2.81\" style=\"\">Mycoplasmopsis sturni</text></g><g transform=\"translate(673.74,263.25)rotate(0)\"><text x=\"15.00\" y=\"2.81\" style=\"\">Mycoplasmopsis cricetuli</text></g><g transform=\"translate(673.74,247.78)rotate(0)\"><text x=\"15.00\" y=\"2.81\" style=\"\">Mycoplasmopsis cricetuli</text></g><g transform=\"translate(673.74,232.31)rotate(0)\"><text x=\"15.00\" y=\"2.81\" style=\"\">Mycoplasmopsis cynos</text></g><g transform=\"translate(673.74,216.84)rotate(0)\"><text x=\"15.00\" y=\"2.81\" style=\"\">Mycoplasmopsis cynos</text></g><g transform=\"translate(673.74,201.37)rotate(0)\"><text x=\"15.00\" y=\"2.81\" style=\"\">Mycoplasmopsis cynos</text></g><g transform=\"translate(673.74,185.90)rotate(0)\"><text x=\"15.00\" y=\"2.81\" style=\"\">Mycoplasmopsis cynos</text></g><g transform=\"translate(673.74,170.43)rotate(0)\"><text x=\"15.00\" y=\"2.81\" style=\"\">Mycoplasmopsis cynos</text></g><g transform=\"translate(673.74,154.96)rotate(0)\"><text x=\"15.00\" y=\"2.81\" style=\"\">Mycoplasmopsis cynos</text></g><g transform=\"translate(673.74,139.49)rotate(0)\"><text x=\"15.00\" y=\"2.81\" style=\"\">Mycoplasmopsis cynos</text></g><g transform=\"translate(673.74,124.02)rotate(0)\"><text x=\"15.00\" y=\"2.81\" style=\"\">Mycoplasmopsis felis</text></g><g transform=\"translate(673.74,108.55)rotate(0)\"><text x=\"15.00\" y=\"2.81\" style=\"\">Mycoplasmopsis felis</text></g><g transform=\"translate(673.74,93.08)rotate(0)\"><text x=\"15.00\" y=\"2.81\" style=\"\">Mycoplasmopsis felis</text></g><g transform=\"translate(673.74,77.62)rotate(0)\"><text x=\"15.00\" y=\"2.81\" style=\"\">Mycoplasmopsis felis</text></g><g transform=\"translate(673.74,62.15)rotate(0)\"><text x=\"15.00\" y=\"2.81\" style=\"\">Mycoplasmopsis felis</text></g></g></g></g></g></svg><div class=\"toyplot-behavior\"><script>(function()\n",
       "{\n",
       "var modules={};\n",
       "})();</script></div></div>"
      ]
     },
     "metadata": {},
     "output_type": "display_data"
    }
   ],
   "source": [
    "import toytree\n",
    "tre = toytree.tree('uniref_s20_mycoplasmopsis.tree')\n",
    "#tre = tre.root('Mycoplasma_penetrans')\n",
    "\n",
    "\n",
    "df = pd.read_csv('uniref_s20_mycoplasmopsis.tsv',sep='\\t',index_col=0)\n",
    "idx = tre.get_tip_labels()\n",
    "df = df.reindex(index=idx)\n",
    "df = df.loc[idx]\n",
    "tiplabels = list(df['Organisms'])\n",
    "canvas, axes, mark = tre.draw(tip_labels_align=True, layout='r', tip_labels=tiplabels, width=900)\n",
    "\n",
    "#import toyplot.pdf\n",
    "#toyplot.pdf.render(canvas, \"tree-plot.pdf\")"
   ]
  },
  {
   "cell_type": "code",
   "execution_count": 6,
   "id": "4e776703-1bd0-4d92-adc4-11d536338ac2",
   "metadata": {},
   "outputs": [],
   "source": [
    "%%R\n",
    "library(ape)\n",
    "source('drawtrees.R')"
   ]
  },
  {
   "cell_type": "code",
   "execution_count": null,
   "id": "8e8a6d96-07b4-4037-ba4b-3ce5ad555da8",
   "metadata": {},
   "outputs": [],
   "source": [
    "%%R -w 1200 -h 900\n",
    "\n",
    "tree <- read.tree('mycoplasmopsis_S20.tree')\n",
    "tree <- root(tree,'Mycoplasma_penetrans')\n",
    "plot(tree,type='p',align.tip.label=TRUE,cex=.8)"
   ]
  },
  {
   "cell_type": "markdown",
   "id": "47677e6e-a66f-4f28-b0de-e9f3c2135498",
   "metadata": {},
   "source": [
    "## kSNP"
   ]
  },
  {
   "cell_type": "code",
   "execution_count": 57,
   "id": "0096785e-9643-4c8f-9053-9a627575c4da",
   "metadata": {},
   "outputs": [],
   "source": [
    "#download files: https://www.ncbi.nlm.nih.gov/datasets/genome/?taxon=2767358&reference_only=true\n",
    "#move all files to one folder\n",
    "files=glob.glob('mycoplasmopsis_genomes/*.fna')\n",
    "#for f in files:   \n",
    "    #shutil.move(f,os.path.join('mycoplasmopsis_genomes',os.path.basename(f)[:13]+'.fna'))\n",
    "    #print (f,os.path.basename(f)[:13]+'.fna')\n",
    "    #shutil.move(f,f.replace('.1',''))"
   ]
  },
  {
   "cell_type": "markdown",
   "id": "61cce961-f95d-47f5-ae66-f265bed3d0ed",
   "metadata": {},
   "source": [
    "### make ksnp file\n",
    "/local/kSNP4.1/MakeKSNP4infile -indir mycoplasmopsis_genomes/ -outfile ksnp_mycoplasmopsis.txt\n",
    "### kchooser\n",
    "/local/kSNP4.1/Kchooser4 -in ksnp_mycoplasmopsis.txt \n",
    "### run ksnp4\n",
    "/local/kSNP4.1/kSNP4 -core -k 19 -outdir ksnp_mycoplasmopsis -in ksnp_mycoplasmopsis.txt"
   ]
  },
  {
   "cell_type": "code",
   "execution_count": 123,
   "id": "861f73dc-d37a-4872-a097-abbefd9014f1",
   "metadata": {},
   "outputs": [
    {
     "data": {
      "text/html": [
       "<div class=\"toyplot\" id=\"t19d6d538261c42dfb4d928ea5e8b10c2\" style=\"text-align:center\"><svg class=\"toyplot-canvas-Canvas\" xmlns:toyplot=\"http://www.sandia.gov/toyplot\" xmlns:xlink=\"http://www.w3.org/1999/xlink\" xmlns=\"http://www.w3.org/2000/svg\" width=\"900.0px\" height=\"720.0px\" viewBox=\"0 0 900.0 720.0\" preserveAspectRatio=\"xMidYMid meet\" style=\"background-color:transparent;border-color:#292724;border-style:none;border-width:1.0;fill:rgb(16.1%,15.3%,14.1%);fill-opacity:1.0;font-family:Helvetica;font-size:12px;opacity:1.0;stroke:rgb(16.1%,15.3%,14.1%);stroke-opacity:1.0;stroke-width:1.0\" id=\"td9c14a21d65e4353b68a1ed58d4d65f7\"><g class=\"toyplot-coordinates-Cartesian\" id=\"t4b3b9b80633c41f5b7831b017cc62f5f\"><clipPath id=\"t673227a2eaaf4825b676052902dce66f\"><rect x=\"30.0\" y=\"30.0\" width=\"840.0\" height=\"660.0\"></rect></clipPath><g clip-path=\"url(#t673227a2eaaf4825b676052902dce66f)\"><g class=\"toytree-mark-Toytree\" id=\"t3dcdc9efcc52488c86dc099db5258894\"><g class=\"toytree-Edges\" style=\"fill:none;stroke:rgb(14.9%,14.9%,14.9%);stroke-linecap:round;stroke-opacity:1;stroke-width:2\"><path d=\"M 51.4 90.4 L 51.4 118.6 L 118.8 118.6\" id=\"78,77\"></path><path d=\"M 118.8 118.6 L 118.8 159.9 L 256.7 159.9\" id=\"77,76\"></path><path d=\"M 256.7 159.9 L 256.7 227.2 L 261.1 227.2\" id=\"76,75\"></path><path d=\"M 261.1 227.2 L 261.1 346.4 L 332.0 346.4\" id=\"75,74\"></path><path d=\"M 332.0 346.4 L 332.0 213.1 L 350.2 213.1\" id=\"74,73\"></path><path d=\"M 332.0 346.4 L 332.0 479.7 L 449.6 479.7\" id=\"74,72\"></path><path d=\"M 350.2 213.1 L 350.2 149.5 L 350.2 149.5\" id=\"73,71\"></path><path d=\"M 350.2 213.1 L 350.2 276.7 L 350.2 276.7\" id=\"73,70\"></path><path d=\"M 449.6 479.7 L 449.6 423.0 L 449.6 423.0\" id=\"72,69\"></path><path d=\"M 449.6 479.7 L 449.6 536.4 L 457.7 536.4\" id=\"72,68\"></path><path d=\"M 350.2 149.5 L 350.2 130.9 L 362.2 130.9\" id=\"71,67\"></path><path d=\"M 350.2 149.5 L 350.2 168.1 L 377.7 168.1\" id=\"71,66\"></path><path d=\"M 350.2 276.7 L 350.2 241.6 L 360.0 241.6\" id=\"70,65\"></path><path d=\"M 350.2 276.7 L 350.2 311.8 L 353.6 311.8\" id=\"70,64\"></path><path d=\"M 449.6 423.0 L 449.6 447.8 L 462.9 447.8\" id=\"69,63\"></path><path d=\"M 457.7 536.4 L 457.7 567.7 L 470.0 567.7\" id=\"68,62\"></path><path d=\"M 377.7 168.1 L 377.7 182.4 L 379.8 182.4\" id=\"66,61\"></path><path d=\"M 360.0 241.6 L 360.0 253.1 L 395.5 253.1\" id=\"65,60\"></path><path d=\"M 353.6 311.8 L 353.6 287.4 L 389.0 287.4\" id=\"64,59\"></path><path d=\"M 353.6 311.8 L 353.6 336.1 L 372.0 336.1\" id=\"64,58\"></path><path d=\"M 462.9 447.8 L 462.9 424.9 L 462.9 424.9\" id=\"63,57\"></path><path d=\"M 462.9 447.8 L 462.9 470.8 L 481.1 470.8\" id=\"63,56\"></path><path d=\"M 470.0 567.7 L 470.0 533.8 L 499.8 533.8\" id=\"62,55\"></path><path d=\"M 470.0 567.7 L 470.0 601.6 L 470.0 601.6\" id=\"62,54\"></path><path d=\"M 379.8 182.4 L 379.8 195.8 L 379.8 195.8\" id=\"61,53\"></path><path d=\"M 389.0 287.4 L 389.0 298.9 L 415.0 298.9\" id=\"59,52\"></path><path d=\"M 372.0 336.1 L 372.0 350.5 L 395.3 350.5\" id=\"58,51\"></path><path d=\"M 462.9 424.9 L 462.9 436.4 L 485.2 436.4\" id=\"57,50\"></path><path d=\"M 481.1 470.8 L 481.1 482.2 L 488.0 482.2\" id=\"56,49\"></path><path d=\"M 499.8 533.8 L 499.8 547.1 L 520.6 547.1\" id=\"55,48\"></path><path d=\"M 470.0 601.6 L 470.0 621.6 L 494.9 621.6\" id=\"54,47\"></path><path d=\"M 379.8 195.8 L 379.8 207.2 L 389.6 207.2\" id=\"53,46\"></path><path d=\"M 395.3 350.5 L 395.3 363.8 L 395.3 363.8\" id=\"51,45\"></path><path d=\"M 520.6 547.1 L 520.6 558.6 L 522.2 558.6\" id=\"48,44\"></path><path d=\"M 494.9 621.6 L 494.9 604.4 L 510.9 604.4\" id=\"47,43\"></path><path d=\"M 494.9 621.6 L 494.9 638.8 L 497.6 638.8\" id=\"47,42\"></path><path d=\"M 395.3 363.8 L 395.3 375.3 L 397.6 375.3\" id=\"45,41\"></path><path d=\"M 497.6 638.8 L 497.6 650.3 L 506.2 650.3\" id=\"42,40\"></path><path d=\"M 51.4 90.4 L 51.4 62.1 L 118.8 62.1\" id=\"78,39\"></path><path d=\"M 118.8 118.6 L 118.8 77.4 L 170.6 77.4\" id=\"77,38\"></path><path d=\"M 256.7 159.9 L 256.7 92.7 L 289.4 92.7\" id=\"76,37\"></path><path d=\"M 261.1 227.2 L 261.1 107.9 L 381.1 107.9\" id=\"75,36\"></path><path d=\"M 362.2 130.9 L 362.2 123.2 L 426.6 123.2\" id=\"67,35\"></path><path d=\"M 362.2 130.9 L 362.2 138.5 L 410.2 138.5\" id=\"67,34\"></path><path d=\"M 377.7 168.1 L 377.7 153.8 L 430.7 153.8\" id=\"66,33\"></path><path d=\"M 379.8 182.4 L 379.8 169.0 L 431.3 169.0\" id=\"61,32\"></path><path d=\"M 379.8 195.8 L 379.8 184.3 L 415.9 184.3\" id=\"53,31\"></path><path d=\"M 389.6 207.2 L 389.6 199.6 L 456.1 199.6\" id=\"46,30\"></path><path d=\"M 389.6 207.2 L 389.6 214.9 L 457.6 214.9\" id=\"46,29\"></path><path d=\"M 360.0 241.6 L 360.0 230.1 L 427.2 230.1\" id=\"65,28\"></path><path d=\"M 395.5 253.1 L 395.5 245.4 L 437.3 245.4\" id=\"60,27\"></path><path d=\"M 395.5 253.1 L 395.5 260.7 L 423.2 260.7\" id=\"60,26\"></path><path d=\"M 389.0 287.4 L 389.0 276.0 L 438.9 276.0\" id=\"59,25\"></path><path d=\"M 415.0 298.9 L 415.0 291.3 L 451.6 291.3\" id=\"52,24\"></path><path d=\"M 415.0 298.9 L 415.0 306.5 L 440.1 306.5\" id=\"52,23\"></path><path d=\"M 372.0 336.1 L 372.0 321.8 L 430.9 321.8\" id=\"58,22\"></path><path d=\"M 395.3 350.5 L 395.3 337.1 L 437.9 337.1\" id=\"51,21\"></path><path d=\"M 395.3 363.8 L 395.3 352.4 L 459.8 352.4\" id=\"45,20\"></path><path d=\"M 397.6 375.3 L 397.6 367.6 L 444.1 367.6\" id=\"41,19\"></path><path d=\"M 397.6 375.3 L 397.6 382.9 L 444.4 382.9\" id=\"41,18\"></path><path d=\"M 449.6 423.0 L 449.6 398.2 L 541.4 398.2\" id=\"69,17\"></path><path d=\"M 462.9 424.9 L 462.9 413.5 L 520.6 413.5\" id=\"57,16\"></path><path d=\"M 485.2 436.4 L 485.2 428.7 L 545.3 428.7\" id=\"50,15\"></path><path d=\"M 485.2 436.4 L 485.2 444.0 L 553.9 444.0\" id=\"50,14\"></path><path d=\"M 481.1 470.8 L 481.1 459.3 L 537.5 459.3\" id=\"56,13\"></path><path d=\"M 488.0 482.2 L 488.0 474.6 L 514.6 474.6\" id=\"49,12\"></path><path d=\"M 488.0 482.2 L 488.0 489.9 L 513.6 489.9\" id=\"49,11\"></path><path d=\"M 457.7 536.4 L 457.7 505.1 L 555.1 505.1\" id=\"68,10\"></path><path d=\"M 499.8 533.8 L 499.8 520.4 L 539.9 520.4\" id=\"55,9\"></path><path d=\"M 520.6 547.1 L 520.6 535.7 L 545.5 535.7\" id=\"48,8\"></path><path d=\"M 522.2 558.6 L 522.2 551.0 L 602.4 551.0\" id=\"44,7\"></path><path d=\"M 522.2 558.6 L 522.2 566.2 L 590.1 566.2\" id=\"44,6\"></path><path d=\"M 470.0 601.6 L 470.0 581.5 L 532.8 581.5\" id=\"54,5\"></path><path d=\"M 510.9 604.4 L 510.9 596.8 L 592.8 596.8\" id=\"43,4\"></path><path d=\"M 510.9 604.4 L 510.9 612.1 L 541.9 612.1\" id=\"43,3\"></path><path d=\"M 497.6 638.8 L 497.6 627.3 L 527.2 627.3\" id=\"42,2\"></path><path d=\"M 506.2 650.3 L 506.2 642.6 L 552.9 642.6\" id=\"40,1\"></path><path d=\"M 506.2 650.3 L 506.2 657.9 L 525.6 657.9\" id=\"40,0\"></path></g><g class=\"toytree-AlignEdges\" style=\"stroke:rgb(66.3%,66.3%,66.3%);stroke-dasharray:2, 4;stroke-linecap:round;stroke-opacity:1.0;stroke-width:2\"><path d=\"M 602.4 657.9 L 525.6 657.9\"></path><path d=\"M 602.4 642.6 L 552.9 642.6\"></path><path d=\"M 602.4 627.3 L 527.2 627.3\"></path><path d=\"M 602.4 612.1 L 541.9 612.1\"></path><path d=\"M 602.4 596.8 L 592.8 596.8\"></path><path d=\"M 602.4 581.5 L 532.8 581.5\"></path><path d=\"M 602.4 566.2 L 590.1 566.2\"></path><path d=\"M 602.4 551.0 L 602.4 551.0\"></path><path d=\"M 602.4 535.7 L 545.5 535.7\"></path><path d=\"M 602.4 520.4 L 539.9 520.4\"></path><path d=\"M 602.4 505.1 L 555.1 505.1\"></path><path d=\"M 602.4 489.9 L 513.6 489.9\"></path><path d=\"M 602.4 474.6 L 514.6 474.6\"></path><path d=\"M 602.4 459.3 L 537.5 459.3\"></path><path d=\"M 602.4 444.0 L 553.9 444.0\"></path><path d=\"M 602.4 428.7 L 545.3 428.7\"></path><path d=\"M 602.4 413.5 L 520.6 413.5\"></path><path d=\"M 602.4 398.2 L 541.4 398.2\"></path><path d=\"M 602.4 382.9 L 444.4 382.9\"></path><path d=\"M 602.4 367.6 L 444.1 367.6\"></path><path d=\"M 602.4 352.4 L 459.8 352.4\"></path><path d=\"M 602.4 337.1 L 437.9 337.1\"></path><path d=\"M 602.4 321.8 L 430.9 321.8\"></path><path d=\"M 602.4 306.5 L 440.1 306.5\"></path><path d=\"M 602.4 291.3 L 451.6 291.3\"></path><path d=\"M 602.4 276.0 L 438.9 276.0\"></path><path d=\"M 602.4 260.7 L 423.2 260.7\"></path><path d=\"M 602.4 245.4 L 437.3 245.4\"></path><path d=\"M 602.4 230.1 L 427.2 230.1\"></path><path d=\"M 602.4 214.9 L 457.6 214.9\"></path><path d=\"M 602.4 199.6 L 456.1 199.6\"></path><path d=\"M 602.4 184.3 L 415.9 184.3\"></path><path d=\"M 602.4 169.0 L 431.3 169.0\"></path><path d=\"M 602.4 153.8 L 430.7 153.8\"></path><path d=\"M 602.4 138.5 L 410.2 138.5\"></path><path d=\"M 602.4 123.2 L 426.6 123.2\"></path><path d=\"M 602.4 107.9 L 381.1 107.9\"></path><path d=\"M 602.4 92.7 L 289.4 92.7\"></path><path d=\"M 602.4 77.4 L 170.6 77.4\"></path><path d=\"M 602.4 62.1 L 118.8 62.1\"></path></g><g class=\"toytree-TipLabels\" style=\"fill:rgb(14.9%,14.9%,14.9%);fill-opacity:1.0;font-family:helvetica;font-size:11px;font-weight:normal;stroke:none;white-space:pre\"><g transform=\"translate(602.43,657.89)rotate(0)\"><text x=\"15.00\" y=\"2.81\" style=\"\">Mycoplasmopsis glycophila</text></g><g transform=\"translate(602.43,642.62)rotate(0)\"><text x=\"15.00\" y=\"2.81\" style=\"\">Mycoplasmopsis gallopavonis</text></g><g transform=\"translate(602.43,627.34)rotate(0)\"><text x=\"15.00\" y=\"2.81\" style=\"\">Mycoplasmopsis gallinacea</text></g><g transform=\"translate(602.43,612.06)rotate(0)\"><text x=\"15.00\" y=\"2.81\" style=\"\">Mycoplasmopsis pullorum</text></g><g transform=\"translate(602.43,596.79)rotate(0)\"><text x=\"15.00\" y=\"2.81\" style=\"\">Mycoplasmopsis anatis</text></g><g transform=\"translate(602.43,581.51)rotate(0)\"><text x=\"15.00\" y=\"2.81\" style=\"\">Mycoplasmopsis verecunda</text></g><g transform=\"translate(602.43,566.23)rotate(0)\"><text x=\"15.00\" y=\"2.81\" style=\"\">Mycoplasmopsis citelli</text></g><g transform=\"translate(602.43,550.96)rotate(0)\"><text x=\"15.00\" y=\"2.81\" style=\"\">Mycoplasmopsis cricetuli ATCC 35279</text></g><g transform=\"translate(602.43,535.68)rotate(0)\"><text x=\"15.00\" y=\"2.81\" style=\"\">Mycoplasmopsis columboralis</text></g><g transform=\"translate(602.43,520.40)rotate(0)\"><text x=\"15.00\" y=\"2.81\" style=\"\">Mycoplasmopsis sturni DSM 22021</text></g><g transform=\"translate(602.43,505.13)rotate(0)\"><text x=\"15.00\" y=\"2.81\" style=\"\">Mycoplasmopsis synoviae</text></g><g transform=\"translate(602.43,489.85)rotate(0)\"><text x=\"15.00\" y=\"2.81\" style=\"\">Mycoplasmopsis edwardii</text></g><g transform=\"translate(602.43,474.57)rotate(0)\"><text x=\"15.00\" y=\"2.81\" style=\"\">Mycoplasmopsis canis</text></g><g transform=\"translate(602.43,459.30)rotate(0)\"><text x=\"15.00\" y=\"2.81\" style=\"\">Mycoplasmopsis cynos C142</text></g><g transform=\"translate(602.43,444.02)rotate(0)\"><text x=\"15.00\" y=\"2.81\" style=\"\">Mycoplasmopsis mustelae</text></g><g transform=\"translate(602.43,428.74)rotate(0)\"><text x=\"15.00\" y=\"2.81\" style=\"\">Mycoplasmopsis felis</text></g><g transform=\"translate(602.43,413.47)rotate(0)\"><text x=\"15.00\" y=\"2.81\" style=\"\">Mycoplasmopsis bovirhinis</text></g><g transform=\"translate(602.43,398.19)rotate(0)\"><text x=\"15.00\" y=\"2.81\" style=\"\">Mycoplasmopsis alligatoris A21JP2</text></g><g transform=\"translate(602.43,382.91)rotate(0)\"><text x=\"15.00\" y=\"2.81\" style=\"\">Mycoplasmopsis mucosicanis</text></g><g transform=\"translate(602.43,367.64)rotate(0)\"><text x=\"15.00\" y=\"2.81\" style=\"\">Mycoplasmopsis bovigenitalium</text></g><g transform=\"translate(602.43,352.36)rotate(0)\"><text x=\"15.00\" y=\"2.81\" style=\"\">Mycoplasmopsis phocirhinis</text></g><g transform=\"translate(602.43,337.09)rotate(0)\"><text x=\"15.00\" y=\"2.81\" style=\"\">Mycoplasmopsis californica</text></g><g transform=\"translate(602.43,321.81)rotate(0)\"><text x=\"15.00\" y=\"2.81\" style=\"\">Mycoplasmopsis opalescens ATCC 27921</text></g><g transform=\"translate(602.43,306.53)rotate(0)\"><text x=\"15.00\" y=\"2.81\" style=\"\">Mycoplasmopsis agalactiae</text></g><g transform=\"translate(602.43,291.26)rotate(0)\"><text x=\"15.00\" y=\"2.81\" style=\"\">Mycoplasmopsis bovis</text></g><g transform=\"translate(602.43,275.98)rotate(0)\"><text x=\"15.00\" y=\"2.81\" style=\"\">Mycoplasmopsis primatum ATCC 25948</text></g><g transform=\"translate(602.43,260.70)rotate(0)\"><text x=\"15.00\" y=\"2.81\" style=\"\">Mycoplasmopsis fermentans M64</text></g><g transform=\"translate(602.43,245.43)rotate(0)\"><text x=\"15.00\" y=\"2.81\" style=\"\">Mycoplasmopsis caviae</text></g><g transform=\"translate(602.43,230.15)rotate(0)\"><text x=\"15.00\" y=\"2.81\" style=\"\">Mycoplasmopsis lipofaciens ATCC 35015</text></g><g transform=\"translate(602.43,214.87)rotate(0)\"><text x=\"15.00\" y=\"2.81\" style=\"\">Mycoplasmopsis meleagridis</text></g><g transform=\"translate(602.43,199.60)rotate(0)\"><text x=\"15.00\" y=\"2.81\" style=\"\">Mycoplasmopsis columbinasalis</text></g><g transform=\"translate(602.43,184.32)rotate(0)\"><text x=\"15.00\" y=\"2.81\" style=\"\">Mycoplasmopsis iners ATCC 19705</text></g><g transform=\"translate(602.43,169.04)rotate(0)\"><text x=\"15.00\" y=\"2.81\" style=\"\">Mycoplasmopsis columbina</text></g><g transform=\"translate(602.43,153.77)rotate(0)\"><text x=\"15.00\" y=\"2.81\" style=\"\">Mycoplasmopsis gallinarum DSM 19816</text></g><g transform=\"translate(602.43,138.49)rotate(0)\"><text x=\"15.00\" y=\"2.81\" style=\"\">Mycoplasmopsis felifaucium ATCC 43428</text></g><g transform=\"translate(602.43,123.21)rotate(0)\"><text x=\"15.00\" y=\"2.81\" style=\"\">Mycoplasmopsis maculosa</text></g><g transform=\"translate(602.43,107.94)rotate(0)\"><text x=\"15.00\" y=\"2.81\" style=\"\">Mycoplasmopsis arginini</text></g><g transform=\"translate(602.43,92.66)rotate(0)\"><text x=\"15.00\" y=\"2.81\" style=\"\">Mycoplasmopsis equigenitalium</text></g><g transform=\"translate(602.43,77.38)rotate(0)\"><text x=\"15.00\" y=\"2.81\" style=\"\">Mycoplasmopsis pulmonis</text></g><g transform=\"translate(602.43,62.11)rotate(0)\"><text x=\"15.00\" y=\"2.81\" style=\"\">Mycoplasmopsis agassizii</text></g></g></g></g></g></svg><div class=\"toyplot-behavior\"><script>(function()\n",
       "{\n",
       "var modules={};\n",
       "})();</script></div></div>"
      ]
     },
     "metadata": {},
     "output_type": "display_data"
    }
   ],
   "source": [
    "tre2 = toytree.tree('ksnp_mycoplasmopsis/tree.parsimony.tre')\n",
    "tre2 = tre2.root('GCF_002272945')\n",
    "df = pd.read_csv('data_summary.tsv',sep='\\t',index_col=5)\n",
    "idx = tre2.get_tip_labels()\n",
    "df = df.reindex(index=idx)\n",
    "df = df.loc[idx]\n",
    "tiplabels = list(df['Organism Scientific Name'])\n",
    "\n",
    "canvas, axes, mark = tre2.draw(tip_labels_align=True, layout='r', tip_labels=tiplabels, width=900)\n",
    "#toyplot.pdf.render(canvas, \"tree-plot2.pdf\")"
   ]
  },
  {
   "cell_type": "markdown",
   "id": "1e785330-2f0e-4d1a-b752-aef595aa874f",
   "metadata": {},
   "source": [
    "## fastANI method"
   ]
  },
  {
   "cell_type": "code",
   "execution_count": 93,
   "id": "01884c56-0c23-4a02-aa21-64fe0fd8307f",
   "metadata": {},
   "outputs": [],
   "source": [
    "files=glob.glob('mycoplasmopsis_genomes/**/*.fna')\n",
    "with open('query1.txt','w') as f:\n",
    "    for l in files:\n",
    "        f.writelines(l+'\\n')"
   ]
  },
  {
   "cell_type": "code",
   "execution_count": null,
   "id": "ef39ae3b-2bde-4acf-8c8d-98751736d589",
   "metadata": {},
   "outputs": [],
   "source": [
    "cmd = 'fastANI --ql query1.txt --rl query2.txt -o fastani.out -t 16 --matrix'\n",
    "subprocess.check_output(cmd,shell=True)"
   ]
  },
  {
   "cell_type": "code",
   "execution_count": null,
   "id": "5068cd02-1139-4ab0-9fa3-5280b522f6ee",
   "metadata": {},
   "outputs": [],
   "source": []
  }
 ],
 "metadata": {
  "kernelspec": {
   "display_name": "Python 3 (ipykernel)",
   "language": "python",
   "name": "python3"
  },
  "language_info": {
   "codemirror_mode": {
    "name": "ipython",
    "version": 3
   },
   "file_extension": ".py",
   "mimetype": "text/x-python",
   "name": "python",
   "nbconvert_exporter": "python",
   "pygments_lexer": "ipython3",
   "version": "3.10.12"
  }
 },
 "nbformat": 4,
 "nbformat_minor": 5
}
