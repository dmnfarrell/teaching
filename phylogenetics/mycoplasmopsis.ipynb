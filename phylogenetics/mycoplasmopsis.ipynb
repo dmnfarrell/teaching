{
 "cells": [
  {
   "cell_type": "markdown",
   "id": "283d17ca-70db-4b35-9252-4df8ff6a1a6a",
   "metadata": {},
   "source": [
    "# mycoplasmopsis phylogeny \n",
    "\n",
    "orthodb query: https://www.orthodb.org/?level=&species=&query=6927at2093\n",
    "\n"
   ]
  },
  {
   "cell_type": "code",
   "execution_count": 1,
   "id": "88f72100-1c96-4dce-86b0-7baf7f902f33",
   "metadata": {},
   "outputs": [],
   "source": [
    "import os,sys,subprocess,glob,re,shutil\n",
    "import json\n",
    "import numpy as np\n",
    "import pandas as pd\n",
    "import pylab as plt\n",
    "from importlib import reload\n",
    "from Bio import SeqIO\n",
    "from Bio.SeqRecord import SeqRecord\n",
    "pd.options.display.max_rows = 200\n",
    "pd.set_option('display.width', 1000)"
   ]
  },
  {
   "cell_type": "code",
   "execution_count": 2,
   "id": "ccc88018-93c2-49f3-b0c8-2c58c69656e9",
   "metadata": {},
   "outputs": [],
   "source": [
    "%load_ext rpy2.ipython"
   ]
  },
  {
   "cell_type": "code",
   "execution_count": 3,
   "id": "5e747436-2ef9-47c2-84e0-04e3bea1bef8",
   "metadata": {},
   "outputs": [],
   "source": [
    "recs = list(SeqIO.parse('mycoplasmopsis_S20.faa',format='fasta'))"
   ]
  },
  {
   "cell_type": "code",
   "execution_count": 62,
   "id": "6b272653-b9de-4aa7-9394-9ad1c3ec622a",
   "metadata": {},
   "outputs": [
    {
     "data": {
      "text/plain": [
       "93"
      ]
     },
     "execution_count": 62,
     "metadata": {},
     "output_type": "execute_result"
    }
   ],
   "source": [
    "#convert orthodb format to get species name only\n",
    "new = []\n",
    "found = []\n",
    "for r in recs:\n",
    "    x = r.description    \n",
    "    data = json.loads(x.split(r.id)[1])     \n",
    "    org = data['organism_name'].replace(' ','_')    \n",
    "    if org in found:\n",
    "        continue\n",
    "    found.append(org)\n",
    "    new.append(SeqRecord(id=org,seq=r.seq))\n",
    "SeqIO.write(new,'mycoplasmopsis_S20_org.faa','fasta')"
   ]
  },
  {
   "cell_type": "code",
   "execution_count": 130,
   "id": "f4311aa1-d1c8-414a-bbca-79828686f0c1",
   "metadata": {},
   "outputs": [
    {
     "data": {
      "text/html": [
       "<div class=\"toyplot\" id=\"taf55a570abb94c0a8ccbee1f840df4e5\" style=\"text-align:center\"><svg class=\"toyplot-canvas-Canvas\" xmlns:toyplot=\"http://www.sandia.gov/toyplot\" xmlns:xlink=\"http://www.w3.org/1999/xlink\" xmlns=\"http://www.w3.org/2000/svg\" width=\"900.0px\" height=\"1000.0px\" viewBox=\"0 0 900.0 1000.0\" preserveAspectRatio=\"xMidYMid meet\" style=\"background-color:transparent;border-color:#292724;border-style:none;border-width:1.0;fill:rgb(16.1%,15.3%,14.1%);fill-opacity:1.0;font-family:Helvetica;font-size:12px;opacity:1.0;stroke:rgb(16.1%,15.3%,14.1%);stroke-opacity:1.0;stroke-width:1.0\" id=\"td5bb72d9695643288c11d7691d26400d\"><g class=\"toyplot-coordinates-Cartesian\" id=\"td644bf3c988b4e4db61ebe2b5d855fef\"><clipPath id=\"t632f75c2067846668f2b6d014b58a1b7\"><rect x=\"30.0\" y=\"30.0\" width=\"840.0\" height=\"940.0\"></rect></clipPath><g clip-path=\"url(#t632f75c2067846668f2b6d014b58a1b7)\"><g class=\"toytree-mark-Toytree\" id=\"tfe3edfe9cb8f4fdd8ab67ff149b4d892\"><g class=\"toytree-Edges\" style=\"fill:none;stroke:rgb(14.9%,14.9%,14.9%);stroke-linecap:round;stroke-opacity:1;stroke-width:2\"><path d=\"M 51.4 94.9 L 51.4 127.6 L 125.1 127.6\" id=\"184,183\"></path><path d=\"M 125.1 127.6 L 125.1 90.8 L 293.5 90.8\" id=\"183,182\"></path><path d=\"M 125.1 127.6 L 125.1 164.5 L 184.1 164.5\" id=\"183,181\"></path><path d=\"M 293.5 90.8 L 293.5 76.5 L 365.3 76.5\" id=\"182,180\"></path><path d=\"M 293.5 90.8 L 293.5 105.1 L 322.9 105.1\" id=\"182,179\"></path><path d=\"M 184.1 164.5 L 184.1 200.1 L 285.2 200.1\" id=\"181,178\"></path><path d=\"M 322.9 105.1 L 322.9 95.6 L 467.3 95.6\" id=\"179,177\"></path><path d=\"M 322.9 105.1 L 322.9 114.6 L 364.6 114.6\" id=\"179,176\"></path><path d=\"M 285.2 200.1 L 285.2 159.8 L 399.0 159.8\" id=\"178,175\"></path><path d=\"M 285.2 200.1 L 285.2 240.3 L 372.3 240.3\" id=\"178,174\"></path><path d=\"M 399.0 159.8 L 399.0 145.5 L 426.9 145.5\" id=\"175,173\"></path><path d=\"M 399.0 159.8 L 399.0 174.1 L 399.0 174.1\" id=\"175,172\"></path><path d=\"M 372.3 240.3 L 372.3 200.2 L 419.4 200.2\" id=\"174,171\"></path><path d=\"M 372.3 240.3 L 372.3 280.4 L 382.9 280.4\" id=\"174,170\"></path><path d=\"M 426.9 145.5 L 426.9 152.7 L 429.7 152.7\" id=\"173,169\"></path><path d=\"M 399.0 174.1 L 399.0 181.2 L 399.7 181.2\" id=\"172,168\"></path><path d=\"M 382.9 280.4 L 382.9 346.3 L 389.7 346.3\" id=\"170,167\"></path><path d=\"M 389.7 346.3 L 389.7 238.5 L 434.8 238.5\" id=\"167,166\"></path><path d=\"M 389.7 346.3 L 389.7 454.2 L 400.2 454.2\" id=\"167,165\"></path><path d=\"M 434.8 238.5 L 434.8 252.9 L 445.2 252.9\" id=\"166,164\"></path><path d=\"M 400.2 454.2 L 400.2 420.3 L 422.2 420.3\" id=\"165,163\"></path><path d=\"M 400.2 454.2 L 400.2 488.1 L 416.5 488.1\" id=\"165,162\"></path><path d=\"M 445.2 252.9 L 445.2 272.2 L 457.5 272.2\" id=\"164,161\"></path><path d=\"M 422.2 420.3 L 422.2 409.6 L 438.3 409.6\" id=\"163,160\"></path><path d=\"M 422.2 420.3 L 422.2 431.0 L 440.1 431.0\" id=\"163,159\"></path><path d=\"M 416.5 488.1 L 416.5 523.8 L 426.2 523.8\" id=\"162,158\"></path><path d=\"M 457.5 272.2 L 457.5 301.4 L 459.0 301.4\" id=\"161,157\"></path><path d=\"M 440.1 431.0 L 440.1 438.1 L 471.6 438.1\" id=\"159,156\"></path><path d=\"M 426.2 523.8 L 426.2 478.3 L 443.3 478.3\" id=\"158,155\"></path><path d=\"M 426.2 523.8 L 426.2 569.3 L 459.8 569.3\" id=\"158,154\"></path><path d=\"M 459.0 301.4 L 459.0 268.0 L 465.5 268.0\" id=\"157,153\"></path><path d=\"M 459.0 301.4 L 459.0 334.7 L 464.9 334.7\" id=\"157,152\"></path><path d=\"M 443.3 478.3 L 443.3 466.7 L 462.1 466.7\" id=\"155,151\"></path><path d=\"M 443.3 478.3 L 443.3 489.9 L 462.1 489.9\" id=\"155,150\"></path><path d=\"M 459.8 569.3 L 459.8 610.1 L 470.6 610.1\" id=\"154,149\"></path><path d=\"M 465.5 268.0 L 465.5 257.3 L 467.7 257.3\" id=\"153,148\"></path><path d=\"M 465.5 268.0 L 465.5 278.7 L 465.5 278.7\" id=\"153,147\"></path><path d=\"M 464.9 334.7 L 464.9 309.1 L 464.9 309.1\" id=\"152,146\"></path><path d=\"M 464.9 334.7 L 464.9 360.2 L 469.3 360.2\" id=\"152,145\"></path><path d=\"M 462.1 489.9 L 462.1 498.8 L 468.7 498.8\" id=\"150,144\"></path><path d=\"M 470.6 610.1 L 470.6 545.2 L 473.9 545.2\" id=\"149,143\"></path><path d=\"M 470.6 610.1 L 470.6 675.0 L 497.0 675.0\" id=\"149,142\"></path><path d=\"M 465.5 278.7 L 465.5 285.9 L 476.9 285.9\" id=\"147,141\"></path><path d=\"M 464.9 309.1 L 464.9 318.0 L 466.7 318.0\" id=\"146,140\"></path><path d=\"M 469.3 360.2 L 469.3 372.7 L 475.4 372.7\" id=\"145,139\"></path><path d=\"M 468.7 498.8 L 468.7 507.1 L 471.7 507.1\" id=\"144,138\"></path><path d=\"M 473.9 545.2 L 473.9 552.3 L 528.0 552.3\" id=\"143,137\"></path><path d=\"M 497.0 675.0 L 497.0 588.4 L 506.4 588.4\" id=\"142,136\"></path><path d=\"M 497.0 675.0 L 497.0 761.6 L 506.0 761.6\" id=\"142,135\"></path><path d=\"M 466.7 318.0 L 466.7 326.3 L 469.5 326.3\" id=\"140,134\"></path><path d=\"M 475.4 372.7 L 475.4 362.0 L 477.5 362.0\" id=\"139,133\"></path><path d=\"M 475.4 372.7 L 475.4 383.4 L 480.0 383.4\" id=\"139,132\"></path><path d=\"M 471.7 507.1 L 471.7 514.3 L 488.4 514.3\" id=\"138,131\"></path><path d=\"M 506.4 588.4 L 506.4 610.1 L 509.2 610.1\" id=\"136,130\"></path><path d=\"M 506.0 761.6 L 506.0 733.1 L 527.2 733.1\" id=\"135,129\"></path><path d=\"M 506.0 761.6 L 506.0 790.1 L 514.7 790.1\" id=\"135,128\"></path><path d=\"M 469.5 326.3 L 469.5 333.5 L 469.5 333.5\" id=\"134,127\"></path><path d=\"M 480.0 383.4 L 480.0 390.6 L 499.4 390.6\" id=\"132,126\"></path><path d=\"M 509.2 610.1 L 509.2 584.5 L 511.8 584.5\" id=\"130,125\"></path><path d=\"M 509.2 610.1 L 509.2 635.8 L 513.0 635.8\" id=\"130,124\"></path><path d=\"M 514.7 790.1 L 514.7 752.2 L 538.7 752.2\" id=\"128,123\"></path><path d=\"M 514.7 790.1 L 514.7 827.9 L 537.5 827.9\" id=\"128,122\"></path><path d=\"M 511.8 584.5 L 511.8 592.8 L 515.9 592.8\" id=\"125,121\"></path><path d=\"M 513.0 635.8 L 513.0 619.0 L 518.8 619.0\" id=\"124,120\"></path><path d=\"M 513.0 635.8 L 513.0 652.6 L 518.4 652.6\" id=\"124,119\"></path><path d=\"M 537.5 827.9 L 537.5 783.0 L 545.5 783.0\" id=\"122,118\"></path><path d=\"M 537.5 827.9 L 537.5 872.9 L 537.5 872.9\" id=\"122,117\"></path><path d=\"M 515.9 592.8 L 515.9 599.9 L 520.4 599.9\" id=\"121,116\"></path><path d=\"M 518.4 652.6 L 518.4 671.9 L 522.5 671.9\" id=\"119,115\"></path><path d=\"M 545.5 783.0 L 545.5 771.2 L 547.7 771.2\" id=\"118,114\"></path><path d=\"M 545.5 783.0 L 545.5 794.7 L 548.4 794.7\" id=\"118,113\"></path><path d=\"M 537.5 872.9 L 537.5 850.9 L 540.1 850.9\" id=\"117,112\"></path><path d=\"M 537.5 872.9 L 537.5 894.9 L 547.1 894.9\" id=\"117,111\"></path><path d=\"M 522.5 671.9 L 522.5 651.1 L 531.7 651.1\" id=\"115,110\"></path><path d=\"M 522.5 671.9 L 522.5 692.7 L 530.8 692.7\" id=\"115,109\"></path><path d=\"M 548.4 794.7 L 548.4 803.9 L 555.5 803.9\" id=\"113,108\"></path><path d=\"M 540.1 850.9 L 540.1 859.2 L 550.1 859.2\" id=\"112,107\"></path><path d=\"M 547.1 894.9 L 547.1 909.2 L 549.3 909.2\" id=\"111,106\"></path><path d=\"M 531.7 651.1 L 531.7 659.4 L 536.8 659.4\" id=\"110,105\"></path><path d=\"M 530.8 692.7 L 530.8 704.6 L 537.4 704.6\" id=\"109,104\"></path><path d=\"M 555.5 803.9 L 555.5 812.8 L 562.5 812.8\" id=\"108,103\"></path><path d=\"M 550.1 859.2 L 550.1 866.4 L 555.2 866.4\" id=\"107,102\"></path><path d=\"M 549.3 909.2 L 549.3 894.9 L 559.3 894.9\" id=\"106,101\"></path><path d=\"M 549.3 909.2 L 549.3 923.5 L 575.4 923.5\" id=\"106,100\"></path><path d=\"M 536.8 659.4 L 536.8 666.5 L 539.3 666.5\" id=\"105,99\"></path><path d=\"M 537.4 704.6 L 537.4 695.1 L 543.1 695.1\" id=\"104,98\"></path><path d=\"M 537.4 704.6 L 537.4 714.1 L 537.4 714.1\" id=\"104,97\"></path><path d=\"M 562.5 812.8 L 562.5 821.2 L 568.0 821.2\" id=\"103,96\"></path><path d=\"M 575.4 923.5 L 575.4 914.0 L 575.4 914.0\" id=\"100,95\"></path><path d=\"M 575.4 923.5 L 575.4 933.0 L 577.6 933.0\" id=\"100,94\"></path><path d=\"M 568.0 821.2 L 568.0 828.3 L 581.3 828.3\" id=\"96,93\"></path><path d=\"M 51.4 94.9 L 51.4 62.3 L 125.1 62.3\" id=\"184,92\"></path><path d=\"M 365.3 76.5 L 365.3 71.8 L 399.4 71.8\" id=\"180,91\"></path><path d=\"M 365.3 76.5 L 365.3 81.3 L 392.4 81.3\" id=\"180,90\"></path><path d=\"M 467.3 95.6 L 467.3 90.8 L 474.7 90.8\" id=\"177,89\"></path><path d=\"M 467.3 95.6 L 467.3 100.3 L 470.3 100.3\" id=\"177,88\"></path><path d=\"M 364.6 114.6 L 364.6 109.8 L 431.9 109.8\" id=\"176,87\"></path><path d=\"M 364.6 114.6 L 364.6 119.4 L 431.6 119.4\" id=\"176,86\"></path><path d=\"M 184.1 164.5 L 184.1 128.9 L 269.1 128.9\" id=\"181,85\"></path><path d=\"M 426.9 145.5 L 426.9 138.4 L 429.2 138.4\" id=\"173,84\"></path><path d=\"M 429.7 152.7 L 429.7 147.9 L 429.7 147.9\" id=\"169,83\"></path><path d=\"M 429.7 152.7 L 429.7 157.4 L 429.7 157.4\" id=\"169,82\"></path><path d=\"M 399.0 174.1 L 399.0 166.9 L 427.1 166.9\" id=\"172,81\"></path><path d=\"M 399.7 181.2 L 399.7 176.5 L 399.7 176.5\" id=\"168,80\"></path><path d=\"M 399.7 181.2 L 399.7 186.0 L 399.7 186.0\" id=\"168,79\"></path><path d=\"M 419.4 200.2 L 419.4 195.5 L 475.4 195.5\" id=\"171,78\"></path><path d=\"M 419.4 200.2 L 419.4 205.0 L 451.3 205.0\" id=\"171,77\"></path><path d=\"M 382.9 280.4 L 382.9 214.5 L 463.3 214.5\" id=\"170,76\"></path><path d=\"M 434.8 238.5 L 434.8 224.0 L 471.8 224.0\" id=\"166,75\"></path><path d=\"M 445.2 252.9 L 445.2 233.5 L 499.6 233.5\" id=\"164,74\"></path><path d=\"M 457.5 272.2 L 457.5 243.1 L 467.4 243.1\" id=\"161,73\"></path><path d=\"M 467.7 257.3 L 467.7 252.6 L 472.3 252.6\" id=\"148,72\"></path><path d=\"M 467.7 257.3 L 467.7 262.1 L 469.9 262.1\" id=\"148,71\"></path><path d=\"M 465.5 278.7 L 465.5 271.6 L 469.9 271.6\" id=\"147,70\"></path><path d=\"M 476.9 285.9 L 476.9 281.1 L 479.1 281.1\" id=\"141,69\"></path><path d=\"M 476.9 285.9 L 476.9 290.6 L 476.9 290.6\" id=\"141,68\"></path><path d=\"M 464.9 309.1 L 464.9 300.2 L 480.8 300.2\" id=\"146,67\"></path><path d=\"M 466.7 318.0 L 466.7 309.7 L 482.9 309.7\" id=\"140,66\"></path><path d=\"M 469.5 326.3 L 469.5 319.2 L 476.0 319.2\" id=\"134,65\"></path><path d=\"M 469.5 333.5 L 469.5 328.7 L 494.4 328.7\" id=\"127,64\"></path><path d=\"M 469.5 333.5 L 469.5 338.2 L 482.6 338.2\" id=\"127,63\"></path><path d=\"M 469.3 360.2 L 469.3 347.7 L 483.6 347.7\" id=\"145,62\"></path><path d=\"M 477.5 362.0 L 477.5 357.3 L 486.2 357.3\" id=\"133,61\"></path><path d=\"M 477.5 362.0 L 477.5 366.8 L 517.5 366.8\" id=\"133,60\"></path><path d=\"M 480.0 383.4 L 480.0 376.3 L 494.0 376.3\" id=\"132,59\"></path><path d=\"M 499.4 390.6 L 499.4 385.8 L 499.4 385.8\" id=\"126,58\"></path><path d=\"M 499.4 390.6 L 499.4 395.3 L 499.4 395.3\" id=\"126,57\"></path><path d=\"M 438.3 409.6 L 438.3 404.8 L 445.9 404.8\" id=\"160,56\"></path><path d=\"M 438.3 409.6 L 438.3 414.4 L 450.3 414.4\" id=\"160,55\"></path><path d=\"M 440.1 431.0 L 440.1 423.9 L 466.0 423.9\" id=\"159,54\"></path><path d=\"M 471.6 438.1 L 471.6 433.4 L 484.2 433.4\" id=\"156,53\"></path><path d=\"M 471.6 438.1 L 471.6 442.9 L 499.6 442.9\" id=\"156,52\"></path><path d=\"M 416.5 488.1 L 416.5 452.4 L 460.9 452.4\" id=\"162,51\"></path><path d=\"M 462.1 466.7 L 462.1 461.9 L 486.5 461.9\" id=\"151,50\"></path><path d=\"M 462.1 466.7 L 462.1 471.5 L 487.2 471.5\" id=\"151,49\"></path><path d=\"M 462.1 489.9 L 462.1 481.0 L 536.0 481.0\" id=\"150,48\"></path><path d=\"M 468.7 498.8 L 468.7 490.5 L 468.7 490.5\" id=\"144,47\"></path><path d=\"M 471.7 507.1 L 471.7 500.0 L 485.7 500.0\" id=\"138,46\"></path><path d=\"M 488.4 514.3 L 488.4 509.5 L 503.3 509.5\" id=\"131,45\"></path><path d=\"M 488.4 514.3 L 488.4 519.0 L 521.6 519.0\" id=\"131,44\"></path><path d=\"M 459.8 569.3 L 459.8 528.5 L 560.2 528.5\" id=\"154,43\"></path><path d=\"M 473.9 545.2 L 473.9 538.1 L 535.0 538.1\" id=\"143,42\"></path><path d=\"M 528.0 552.3 L 528.0 547.6 L 549.4 547.6\" id=\"137,41\"></path><path d=\"M 528.0 552.3 L 528.0 557.1 L 532.6 557.1\" id=\"137,40\"></path><path d=\"M 506.4 588.4 L 506.4 566.6 L 541.2 566.6\" id=\"136,39\"></path><path d=\"M 511.8 584.5 L 511.8 576.1 L 520.2 576.1\" id=\"125,38\"></path><path d=\"M 515.9 592.8 L 515.9 585.6 L 523.3 585.6\" id=\"121,37\"></path><path d=\"M 520.4 599.9 L 520.4 595.2 L 537.8 595.2\" id=\"116,36\"></path><path d=\"M 520.4 599.9 L 520.4 604.7 L 533.0 604.7\" id=\"116,35\"></path><path d=\"M 518.8 619.0 L 518.8 614.2 L 522.9 614.2\" id=\"120,34\"></path><path d=\"M 518.8 619.0 L 518.8 623.7 L 537.0 623.7\" id=\"120,33\"></path><path d=\"M 518.4 652.6 L 518.4 633.2 L 532.2 633.2\" id=\"119,32\"></path><path d=\"M 531.7 651.1 L 531.7 642.7 L 552.4 642.7\" id=\"110,31\"></path><path d=\"M 536.8 659.4 L 536.8 652.3 L 536.8 652.3\" id=\"105,30\"></path><path d=\"M 539.3 666.5 L 539.3 661.8 L 539.3 661.8\" id=\"99,29\"></path><path d=\"M 539.3 666.5 L 539.3 671.3 L 546.3 671.3\" id=\"99,28\"></path><path d=\"M 530.8 692.7 L 530.8 680.8 L 553.2 680.8\" id=\"109,27\"></path><path d=\"M 543.1 695.1 L 543.1 690.3 L 569.2 690.3\" id=\"98,26\"></path><path d=\"M 543.1 695.1 L 543.1 699.8 L 546.0 699.8\" id=\"98,25\"></path><path d=\"M 537.4 714.1 L 537.4 709.4 L 539.7 709.4\" id=\"97,24\"></path><path d=\"M 537.4 714.1 L 537.4 718.9 L 560.9 718.9\" id=\"97,23\"></path><path d=\"M 527.2 733.1 L 527.2 728.4 L 534.9 728.4\" id=\"129,22\"></path><path d=\"M 527.2 733.1 L 527.2 737.9 L 537.3 737.9\" id=\"129,21\"></path><path d=\"M 538.7 752.2 L 538.7 747.4 L 543.4 747.4\" id=\"123,20\"></path><path d=\"M 538.7 752.2 L 538.7 756.9 L 538.7 756.9\" id=\"123,19\"></path><path d=\"M 547.7 771.2 L 547.7 766.5 L 561.0 766.5\" id=\"114,18\"></path><path d=\"M 547.7 771.2 L 547.7 776.0 L 556.6 776.0\" id=\"114,17\"></path><path d=\"M 548.4 794.7 L 548.4 785.5 L 584.8 785.5\" id=\"113,16\"></path><path d=\"M 555.5 803.9 L 555.5 795.0 L 559.2 795.0\" id=\"108,15\"></path><path d=\"M 562.5 812.8 L 562.5 804.5 L 580.9 804.5\" id=\"103,14\"></path><path d=\"M 568.0 821.2 L 568.0 814.0 L 568.0 814.0\" id=\"96,13\"></path><path d=\"M 581.3 828.3 L 581.3 823.5 L 617.8 823.5\" id=\"93,12\"></path><path d=\"M 581.3 828.3 L 581.3 833.1 L 585.5 833.1\" id=\"93,11\"></path><path d=\"M 540.1 850.9 L 540.1 842.6 L 552.8 842.6\" id=\"112,10\"></path><path d=\"M 550.1 859.2 L 550.1 852.1 L 574.1 852.1\" id=\"107,9\"></path><path d=\"M 555.2 866.4 L 555.2 861.6 L 557.3 861.6\" id=\"102,8\"></path><path d=\"M 555.2 866.4 L 555.2 871.1 L 569.9 871.1\" id=\"102,7\"></path><path d=\"M 547.1 894.9 L 547.1 880.6 L 577.5 880.6\" id=\"111,6\"></path><path d=\"M 559.3 894.9 L 559.3 890.2 L 580.5 890.2\" id=\"101,5\"></path><path d=\"M 559.3 894.9 L 559.3 899.7 L 569.0 899.7\" id=\"101,4\"></path><path d=\"M 575.4 914.0 L 575.4 909.2 L 575.4 909.2\" id=\"95,3\"></path><path d=\"M 575.4 914.0 L 575.4 918.7 L 575.4 918.7\" id=\"95,2\"></path><path d=\"M 577.6 933.0 L 577.6 928.2 L 579.8 928.2\" id=\"94,1\"></path><path d=\"M 577.6 933.0 L 577.6 937.7 L 577.6 937.7\" id=\"94,0\"></path></g><g class=\"toytree-AlignEdges\" style=\"stroke:rgb(66.3%,66.3%,66.3%);stroke-dasharray:2, 4;stroke-linecap:round;stroke-opacity:1.0;stroke-width:2\"><path d=\"M 617.8 937.7 L 577.6 937.7\"></path><path d=\"M 617.8 928.2 L 579.8 928.2\"></path><path d=\"M 617.8 918.7 L 575.4 918.7\"></path><path d=\"M 617.8 909.2 L 575.4 909.2\"></path><path d=\"M 617.8 899.7 L 569.0 899.7\"></path><path d=\"M 617.8 890.2 L 580.5 890.2\"></path><path d=\"M 617.8 880.6 L 577.5 880.6\"></path><path d=\"M 617.8 871.1 L 569.9 871.1\"></path><path d=\"M 617.8 861.6 L 557.3 861.6\"></path><path d=\"M 617.8 852.1 L 574.1 852.1\"></path><path d=\"M 617.8 842.6 L 552.8 842.6\"></path><path d=\"M 617.8 833.1 L 585.5 833.1\"></path><path d=\"M 617.8 823.5 L 617.8 823.5\"></path><path d=\"M 617.8 814.0 L 568.0 814.0\"></path><path d=\"M 617.8 804.5 L 580.9 804.5\"></path><path d=\"M 617.8 795.0 L 559.2 795.0\"></path><path d=\"M 617.8 785.5 L 584.8 785.5\"></path><path d=\"M 617.8 776.0 L 556.6 776.0\"></path><path d=\"M 617.8 766.5 L 561.0 766.5\"></path><path d=\"M 617.8 756.9 L 538.7 756.9\"></path><path d=\"M 617.8 747.4 L 543.4 747.4\"></path><path d=\"M 617.8 737.9 L 537.3 737.9\"></path><path d=\"M 617.8 728.4 L 534.9 728.4\"></path><path d=\"M 617.8 718.9 L 560.9 718.9\"></path><path d=\"M 617.8 709.4 L 539.7 709.4\"></path><path d=\"M 617.8 699.8 L 546.0 699.8\"></path><path d=\"M 617.8 690.3 L 569.2 690.3\"></path><path d=\"M 617.8 680.8 L 553.2 680.8\"></path><path d=\"M 617.8 671.3 L 546.3 671.3\"></path><path d=\"M 617.8 661.8 L 539.3 661.8\"></path><path d=\"M 617.8 652.3 L 536.8 652.3\"></path><path d=\"M 617.8 642.7 L 552.4 642.7\"></path><path d=\"M 617.8 633.2 L 532.2 633.2\"></path><path d=\"M 617.8 623.7 L 537.0 623.7\"></path><path d=\"M 617.8 614.2 L 522.9 614.2\"></path><path d=\"M 617.8 604.7 L 533.0 604.7\"></path><path d=\"M 617.8 595.2 L 537.8 595.2\"></path><path d=\"M 617.8 585.6 L 523.3 585.6\"></path><path d=\"M 617.8 576.1 L 520.2 576.1\"></path><path d=\"M 617.8 566.6 L 541.2 566.6\"></path><path d=\"M 617.8 557.1 L 532.6 557.1\"></path><path d=\"M 617.8 547.6 L 549.4 547.6\"></path><path d=\"M 617.8 538.1 L 535.0 538.1\"></path><path d=\"M 617.8 528.5 L 560.2 528.5\"></path><path d=\"M 617.8 519.0 L 521.6 519.0\"></path><path d=\"M 617.8 509.5 L 503.3 509.5\"></path><path d=\"M 617.8 500.0 L 485.7 500.0\"></path><path d=\"M 617.8 490.5 L 468.7 490.5\"></path><path d=\"M 617.8 481.0 L 536.0 481.0\"></path><path d=\"M 617.8 471.5 L 487.2 471.5\"></path><path d=\"M 617.8 461.9 L 486.5 461.9\"></path><path d=\"M 617.8 452.4 L 460.9 452.4\"></path><path d=\"M 617.8 442.9 L 499.6 442.9\"></path><path d=\"M 617.8 433.4 L 484.2 433.4\"></path><path d=\"M 617.8 423.9 L 466.0 423.9\"></path><path d=\"M 617.8 414.4 L 450.3 414.4\"></path><path d=\"M 617.8 404.8 L 445.9 404.8\"></path><path d=\"M 617.8 395.3 L 499.4 395.3\"></path><path d=\"M 617.8 385.8 L 499.4 385.8\"></path><path d=\"M 617.8 376.3 L 494.0 376.3\"></path><path d=\"M 617.8 366.8 L 517.5 366.8\"></path><path d=\"M 617.8 357.3 L 486.2 357.3\"></path><path d=\"M 617.8 347.7 L 483.6 347.7\"></path><path d=\"M 617.8 338.2 L 482.6 338.2\"></path><path d=\"M 617.8 328.7 L 494.4 328.7\"></path><path d=\"M 617.8 319.2 L 476.0 319.2\"></path><path d=\"M 617.8 309.7 L 482.9 309.7\"></path><path d=\"M 617.8 300.2 L 480.8 300.2\"></path><path d=\"M 617.8 290.6 L 476.9 290.6\"></path><path d=\"M 617.8 281.1 L 479.1 281.1\"></path><path d=\"M 617.8 271.6 L 469.9 271.6\"></path><path d=\"M 617.8 262.1 L 469.9 262.1\"></path><path d=\"M 617.8 252.6 L 472.3 252.6\"></path><path d=\"M 617.8 243.1 L 467.4 243.1\"></path><path d=\"M 617.8 233.5 L 499.6 233.5\"></path><path d=\"M 617.8 224.0 L 471.8 224.0\"></path><path d=\"M 617.8 214.5 L 463.3 214.5\"></path><path d=\"M 617.8 205.0 L 451.3 205.0\"></path><path d=\"M 617.8 195.5 L 475.4 195.5\"></path><path d=\"M 617.8 186.0 L 399.7 186.0\"></path><path d=\"M 617.8 176.5 L 399.7 176.5\"></path><path d=\"M 617.8 166.9 L 427.1 166.9\"></path><path d=\"M 617.8 157.4 L 429.7 157.4\"></path><path d=\"M 617.8 147.9 L 429.7 147.9\"></path><path d=\"M 617.8 138.4 L 429.2 138.4\"></path><path d=\"M 617.8 128.9 L 269.1 128.9\"></path><path d=\"M 617.8 119.4 L 431.6 119.4\"></path><path d=\"M 617.8 109.8 L 431.9 109.8\"></path><path d=\"M 617.8 100.3 L 470.3 100.3\"></path><path d=\"M 617.8 90.8 L 474.7 90.8\"></path><path d=\"M 617.8 81.3 L 392.4 81.3\"></path><path d=\"M 617.8 71.8 L 399.4 71.8\"></path><path d=\"M 617.8 62.3 L 125.1 62.3\"></path></g><g class=\"toytree-TipLabels\" style=\"fill:rgb(14.9%,14.9%,14.9%);fill-opacity:1.0;font-family:helvetica;font-size:11px;font-weight:normal;stroke:none;white-space:pre\"><g transform=\"translate(617.81,937.74)rotate(0)\"><text x=\"15.00\" y=\"2.81\" style=\"\">Mycoplasma_bovis_8790</text></g><g transform=\"translate(617.81,928.23)rotate(0)\"><text x=\"15.00\" y=\"2.81\" style=\"\">Mycoplasma_bovis_PG45</text></g><g transform=\"translate(617.81,918.71)rotate(0)\"><text x=\"15.00\" y=\"2.81\" style=\"\">Mycoplasma_agalactiae_14628</text></g><g transform=\"translate(617.81,909.19)rotate(0)\"><text x=\"15.00\" y=\"2.81\" style=\"\">Mycoplasma_agalactiae</text></g><g transform=\"translate(617.81,899.68)rotate(0)\"><text x=\"15.00\" y=\"2.81\" style=\"\">Mycoplasma_felifaucium_ATCC_43428</text></g><g transform=\"translate(617.81,890.16)rotate(0)\"><text x=\"15.00\" y=\"2.81\" style=\"\">Mycoplasma_maculosum</text></g><g transform=\"translate(617.81,880.65)rotate(0)\"><text x=\"15.00\" y=\"2.81\" style=\"\">Mycoplasma_primatum_ATCC_25948</text></g><g transform=\"translate(617.81,871.13)rotate(0)\"><text x=\"15.00\" y=\"2.81\" style=\"\">Mycoplasma_iners_ATCC_19705</text></g><g transform=\"translate(617.81,861.61)rotate(0)\"><text x=\"15.00\" y=\"2.81\" style=\"\">Mycoplasma_columbinum</text></g><g transform=\"translate(617.81,852.10)rotate(0)\"><text x=\"15.00\" y=\"2.81\" style=\"\">Mycoplasma_meleagridis_ATCC_25294</text></g><g transform=\"translate(617.81,842.58)rotate(0)\"><text x=\"15.00\" y=\"2.81\" style=\"\">Mycoplasma_columbinasale</text></g><g transform=\"translate(617.81,833.07)rotate(0)\"><text x=\"15.00\" y=\"2.81\" style=\"\">Mycoplasma_bovigenitalium_51080</text></g><g transform=\"translate(617.81,823.55)rotate(0)\"><text x=\"15.00\" y=\"2.81\" style=\"\">Mycoplasma_gallinarum</text></g><g transform=\"translate(617.81,814.03)rotate(0)\"><text x=\"15.00\" y=\"2.81\" style=\"\">Mycoplasma_simbae_ATCC_49888</text></g><g transform=\"translate(617.81,804.52)rotate(0)\"><text x=\"15.00\" y=\"2.81\" style=\"\">Mycoplasma_phocirhinis</text></g><g transform=\"translate(617.81,795.00)rotate(0)\"><text x=\"15.00\" y=\"2.81\" style=\"\">Mycoplasma_mucosicanis</text></g><g transform=\"translate(617.81,785.48)rotate(0)\"><text x=\"15.00\" y=\"2.81\" style=\"\">Mycoplasma_opalescens_ATCC_27921</text></g><g transform=\"translate(617.81,775.97)rotate(0)\"><text x=\"15.00\" y=\"2.81\" style=\"\">Mycoplasma_lipofaciens_ATCC_35015</text></g><g transform=\"translate(617.81,766.45)rotate(0)\"><text x=\"15.00\" y=\"2.81\" style=\"\">Mycoplasma_caviae</text></g><g transform=\"translate(617.81,756.94)rotate(0)\"><text x=\"15.00\" y=\"2.81\" style=\"\">Mycoplasma_anserisalpingitidis</text></g><g transform=\"translate(617.81,747.42)rotate(0)\"><text x=\"15.00\" y=\"2.81\" style=\"\">Mycoplasma_anatis</text></g><g transform=\"translate(617.81,737.90)rotate(0)\"><text x=\"15.00\" y=\"2.81\" style=\"\">Mycoplasma_alligatoris_A21JP2</text></g><g transform=\"translate(617.81,728.39)rotate(0)\"><text x=\"15.00\" y=\"2.81\" style=\"\">Mycoplasma_crocodyli_MP145</text></g><g transform=\"translate(617.81,718.87)rotate(0)\"><text x=\"15.00\" y=\"2.81\" style=\"\">Mycoplasma_cynos_C142</text></g><g transform=\"translate(617.81,709.36)rotate(0)\"><text x=\"15.00\" y=\"2.81\" style=\"\">Mycoplasma_edwardii</text></g><g transform=\"translate(617.81,699.84)rotate(0)\"><text x=\"15.00\" y=\"2.81\" style=\"\">Mycoplasma_canis_UFG4</text></g><g transform=\"translate(617.81,690.32)rotate(0)\"><text x=\"15.00\" y=\"2.81\" style=\"\">Mycoplasma_mustelae</text></g><g transform=\"translate(617.81,680.81)rotate(0)\"><text x=\"15.00\" y=\"2.81\" style=\"\">Mycoplasma_bovirhinis</text></g><g transform=\"translate(617.81,671.29)rotate(0)\"><text x=\"15.00\" y=\"2.81\" style=\"\">Mycoplasma_glycophilum_ATCC_35277</text></g><g transform=\"translate(617.81,661.77)rotate(0)\"><text x=\"15.00\" y=\"2.81\" style=\"\">Mycoplasma_gallopavonis</text></g><g transform=\"translate(617.81,652.26)rotate(0)\"><text x=\"15.00\" y=\"2.81\" style=\"\">Mycoplasma_buteonis</text></g><g transform=\"translate(617.81,642.74)rotate(0)\"><text x=\"15.00\" y=\"2.81\" style=\"\">Mycoplasma_gallinaceum</text></g><g transform=\"translate(617.81,633.23)rotate(0)\"><text x=\"15.00\" y=\"2.81\" style=\"\">Mycoplasma_felis_ATCC_23391</text></g><g transform=\"translate(617.81,623.71)rotate(0)\"><text x=\"15.00\" y=\"2.81\" style=\"\">Mycoplasma_verecundum</text></g><g transform=\"translate(617.81,614.19)rotate(0)\"><text x=\"15.00\" y=\"2.81\" style=\"\">Mycoplasma_nasistruthionis</text></g><g transform=\"translate(617.81,604.68)rotate(0)\"><text x=\"15.00\" y=\"2.81\" style=\"\">Mycoplasma_sturni_DSM_22021</text></g><g transform=\"translate(617.81,595.16)rotate(0)\"><text x=\"15.00\" y=\"2.81\" style=\"\">Mycoplasma_cricetuli_ATCC_35279</text></g><g transform=\"translate(617.81,585.65)rotate(0)\"><text x=\"15.00\" y=\"2.81\" style=\"\">Mycoplasma_columborale</text></g><g transform=\"translate(617.81,576.13)rotate(0)\"><text x=\"15.00\" y=\"2.81\" style=\"\">Mycoplasma_citelli</text></g><g transform=\"translate(617.81,566.61)rotate(0)\"><text x=\"15.00\" y=\"2.81\" style=\"\">Mycoplasma_pullorum</text></g><g transform=\"translate(617.81,557.10)rotate(0)\"><text x=\"15.00\" y=\"2.81\" style=\"\">Mycoplasma_elephantis_ATCC_51980</text></g><g transform=\"translate(617.81,547.58)rotate(0)\"><text x=\"15.00\" y=\"2.81\" style=\"\">Mycoplasma_californicum</text></g><g transform=\"translate(617.81,538.06)rotate(0)\"><text x=\"15.00\" y=\"2.81\" style=\"\">Mycoplasma_synoviae_53</text></g><g transform=\"translate(617.81,528.55)rotate(0)\"><text x=\"15.00\" y=\"2.81\" style=\"\">Mycoplasma_sp._ATU-Cv-508</text></g><g transform=\"translate(617.81,519.03)rotate(0)\"><text x=\"15.00\" y=\"2.81\" style=\"\">Mycoplasma_hyopneumoniae_J</text></g><g transform=\"translate(617.81,509.52)rotate(0)\"><text x=\"15.00\" y=\"2.81\" style=\"\">Mycoplasma_flocculare_ATCC_27399</text></g><g transform=\"translate(617.81,500.00)rotate(0)\"><text x=\"15.00\" y=\"2.81\" style=\"\">Mycoplasma_ovipneumoniae</text></g><g transform=\"translate(617.81,490.48)rotate(0)\"><text x=\"15.00\" y=\"2.81\" style=\"\">Mycoplasma_dispar</text></g><g transform=\"translate(617.81,480.97)rotate(0)\"><text x=\"15.00\" y=\"2.81\" style=\"\">Mycoplasma_pulmonis</text></g><g transform=\"translate(617.81,471.45)rotate(0)\"><text x=\"15.00\" y=\"2.81\" style=\"\">Mycoplasma_bovoculi_M165/69</text></g><g transform=\"translate(617.81,461.94)rotate(0)\"><text x=\"15.00\" y=\"2.81\" style=\"\">Mycoplasma_conjunctivae</text></g><g transform=\"translate(617.81,452.42)rotate(0)\"><text x=\"15.00\" y=\"2.81\" style=\"\">Mycoplasma_hyorhinis_SK76</text></g><g transform=\"translate(617.81,442.90)rotate(0)\"><text x=\"15.00\" y=\"2.81\" style=\"\">Mycoplasma_collis_ATCC_35278</text></g><g transform=\"translate(617.81,433.39)rotate(0)\"><text x=\"15.00\" y=\"2.81\" style=\"\">Mycoplasma_neurolyticum</text></g><g transform=\"translate(617.81,423.87)rotate(0)\"><text x=\"15.00\" y=\"2.81\" style=\"\">Mycoplasma_molare_ATCC_27746</text></g><g transform=\"translate(617.81,414.35)rotate(0)\"><text x=\"15.00\" y=\"2.81\" style=\"\">Mycoplasma_todarodis</text></g><g transform=\"translate(617.81,404.84)rotate(0)\"><text x=\"15.00\" y=\"2.81\" style=\"\">Mycoplasma_marinum</text></g><g transform=\"translate(617.81,395.32)rotate(0)\"><text x=\"15.00\" y=\"2.81\" style=\"\">Mycoplasma_anseris_ATCC_49234</text></g><g transform=\"translate(617.81,385.81)rotate(0)\"><text x=\"15.00\" y=\"2.81\" style=\"\">Mycoplasma_cloacale</text></g><g transform=\"translate(617.81,376.29)rotate(0)\"><text x=\"15.00\" y=\"2.81\" style=\"\">Mycoplasma_hominis</text></g><g transform=\"translate(617.81,366.77)rotate(0)\"><text x=\"15.00\" y=\"2.81\" style=\"\">Mycoplasma_hyosynoviae</text></g><g transform=\"translate(617.81,357.26)rotate(0)\"><text x=\"15.00\" y=\"2.81\" style=\"\">Mycoplasma_subdolum</text></g><g transform=\"translate(617.81,347.74)rotate(0)\"><text x=\"15.00\" y=\"2.81\" style=\"\">Mycoplasma_falconis</text></g><g transform=\"translate(617.81,338.23)rotate(0)\"><text x=\"15.00\" y=\"2.81\" style=\"\">Mycoplasma_spumans_ATCC_19526</text></g><g transform=\"translate(617.81,328.71)rotate(0)\"><text x=\"15.00\" y=\"2.81\" style=\"\">Mycoplasma_struthionis</text></g><g transform=\"translate(617.81,319.19)rotate(0)\"><text x=\"15.00\" y=\"2.81\" style=\"\">Mycoplasma_neophronis</text></g><g transform=\"translate(617.81,309.68)rotate(0)\"><text x=\"15.00\" y=\"2.81\" style=\"\">Mycoplasma_equirhinis</text></g><g transform=\"translate(617.81,300.16)rotate(0)\"><text x=\"15.00\" y=\"2.81\" style=\"\">Mycoplasma_phocidae</text></g><g transform=\"translate(617.81,290.64)rotate(0)\"><text x=\"15.00\" y=\"2.81\" style=\"\">Mycoplasma_auris_15026</text></g><g transform=\"translate(617.81,281.13)rotate(0)\"><text x=\"15.00\" y=\"2.81\" style=\"\">Mycoplasma_auris</text></g><g transform=\"translate(617.81,271.61)rotate(0)\"><text x=\"15.00\" y=\"2.81\" style=\"\">Mycoplasma_canadense</text></g><g transform=\"translate(617.81,262.10)rotate(0)\"><text x=\"15.00\" y=\"2.81\" style=\"\">Mycoplasma_alkalescens_14918</text></g><g transform=\"translate(617.81,252.58)rotate(0)\"><text x=\"15.00\" y=\"2.81\" style=\"\">Mycoplasma_phocicerebrale</text></g><g transform=\"translate(617.81,243.06)rotate(0)\"><text x=\"15.00\" y=\"2.81\" style=\"\">Mycoplasma_arginini</text></g><g transform=\"translate(617.81,233.55)rotate(0)\"><text x=\"15.00\" y=\"2.81\" style=\"\">Mycoplasma_arthritidis</text></g><g transform=\"translate(617.81,224.03)rotate(0)\"><text x=\"15.00\" y=\"2.81\" style=\"\">Mycoplasma_orale</text></g><g transform=\"translate(617.81,214.52)rotate(0)\"><text x=\"15.00\" y=\"2.81\" style=\"\">Mycoplasma_mobile_163K</text></g><g transform=\"translate(617.81,205.00)rotate(0)\"><text x=\"15.00\" y=\"2.81\" style=\"\">Mycoplasma_testudineum</text></g><g transform=\"translate(617.81,195.48)rotate(0)\"><text x=\"15.00\" y=\"2.81\" style=\"\">Mycoplasma_agassizii</text></g><g transform=\"translate(617.81,185.97)rotate(0)\"><text x=\"15.00\" y=\"2.81\" style=\"\">Mycoplasma_yeatsii_13926</text></g><g transform=\"translate(617.81,176.45)rotate(0)\"><text x=\"15.00\" y=\"2.81\" style=\"\">Mycoplasma_sp._HU2014</text></g><g transform=\"translate(617.81,166.93)rotate(0)\"><text x=\"15.00\" y=\"2.81\" style=\"\">Mycoplasma_putrefaciens_Mput9231</text></g><g transform=\"translate(617.81,157.42)rotate(0)\"><text x=\"15.00\" y=\"2.81\" style=\"\">Mycoplasma_mycoides_subsp._capri_LC_str._95010</text></g><g transform=\"translate(617.81,147.90)rotate(0)\"><text x=\"15.00\" y=\"2.81\" style=\"\">Mycoplasma_feriruminatoris</text></g><g transform=\"translate(617.81,138.39)rotate(0)\"><text x=\"15.00\" y=\"2.81\" style=\"\">Mycoplasma_leachii_PG50</text></g><g transform=\"translate(617.81,128.87)rotate(0)\"><text x=\"15.00\" y=\"2.81\" style=\"\">Mycoplasma_sp._</text></g><g transform=\"translate(617.81,119.35)rotate(0)\"><text x=\"15.00\" y=\"2.81\" style=\"\">Mycoplasma_alvi_ATCC_29626</text></g><g transform=\"translate(617.81,109.84)rotate(0)\"><text x=\"15.00\" y=\"2.81\" style=\"\">Mycoplasma_testudinis_ATCC_43263</text></g><g transform=\"translate(617.81,100.32)rotate(0)\"><text x=\"15.00\" y=\"2.81\" style=\"\">Mycoplasma_gallisepticum_str._R</text></g><g transform=\"translate(617.81,90.81)rotate(0)\"><text x=\"15.00\" y=\"2.81\" style=\"\">Mycoplasma_imitans_ATCC_51306</text></g><g transform=\"translate(617.81,81.29)rotate(0)\"><text x=\"15.00\" y=\"2.81\" style=\"\">Mycoplasma_genitalium_G37</text></g><g transform=\"translate(617.81,71.77)rotate(0)\"><text x=\"15.00\" y=\"2.81\" style=\"\">Mycoplasma_pneumoniae_M129</text></g><g transform=\"translate(617.81,62.26)rotate(0)\"><text x=\"15.00\" y=\"2.81\" style=\"\">Mycoplasma_penetrans</text></g></g></g></g></g></svg><div class=\"toyplot-behavior\"><script>(function()\n",
       "{\n",
       "var modules={};\n",
       "})();</script></div></div>"
      ]
     },
     "metadata": {},
     "output_type": "display_data"
    }
   ],
   "source": [
    "import toytree\n",
    "tre = toytree.tree('mycoplasmopsis_S20.tree')\n",
    "tre = tre.root('Mycoplasma_penetrans')\n",
    "canvas, axes, mark = tre.draw(tip_labels_align=True, layout='r', width=900)\n",
    "#import toyplot.pdf\n",
    "#toyplot.pdf.render(canvas, \"tree-plot.pdf\")"
   ]
  },
  {
   "cell_type": "code",
   "execution_count": 6,
   "id": "4e776703-1bd0-4d92-adc4-11d536338ac2",
   "metadata": {},
   "outputs": [],
   "source": [
    "%%R\n",
    "library(ape)\n",
    "source('drawtrees.R')"
   ]
  },
  {
   "cell_type": "code",
   "execution_count": null,
   "id": "8e8a6d96-07b4-4037-ba4b-3ce5ad555da8",
   "metadata": {},
   "outputs": [],
   "source": [
    "%%R -w 1200 -h 900\n",
    "#meta <- read.table('s20_orthodb.txt',sep='\\t',header=TRUE,row.names=1)\n",
    "\n",
    "tree <- read.tree('mycoplasmopsis_S20.tree')\n",
    "tree <- root(tree,'Mycoplasma_penetrans')\n",
    "plot(tree,type='p',align.tip.label=TRUE,cex=.8)"
   ]
  },
  {
   "cell_type": "markdown",
   "id": "47677e6e-a66f-4f28-b0de-e9f3c2135498",
   "metadata": {},
   "source": [
    "## kSNP"
   ]
  },
  {
   "cell_type": "code",
   "execution_count": 57,
   "id": "0096785e-9643-4c8f-9053-9a627575c4da",
   "metadata": {},
   "outputs": [],
   "source": [
    "#download files: https://www.ncbi.nlm.nih.gov/datasets/genome/?taxon=2767358&reference_only=true\n",
    "#move all files to one folder\n",
    "files=glob.glob('mycoplasmopsis_genomes/*.fna')\n",
    "#for f in files:   \n",
    "    #shutil.move(f,os.path.join('mycoplasmopsis_genomes',os.path.basename(f)[:13]+'.fna'))\n",
    "    #print (f,os.path.basename(f)[:13]+'.fna')\n",
    "    #shutil.move(f,f.replace('.1',''))"
   ]
  },
  {
   "cell_type": "markdown",
   "id": "61cce961-f95d-47f5-ae66-f265bed3d0ed",
   "metadata": {},
   "source": [
    "### make ksnp file\n",
    "/local/kSNP4.1/MakeKSNP4infile -indir mycoplasmopsis_genomes/ -outfile ksnp_mycoplasmopsis.txt\n",
    "### kchooser\n",
    "/local/kSNP4.1/Kchooser4 -in ksnp_mycoplasmopsis.txt \n",
    "### run ksnp4\n",
    "/local/kSNP4.1/kSNP4 -core -k 19 -outdir ksnp_mycoplasmopsis -in ksnp_mycoplasmopsis.txt"
   ]
  },
  {
   "cell_type": "code",
   "execution_count": 123,
   "id": "861f73dc-d37a-4872-a097-abbefd9014f1",
   "metadata": {},
   "outputs": [
    {
     "data": {
      "text/html": [
       "<div class=\"toyplot\" id=\"t19d6d538261c42dfb4d928ea5e8b10c2\" style=\"text-align:center\"><svg class=\"toyplot-canvas-Canvas\" xmlns:toyplot=\"http://www.sandia.gov/toyplot\" xmlns:xlink=\"http://www.w3.org/1999/xlink\" xmlns=\"http://www.w3.org/2000/svg\" width=\"900.0px\" height=\"720.0px\" viewBox=\"0 0 900.0 720.0\" preserveAspectRatio=\"xMidYMid meet\" style=\"background-color:transparent;border-color:#292724;border-style:none;border-width:1.0;fill:rgb(16.1%,15.3%,14.1%);fill-opacity:1.0;font-family:Helvetica;font-size:12px;opacity:1.0;stroke:rgb(16.1%,15.3%,14.1%);stroke-opacity:1.0;stroke-width:1.0\" id=\"td9c14a21d65e4353b68a1ed58d4d65f7\"><g class=\"toyplot-coordinates-Cartesian\" id=\"t4b3b9b80633c41f5b7831b017cc62f5f\"><clipPath id=\"t673227a2eaaf4825b676052902dce66f\"><rect x=\"30.0\" y=\"30.0\" width=\"840.0\" height=\"660.0\"></rect></clipPath><g clip-path=\"url(#t673227a2eaaf4825b676052902dce66f)\"><g class=\"toytree-mark-Toytree\" id=\"t3dcdc9efcc52488c86dc099db5258894\"><g class=\"toytree-Edges\" style=\"fill:none;stroke:rgb(14.9%,14.9%,14.9%);stroke-linecap:round;stroke-opacity:1;stroke-width:2\"><path d=\"M 51.4 90.4 L 51.4 118.6 L 118.8 118.6\" id=\"78,77\"></path><path d=\"M 118.8 118.6 L 118.8 159.9 L 256.7 159.9\" id=\"77,76\"></path><path d=\"M 256.7 159.9 L 256.7 227.2 L 261.1 227.2\" id=\"76,75\"></path><path d=\"M 261.1 227.2 L 261.1 346.4 L 332.0 346.4\" id=\"75,74\"></path><path d=\"M 332.0 346.4 L 332.0 213.1 L 350.2 213.1\" id=\"74,73\"></path><path d=\"M 332.0 346.4 L 332.0 479.7 L 449.6 479.7\" id=\"74,72\"></path><path d=\"M 350.2 213.1 L 350.2 149.5 L 350.2 149.5\" id=\"73,71\"></path><path d=\"M 350.2 213.1 L 350.2 276.7 L 350.2 276.7\" id=\"73,70\"></path><path d=\"M 449.6 479.7 L 449.6 423.0 L 449.6 423.0\" id=\"72,69\"></path><path d=\"M 449.6 479.7 L 449.6 536.4 L 457.7 536.4\" id=\"72,68\"></path><path d=\"M 350.2 149.5 L 350.2 130.9 L 362.2 130.9\" id=\"71,67\"></path><path d=\"M 350.2 149.5 L 350.2 168.1 L 377.7 168.1\" id=\"71,66\"></path><path d=\"M 350.2 276.7 L 350.2 241.6 L 360.0 241.6\" id=\"70,65\"></path><path d=\"M 350.2 276.7 L 350.2 311.8 L 353.6 311.8\" id=\"70,64\"></path><path d=\"M 449.6 423.0 L 449.6 447.8 L 462.9 447.8\" id=\"69,63\"></path><path d=\"M 457.7 536.4 L 457.7 567.7 L 470.0 567.7\" id=\"68,62\"></path><path d=\"M 377.7 168.1 L 377.7 182.4 L 379.8 182.4\" id=\"66,61\"></path><path d=\"M 360.0 241.6 L 360.0 253.1 L 395.5 253.1\" id=\"65,60\"></path><path d=\"M 353.6 311.8 L 353.6 287.4 L 389.0 287.4\" id=\"64,59\"></path><path d=\"M 353.6 311.8 L 353.6 336.1 L 372.0 336.1\" id=\"64,58\"></path><path d=\"M 462.9 447.8 L 462.9 424.9 L 462.9 424.9\" id=\"63,57\"></path><path d=\"M 462.9 447.8 L 462.9 470.8 L 481.1 470.8\" id=\"63,56\"></path><path d=\"M 470.0 567.7 L 470.0 533.8 L 499.8 533.8\" id=\"62,55\"></path><path d=\"M 470.0 567.7 L 470.0 601.6 L 470.0 601.6\" id=\"62,54\"></path><path d=\"M 379.8 182.4 L 379.8 195.8 L 379.8 195.8\" id=\"61,53\"></path><path d=\"M 389.0 287.4 L 389.0 298.9 L 415.0 298.9\" id=\"59,52\"></path><path d=\"M 372.0 336.1 L 372.0 350.5 L 395.3 350.5\" id=\"58,51\"></path><path d=\"M 462.9 424.9 L 462.9 436.4 L 485.2 436.4\" id=\"57,50\"></path><path d=\"M 481.1 470.8 L 481.1 482.2 L 488.0 482.2\" id=\"56,49\"></path><path d=\"M 499.8 533.8 L 499.8 547.1 L 520.6 547.1\" id=\"55,48\"></path><path d=\"M 470.0 601.6 L 470.0 621.6 L 494.9 621.6\" id=\"54,47\"></path><path d=\"M 379.8 195.8 L 379.8 207.2 L 389.6 207.2\" id=\"53,46\"></path><path d=\"M 395.3 350.5 L 395.3 363.8 L 395.3 363.8\" id=\"51,45\"></path><path d=\"M 520.6 547.1 L 520.6 558.6 L 522.2 558.6\" id=\"48,44\"></path><path d=\"M 494.9 621.6 L 494.9 604.4 L 510.9 604.4\" id=\"47,43\"></path><path d=\"M 494.9 621.6 L 494.9 638.8 L 497.6 638.8\" id=\"47,42\"></path><path d=\"M 395.3 363.8 L 395.3 375.3 L 397.6 375.3\" id=\"45,41\"></path><path d=\"M 497.6 638.8 L 497.6 650.3 L 506.2 650.3\" id=\"42,40\"></path><path d=\"M 51.4 90.4 L 51.4 62.1 L 118.8 62.1\" id=\"78,39\"></path><path d=\"M 118.8 118.6 L 118.8 77.4 L 170.6 77.4\" id=\"77,38\"></path><path d=\"M 256.7 159.9 L 256.7 92.7 L 289.4 92.7\" id=\"76,37\"></path><path d=\"M 261.1 227.2 L 261.1 107.9 L 381.1 107.9\" id=\"75,36\"></path><path d=\"M 362.2 130.9 L 362.2 123.2 L 426.6 123.2\" id=\"67,35\"></path><path d=\"M 362.2 130.9 L 362.2 138.5 L 410.2 138.5\" id=\"67,34\"></path><path d=\"M 377.7 168.1 L 377.7 153.8 L 430.7 153.8\" id=\"66,33\"></path><path d=\"M 379.8 182.4 L 379.8 169.0 L 431.3 169.0\" id=\"61,32\"></path><path d=\"M 379.8 195.8 L 379.8 184.3 L 415.9 184.3\" id=\"53,31\"></path><path d=\"M 389.6 207.2 L 389.6 199.6 L 456.1 199.6\" id=\"46,30\"></path><path d=\"M 389.6 207.2 L 389.6 214.9 L 457.6 214.9\" id=\"46,29\"></path><path d=\"M 360.0 241.6 L 360.0 230.1 L 427.2 230.1\" id=\"65,28\"></path><path d=\"M 395.5 253.1 L 395.5 245.4 L 437.3 245.4\" id=\"60,27\"></path><path d=\"M 395.5 253.1 L 395.5 260.7 L 423.2 260.7\" id=\"60,26\"></path><path d=\"M 389.0 287.4 L 389.0 276.0 L 438.9 276.0\" id=\"59,25\"></path><path d=\"M 415.0 298.9 L 415.0 291.3 L 451.6 291.3\" id=\"52,24\"></path><path d=\"M 415.0 298.9 L 415.0 306.5 L 440.1 306.5\" id=\"52,23\"></path><path d=\"M 372.0 336.1 L 372.0 321.8 L 430.9 321.8\" id=\"58,22\"></path><path d=\"M 395.3 350.5 L 395.3 337.1 L 437.9 337.1\" id=\"51,21\"></path><path d=\"M 395.3 363.8 L 395.3 352.4 L 459.8 352.4\" id=\"45,20\"></path><path d=\"M 397.6 375.3 L 397.6 367.6 L 444.1 367.6\" id=\"41,19\"></path><path d=\"M 397.6 375.3 L 397.6 382.9 L 444.4 382.9\" id=\"41,18\"></path><path d=\"M 449.6 423.0 L 449.6 398.2 L 541.4 398.2\" id=\"69,17\"></path><path d=\"M 462.9 424.9 L 462.9 413.5 L 520.6 413.5\" id=\"57,16\"></path><path d=\"M 485.2 436.4 L 485.2 428.7 L 545.3 428.7\" id=\"50,15\"></path><path d=\"M 485.2 436.4 L 485.2 444.0 L 553.9 444.0\" id=\"50,14\"></path><path d=\"M 481.1 470.8 L 481.1 459.3 L 537.5 459.3\" id=\"56,13\"></path><path d=\"M 488.0 482.2 L 488.0 474.6 L 514.6 474.6\" id=\"49,12\"></path><path d=\"M 488.0 482.2 L 488.0 489.9 L 513.6 489.9\" id=\"49,11\"></path><path d=\"M 457.7 536.4 L 457.7 505.1 L 555.1 505.1\" id=\"68,10\"></path><path d=\"M 499.8 533.8 L 499.8 520.4 L 539.9 520.4\" id=\"55,9\"></path><path d=\"M 520.6 547.1 L 520.6 535.7 L 545.5 535.7\" id=\"48,8\"></path><path d=\"M 522.2 558.6 L 522.2 551.0 L 602.4 551.0\" id=\"44,7\"></path><path d=\"M 522.2 558.6 L 522.2 566.2 L 590.1 566.2\" id=\"44,6\"></path><path d=\"M 470.0 601.6 L 470.0 581.5 L 532.8 581.5\" id=\"54,5\"></path><path d=\"M 510.9 604.4 L 510.9 596.8 L 592.8 596.8\" id=\"43,4\"></path><path d=\"M 510.9 604.4 L 510.9 612.1 L 541.9 612.1\" id=\"43,3\"></path><path d=\"M 497.6 638.8 L 497.6 627.3 L 527.2 627.3\" id=\"42,2\"></path><path d=\"M 506.2 650.3 L 506.2 642.6 L 552.9 642.6\" id=\"40,1\"></path><path d=\"M 506.2 650.3 L 506.2 657.9 L 525.6 657.9\" id=\"40,0\"></path></g><g class=\"toytree-AlignEdges\" style=\"stroke:rgb(66.3%,66.3%,66.3%);stroke-dasharray:2, 4;stroke-linecap:round;stroke-opacity:1.0;stroke-width:2\"><path d=\"M 602.4 657.9 L 525.6 657.9\"></path><path d=\"M 602.4 642.6 L 552.9 642.6\"></path><path d=\"M 602.4 627.3 L 527.2 627.3\"></path><path d=\"M 602.4 612.1 L 541.9 612.1\"></path><path d=\"M 602.4 596.8 L 592.8 596.8\"></path><path d=\"M 602.4 581.5 L 532.8 581.5\"></path><path d=\"M 602.4 566.2 L 590.1 566.2\"></path><path d=\"M 602.4 551.0 L 602.4 551.0\"></path><path d=\"M 602.4 535.7 L 545.5 535.7\"></path><path d=\"M 602.4 520.4 L 539.9 520.4\"></path><path d=\"M 602.4 505.1 L 555.1 505.1\"></path><path d=\"M 602.4 489.9 L 513.6 489.9\"></path><path d=\"M 602.4 474.6 L 514.6 474.6\"></path><path d=\"M 602.4 459.3 L 537.5 459.3\"></path><path d=\"M 602.4 444.0 L 553.9 444.0\"></path><path d=\"M 602.4 428.7 L 545.3 428.7\"></path><path d=\"M 602.4 413.5 L 520.6 413.5\"></path><path d=\"M 602.4 398.2 L 541.4 398.2\"></path><path d=\"M 602.4 382.9 L 444.4 382.9\"></path><path d=\"M 602.4 367.6 L 444.1 367.6\"></path><path d=\"M 602.4 352.4 L 459.8 352.4\"></path><path d=\"M 602.4 337.1 L 437.9 337.1\"></path><path d=\"M 602.4 321.8 L 430.9 321.8\"></path><path d=\"M 602.4 306.5 L 440.1 306.5\"></path><path d=\"M 602.4 291.3 L 451.6 291.3\"></path><path d=\"M 602.4 276.0 L 438.9 276.0\"></path><path d=\"M 602.4 260.7 L 423.2 260.7\"></path><path d=\"M 602.4 245.4 L 437.3 245.4\"></path><path d=\"M 602.4 230.1 L 427.2 230.1\"></path><path d=\"M 602.4 214.9 L 457.6 214.9\"></path><path d=\"M 602.4 199.6 L 456.1 199.6\"></path><path d=\"M 602.4 184.3 L 415.9 184.3\"></path><path d=\"M 602.4 169.0 L 431.3 169.0\"></path><path d=\"M 602.4 153.8 L 430.7 153.8\"></path><path d=\"M 602.4 138.5 L 410.2 138.5\"></path><path d=\"M 602.4 123.2 L 426.6 123.2\"></path><path d=\"M 602.4 107.9 L 381.1 107.9\"></path><path d=\"M 602.4 92.7 L 289.4 92.7\"></path><path d=\"M 602.4 77.4 L 170.6 77.4\"></path><path d=\"M 602.4 62.1 L 118.8 62.1\"></path></g><g class=\"toytree-TipLabels\" style=\"fill:rgb(14.9%,14.9%,14.9%);fill-opacity:1.0;font-family:helvetica;font-size:11px;font-weight:normal;stroke:none;white-space:pre\"><g transform=\"translate(602.43,657.89)rotate(0)\"><text x=\"15.00\" y=\"2.81\" style=\"\">Mycoplasmopsis glycophila</text></g><g transform=\"translate(602.43,642.62)rotate(0)\"><text x=\"15.00\" y=\"2.81\" style=\"\">Mycoplasmopsis gallopavonis</text></g><g transform=\"translate(602.43,627.34)rotate(0)\"><text x=\"15.00\" y=\"2.81\" style=\"\">Mycoplasmopsis gallinacea</text></g><g transform=\"translate(602.43,612.06)rotate(0)\"><text x=\"15.00\" y=\"2.81\" style=\"\">Mycoplasmopsis pullorum</text></g><g transform=\"translate(602.43,596.79)rotate(0)\"><text x=\"15.00\" y=\"2.81\" style=\"\">Mycoplasmopsis anatis</text></g><g transform=\"translate(602.43,581.51)rotate(0)\"><text x=\"15.00\" y=\"2.81\" style=\"\">Mycoplasmopsis verecunda</text></g><g transform=\"translate(602.43,566.23)rotate(0)\"><text x=\"15.00\" y=\"2.81\" style=\"\">Mycoplasmopsis citelli</text></g><g transform=\"translate(602.43,550.96)rotate(0)\"><text x=\"15.00\" y=\"2.81\" style=\"\">Mycoplasmopsis cricetuli ATCC 35279</text></g><g transform=\"translate(602.43,535.68)rotate(0)\"><text x=\"15.00\" y=\"2.81\" style=\"\">Mycoplasmopsis columboralis</text></g><g transform=\"translate(602.43,520.40)rotate(0)\"><text x=\"15.00\" y=\"2.81\" style=\"\">Mycoplasmopsis sturni DSM 22021</text></g><g transform=\"translate(602.43,505.13)rotate(0)\"><text x=\"15.00\" y=\"2.81\" style=\"\">Mycoplasmopsis synoviae</text></g><g transform=\"translate(602.43,489.85)rotate(0)\"><text x=\"15.00\" y=\"2.81\" style=\"\">Mycoplasmopsis edwardii</text></g><g transform=\"translate(602.43,474.57)rotate(0)\"><text x=\"15.00\" y=\"2.81\" style=\"\">Mycoplasmopsis canis</text></g><g transform=\"translate(602.43,459.30)rotate(0)\"><text x=\"15.00\" y=\"2.81\" style=\"\">Mycoplasmopsis cynos C142</text></g><g transform=\"translate(602.43,444.02)rotate(0)\"><text x=\"15.00\" y=\"2.81\" style=\"\">Mycoplasmopsis mustelae</text></g><g transform=\"translate(602.43,428.74)rotate(0)\"><text x=\"15.00\" y=\"2.81\" style=\"\">Mycoplasmopsis felis</text></g><g transform=\"translate(602.43,413.47)rotate(0)\"><text x=\"15.00\" y=\"2.81\" style=\"\">Mycoplasmopsis bovirhinis</text></g><g transform=\"translate(602.43,398.19)rotate(0)\"><text x=\"15.00\" y=\"2.81\" style=\"\">Mycoplasmopsis alligatoris A21JP2</text></g><g transform=\"translate(602.43,382.91)rotate(0)\"><text x=\"15.00\" y=\"2.81\" style=\"\">Mycoplasmopsis mucosicanis</text></g><g transform=\"translate(602.43,367.64)rotate(0)\"><text x=\"15.00\" y=\"2.81\" style=\"\">Mycoplasmopsis bovigenitalium</text></g><g transform=\"translate(602.43,352.36)rotate(0)\"><text x=\"15.00\" y=\"2.81\" style=\"\">Mycoplasmopsis phocirhinis</text></g><g transform=\"translate(602.43,337.09)rotate(0)\"><text x=\"15.00\" y=\"2.81\" style=\"\">Mycoplasmopsis californica</text></g><g transform=\"translate(602.43,321.81)rotate(0)\"><text x=\"15.00\" y=\"2.81\" style=\"\">Mycoplasmopsis opalescens ATCC 27921</text></g><g transform=\"translate(602.43,306.53)rotate(0)\"><text x=\"15.00\" y=\"2.81\" style=\"\">Mycoplasmopsis agalactiae</text></g><g transform=\"translate(602.43,291.26)rotate(0)\"><text x=\"15.00\" y=\"2.81\" style=\"\">Mycoplasmopsis bovis</text></g><g transform=\"translate(602.43,275.98)rotate(0)\"><text x=\"15.00\" y=\"2.81\" style=\"\">Mycoplasmopsis primatum ATCC 25948</text></g><g transform=\"translate(602.43,260.70)rotate(0)\"><text x=\"15.00\" y=\"2.81\" style=\"\">Mycoplasmopsis fermentans M64</text></g><g transform=\"translate(602.43,245.43)rotate(0)\"><text x=\"15.00\" y=\"2.81\" style=\"\">Mycoplasmopsis caviae</text></g><g transform=\"translate(602.43,230.15)rotate(0)\"><text x=\"15.00\" y=\"2.81\" style=\"\">Mycoplasmopsis lipofaciens ATCC 35015</text></g><g transform=\"translate(602.43,214.87)rotate(0)\"><text x=\"15.00\" y=\"2.81\" style=\"\">Mycoplasmopsis meleagridis</text></g><g transform=\"translate(602.43,199.60)rotate(0)\"><text x=\"15.00\" y=\"2.81\" style=\"\">Mycoplasmopsis columbinasalis</text></g><g transform=\"translate(602.43,184.32)rotate(0)\"><text x=\"15.00\" y=\"2.81\" style=\"\">Mycoplasmopsis iners ATCC 19705</text></g><g transform=\"translate(602.43,169.04)rotate(0)\"><text x=\"15.00\" y=\"2.81\" style=\"\">Mycoplasmopsis columbina</text></g><g transform=\"translate(602.43,153.77)rotate(0)\"><text x=\"15.00\" y=\"2.81\" style=\"\">Mycoplasmopsis gallinarum DSM 19816</text></g><g transform=\"translate(602.43,138.49)rotate(0)\"><text x=\"15.00\" y=\"2.81\" style=\"\">Mycoplasmopsis felifaucium ATCC 43428</text></g><g transform=\"translate(602.43,123.21)rotate(0)\"><text x=\"15.00\" y=\"2.81\" style=\"\">Mycoplasmopsis maculosa</text></g><g transform=\"translate(602.43,107.94)rotate(0)\"><text x=\"15.00\" y=\"2.81\" style=\"\">Mycoplasmopsis arginini</text></g><g transform=\"translate(602.43,92.66)rotate(0)\"><text x=\"15.00\" y=\"2.81\" style=\"\">Mycoplasmopsis equigenitalium</text></g><g transform=\"translate(602.43,77.38)rotate(0)\"><text x=\"15.00\" y=\"2.81\" style=\"\">Mycoplasmopsis pulmonis</text></g><g transform=\"translate(602.43,62.11)rotate(0)\"><text x=\"15.00\" y=\"2.81\" style=\"\">Mycoplasmopsis agassizii</text></g></g></g></g></g></svg><div class=\"toyplot-behavior\"><script>(function()\n",
       "{\n",
       "var modules={};\n",
       "})();</script></div></div>"
      ]
     },
     "metadata": {},
     "output_type": "display_data"
    }
   ],
   "source": [
    "tre2 = toytree.tree('ksnp_mycoplasmopsis/tree.parsimony.tre')\n",
    "tre2 = tre2.root('GCF_002272945')\n",
    "df = pd.read_csv('data_summary.tsv',sep='\\t',index_col=5)\n",
    "idx = tre2.get_tip_labels()\n",
    "df = df.reindex(index=idx)\n",
    "df = df.loc[idx]\n",
    "tiplabels = list(df['Organism Scientific Name'])\n",
    "\n",
    "canvas, axes, mark = tre2.draw(tip_labels_align=True, layout='r', tip_labels=tiplabels, width=900)\n",
    "#toyplot.pdf.render(canvas, \"tree-plot2.pdf\")"
   ]
  },
  {
   "cell_type": "code",
   "execution_count": 129,
   "id": "d6cc7703-ee9f-41a3-9f32-5c62fb52f875",
   "metadata": {},
   "outputs": [
    {
     "data": {
      "text/plain": [
       "['Mycoplasmopsis_glycophila',\n",
       " 'Mycoplasmopsis_gallopavonis',\n",
       " 'Mycoplasmopsis_gallinacea',\n",
       " 'Mycoplasmopsis_pullorum',\n",
       " 'Mycoplasmopsis_anatis',\n",
       " 'Mycoplasmopsis_verecunda',\n",
       " 'Mycoplasmopsis_citelli',\n",
       " 'Mycoplasmopsis_cricetuli_ATCC_35279',\n",
       " 'Mycoplasmopsis_columboralis',\n",
       " 'Mycoplasmopsis_sturni_DSM_22021',\n",
       " 'Mycoplasmopsis_synoviae',\n",
       " 'Mycoplasmopsis_edwardii',\n",
       " 'Mycoplasmopsis_canis',\n",
       " 'Mycoplasmopsis_cynos_C142',\n",
       " 'Mycoplasmopsis_mustelae',\n",
       " 'Mycoplasmopsis_felis',\n",
       " 'Mycoplasmopsis_bovirhinis',\n",
       " 'Mycoplasmopsis_alligatoris_A21JP2',\n",
       " 'Mycoplasmopsis_mucosicanis',\n",
       " 'Mycoplasmopsis_bovigenitalium',\n",
       " 'Mycoplasmopsis_phocirhinis',\n",
       " 'Mycoplasmopsis_californica',\n",
       " 'Mycoplasmopsis_opalescens_ATCC_27921',\n",
       " 'Mycoplasmopsis_agalactiae',\n",
       " 'Mycoplasmopsis_bovis',\n",
       " 'Mycoplasmopsis_primatum_ATCC_25948',\n",
       " 'Mycoplasmopsis_fermentans_M64',\n",
       " 'Mycoplasmopsis_caviae',\n",
       " 'Mycoplasmopsis_lipofaciens_ATCC_35015',\n",
       " 'Mycoplasmopsis_meleagridis',\n",
       " 'Mycoplasmopsis_columbinasalis',\n",
       " 'Mycoplasmopsis_iners_ATCC_19705',\n",
       " 'Mycoplasmopsis_columbina',\n",
       " 'Mycoplasmopsis_gallinarum_DSM_19816',\n",
       " 'Mycoplasmopsis_felifaucium_ATCC_43428',\n",
       " 'Mycoplasmopsis_maculosa',\n",
       " 'Mycoplasmopsis_arginini',\n",
       " 'Mycoplasmopsis_equigenitalium',\n",
       " 'Mycoplasmopsis_pulmonis',\n",
       " 'Mycoplasmopsis_agassizii']"
      ]
     },
     "execution_count": 129,
     "metadata": {},
     "output_type": "execute_result"
    }
   ],
   "source": [
    "found = list(df['Organism Scientific Name'].str.replace(' ','_'))\n",
    "\n",
    "names =['Mycoplasmopsis_californica',\n",
    " 'Mycoplasmopsis_opalescens_ATCC_27921',\n",
    " 'Mycoplasmopsis_agalactiae',\n",
    " 'Mycoplasmopsis_bovis']\n",
    "\n",
    "#tre3 = tre.drop_tips(tips)\n"
   ]
  },
  {
   "cell_type": "code",
   "execution_count": 97,
   "id": "12928198-edeb-4910-a6c4-a214c96426f0",
   "metadata": {
    "jupyter": {
     "source_hidden": true
    }
   },
   "outputs": [],
   "source": [
    "%%R\n",
    "library(dplyr)\n",
    "library(phytools)\n",
    "plot_tree <- function(tree,samples,type='phylogram',title='',colorcol=NULL,\n",
    "\t\t\t\t\t\ttiplabelcol=NULL,showtip=TRUE,\n",
    "\t\t\t\t\t\tcmap=\"Set1\") {\n",
    "\n",
    "    if (!is.null(colorcol)){\n",
    "        labels <- samples[tree$tip.label,][[col]]\n",
    "        #print(labels)\n",
    "        #print (samples[mltree$tip.label,])\n",
    "        labels[is.na(labels)] <- \"Other\"  \n",
    "        leglabels <- levels(as.factor(labels))\n",
    "        n<-length(leglabels)\n",
    "        colors <- brewer.pal(n = n, name = cmap)\n",
    "        cols<-setNames(colors[1:length(leglabels)],leglabels)\n",
    "        tiplabels(pie=to.matrix(labels, levels(as.factor(labels))),cex=cex,size=2,piecol=cols)\n",
    "\n",
    "        legcolors <- cols[leglabels]\n",
    "        legend(\"topright\", legend=names(cols), pch=22, pt.bg=cols, pt.cex=2.0, cex=1.2, \n",
    "             bty=\"n\",ncol=1,x.intersp=.3)\n",
    "    }\n",
    "    l<-length(labels)\n",
    "    w<- max(dist.nodes(tree))*.8\n",
    "\n",
    "    #plot tree\n",
    "    plot(tree,type=type,cex=.8,label.offset=.2, edge.width=.6,show.tip.label=showtip)\n",
    "    title(title,cex.main= 2)\n",
    "    cex<-(.3/l*100)\n",
    "    if (!is.null(tiplabelcol)){\n",
    "        tl <- samples[tree$tip.label,][[tiplabelcol]]\n",
    "        print(tl)\n",
    "        #tiplabels(tl,type=2,cex=.8,size=1)\n",
    "        sub.taxa.label(tree, tl)\n",
    "    }\n",
    "    #add.scale.bar(x=100,lwd=2, cex=1)\n",
    "}"
   ]
  },
  {
   "cell_type": "code",
   "execution_count": null,
   "id": "52af5fbc-24df-4310-8899-f49a9fdc72ac",
   "metadata": {
    "jupyter": {
     "source_hidden": true
    }
   },
   "outputs": [],
   "source": [
    "%%R -w 1000 -h 600\n",
    "tree <- read.tree('ksnp_mycoplasmopsis/tree.parsimony.tre')\n",
    "meta <- read.table('data_summary.tsv',sep='\\t',row.names=3)\n",
    "options(repr.plot.width=15, repr.plot.height=12)\n",
    "#plot(tree,type='p',align.tip.label=TRUE,cex=.8)\n",
    "#plot_tree(tree, meta,tiplabelcol='Organism Scientific Name')"
   ]
  },
  {
   "cell_type": "markdown",
   "id": "1e785330-2f0e-4d1a-b752-aef595aa874f",
   "metadata": {},
   "source": [
    "## fastANI method"
   ]
  },
  {
   "cell_type": "code",
   "execution_count": 93,
   "id": "01884c56-0c23-4a02-aa21-64fe0fd8307f",
   "metadata": {},
   "outputs": [],
   "source": [
    "files=glob.glob('mycoplasmopsis_genomes/**/*.fna')\n",
    "with open('query1.txt','w') as f:\n",
    "    for l in files:\n",
    "        f.writelines(l+'\\n')"
   ]
  },
  {
   "cell_type": "code",
   "execution_count": null,
   "id": "ef39ae3b-2bde-4acf-8c8d-98751736d589",
   "metadata": {},
   "outputs": [],
   "source": [
    "cmd = 'fastANI --ql query1.txt --rl query2.txt -o fastani.out -t 16 --matrix'\n",
    "subprocess.check_output(cmd,shell=True)"
   ]
  },
  {
   "cell_type": "code",
   "execution_count": null,
   "id": "5068cd02-1139-4ab0-9fa3-5280b522f6ee",
   "metadata": {},
   "outputs": [],
   "source": []
  }
 ],
 "metadata": {
  "kernelspec": {
   "display_name": "Python 3 (ipykernel)",
   "language": "python",
   "name": "python3"
  },
  "language_info": {
   "codemirror_mode": {
    "name": "ipython",
    "version": 3
   },
   "file_extension": ".py",
   "mimetype": "text/x-python",
   "name": "python",
   "nbconvert_exporter": "python",
   "pygments_lexer": "ipython3",
   "version": "3.10.12"
  }
 },
 "nbformat": 4,
 "nbformat_minor": 5
}
