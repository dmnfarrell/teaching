{
 "cells": [
  {
   "cell_type": "markdown",
   "id": "b3dbb628-1ecb-4093-85be-b2f17f9adbdc",
   "metadata": {},
   "source": [
    "# 16S species check from WGS"
   ]
  },
  {
   "cell_type": "code",
   "execution_count": 18,
   "id": "ced79969-7a1c-4b30-beb7-8ef10955c7da",
   "metadata": {},
   "outputs": [],
   "source": [
    "import os,sys,subprocess,glob,re, shutil\n",
    "import numpy as np\n",
    "import pandas as pd\n",
    "import pylab as plt\n",
    "import seaborn as sns\n",
    "from importlib import reload\n",
    "from Bio import AlignIO, SeqIO\n",
    "from Bio.Seq import Seq\n",
    "from Bio.SeqRecord import SeqRecord\n",
    "from Bio import Phylo\n",
    "from snipgenie import tools, trees"
   ]
  },
  {
   "cell_type": "code",
   "execution_count": 3,
   "id": "8204a697-c1e8-49d7-ae2d-64f67e92667d",
   "metadata": {},
   "outputs": [],
   "source": [
    "def get_blast_coverage(bl, fasta):\n",
    "    \"\"\"Get alignment coverage of blast results from original sequence lengths\"\"\"\n",
    "    \n",
    "    df=tools.fasta_to_dataframe('16S_ncbi.fa')\n",
    "    df=df.rename(columns={'length':'sslen'})\n",
    "    bl=bl.merge(df,left_on='sseqid',right_on='name',how='left')\n",
    "    bl['perc_cov'] = bl.apply(lambda x: round(x.length/x.sslen*100,2),1)\n",
    "    return bl"
   ]
  },
  {
   "cell_type": "code",
   "execution_count": 70,
   "id": "8e1f3c4c-29fa-4af7-a62c-e3024bf848ba",
   "metadata": {},
   "outputs": [],
   "source": [
    "def blast_16S(filename, hits=100, pident=99.5):\n",
    "    #tools.make_blast_database('16S_ncbi.fa')\n",
    "    bl=tools.blast_fasta('16S_ncbi.fa',filename,maxseqs=hits)\n",
    "    bl = get_blast_coverage(bl, '16S_ncbi.fa')\n",
    "    bl = bl.drop_duplicates('sseqid')\n",
    "    bl['species'] = bl.stitle.apply(lambda x: ' '.join(x.split()[1:3]))\n",
    "    cols = ['sseqid','sslen','length','perc_cov','pident','stitle','species']\n",
    "    bl = bl[(bl.pident>=pident) & (bl.perc_cov>=80)].sort_values('pident',ascending=False)  \n",
    "    return bl"
   ]
  },
  {
   "cell_type": "code",
   "execution_count": 71,
   "id": "13abfaec-5435-4c0f-b46c-e76ffdbf4d31",
   "metadata": {},
   "outputs": [],
   "source": [
    "def extract_sequences_by_ids(input_fasta, output_fasta, ids_to_extract):\n",
    "    \"\"\"Extract sequences from fasta file with given ids\"\"\"\n",
    "    \n",
    "    sequences = SeqIO.parse(input_fasta, \"fasta\")    \n",
    "    # Filter sequences that match the given IDs\n",
    "    filtered = (seq for seq in sequences if seq.id in ids_to_extract)   \n",
    "    SeqIO.write(filtered, output_fasta, \"fasta\")\n",
    "    return\n",
    "\n",
    "def append_sequences_to_fasta(fasta_file, seqs):\n",
    "    \"\"\"Append SeqRecords to a FASTA file, overwriting the old file.\"\"\"\n",
    "\n",
    "    existing_seqs = list(SeqIO.parse(fasta_file, \"fasta\"))\n",
    "    if type(seqs) is not list:\n",
    "        seqs = [seqs]\n",
    "    existing_seqs.extend(seqs)    \n",
    "    #with open(fasta_file, \"w\") as output_handle:\n",
    "    SeqIO.write(existing_seqs, fasta_file, \"fasta\")\n",
    "    return\n",
    "\n",
    "def get_tree(fasta_file):\n",
    "    \"\"\"get phylo tree from fasta_file with fasttree\"\"\"\n",
    "    \n",
    "    out = 'temp.newick'\n",
    "    cmd=f'mafft {fasta_file} > temp.aln'\n",
    "    tmp = subprocess.check_output(cmd, shell=True, stderr=subprocess.PIPE)\n",
    "    cmd=f'fasttree temp.aln > {out}'\n",
    "    tmp = subprocess.check_output(cmd, shell=True, stderr=subprocess.PIPE)\n",
    "    return out"
   ]
  },
  {
   "cell_type": "code",
   "execution_count": 72,
   "id": "ba5c57ac-32cb-4289-893a-a3ee9537f8e8",
   "metadata": {},
   "outputs": [],
   "source": [
    "tools.make_blast_database('16S_ncbi.fa')\n",
    "bl = blast_16S('M.alkalescens_NCTC10135.fa',pident=90,hits=50)"
   ]
  },
  {
   "cell_type": "code",
   "execution_count": 73,
   "id": "32cadd3e-ca01-4749-8bf6-d80cfc1e5a22",
   "metadata": {},
   "outputs": [
    {
     "data": {
      "text/html": [
       "<div>\n",
       "<style scoped>\n",
       "    .dataframe tbody tr th:only-of-type {\n",
       "        vertical-align: middle;\n",
       "    }\n",
       "\n",
       "    .dataframe tbody tr th {\n",
       "        vertical-align: top;\n",
       "    }\n",
       "\n",
       "    .dataframe thead th {\n",
       "        text-align: right;\n",
       "    }\n",
       "</style>\n",
       "<table border=\"1\" class=\"dataframe\">\n",
       "  <thead>\n",
       "    <tr style=\"text-align: right;\">\n",
       "      <th></th>\n",
       "      <th>sseqid</th>\n",
       "      <th>species</th>\n",
       "      <th>pident</th>\n",
       "    </tr>\n",
       "  </thead>\n",
       "  <tbody>\n",
       "    <tr>\n",
       "      <th>0</th>\n",
       "      <td>NR_025984.1</td>\n",
       "      <td>Metamycoplasma alkalescens</td>\n",
       "      <td>99.932</td>\n",
       "    </tr>\n",
       "    <tr>\n",
       "      <th>2</th>\n",
       "      <td>NR_026035.1</td>\n",
       "      <td>Metamycoplasma auris</td>\n",
       "      <td>98.973</td>\n",
       "    </tr>\n",
       "    <tr>\n",
       "      <th>4</th>\n",
       "      <td>NR_025988.1</td>\n",
       "      <td>Metamycoplasma canadense</td>\n",
       "      <td>98.704</td>\n",
       "    </tr>\n",
       "    <tr>\n",
       "      <th>14</th>\n",
       "      <td>NR_029180.1</td>\n",
       "      <td>Metamycoplasma gateae</td>\n",
       "      <td>98.545</td>\n",
       "    </tr>\n",
       "    <tr>\n",
       "      <th>10</th>\n",
       "      <td>NR_041743.1</td>\n",
       "      <td>Mycoplasmopsis arginini</td>\n",
       "      <td>98.494</td>\n",
       "    </tr>\n",
       "  </tbody>\n",
       "</table>\n",
       "</div>"
      ],
      "text/plain": [
       "         sseqid                     species  pident\n",
       "0   NR_025984.1  Metamycoplasma alkalescens  99.932\n",
       "2   NR_026035.1        Metamycoplasma auris  98.973\n",
       "4   NR_025988.1    Metamycoplasma canadense  98.704\n",
       "14  NR_029180.1       Metamycoplasma gateae  98.545\n",
       "10  NR_041743.1     Mycoplasmopsis arginini  98.494"
      ]
     },
     "execution_count": 73,
     "metadata": {},
     "output_type": "execute_result"
    }
   ],
   "source": [
    "bl[['sseqid','species','pident']][:5]"
   ]
  },
  {
   "cell_type": "code",
   "execution_count": 74,
   "id": "021cb3b0-6b63-43e2-8e87-362d719a8b85",
   "metadata": {},
   "outputs": [],
   "source": [
    "#m.genus.value_counts()\n",
    "targetseq = SeqRecord(Seq(bl.iloc[0].qseq), id='NCTC10135')\n",
    "m=bl.set_index('sseqid')[:20]\n",
    "names = list(m.index)\n",
    "extract_sequences_by_ids('16S_ncbi.fa', 'temp.fa', names)\n",
    "append_sequences_to_fasta('temp.fa',targetseq)\n",
    "treefile = get_tree('temp.fa')"
   ]
  },
  {
   "cell_type": "code",
   "execution_count": 75,
   "id": "11b2bea7-820b-4e75-b2a6-02b0377327c3",
   "metadata": {},
   "outputs": [],
   "source": [
    "m.to_csv('blast_result.csv')"
   ]
  }
 ],
 "metadata": {
  "kernelspec": {
   "display_name": "Python 3 (ipykernel)",
   "language": "python",
   "name": "python3"
  },
  "language_info": {
   "codemirror_mode": {
    "name": "ipython",
    "version": 3
   },
   "file_extension": ".py",
   "mimetype": "text/x-python",
   "name": "python",
   "nbconvert_exporter": "python",
   "pygments_lexer": "ipython3",
   "version": "3.10.12"
  }
 },
 "nbformat": 4,
 "nbformat_minor": 5
}
