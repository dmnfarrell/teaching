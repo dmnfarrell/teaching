{
 "cells": [
  {
   "cell_type": "markdown",
   "id": "fde66e42-d284-452d-a456-780c74e5689d",
   "metadata": {},
   "source": [
    "# Vietnam THOR dataset plots\n",
    "\n",
    "## Links\n",
    "\n",
    "* https://programminghistorian.org/en/lessons/visualizing-with-bokeh"
   ]
  },
  {
   "cell_type": "code",
   "execution_count": null,
   "id": "a7367498-c0a9-4434-a59a-1cb545be706f",
   "metadata": {},
   "outputs": [],
   "source": [
    "import os, io, random\n",
    "import string\n",
    "import numpy as np\n",
    "import pandas as pd\n",
    "import pylab as plt\n",
    "import seaborn as sns\n",
    "from collections import OrderedDict\n",
    "import datetime as dt\n",
    "import geopandas as gpd"
   ]
  },
  {
   "cell_type": "code",
   "execution_count": null,
   "id": "72c4860d-f557-499e-b4d4-e671726f6761",
   "metadata": {
    "scrolled": true,
    "tags": []
   },
   "outputs": [],
   "source": [
    "from bokeh.layouts import column\n",
    "from bokeh.models import ColumnDataSource, Slider, CustomJS, DatePicker\n",
    "from bokeh.plotting import figure\n",
    "from bokeh.themes import Theme\n",
    "from bokeh.io import show, output_notebook\n",
    "from bokeh.models import (DataTable, GeoJSONDataSource, ColumnDataSource, HoverTool, renderers,\n",
    "                          Label, LabelSet, CustomJS, MultiSelect, Dropdown, Div)\n",
    "from bokeh.tile_providers import CARTODBPOSITRON, get_provider\n",
    "output_notebook()\n",
    "import panel as pn\n",
    "import panel.widgets as pnw\n",
    "pn.extension()"
   ]
  },
  {
   "cell_type": "code",
   "execution_count": null,
   "id": "6610330c-cd82-412d-9a68-58435216994e",
   "metadata": {},
   "outputs": [],
   "source": [
    "def wgs84_to_web_mercator(df, lon=\"LON\", lat=\"LAT\"):\n",
    "    \"\"\"convert mat long to web mercartor\"\"\"\n",
    "\n",
    "    k = 6378137\n",
    "    df.loc[:,\"x\"] = df[lon] * (k * np.pi/180.0)\n",
    "    df.loc[:,\"y\"] = np.log(np.tan((90 + df[lat]) * np.pi/360.0)) * k\n",
    "    return df"
   ]
  },
  {
   "cell_type": "code",
   "execution_count": null,
   "id": "ordered-parts",
   "metadata": {},
   "outputs": [],
   "source": [
    "#df=pd.read_csv('thor_data_vietnam.csv', low_memory=False)"
   ]
  },
  {
   "cell_type": "markdown",
   "id": "spatial-humor",
   "metadata": {},
   "source": [
    "## get subset of columns"
   ]
  },
  {
   "cell_type": "code",
   "execution_count": null,
   "id": "plastic-application",
   "metadata": {},
   "outputs": [],
   "source": [
    "cols = ['MSNDATE','TGTCOUNTRY','TAKEOFFLOCATION','WEAPONTYPE','MFUNC_DESC','TGTLATDD_DDD_WGS84','TGTLONDDD_DDD_WGS84']\n",
    "s=df[cols]\n",
    "s=s.sort_values('MSNDATE')\n",
    "s.to_csv('thor_data_vietnam_small.csv')"
   ]
  },
  {
   "cell_type": "code",
   "execution_count": null,
   "id": "a4778c6f-5a26-40de-8b96-b4138ced7cd8",
   "metadata": {},
   "outputs": [],
   "source": [
    "s=pd.read_csv('thor_data_vietnam_small.csv', low_memory=False,index_col=0)\n",
    "s['MSNDATE'] = pd.to_datetime(s.MSNDATE, format='%Y/%m/%d',errors='coerce')\n",
    "s['YEAR'] = s.MSNDATE.dt.year.fillna(0).astype(int)\n",
    "s=s[s.YEAR>0]\n",
    "s = wgs84_to_web_mercator(s, lon=\"TGTLONDDD_DDD_WGS84\", lat=\"TGTLATDD_DDD_WGS84\")"
   ]
  },
  {
   "cell_type": "code",
   "execution_count": null,
   "id": "complimentary-chrome",
   "metadata": {},
   "outputs": [],
   "source": [
    "print (s.loc[50])"
   ]
  },
  {
   "cell_type": "code",
   "execution_count": null,
   "id": "duplicate-theology",
   "metadata": {},
   "outputs": [],
   "source": [
    "x = s[~s.TGTLATDD_DDD_WGS84.isnull()].copy()\n",
    "x = x[~x.TGTCOUNTRY.isin(['PHILLIPINES','UNKNOWN','WESTPAC WATERS'])]"
   ]
  },
  {
   "cell_type": "code",
   "execution_count": null,
   "id": "quiet-capitol",
   "metadata": {},
   "outputs": [],
   "source": [
    "c = x.TGTCOUNTRY.value_counts()\n",
    "c.plot(kind='pie',figsize=(6,6))\n",
    "print(c)\n",
    "plt.title('Missions flown per country')\n",
    "plt.savefig('thor_seasia_summary_totals.jpg',dpi=100)"
   ]
  },
  {
   "cell_type": "code",
   "execution_count": null,
   "id": "graphic-thousand",
   "metadata": {},
   "outputs": [],
   "source": [
    "w = x.WEAPONTYPE.value_counts()\n",
    "w[:20].plot(kind='barh',figsize=(8,5))"
   ]
  },
  {
   "cell_type": "code",
   "execution_count": null,
   "id": "975f85e3-65eb-4b03-a0aa-31d3d5e17fa9",
   "metadata": {},
   "outputs": [],
   "source": [
    "x.MFUNC_DESC.value_counts()[:12]"
   ]
  },
  {
   "cell_type": "code",
   "execution_count": null,
   "id": "operating-douglas",
   "metadata": {},
   "outputs": [],
   "source": [
    "y=pd.pivot_table(x,index='YEAR',columns=['TGTCOUNTRY'],values='x',aggfunc='size')\n",
    "y.plot(kind='bar',width=.9,figsize=(12,5))\n",
    "plt.title('Total missions per year')\n",
    "plt.savefig('thor_seasia_summary_byyear.jpg',dpi=100)"
   ]
  },
  {
   "cell_type": "code",
   "execution_count": null,
   "id": "b2b80374-55d7-4315-be5c-72836eeb6c1d",
   "metadata": {},
   "outputs": [],
   "source": [
    "#sns.catplot(x,x='year',hue='TGTCOUNTRY')\n",
    "x[12:14]"
   ]
  },
  {
   "cell_type": "markdown",
   "id": "e99f1b27-7183-4d27-99fd-44d6e40a1c8e",
   "metadata": {},
   "source": [
    "## laos"
   ]
  },
  {
   "cell_type": "code",
   "execution_count": null,
   "id": "8309a705-14c2-4333-8514-b45eebe1ac3e",
   "metadata": {},
   "outputs": [],
   "source": [
    "borders= gpd.read_file('SE_ASIA_PROVINCES_SV_NV_KH_LA.shp')"
   ]
  },
  {
   "cell_type": "code",
   "execution_count": null,
   "id": "8af961b0-d24c-4e48-b915-09c7533a385d",
   "metadata": {},
   "outputs": [],
   "source": [
    "borders.plot(column='COUNTRY',cmap='Set3',lw=.5,ec='black',figsize=(10,10))\n",
    "plt.savefig('seasia_map.jpg',dpi=150)"
   ]
  },
  {
   "cell_type": "code",
   "execution_count": null,
   "id": "7559ee6e-cc79-4654-97b8-ee0ee2d68754",
   "metadata": {},
   "outputs": [],
   "source": [
    "laos=x[x.TGTCOUNTRY=='LAOS']\n",
    "gdf=gpd.GeoDataFrame(laos, geometry=gpd.points_from_xy(laos.TGTLONDDD_DDD_WGS84, laos.TGTLATDD_DDD_WGS84),crs=\"EPSG:4326\")"
   ]
  },
  {
   "cell_type": "code",
   "execution_count": null,
   "id": "34baa34f-6b7e-42fe-a1cd-b7536df68c38",
   "metadata": {},
   "outputs": [],
   "source": [
    "laos.MFUNC_DESC.value_counts()[:10]"
   ]
  },
  {
   "cell_type": "code",
   "execution_count": null,
   "id": "52c3c61d-562a-4f17-a5b3-fb7f8b8f9715",
   "metadata": {},
   "outputs": [],
   "source": [
    "lts=laos.groupby('MSNDATE').agg({'MFUNC_DESC':'size'})\n",
    "lts.plot(figsize=(15,4))\n"
   ]
  },
  {
   "cell_type": "code",
   "execution_count": null,
   "id": "3a30fa3f-c64a-4df5-8b0f-c58c5a5df379",
   "metadata": {},
   "outputs": [],
   "source": [
    "f,ax=plt.subplots(3,3,figsize=(18,12))\n",
    "axs=list(ax.flat)\n",
    "i=0\n",
    "for y,g in gdf.groupby('YEAR'):\n",
    "    ax=axs[i]\n",
    "    borders.plot(column='COUNTRY',cmap='Set2',lw=.2,ec='gray',ax=ax)\n",
    "    g.plot(color='red',markersize=1,alpha=.5,ax=ax)\n",
    "    ax.set_xlim(100,110)\n",
    "    ax.set_ylim(13,23)\n",
    "    ax.set_title(y)    \n",
    "    i+=1\n",
    "f.suptitle('Bombing of Laos by year',fontsize=20)\n",
    "plt.tight_layout()\n",
    "plt.savefig('thor_laos_map_byyear.jpg',dpi=150)"
   ]
  },
  {
   "cell_type": "markdown",
   "id": "ab2dae94-dc9a-4d71-b012-34db16b2f347",
   "metadata": {},
   "source": [
    "## animate the plot"
   ]
  },
  {
   "cell_type": "code",
   "execution_count": 154,
   "id": "b5eb3f81-b7d4-4623-901a-847ccfb8784e",
   "metadata": {},
   "outputs": [
    {
     "data": {
      "text/plain": [
       "<Figure size 1296x1152 with 0 Axes>"
      ]
     },
     "metadata": {},
     "output_type": "display_data"
    }
   ],
   "source": [
    "f = plt.figure(figsize=(9,8))\n",
    "mpl_pane.object = f\n",
    "for date,g in gdf[:1500].groupby('MSNDATE'):  \n",
    "    plt.clf()\n",
    "    f.suptitle('LAOS BOMBING (THOR data)', fontsize=20)\n",
    "    ax=f.add_subplot(label=date)\n",
    "    borders.plot(column='COUNTRY',cmap='Set2',lw=.6,ec='gray',ax=ax)\n",
    "    g.plot(color='red',markersize=5,alpha=.5,ax=ax)\n",
    "    ax.set_xlim(100,110)\n",
    "    ax.set_ylim(13,23)\n",
    "    ax.set_title(date.strftime(\"%b %d %Y\"), fontsize=20)\n",
    "    mpl_pane.object=f\n",
    "    mpl_pane.param.trigger('object')\n",
    "    #ax.clear()\n",
    "plt.clf();"
   ]
  },
  {
   "cell_type": "code",
   "execution_count": 150,
   "id": "bdf88b5c-bff2-43ec-abc9-d4c72645a5a4",
   "metadata": {},
   "outputs": [
    {
     "data": {},
     "metadata": {},
     "output_type": "display_data"
    },
    {
     "data": {
      "application/vnd.holoviews_exec.v0+json": "",
      "text/html": [
       "<div id='15735'>\n",
       "\n",
       "\n",
       "\n",
       "\n",
       "\n",
       "  <div class=\"bk-root\" id=\"ceaee670-bbba-40ae-b771-1503d11d2eb3\" data-root-id=\"15735\"></div>\n",
       "</div>\n",
       "<script type=\"application/javascript\">(function(root) {\n",
       "  function embed_document(root) {\n",
       "    var docs_json = {\"9ace2506-fd13-4717-895c-d8b2a984b90d\":{\"defs\":[],\"roots\":{\"references\":[{\"attributes\":{\"height\":600,\"margin\":[5,5,5,5],\"name\":\"Matplotlib20342\",\"text\":\"<img></img>\"},\"id\":\"15735\",\"type\":\"panel.models.markup.HTML\"},{\"attributes\":{\"client_comm_id\":\"eb5c55a6c06240daa209ef8b75c08c2a\",\"comm_id\":\"d2274d1793404fa8933316ddd0d23ae5\",\"plot_id\":\"15735\"},\"id\":\"15736\",\"type\":\"panel.models.comm_manager.CommManager\"}],\"root_ids\":[\"15735\",\"15736\"]},\"title\":\"Bokeh Application\",\"version\":\"2.3.2\"}};\n",
       "    var render_items = [{\"docid\":\"9ace2506-fd13-4717-895c-d8b2a984b90d\",\"root_ids\":[\"15735\"],\"roots\":{\"15735\":\"ceaee670-bbba-40ae-b771-1503d11d2eb3\"}}];\n",
       "    root.Bokeh.embed.embed_items_notebook(docs_json, render_items);\n",
       "  }\n",
       "  if (root.Bokeh !== undefined && root.Bokeh.Panel !== undefined) {\n",
       "    embed_document(root);\n",
       "  } else {\n",
       "    var attempts = 0;\n",
       "    var timer = setInterval(function(root) {\n",
       "      if (root.Bokeh !== undefined && root.Bokeh.Panel !== undefined) {\n",
       "        clearInterval(timer);\n",
       "        embed_document(root);\n",
       "      } else if (document.readyState == \"complete\") {\n",
       "        attempts++;\n",
       "        if (attempts > 100) {\n",
       "          clearInterval(timer);\n",
       "          console.log(\"Bokeh: ERROR: Unable to run BokehJS code because BokehJS library is missing\");\n",
       "        }\n",
       "      }\n",
       "    }, 10, root)\n",
       "  }\n",
       "})(window);</script>"
      ],
      "text/plain": [
       "Matplotlib(None, height=600)"
      ]
     },
     "execution_count": 150,
     "metadata": {
      "application/vnd.holoviews_exec.v0+json": {
       "id": "15735"
      }
     },
     "output_type": "execute_result"
    }
   ],
   "source": [
    "mpl_pane = pn.pane.Matplotlib(height=600)\n",
    "mpl_pane"
   ]
  },
  {
   "cell_type": "markdown",
   "id": "8016dd69-0358-48b0-8ec4-06c40ab4c92e",
   "metadata": {},
   "source": [
    "## bokeh plots"
   ]
  },
  {
   "cell_type": "code",
   "execution_count": null,
   "id": "d0c260c2-9648-4082-a33e-fbb5bb8a54d6",
   "metadata": {},
   "outputs": [],
   "source": [
    "colormap={'NORTH VIETNAM':'brown','SOUTH VIETNAM':'orange','LAOS':'red',\n",
    "                'CAMBODIA':'green','THAILAND':'blue','UNKNOWN':'gray'}\n",
    "x.MFUNC_DESC.unique()\n",
    "import matplotlib\n",
    "cmap = matplotlib.cm.get_cmap('Set1')\n",
    "#names = cols\n",
    "#olors = cmap(np.linspace(0, 1, len(names)))\n",
    "#m={i:c for i, c in zip(names, colors)}\n",
    "\n",
    "providers = ['CARTODBPOSITRON','STAMEN_TERRAIN','OSM','ESRI_IMAGERY']\n",
    "cats = ['TGTCOUNTRY','WEAPONTYPE','MFUNC_DESC']"
   ]
  },
  {
   "cell_type": "code",
   "execution_count": null,
   "id": "c7494d1b-3906-4733-b118-2b77b6eaca9b",
   "metadata": {},
   "outputs": [],
   "source": [
    "def draw_map(df=None, long=None, lat=None, height=500, colorby='TGTCOUNTRY',\n",
    "             point_size=5,\n",
    "              tile_provider='CARTODBPOSITRON'):\n",
    "    tile_provider = get_provider(tile_provider)\n",
    "    tools = \"pan,wheel_zoom,box_zoom,hover,tap,lasso_select,reset,save\"\n",
    "    sizing_mode='stretch_both'\n",
    "\n",
    "    # range bounds supplied in web mercator coordinates\n",
    "    k = 6378137\n",
    "    pad = 600000\n",
    "    if lat == None:\n",
    "        lat = 14\n",
    "    if long == None:\n",
    "        long = 108\n",
    "    x = long * (k * np.pi/180.0)\n",
    "    y = np.log(np.tan((90 + lat) * np.pi/360.0)) * k\n",
    "      \n",
    "    p = figure(x_range=(x-pad, x+pad), y_range=(y-pad, y+pad),\n",
    "               x_axis_type=\"mercator\", y_axis_type=\"mercator\", tools=tools,\n",
    "               plot_width=height, plot_height=height, sizing_mode=sizing_mode)\n",
    "    p.add_tile(tile_provider)\n",
    "    if df is None:\n",
    "        return\n",
    "    df.loc[:,'color'] = [colormap[i] if i in colormap else 'gray' for i in df[colorby]]\n",
    "    #df['size'] = 10\n",
    "    source = ColumnDataSource(df)    \n",
    "    p.circle(x='x', y='y', size=point_size, alpha=0.7, color='color', source=source)#, legend_group=colorby)\n",
    "    p.toolbar.logo = None    \n",
    "    p.title.text = \"date\"\n",
    "    hover = p.select(dict(type=HoverTool))\n",
    "    hover.tooltips = OrderedDict([\n",
    "        (\"TGTCOUNTRY\", \"@TGTCOUNTRY\"),\n",
    "        (\"MSNDATE\", \"@MSNDATE{%F}\"),\n",
    "        (\"TAKEOFFLOCATION\", \"@TAKEOFFLOCATION\"),\n",
    "        (\"WEAPONTYPE\", \"@WEAPONTYPE\"),\n",
    "        (\"MFUNC_DESC\", \"@MFUNC_DESC\")     \n",
    "    ])\n",
    "    hover.formatters={'@MSNDATE': 'datetime'}\n",
    "    return p "
   ]
  },
  {
   "cell_type": "code",
   "execution_count": null,
   "id": "3b95c177-7847-46ca-a6d4-1f08903a630c",
   "metadata": {},
   "outputs": [],
   "source": [
    "p = draw_map(x[:5000])\n",
    "#pn.pane.Bokeh(p)"
   ]
  },
  {
   "cell_type": "markdown",
   "id": "efficient-certification",
   "metadata": {},
   "source": [
    "## dashboard"
   ]
  },
  {
   "cell_type": "code",
   "execution_count": null,
   "id": "worse-eugene",
   "metadata": {},
   "outputs": [],
   "source": [
    "cols = list(x.columns)\n",
    "colorby='TGTCOUNTRY'\n",
    "map_pane=pn.pane.Bokeh(width=700)\n",
    "df_pane = pn.pane.DataFrame(width=600,height=600)\n",
    "tile_select = pnw.Select(name='tile layer',options=providers,width=200)\n",
    "filterby_select = pnw.Select(name='filter by',value='',options=['']+cols[1:4],width=200)\n",
    "value_select = pnw.Select(name='value',value='',options=[],width=200)\n",
    "find_btn = pnw.Button(name='find in region',button_type='primary',width=200)\n",
    "\n",
    "def update_tile(event=None):\n",
    "    p = map_pane.object\n",
    "    p.renderers = [x for x in p.renderers if not str(x).startswith('TileRenderer')]\n",
    "    rend = renderers.TileRenderer(tile_source= get_provider(tile_select.value))\n",
    "    p.renderers.insert(0, rend)\n",
    "\n",
    "def update_filter(event):\n",
    "    col=filterby_select.value\n",
    "    if col=='':\n",
    "        value_select.options = []\n",
    "    else:\n",
    "        value_select.options = list(x[col].unique())\n",
    "    \n",
    "def find_in_region(event):\n",
    "    #get points in selected map area\n",
    "    p = map_pane.object\n",
    "    d = x[(x.x>p.x_range.start) & (x.x<p.x_range.end) & (x.y>p.y_range.start) & (x.y<p.y_range.end)]\n",
    "    #print (len(sel))\n",
    "    if len(d)==0:\n",
    "        return\n",
    "    elif len(d)>20000:\n",
    "        p.title.text = 'too many points!'\n",
    "        return\n",
    "    d.loc[:,'color'] = [colormap[i] if i in colormap else 'gray' for i in d[colorby]]\n",
    "    source = p.renderers[1].data_source\n",
    "    source.data = dict(d)\n",
    "    p.title.text = 'selected %s points' %len(d)\n",
    "    update_tile()\n",
    "    #df_pane.object=d\n",
    "    return\n",
    "\n",
    "def update_map(event=None):\n",
    "    \n",
    "    date = str(date_picker.value)\n",
    "    #print (val)\n",
    "    d = x[x.MSNDATE==date]\n",
    "    col = filterby_select.value\n",
    "    val = value_select.value\n",
    "    if col != '':\n",
    "        d = d[d[col]==val]    \n",
    "    if len(d)==0:\n",
    "        return        \n",
    "  \n",
    "    d.loc[:,'color'] = [colormap[i] if i in colormap else 'gray' for i in d[colorby]]  \n",
    "    p = map_pane.object\n",
    "    source = p.renderers[1].data_source\n",
    "    source.data = dict(d)\n",
    "    p.title.text = date\n",
    "    \n",
    "date='1968-01-01'\n",
    "d = x[x.MSNDATE==date]\n",
    "map_pane.object=draw_map(d)\n",
    "#date_picker = pnw.DatePicker(name='Date Picker', value=dt.datetime(1965, 1, 1))\n",
    "date_picker = pnw.DateSlider(name='Date', start=dt.datetime(1965, 1, 1), \n",
    "                             end=dt.datetime(1973, 10, 31), value=dt.datetime(1968, 1, 1))\n",
    "date_picker.param.watch(update_map,'value')\n",
    "tile_select.param.watch(update_tile,'value')\n",
    "filterby_select.param.watch(update_filter,'value')\n",
    "value_select.param.watch(update_map,'value')\n",
    "find_btn.on_click(find_in_region)\n",
    "\n",
    "pn.Column(date_picker,pn.Row(pn.Column(tile_select,filterby_select,value_select,find_btn),map_pane))"
   ]
  },
  {
   "cell_type": "markdown",
   "id": "pretty-david",
   "metadata": {},
   "source": [
    "## animate"
   ]
  },
  {
   "cell_type": "code",
   "execution_count": null,
   "id": "621aa24d-c3b3-4332-9c60-69f74e5f74ab",
   "metadata": {},
   "outputs": [],
   "source": [
    "pane=pn.pane.Bokeh(draw_map(x[:1]),width=400,height=400)\n",
    "pane"
   ]
  },
  {
   "cell_type": "code",
   "execution_count": null,
   "id": "alpine-stylus",
   "metadata": {},
   "outputs": [],
   "source": [
    "for i,d in x[:5000].groupby('MSNDATE'):\n",
    "    print (i)\n",
    "    p=pane.object\n",
    "    source = p.renderers[1].data_source  \n",
    "    source.data=dict(d)\n",
    "    #p=draw_map(d)"
   ]
  },
  {
   "cell_type": "code",
   "execution_count": null,
   "id": "b62765f4-ba4b-4bb0-9040-cdc50228e785",
   "metadata": {},
   "outputs": [],
   "source": []
  }
 ],
 "metadata": {
  "kernelspec": {
   "display_name": "Python 3",
   "language": "python",
   "name": "python3"
  },
  "language_info": {
   "codemirror_mode": {
    "name": "ipython",
    "version": 3
   },
   "file_extension": ".py",
   "mimetype": "text/x-python",
   "name": "python",
   "nbconvert_exporter": "python",
   "pygments_lexer": "ipython3",
   "version": "3.9.4"
  }
 },
 "nbformat": 4,
 "nbformat_minor": 5
}
