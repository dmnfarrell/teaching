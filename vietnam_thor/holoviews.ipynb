{
 "cells": [
  {
   "cell_type": "markdown",
   "id": "5fb7735e-c02f-41c1-8bcc-58ce0e3c1a6a",
   "metadata": {},
   "source": [
    "# Vietnam THOR dataset plots with geoviews"
   ]
  },
  {
   "cell_type": "code",
   "execution_count": null,
   "id": "4fba73ef-e734-4960-93c8-4004fedd7d86",
   "metadata": {},
   "outputs": [],
   "source": [
    "import pandas as pd\n",
    "import numpy as np\n",
    "import pylab as plt\n",
    "from collections import OrderedDict\n",
    "import datetime as dt\n",
    "import geopandas as gpd\n",
    "\n",
    "import holoviews as hv\n",
    "import datashader as dsh\n",
    "from holoviews import opts\n",
    "from holoviews.operation.datashader import datashade, shade, dynspread, spread, rasterize\n",
    "from holoviews.operation import decimate\n",
    "hv.extension('bokeh', 'matplotlib')"
   ]
  },
  {
   "cell_type": "code",
   "execution_count": null,
   "id": "715183ab-cce0-4e7c-8675-f95e52cc18c6",
   "metadata": {},
   "outputs": [],
   "source": [
    "def wgs84_to_web_mercator(df, lon=\"LON\", lat=\"LAT\"):\n",
    "    \"\"\"convert mat long to web mercartor\"\"\"\n",
    "\n",
    "    k = 6378137\n",
    "    df.loc[:,\"x\"] = df[lon] * (k * np.pi/180.0)\n",
    "    df.loc[:,\"y\"] = np.log(np.tan((90 + df[lat]) * np.pi/360.0)) * k\n",
    "    return df"
   ]
  },
  {
   "cell_type": "code",
   "execution_count": null,
   "id": "1c79c000-faf1-46c8-ab98-9208745e5633",
   "metadata": {},
   "outputs": [],
   "source": [
    "s=pd.read_csv('thor_data_vietnam_small.csv', low_memory=False,index_col=0)\n",
    "s['MSNDATE'] = pd.to_datetime(s.MSNDATE, format='%Y/%m/%d',errors='coerce')\n",
    "s['YEAR'] = s.MSNDATE.dt.year.fillna(0).astype(int)\n",
    "s = s[s.YEAR>0]\n",
    "s = s[~s.TGTLATDD_DDD_WGS84.isnull()]\n",
    "s = wgs84_to_web_mercator(s, lon=\"TGTLONDDD_DDD_WGS84\", lat=\"TGTLATDD_DDD_WGS84\")"
   ]
  },
  {
   "cell_type": "code",
   "execution_count": null,
   "id": "61bbb574-6a56-4b36-9a6e-9d7ed3809392",
   "metadata": {},
   "outputs": [],
   "source": [
    "laos=s[s.TGTCOUNTRY=='LAOS']\n",
    "laos[:4]"
   ]
  },
  {
   "cell_type": "code",
   "execution_count": null,
   "id": "c909a346-5ab0-401f-a2a3-c2508a299695",
   "metadata": {},
   "outputs": [],
   "source": [
    "ropts = dict(tools=[\"hover\"], height=380, width=330, colorbar=True, colorbar_position=\"bottom\")\n",
    "\n",
    "hv.Layout([rasterize(hv.Points(laos)).opts(**ropts).opts(cnorm=\"linear\").relabel(\"linear\")])"
   ]
  },
  {
   "cell_type": "code",
   "execution_count": null,
   "id": "6bf1ade2-803f-454e-90e4-876b1004fcc5",
   "metadata": {},
   "outputs": [],
   "source": []
  }
 ],
 "metadata": {
  "kernelspec": {
   "display_name": "Python 3",
   "language": "python",
   "name": "python3"
  },
  "language_info": {
   "codemirror_mode": {
    "name": "ipython",
    "version": 3
   },
   "file_extension": ".py",
   "mimetype": "text/x-python",
   "name": "python",
   "nbconvert_exporter": "python",
   "pygments_lexer": "ipython3",
   "version": "3.9.4"
  }
 },
 "nbformat": 4,
 "nbformat_minor": 5
}
