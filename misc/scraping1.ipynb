{
 "cells": [
  {
   "cell_type": "markdown",
   "id": "38b6f557-7906-4f8d-8ffc-47b28a53523a",
   "metadata": {},
   "source": [
    "# BeautifulSoup to scrape a paginated table"
   ]
  },
  {
   "cell_type": "code",
   "execution_count": 3,
   "id": "353c690a-1582-46ed-b425-d23ca10030c3",
   "metadata": {},
   "outputs": [],
   "source": [
    "import time\n",
    "import pandas as pd\n",
    "from bs4 import BeautifulSoup\n",
    "import requests\n"
   ]
  },
  {
   "cell_type": "code",
   "execution_count": 128,
   "id": "409b9e7e-55cb-4d17-a074-e92bbf2a7b8e",
   "metadata": {},
   "outputs": [],
   "source": [
    "def get_page(n):\n",
    "    url = 'https://scotlandsplaces.gov.uk/digital-volumes/ordnance-survey-name-books/caithness-os-name-books-1871-1873?page=%s&display=placenames' %n\n",
    "    req = requests.get(url)\n",
    "    soup = BeautifulSoup(req.content, 'html.parser') \n",
    "   \n",
    "    rows = soup.find(\"table\").find(\"tbody\").find_all(\"tr\")\n",
    "    result=[]\n",
    "    for row in rows:\n",
    "        cells = row.find_all(\"td\")\n",
    "        rn = [d.get_text() for d in cells]\n",
    "        #print (rn)\n",
    "        result.append(rn)\n",
    "    return pd.DataFrame(result,columns=['placename','page','book'])\n",
    "        "
   ]
  },
  {
   "cell_type": "code",
   "execution_count": 130,
   "id": "8878745b-b9e8-449b-9a62-87affde6abd1",
   "metadata": {},
   "outputs": [],
   "source": [
    "res=[]\n",
    "for page in range(0,264):\n",
    "    df = get_page(page)\n",
    "    res.append(df)\n",
    "res=pd.concat(res)"
   ]
  },
  {
   "cell_type": "code",
   "execution_count": 132,
   "id": "a7c20b44-3ea2-4ddc-959e-4c681f66e76c",
   "metadata": {},
   "outputs": [],
   "source": [
    "res.to_csv('scotlandsplaces.csv',index=False)"
   ]
  },
  {
   "cell_type": "code",
   "execution_count": null,
   "id": "4d79d951-d805-4b74-8db4-d34e72a8e658",
   "metadata": {},
   "outputs": [],
   "source": []
  }
 ],
 "metadata": {
  "kernelspec": {
   "display_name": "Python 3",
   "language": "python",
   "name": "python3"
  },
  "language_info": {
   "codemirror_mode": {
    "name": "ipython",
    "version": 3
   },
   "file_extension": ".py",
   "mimetype": "text/x-python",
   "name": "python",
   "nbconvert_exporter": "python",
   "pygments_lexer": "ipython3",
   "version": "3.9.7"
  }
 },
 "nbformat": 4,
 "nbformat_minor": 5
}
