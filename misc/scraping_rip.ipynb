{
 "cells": [
  {
   "cell_type": "markdown",
   "id": "347aae96-d9f9-41c1-ad5f-9e1e96e6b730",
   "metadata": {},
   "source": [
    "# web scraping RIP.ie with beautifulsoup"
   ]
  },
  {
   "cell_type": "code",
   "execution_count": 553,
   "id": "5004cd5b-5908-41ec-b95d-82562ae63711",
   "metadata": {},
   "outputs": [],
   "source": [
    "import time\n",
    "import pandas as pd\n",
    "from bs4 import BeautifulSoup\n",
    "import requests\n",
    "import datefinder\n",
    "\n",
    "def get_dn_page(n):\n",
    "    \"\"\"Get death notice text from page matching the id number\"\"\"\n",
    "    \n",
    "    url = 'https://rip.ie/showdn.php?dn=%s' %n\n",
    "    req = requests.get(url)\n",
    "    soup = BeautifulSoup(req.content, 'html.parser')\n",
    "    title  = soup.title.text.strip()\n",
    "    name=''    \n",
    "    for s in ['Death Notice of ','The death has occurred of ']:\n",
    "        if title.startswith(s):\n",
    "            name = title.split(s)[1]   \n",
    "    elem = soup.find_all(\"div\", id=\"dn_photo_and_text\")\n",
    "    \n",
    "    if len(elem) == 0:\n",
    "        return name, '', '', '', ''\n",
    "    rows = elem[0].find_all('p')\n",
    "    if len(rows) == 0:\n",
    "        rows = elem[0].find_all('td')\n",
    "    text = ';'.join([r.text.strip() for r in rows]).replace('\\n','')\n",
    "    #address\n",
    "    addrelem = soup.find(\"span\", class_='small_addr') \n",
    "    if addrelem != None:\n",
    "        address = addrelem.text.strip()\n",
    "    else:\n",
    "        address = ''\n",
    "    #county  \n",
    "    ctyelem = soup.find(\"li\", class_='fd_county') \n",
    "    if ctyelem != None:\n",
    "        county = ctyelem.text.strip()\n",
    "    else:\n",
    "        county = ''\n",
    "    #date\n",
    "    dateelem = soup.find(\"div\", class_='ddeath')\n",
    "    if dateelem == None:\n",
    "        dateelem = soup.find(\"div\", class_='dpubl')\n",
    "    s = dateelem.text.strip()\n",
    "    try:\n",
    "        date = list(datefinder.find_dates(s))[0]\n",
    "    except:\n",
    "        date = ''\n",
    "    print (n, date, name, address, county)\n",
    "    return name, date, county, address, text"
   ]
  },
  {
   "cell_type": "code",
   "execution_count": null,
   "id": "de167694-e030-4289-9f9d-e98541fe78f6",
   "metadata": {},
   "outputs": [],
   "source": [
    "get_dn_page(390045)"
   ]
  },
  {
   "cell_type": "markdown",
   "id": "26620489-345c-4f6a-919d-e48b826b2393",
   "metadata": {},
   "source": [
    "## iterate over a range of ids and get info"
   ]
  },
  {
   "cell_type": "code",
   "execution_count": null,
   "id": "532df69c-9845-4ca6-8c53-749155759d1f",
   "metadata": {},
   "outputs": [],
   "source": [
    "#read current table in so we skip those already done\n",
    "df = pd.read_csv('rip_dn_scrape.csv',index_col=0)\n",
    "ids = list(df.index)\n",
    "\n",
    "results={}\n",
    "for n in range(308410,461389):\n",
    "    if n in ids:\n",
    "        continue\n",
    "    name,date,cty,addr,txt = get_dn_page(n)\n",
    "    if text != '':\n",
    "        results[n] = [name,date,cty,addr,txt]\n",
    "    time.sleep(0.05)"
   ]
  },
  {
   "cell_type": "code",
   "execution_count": null,
   "id": "45e5d930-0ba6-4824-a5ea-b3599faaa6db",
   "metadata": {},
   "outputs": [],
   "source": [
    "res = pd.DataFrame.from_dict(results,orient='index',columns=['name','date','county','address','notice'])"
   ]
  },
  {
   "cell_type": "code",
   "execution_count": 606,
   "id": "fd68e48e-9ea7-4838-a7fe-b05ce9b3e594",
   "metadata": {},
   "outputs": [
    {
     "data": {
      "text/html": [
       "<div>\n",
       "<style scoped>\n",
       "    .dataframe tbody tr th:only-of-type {\n",
       "        vertical-align: middle;\n",
       "    }\n",
       "\n",
       "    .dataframe tbody tr th {\n",
       "        vertical-align: top;\n",
       "    }\n",
       "\n",
       "    .dataframe thead th {\n",
       "        text-align: right;\n",
       "    }\n",
       "</style>\n",
       "<table border=\"1\" class=\"dataframe\">\n",
       "  <thead>\n",
       "    <tr style=\"text-align: right;\">\n",
       "      <th></th>\n",
       "      <th>name</th>\n",
       "      <th>date</th>\n",
       "      <th>address</th>\n",
       "      <th>notice</th>\n",
       "      <th>county</th>\n",
       "    </tr>\n",
       "  </thead>\n",
       "  <tbody>\n",
       "    <tr>\n",
       "      <th>390000</th>\n",
       "      <td>John  Rushe Snr</td>\n",
       "      <td>2019-06-04</td>\n",
       "      <td>Pearse Ave., Mervue,  Galway / Galway City, Ga...</td>\n",
       "      <td>Formerly Grattan Tce., The Claddagh. Beloved h...</td>\n",
       "      <td>NaN</td>\n",
       "    </tr>\n",
       "    <tr>\n",
       "      <th>390001</th>\n",
       "      <td>Sheila  Higgins (née Kenny)</td>\n",
       "      <td>2019-06-05</td>\n",
       "      <td>Lombard Street West, Dublin 8,  Dublin</td>\n",
       "      <td>Higgins (née Kenny), Sheila,  5th June 2019, O...</td>\n",
       "      <td>NaN</td>\n",
       "    </tr>\n",
       "    <tr>\n",
       "      <th>390002</th>\n",
       "      <td>Fintan (Millhouse)  Maguire</td>\n",
       "      <td>2019-06-04</td>\n",
       "      <td>Kilmessan,  Meath</td>\n",
       "      <td>Maguire (Millhouse) Fintan, Kilmessan, Co. Mea...</td>\n",
       "      <td>NaN</td>\n",
       "    </tr>\n",
       "    <tr>\n",
       "      <th>390003</th>\n",
       "      <td>Robert  Scott</td>\n",
       "      <td>2019-06-05</td>\n",
       "      <td>Blackrock,  Cork / Wexford</td>\n",
       "      <td>SCOTT (Cork, Wexford and Leeds):  On June 5, 2...</td>\n",
       "      <td>NaN</td>\n",
       "    </tr>\n",
       "    <tr>\n",
       "      <th>390004</th>\n",
       "      <td>Nora  Ryan (née Griffin)</td>\n",
       "      <td>2019-06-05</td>\n",
       "      <td>Ballykillaboy, Kilmacow,  Kilkenny</td>\n",
       "      <td>Wife of the late Johnny. Deeply regretted by h...</td>\n",
       "      <td>NaN</td>\n",
       "    </tr>\n",
       "    <tr>\n",
       "      <th>...</th>\n",
       "      <td>...</td>\n",
       "      <td>...</td>\n",
       "      <td>...</td>\n",
       "      <td>...</td>\n",
       "      <td>...</td>\n",
       "    </tr>\n",
       "    <tr>\n",
       "      <th>348575</th>\n",
       "      <td>Pauline  O'Brien</td>\n",
       "      <td>2018-03-06 00:00:00</td>\n",
       "      <td>Mullingar Rd., Tyrrellspass,  Westmeath</td>\n",
       "      <td>Pauline O'Brien, 6th March 2018 died peacefull...</td>\n",
       "      <td>Westmeath</td>\n",
       "    </tr>\n",
       "    <tr>\n",
       "      <th>348576</th>\n",
       "      <td>Ann  Alldritt (née Boylan)</td>\n",
       "      <td>2018-03-06 00:00:00</td>\n",
       "      <td>Devere Court, Carew Park, Limerick City,  Lime...</td>\n",
       "      <td>Ann Alldritt nee Boylan, Devere Court, Carew P...</td>\n",
       "      <td>Limerick</td>\n",
       "    </tr>\n",
       "    <tr>\n",
       "      <th>348577</th>\n",
       "      <td>Darren  Fitzpatrick</td>\n",
       "      <td>2018-03-06 00:00:00</td>\n",
       "      <td>Gillardstown, Collinstown,  Westmeath / Kildar...</td>\n",
       "      <td>Darren Fitzpatrick, Gillardstown, Collinstown,...</td>\n",
       "      <td>Westmeath</td>\n",
       "    </tr>\n",
       "    <tr>\n",
       "      <th>348578</th>\n",
       "      <td>Bill  REID</td>\n",
       "      <td>2018-03-05 00:00:00</td>\n",
       "      <td>Clogher Road, Dublin 12,  Dublin</td>\n",
       "      <td>REID, Bill (Lanzarote and formerly of Clogher ...</td>\n",
       "      <td>Dublin</td>\n",
       "    </tr>\n",
       "    <tr>\n",
       "      <th>348579</th>\n",
       "      <td>Carmel  Macken (née Renwick)</td>\n",
       "      <td>2018-03-06 00:00:00</td>\n",
       "      <td>Raheny,  Dublin</td>\n",
       "      <td>Macken (nee Renwick), Carmel, Raheny, 6th Marc...</td>\n",
       "      <td>Dublin</td>\n",
       "    </tr>\n",
       "  </tbody>\n",
       "</table>\n",
       "<p>95711 rows × 5 columns</p>\n",
       "</div>"
      ],
      "text/plain": [
       "                                name                 date  \\\n",
       "390000               John  Rushe Snr           2019-06-04   \n",
       "390001   Sheila  Higgins (née Kenny)           2019-06-05   \n",
       "390002   Fintan (Millhouse)  Maguire           2019-06-04   \n",
       "390003                 Robert  Scott           2019-06-05   \n",
       "390004      Nora  Ryan (née Griffin)           2019-06-05   \n",
       "...                              ...                  ...   \n",
       "348575              Pauline  O'Brien  2018-03-06 00:00:00   \n",
       "348576    Ann  Alldritt (née Boylan)  2018-03-06 00:00:00   \n",
       "348577           Darren  Fitzpatrick  2018-03-06 00:00:00   \n",
       "348578                    Bill  REID  2018-03-05 00:00:00   \n",
       "348579  Carmel  Macken (née Renwick)  2018-03-06 00:00:00   \n",
       "\n",
       "                                                  address  \\\n",
       "390000  Pearse Ave., Mervue,  Galway / Galway City, Ga...   \n",
       "390001             Lombard Street West, Dublin 8,  Dublin   \n",
       "390002                                  Kilmessan,  Meath   \n",
       "390003                         Blackrock,  Cork / Wexford   \n",
       "390004                 Ballykillaboy, Kilmacow,  Kilkenny   \n",
       "...                                                   ...   \n",
       "348575            Mullingar Rd., Tyrrellspass,  Westmeath   \n",
       "348576  Devere Court, Carew Park, Limerick City,  Lime...   \n",
       "348577  Gillardstown, Collinstown,  Westmeath / Kildar...   \n",
       "348578                   Clogher Road, Dublin 12,  Dublin   \n",
       "348579                                    Raheny,  Dublin   \n",
       "\n",
       "                                                   notice     county  \n",
       "390000  Formerly Grattan Tce., The Claddagh. Beloved h...        NaN  \n",
       "390001  Higgins (née Kenny), Sheila,  5th June 2019, O...        NaN  \n",
       "390002  Maguire (Millhouse) Fintan, Kilmessan, Co. Mea...        NaN  \n",
       "390003  SCOTT (Cork, Wexford and Leeds):  On June 5, 2...        NaN  \n",
       "390004  Wife of the late Johnny. Deeply regretted by h...        NaN  \n",
       "...                                                   ...        ...  \n",
       "348575  Pauline O'Brien, 6th March 2018 died peacefull...  Westmeath  \n",
       "348576  Ann Alldritt nee Boylan, Devere Court, Carew P...   Limerick  \n",
       "348577  Darren Fitzpatrick, Gillardstown, Collinstown,...  Westmeath  \n",
       "348578  REID, Bill (Lanzarote and formerly of Clogher ...     Dublin  \n",
       "348579  Macken (nee Renwick), Carmel, Raheny, 6th Marc...     Dublin  \n",
       "\n",
       "[95711 rows x 5 columns]"
      ]
     },
     "execution_count": 606,
     "metadata": {},
     "output_type": "execute_result"
    }
   ],
   "source": [
    "res"
   ]
  },
  {
   "cell_type": "code",
   "execution_count": 603,
   "id": "6ff21563-f292-4ce4-a5a3-085670d82227",
   "metadata": {},
   "outputs": [],
   "source": [
    "res = pd.concat([df,res])\n",
    "res.to_csv('rip_dn_scrape.csv')"
   ]
  },
  {
   "cell_type": "code",
   "execution_count": 604,
   "id": "a950cdc6-367e-430c-bb38-7f6a232c30a9",
   "metadata": {},
   "outputs": [
    {
     "name": "stdout",
     "output_type": "stream",
     "text": [
      "95711 73311\n"
     ]
    }
   ],
   "source": [
    "x=res.replace('',None).dropna(how='any')\n",
    "x['date'] = pd.to_datetime(x['date']).apply(lambda x: x.strftime('%d/%m/%Y'))\n",
    "x=x.drop_duplicates(['name','notice'])\n",
    "print (len(res),len(x))\n",
    "x.to_csv('rip_dn_scrape_processed.csv')"
   ]
  },
  {
   "cell_type": "markdown",
   "id": "a564a795-a283-4d31-9a08-b6d5560f6340",
   "metadata": {},
   "source": [
    "## test matching"
   ]
  },
  {
   "cell_type": "code",
   "execution_count": 382,
   "id": "c83f1b30-e194-4f4d-9527-85080792c1a0",
   "metadata": {},
   "outputs": [],
   "source": [
    "targets=pd.DataFrame([('Lottie Graham','BigPark, Ballintra, Co Donegal'),('a','b')],columns=('name','address'))"
   ]
  },
  {
   "cell_type": "code",
   "execution_count": null,
   "id": "fea513e0-d9a9-42d7-a12e-0286f27449bd",
   "metadata": {},
   "outputs": [],
   "source": [
    "targets\n",
    "\n",
    "def find_match(x,s):\n",
    "    if s in str(x.notice):\n",
    "        return True\n",
    "    return False\n",
    "\n",
    "s='Rialto'\n",
    "x=res.apply(lambda x: find_match(x,s),1)\n",
    "res[x]"
   ]
  },
  {
   "cell_type": "code",
   "execution_count": null,
   "id": "44842201-3cd9-4147-add9-475de1e95121",
   "metadata": {},
   "outputs": [],
   "source": []
  }
 ],
 "metadata": {
  "kernelspec": {
   "display_name": "Python 3",
   "language": "python",
   "name": "python3"
  },
  "language_info": {
   "codemirror_mode": {
    "name": "ipython",
    "version": 3
   },
   "file_extension": ".py",
   "mimetype": "text/x-python",
   "name": "python",
   "nbconvert_exporter": "python",
   "pygments_lexer": "ipython3",
   "version": "3.9.5"
  }
 },
 "nbformat": 4,
 "nbformat_minor": 5
}
