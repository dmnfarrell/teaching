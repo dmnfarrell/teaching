{
 "cells": [
  {
   "cell_type": "markdown",
   "id": "d4327582",
   "metadata": {},
   "source": [
    "# web scraping RIP.ie with beautifulsoup"
   ]
  },
  {
   "cell_type": "code",
   "execution_count": 8,
   "id": "5c2fc234",
   "metadata": {},
   "outputs": [],
   "source": [
    "import time\n",
    "import pandas as pd\n",
    "from bs4 import BeautifulSoup\n",
    "import requests\n",
    "import datefinder\n",
    "\n",
    "def get_dn_page(n):\n",
    "    \"\"\"Get death notice text from page matching the id number\"\"\"\n",
    "    \n",
    "    url = 'https://rip.ie/showdn.php?dn=%s' %n\n",
    "    req = requests.get(url)\n",
    "    soup = BeautifulSoup(req.content, 'html.parser')\n",
    "    if soup.title == None:\n",
    "        title = ''\n",
    "    else:        \n",
    "        title  = soup.title.text.strip()\n",
    "    name=''    \n",
    "    for s in ['Death Notice of ','The death has occurred of ']:\n",
    "        if title.startswith(s):\n",
    "            name = title.split(s)[1]   \n",
    "    elem = soup.find_all(\"div\", id=\"dn_photo_and_text\")\n",
    "    \n",
    "    if len(elem) == 0:\n",
    "        return name, '', '', '', ''\n",
    "    rows = elem[0].find_all('p')\n",
    "    if len(rows) == 0:\n",
    "        rows = elem[0].find_all('td')\n",
    "    text = ';'.join([r.text.strip() for r in rows]).replace('\\n','')\n",
    "    #address\n",
    "    addrelem = soup.find(\"span\", class_='small_addr') \n",
    "    if addrelem != None:\n",
    "        address = addrelem.text.strip()\n",
    "    else:\n",
    "        address = ''\n",
    "    #county  \n",
    "    ctyelem = soup.find(\"li\", class_='fd_county') \n",
    "    if ctyelem != None:\n",
    "        county = ctyelem.text.strip()\n",
    "    else:\n",
    "        county = ''\n",
    "    #date\n",
    "    dateelem = soup.find(\"div\", class_='ddeath')\n",
    "    if dateelem == None:\n",
    "        dateelem = soup.find(\"div\", class_='dpubl')\n",
    "    s = dateelem.text.strip()\n",
    "    try:\n",
    "        date = list(datefinder.find_dates(s))[0]\n",
    "    except:\n",
    "        date = ''\n",
    "    print (n, date, name, address, county)\n",
    "    return name, date, county, address, text"
   ]
  },
  {
   "cell_type": "code",
   "execution_count": 9,
   "id": "976c32f1",
   "metadata": {},
   "outputs": [
    {
     "name": "stdout",
     "output_type": "stream",
     "text": [
      "390045 2019-06-05 00:00:00 Margaret  Kelly Avenue Grove, Ballymodan Place, Bandon,  Cork Cork\n"
     ]
    },
    {
     "data": {
      "text/plain": [
       "('Margaret  Kelly',\n",
       " datetime.datetime(2019, 6, 5, 0, 0),\n",
       " 'Cork',\n",
       " 'Avenue Grove, Ballymodan Place, Bandon,  Cork',\n",
       " \"Kelly (Avenue Grove, Ballymodan Place, Bandon and late of Currivreeda West) on June 5th 2019. Margaret, beloved daughter of the late Timothy and Ellen. Sadly missed by her loving sisters Ann and Eileen, brothers Teddy and John, Margaret's Partner William, brothers-in-law, sisters-in-law, nieces, nephews, relatives and good friend Malcolm.;;Rosary on Friday evening at 7pm in St. Patrick's Church, Bandon. Requiem Mass on Saturday at 12 noon, funeral afterwards to the adjoining cemetery.;;May Margaret Rest in Peace\")"
      ]
     },
     "execution_count": 9,
     "metadata": {},
     "output_type": "execute_result"
    }
   ],
   "source": [
    "get_dn_page(390045)"
   ]
  },
  {
   "cell_type": "code",
   "execution_count": 10,
   "id": "6f45c0c7",
   "metadata": {},
   "outputs": [
    {
     "data": {
      "text/plain": [
       "484021"
      ]
     },
     "execution_count": 10,
     "metadata": {},
     "output_type": "execute_result"
    }
   ],
   "source": [
    "#df = pd.read_csv('rip_dn_scrape.csv')\n",
    "df = pd.read_pickle('rip_dn_scrape.pkl')\n",
    "len(df)"
   ]
  },
  {
   "cell_type": "markdown",
   "id": "306e0b4a",
   "metadata": {},
   "source": [
    "## iterate over a range of ids and get info"
   ]
  },
  {
   "cell_type": "code",
   "execution_count": null,
   "id": "274a23b7",
   "metadata": {},
   "outputs": [],
   "source": [
    "#read current table in so we skip those already done\n",
    "df = pd.read_pickle('rip_dn_scrape.pkl')\n",
    "print (len(df))\n",
    "ids = list(df.id)\n",
    "\n",
    "results={}\n",
    "for n in range(482000,484892):\n",
    "    if n in ids:\n",
    "        continue\n",
    "    name,date,cty,addr,txt = get_dn_page(n)\n",
    "    if name == '':\n",
    "        continue\n",
    "    results[n] = [name,date,cty,addr,txt]\n",
    "    time.sleep(0.05)"
   ]
  },
  {
   "cell_type": "code",
   "execution_count": 12,
   "id": "3ceba776",
   "metadata": {},
   "outputs": [],
   "source": [
    "res = pd.DataFrame.from_dict(results,orient='index',columns=['name','date','county','address','notice']).reset_index()\n",
    "res = res.rename(columns={'index':'id'})"
   ]
  },
  {
   "cell_type": "code",
   "execution_count": 13,
   "id": "7cc14630",
   "metadata": {},
   "outputs": [
    {
     "data": {
      "text/html": [
       "<div>\n",
       "<style scoped>\n",
       "    .dataframe tbody tr th:only-of-type {\n",
       "        vertical-align: middle;\n",
       "    }\n",
       "\n",
       "    .dataframe tbody tr th {\n",
       "        vertical-align: top;\n",
       "    }\n",
       "\n",
       "    .dataframe thead th {\n",
       "        text-align: right;\n",
       "    }\n",
       "</style>\n",
       "<table border=\"1\" class=\"dataframe\">\n",
       "  <thead>\n",
       "    <tr style=\"text-align: right;\">\n",
       "      <th></th>\n",
       "      <th>id</th>\n",
       "      <th>name</th>\n",
       "      <th>date</th>\n",
       "      <th>county</th>\n",
       "      <th>address</th>\n",
       "      <th>notice</th>\n",
       "    </tr>\n",
       "  </thead>\n",
       "  <tbody>\n",
       "    <tr>\n",
       "      <th>0</th>\n",
       "      <td>484050</td>\n",
       "      <td>Veronica  GENOCKEY (née Farrelly)</td>\n",
       "      <td>2022-01-23</td>\n",
       "      <td>Dublin</td>\n",
       "      <td>Malahide,  Dublin</td>\n",
       "      <td>GENOCKEY (née Farrelly), Veronica (Malahide) -...</td>\n",
       "    </tr>\n",
       "    <tr>\n",
       "      <th>1</th>\n",
       "      <td>484051</td>\n",
       "      <td>Joe (Joseph)  Poole</td>\n",
       "      <td>2022-01-23</td>\n",
       "      <td>Dublin</td>\n",
       "      <td>Ballymun,  Dublin / Cabra, Dublin</td>\n",
       "      <td>POOLE, Joe (Joseph) (Ballymun, Dublin formerly...</td>\n",
       "    </tr>\n",
       "    <tr>\n",
       "      <th>2</th>\n",
       "      <td>484052</td>\n",
       "      <td>Michael Maurice  Moore</td>\n",
       "      <td>2022-01-23</td>\n",
       "      <td>Cork</td>\n",
       "      <td>Glanmire,  Cork</td>\n",
       "      <td>MOORE (Glanmire, Cork) : On January 23rd, 2022...</td>\n",
       "    </tr>\n",
       "    <tr>\n",
       "      <th>3</th>\n",
       "      <td>484053</td>\n",
       "      <td>Baby Theo  Ryan</td>\n",
       "      <td>2022-01-22</td>\n",
       "      <td>Tipperary</td>\n",
       "      <td>Rootagh, Newport,  Tipperary</td>\n",
       "      <td>Ryan, Baby Theo, Rootagh, Newport, Co. Tippera...</td>\n",
       "    </tr>\n",
       "    <tr>\n",
       "      <th>4</th>\n",
       "      <td>484054</td>\n",
       "      <td>Vera  Nicol (née O'Keeffe)</td>\n",
       "      <td>2022-01-23</td>\n",
       "      <td>Dublin</td>\n",
       "      <td>Ballyfermot,  Dublin / Whitehall, Dublin</td>\n",
       "      <td>Nicol, Marie (Vera) (nee O’Keeffe), January 23...</td>\n",
       "    </tr>\n",
       "    <tr>\n",
       "      <th>...</th>\n",
       "      <td>...</td>\n",
       "      <td>...</td>\n",
       "      <td>...</td>\n",
       "      <td>...</td>\n",
       "      <td>...</td>\n",
       "      <td>...</td>\n",
       "    </tr>\n",
       "    <tr>\n",
       "      <th>825</th>\n",
       "      <td>484887</td>\n",
       "      <td>Francis (Frank)  Hughes</td>\n",
       "      <td>2022-01-29</td>\n",
       "      <td>Dublin</td>\n",
       "      <td>Finglas,  Dublin</td>\n",
       "      <td>Late of Chubb, Blackrock. Peacefully, at the M...</td>\n",
       "    </tr>\n",
       "    <tr>\n",
       "      <th>826</th>\n",
       "      <td>484888</td>\n",
       "      <td>Joan  Savage (née O'Hara)</td>\n",
       "      <td>2022-01-31</td>\n",
       "      <td>Dublin</td>\n",
       "      <td>Swords,  Dublin</td>\n",
       "      <td>SAVAGE (née O'Hara), Joan (Swords) - January 3...</td>\n",
       "    </tr>\n",
       "    <tr>\n",
       "      <th>827</th>\n",
       "      <td>484889</td>\n",
       "      <td>Ellen (Chrissie)  Hayes (née O'Sullivan)</td>\n",
       "      <td>2022-01-30</td>\n",
       "      <td>Cork</td>\n",
       "      <td>Dromada Beg, Ladysbridge,  Cork</td>\n",
       "      <td>Ellen (Chrissie) beloved wife of the late Rich...</td>\n",
       "    </tr>\n",
       "    <tr>\n",
       "      <th>828</th>\n",
       "      <td>484890</td>\n",
       "      <td>Emily  ROWE (née Seery)</td>\n",
       "      <td>2022-01-31</td>\n",
       "      <td>Offaly</td>\n",
       "      <td>Ballykillen, Edenderry,  Offaly</td>\n",
       "      <td>Suddenly.  Emily will be sadly missed and fore...</td>\n",
       "    </tr>\n",
       "    <tr>\n",
       "      <th>829</th>\n",
       "      <td>484891</td>\n",
       "      <td>Edward  Kielty</td>\n",
       "      <td>2022-01-31</td>\n",
       "      <td>Sligo</td>\n",
       "      <td>Lissananny, Ballymote,  Sligo</td>\n",
       "      <td>The death has occurred of Edward Kielty, Lissa...</td>\n",
       "    </tr>\n",
       "  </tbody>\n",
       "</table>\n",
       "<p>830 rows × 6 columns</p>\n",
       "</div>"
      ],
      "text/plain": [
       "         id                                      name       date     county  \\\n",
       "0    484050         Veronica  GENOCKEY (née Farrelly) 2022-01-23     Dublin   \n",
       "1    484051                       Joe (Joseph)  Poole 2022-01-23     Dublin   \n",
       "2    484052                    Michael Maurice  Moore 2022-01-23       Cork   \n",
       "3    484053                           Baby Theo  Ryan 2022-01-22  Tipperary   \n",
       "4    484054                Vera  Nicol (née O'Keeffe) 2022-01-23     Dublin   \n",
       "..      ...                                       ...        ...        ...   \n",
       "825  484887                   Francis (Frank)  Hughes 2022-01-29     Dublin   \n",
       "826  484888                 Joan  Savage (née O'Hara) 2022-01-31     Dublin   \n",
       "827  484889  Ellen (Chrissie)  Hayes (née O'Sullivan) 2022-01-30       Cork   \n",
       "828  484890                   Emily  ROWE (née Seery) 2022-01-31     Offaly   \n",
       "829  484891                            Edward  Kielty 2022-01-31      Sligo   \n",
       "\n",
       "                                      address  \\\n",
       "0                           Malahide,  Dublin   \n",
       "1           Ballymun,  Dublin / Cabra, Dublin   \n",
       "2                             Glanmire,  Cork   \n",
       "3                Rootagh, Newport,  Tipperary   \n",
       "4    Ballyfermot,  Dublin / Whitehall, Dublin   \n",
       "..                                        ...   \n",
       "825                          Finglas,  Dublin   \n",
       "826                           Swords,  Dublin   \n",
       "827           Dromada Beg, Ladysbridge,  Cork   \n",
       "828           Ballykillen, Edenderry,  Offaly   \n",
       "829             Lissananny, Ballymote,  Sligo   \n",
       "\n",
       "                                                notice  \n",
       "0    GENOCKEY (née Farrelly), Veronica (Malahide) -...  \n",
       "1    POOLE, Joe (Joseph) (Ballymun, Dublin formerly...  \n",
       "2    MOORE (Glanmire, Cork) : On January 23rd, 2022...  \n",
       "3    Ryan, Baby Theo, Rootagh, Newport, Co. Tippera...  \n",
       "4    Nicol, Marie (Vera) (nee O’Keeffe), January 23...  \n",
       "..                                                 ...  \n",
       "825  Late of Chubb, Blackrock. Peacefully, at the M...  \n",
       "826  SAVAGE (née O'Hara), Joan (Swords) - January 3...  \n",
       "827  Ellen (Chrissie) beloved wife of the late Rich...  \n",
       "828  Suddenly.  Emily will be sadly missed and fore...  \n",
       "829  The death has occurred of Edward Kielty, Lissa...  \n",
       "\n",
       "[830 rows x 6 columns]"
      ]
     },
     "execution_count": 13,
     "metadata": {},
     "output_type": "execute_result"
    }
   ],
   "source": [
    "res"
   ]
  },
  {
   "cell_type": "code",
   "execution_count": 14,
   "id": "dc727d40",
   "metadata": {},
   "outputs": [
    {
     "name": "stdout",
     "output_type": "stream",
     "text": [
      "484021 830 484851\n"
     ]
    }
   ],
   "source": [
    "new = pd.concat([df,res]).reset_index(drop=True)\n",
    "new=new[~new.id.duplicated(keep='first')]\n",
    "print (len(df),len(res),len(new))\n",
    "new.to_pickle('rip_dn_scrape.pkl')"
   ]
  },
  {
   "cell_type": "code",
   "execution_count": 9,
   "id": "9e8cac90",
   "metadata": {},
   "outputs": [],
   "source": [
    "#x.to_csv('rip_dn_scrape.csv')"
   ]
  },
  {
   "cell_type": "markdown",
   "id": "7887215a",
   "metadata": {},
   "source": [
    "## clean data"
   ]
  },
  {
   "cell_type": "code",
   "execution_count": 15,
   "id": "820b8741",
   "metadata": {},
   "outputs": [
    {
     "name": "stdout",
     "output_type": "stream",
     "text": [
      "484851\n",
      "450268\n"
     ]
    }
   ],
   "source": [
    "x=new\n",
    "print (len(x))\n",
    "x=x.replace('',None).dropna(axis=0,subset=['date'])\n",
    "x['date'] = pd.to_datetime(x['date']).apply(lambda x: x.strftime('%d/%m/%Y'))\n",
    "x=x.drop_duplicates(['name','notice'])\n",
    "x=x.drop_duplicates(['name','address'])\n",
    "x=x.drop_duplicates(['name','date','county'])\n",
    "x = x[~x.address.isnull()]\n",
    "nc = ['Fermanagh','Armagh','Tyrone','Down','Antrim','Derry']\n",
    "x = x[~x.county.isin(nc)]\n",
    "x = x[~x.address.str.contains('|'.join(nc))]\n",
    "x=x.sort_values('id')\n",
    "print (len(x))\n",
    "#x.to_csv('rip_dn_scrape_processed.csv')\n",
    "x.to_pickle('rip_dn_scrape_processed.pkl')"
   ]
  },
  {
   "cell_type": "code",
   "execution_count": null,
   "id": "8556db1d",
   "metadata": {},
   "outputs": [],
   "source": []
  }
 ],
 "metadata": {
  "kernelspec": {
   "display_name": "Python 3",
   "language": "python",
   "name": "python3"
  },
  "language_info": {
   "codemirror_mode": {
    "name": "ipython",
    "version": 3
   },
   "file_extension": ".py",
   "mimetype": "text/x-python",
   "name": "python",
   "nbconvert_exporter": "python",
   "pygments_lexer": "ipython3",
   "version": "3.9.5"
  }
 },
 "nbformat": 4,
 "nbformat_minor": 5
}
