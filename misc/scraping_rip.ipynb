{
 "cells": [
  {
   "cell_type": "markdown",
   "id": "347aae96-d9f9-41c1-ad5f-9e1e96e6b730",
   "metadata": {},
   "source": [
    "# web scraping RIP.ie with beautifulsoup"
   ]
  },
  {
   "cell_type": "code",
   "execution_count": 1,
   "id": "5004cd5b-5908-41ec-b95d-82562ae63711",
   "metadata": {},
   "outputs": [],
   "source": [
    "import time\n",
    "import pandas as pd\n",
    "from bs4 import BeautifulSoup\n",
    "import requests\n",
    "import datefinder\n",
    "\n",
    "def get_dn_page(n):\n",
    "    \"\"\"Get death notice text from page matching the id number\"\"\"\n",
    "    \n",
    "    url = 'https://rip.ie/showdn.php?dn=%s' %n\n",
    "    req = requests.get(url)\n",
    "    soup = BeautifulSoup(req.content, 'html.parser')\n",
    "    if soup.title == None:\n",
    "        title = ''\n",
    "    else:        \n",
    "        title  = soup.title.text.strip()\n",
    "    name=''    \n",
    "    for s in ['Death Notice of ','The death has occurred of ']:\n",
    "        if title.startswith(s):\n",
    "            name = title.split(s)[1]   \n",
    "    elem = soup.find_all(\"div\", id=\"dn_photo_and_text\")\n",
    "    \n",
    "    if len(elem) == 0:\n",
    "        return name, '', '', '', ''\n",
    "    rows = elem[0].find_all('p')\n",
    "    if len(rows) == 0:\n",
    "        rows = elem[0].find_all('td')\n",
    "    text = ';'.join([r.text.strip() for r in rows]).replace('\\n','')\n",
    "    #address\n",
    "    addrelem = soup.find(\"span\", class_='small_addr') \n",
    "    if addrelem != None:\n",
    "        address = addrelem.text.strip()\n",
    "    else:\n",
    "        address = ''\n",
    "    #county  \n",
    "    ctyelem = soup.find(\"li\", class_='fd_county') \n",
    "    if ctyelem != None:\n",
    "        county = ctyelem.text.strip()\n",
    "    else:\n",
    "        county = ''\n",
    "    #date\n",
    "    dateelem = soup.find(\"div\", class_='ddeath')\n",
    "    if dateelem == None:\n",
    "        dateelem = soup.find(\"div\", class_='dpubl')\n",
    "    s = dateelem.text.strip()\n",
    "    try:\n",
    "        date = list(datefinder.find_dates(s))[0]\n",
    "    except:\n",
    "        date = ''\n",
    "    print (n, date, name, address, county)\n",
    "    return name, date, county, address, text"
   ]
  },
  {
   "cell_type": "code",
   "execution_count": 2,
   "id": "de167694-e030-4289-9f9d-e98541fe78f6",
   "metadata": {},
   "outputs": [
    {
     "name": "stdout",
     "output_type": "stream",
     "text": [
      "390045 2019-06-05 00:00:00 Margaret  Kelly Avenue Grove, Ballymodan Place, Bandon,  Cork Cork\n"
     ]
    },
    {
     "data": {
      "text/plain": [
       "('Margaret  Kelly',\n",
       " datetime.datetime(2019, 6, 5, 0, 0),\n",
       " 'Cork',\n",
       " 'Avenue Grove, Ballymodan Place, Bandon,  Cork',\n",
       " \"Kelly (Avenue Grove, Ballymodan Place, Bandon and late of Currivreeda West) on June 5th 2019. Margaret, beloved daughter of the late Timothy and Ellen. Sadly missed by her loving sisters Ann and Eileen, brothers Teddy and John, Margaret's Partner William, brothers-in-law, sisters-in-law, nieces, nephews, relatives and good friend Malcolm.;;Rosary on Friday evening at 7pm in St. Patrick's Church, Bandon. Requiem Mass on Saturday at 12 noon, funeral afterwards to the adjoining cemetery.;;May Margaret Rest in Peace\")"
      ]
     },
     "execution_count": 2,
     "metadata": {},
     "output_type": "execute_result"
    }
   ],
   "source": [
    "get_dn_page(390045)"
   ]
  },
  {
   "cell_type": "code",
   "execution_count": 28,
   "id": "d6e60be5-efa5-42e7-9b95-2387140c2483",
   "metadata": {},
   "outputs": [
    {
     "data": {
      "text/plain": [
       "473362"
      ]
     },
     "execution_count": 28,
     "metadata": {},
     "output_type": "execute_result"
    }
   ],
   "source": [
    "#df = pd.read_csv('rip_dn_scrape.csv')\n",
    "df = pd.read_pickle('rip_dn_scrape.pkl')\n",
    "len(df)"
   ]
  },
  {
   "cell_type": "code",
   "execution_count": 34,
   "id": "d507589c-1044-4320-a1d6-59e85f7b73c6",
   "metadata": {},
   "outputs": [],
   "source": [
    "z.to_csv('/home/damien/Downloads/test_day.csv')"
   ]
  },
  {
   "cell_type": "markdown",
   "id": "26620489-345c-4f6a-919d-e48b826b2393",
   "metadata": {},
   "source": [
    "## iterate over a range of ids and get info"
   ]
  },
  {
   "cell_type": "code",
   "execution_count": 2,
   "id": "532df69c-9845-4ca6-8c53-749155759d1f",
   "metadata": {},
   "outputs": [
    {
     "name": "stdout",
     "output_type": "stream",
     "text": [
      "482064 2022-01-06 00:00:00 Jack  MURPHY Aghabullogue,  Cork Cork\n",
      "482065 2022-01-05 00:00:00 Mary  DINAN Bray,  Wicklow Wicklow\n"
     ]
    }
   ],
   "source": [
    "#read current table in so we skip those already done\n",
    "df = pd.read_pickle('rip_dn_scrape.pkl')\n",
    "print (len(df))\n",
    "ids = list(df.id)\n",
    "\n",
    "results={}\n",
    "for n in range(478000,482066):\n",
    "    if n in ids:\n",
    "        continue\n",
    "    name,date,cty,addr,txt = get_dn_page(n)\n",
    "    if name == '':\n",
    "        continue\n",
    "    results[n] = [name,date,cty,addr,txt]\n",
    "    time.sleep(0.05)"
   ]
  },
  {
   "cell_type": "code",
   "execution_count": 3,
   "id": "45e5d930-0ba6-4824-a5ea-b3599faaa6db",
   "metadata": {},
   "outputs": [
    {
     "name": "stderr",
     "output_type": "stream",
     "text": [
      "<ipython-input-3-849ec239fce7>:1: FutureWarning: Inferring datetime64[ns] from data containing strings is deprecated and will be removed in a future version. To retain the old behavior explicitly pass Series(data, dtype={value.dtype})\n",
      "  res = pd.DataFrame.from_dict(results,orient='index',columns=['name','date','county','address','notice']).reset_index()\n"
     ]
    }
   ],
   "source": [
    "res = pd.DataFrame.from_dict(results,orient='index',columns=['name','date','county','address','notice']).reset_index()\n",
    "res = res.rename(columns={'index':'id'})"
   ]
  },
  {
   "cell_type": "code",
   "execution_count": 4,
   "id": "fd68e48e-9ea7-4838-a7fe-b05ce9b3e594",
   "metadata": {},
   "outputs": [
    {
     "data": {
      "text/html": [
       "<div>\n",
       "<style scoped>\n",
       "    .dataframe tbody tr th:only-of-type {\n",
       "        vertical-align: middle;\n",
       "    }\n",
       "\n",
       "    .dataframe tbody tr th {\n",
       "        vertical-align: top;\n",
       "    }\n",
       "\n",
       "    .dataframe thead th {\n",
       "        text-align: right;\n",
       "    }\n",
       "</style>\n",
       "<table border=\"1\" class=\"dataframe\">\n",
       "  <thead>\n",
       "    <tr style=\"text-align: right;\">\n",
       "      <th></th>\n",
       "      <th>id</th>\n",
       "      <th>name</th>\n",
       "      <th>date</th>\n",
       "      <th>county</th>\n",
       "      <th>address</th>\n",
       "      <th>notice</th>\n",
       "    </tr>\n",
       "  </thead>\n",
       "  <tbody>\n",
       "    <tr>\n",
       "      <th>0</th>\n",
       "      <td>481698</td>\n",
       "      <td>Donal (Bazil)  Shiels</td>\n",
       "      <td>2022-01-02</td>\n",
       "      <td>Donegal</td>\n",
       "      <td>Carrickataskin, Derrybeg,  Donegal</td>\n",
       "      <td>The death has taken place, at Letterkenny Univ...</td>\n",
       "    </tr>\n",
       "    <tr>\n",
       "      <th>1</th>\n",
       "      <td>481699</td>\n",
       "      <td>Catherine (Kate)  FARRELL (née Matthews)</td>\n",
       "      <td>2022-01-03</td>\n",
       "      <td>Meath</td>\n",
       "      <td>Beaubec, Dublin Raod, Drogheda,  Louth</td>\n",
       "      <td>FARRELL Catherine (Kate) (née Matthews) (Beaub...</td>\n",
       "    </tr>\n",
       "    <tr>\n",
       "      <th>2</th>\n",
       "      <td>481700</td>\n",
       "      <td>Richard  SINNOTT</td>\n",
       "      <td>2022-01-03</td>\n",
       "      <td>Dublin</td>\n",
       "      <td>Sandymount,  Dublin</td>\n",
       "      <td>SINNOTT – Richard (Sandymount, Dublin; formerl...</td>\n",
       "    </tr>\n",
       "    <tr>\n",
       "      <th>3</th>\n",
       "      <td>481701</td>\n",
       "      <td>Sean  McGoldrick</td>\n",
       "      <td>2022-01-03</td>\n",
       "      <td>Donegal</td>\n",
       "      <td>Ard O'Donnell, Letterkenny,  Donegal</td>\n",
       "      <td>The death has occurred, at the Donegal Hospice...</td>\n",
       "    </tr>\n",
       "    <tr>\n",
       "      <th>4</th>\n",
       "      <td>481702</td>\n",
       "      <td>Sr. Angela  Tansey</td>\n",
       "      <td>2022-01-04</td>\n",
       "      <td>Mayo</td>\n",
       "      <td>Knock,  Mayo / Ballinameen, Roscommon</td>\n",
       "      <td>Sr. Angela Tansey, Holy Family Sister, Knock C...</td>\n",
       "    </tr>\n",
       "    <tr>\n",
       "      <th>...</th>\n",
       "      <td>...</td>\n",
       "      <td>...</td>\n",
       "      <td>...</td>\n",
       "      <td>...</td>\n",
       "      <td>...</td>\n",
       "      <td>...</td>\n",
       "    </tr>\n",
       "    <tr>\n",
       "      <th>363</th>\n",
       "      <td>482061</td>\n",
       "      <td>Joe  GUEST</td>\n",
       "      <td>2022-01-05</td>\n",
       "      <td>Louth</td>\n",
       "      <td>Clann Chullainn Park, Dundalk,  Louth / Newtow...</td>\n",
       "      <td>Late of Slate Quarry Road, Newtownhamilton. Pr...</td>\n",
       "    </tr>\n",
       "    <tr>\n",
       "      <th>364</th>\n",
       "      <td>482062</td>\n",
       "      <td>Margaret (Mairead)  O'Halloran (née Daly)</td>\n",
       "      <td>2022-01-06</td>\n",
       "      <td>Tipperary</td>\n",
       "      <td>Nenagh,  Tipperary / Ogonnelloe, Clare</td>\n",
       "      <td>Margaret (Mairead) O'Halloran, (nee Daly), Cur...</td>\n",
       "    </tr>\n",
       "    <tr>\n",
       "      <th>365</th>\n",
       "      <td>482063</td>\n",
       "      <td>William  Watson</td>\n",
       "      <td>2022-01-06</td>\n",
       "      <td>Dublin</td>\n",
       "      <td>late of Dunard Ave., Dublin 7,  Dublin</td>\n",
       "      <td>Watson, William 6th January 2022, late of Duna...</td>\n",
       "    </tr>\n",
       "    <tr>\n",
       "      <th>366</th>\n",
       "      <td>482064</td>\n",
       "      <td>Jack  MURPHY</td>\n",
       "      <td>2022-01-06</td>\n",
       "      <td>Cork</td>\n",
       "      <td>Aghabullogue,  Cork</td>\n",
       "      <td>On January 6th, 2022, peacefully at Grangecon ...</td>\n",
       "    </tr>\n",
       "    <tr>\n",
       "      <th>367</th>\n",
       "      <td>482065</td>\n",
       "      <td>Mary  DINAN</td>\n",
       "      <td>2022-01-05</td>\n",
       "      <td>Wicklow</td>\n",
       "      <td>Bray,  Wicklow</td>\n",
       "      <td>Mary Dinan of Bray, Co. Wicklow, passed away s...</td>\n",
       "    </tr>\n",
       "  </tbody>\n",
       "</table>\n",
       "<p>368 rows × 6 columns</p>\n",
       "</div>"
      ],
      "text/plain": [
       "         id                                       name       date     county  \\\n",
       "0    481698                      Donal (Bazil)  Shiels 2022-01-02    Donegal   \n",
       "1    481699   Catherine (Kate)  FARRELL (née Matthews) 2022-01-03      Meath   \n",
       "2    481700                           Richard  SINNOTT 2022-01-03     Dublin   \n",
       "3    481701                           Sean  McGoldrick 2022-01-03    Donegal   \n",
       "4    481702                         Sr. Angela  Tansey 2022-01-04       Mayo   \n",
       "..      ...                                        ...        ...        ...   \n",
       "363  482061                                 Joe  GUEST 2022-01-05      Louth   \n",
       "364  482062  Margaret (Mairead)  O'Halloran (née Daly) 2022-01-06  Tipperary   \n",
       "365  482063                            William  Watson 2022-01-06     Dublin   \n",
       "366  482064                               Jack  MURPHY 2022-01-06       Cork   \n",
       "367  482065                                Mary  DINAN 2022-01-05    Wicklow   \n",
       "\n",
       "                                               address  \\\n",
       "0                   Carrickataskin, Derrybeg,  Donegal   \n",
       "1               Beaubec, Dublin Raod, Drogheda,  Louth   \n",
       "2                                  Sandymount,  Dublin   \n",
       "3                 Ard O'Donnell, Letterkenny,  Donegal   \n",
       "4                Knock,  Mayo / Ballinameen, Roscommon   \n",
       "..                                                 ...   \n",
       "363  Clann Chullainn Park, Dundalk,  Louth / Newtow...   \n",
       "364             Nenagh,  Tipperary / Ogonnelloe, Clare   \n",
       "365             late of Dunard Ave., Dublin 7,  Dublin   \n",
       "366                                Aghabullogue,  Cork   \n",
       "367                                     Bray,  Wicklow   \n",
       "\n",
       "                                                notice  \n",
       "0    The death has taken place, at Letterkenny Univ...  \n",
       "1    FARRELL Catherine (Kate) (née Matthews) (Beaub...  \n",
       "2    SINNOTT – Richard (Sandymount, Dublin; formerl...  \n",
       "3    The death has occurred, at the Donegal Hospice...  \n",
       "4    Sr. Angela Tansey, Holy Family Sister, Knock C...  \n",
       "..                                                 ...  \n",
       "363  Late of Slate Quarry Road, Newtownhamilton. Pr...  \n",
       "364  Margaret (Mairead) O'Halloran, (nee Daly), Cur...  \n",
       "365  Watson, William 6th January 2022, late of Duna...  \n",
       "366  On January 6th, 2022, peacefully at Grangecon ...  \n",
       "367  Mary Dinan of Bray, Co. Wicklow, passed away s...  \n",
       "\n",
       "[368 rows x 6 columns]"
      ]
     },
     "execution_count": 4,
     "metadata": {},
     "output_type": "execute_result"
    }
   ],
   "source": [
    "res"
   ]
  },
  {
   "cell_type": "code",
   "execution_count": 5,
   "id": "6ff21563-f292-4ce4-a5a3-085670d82227",
   "metadata": {},
   "outputs": [
    {
     "name": "stdout",
     "output_type": "stream",
     "text": [
      "481670 368 482038\n"
     ]
    }
   ],
   "source": [
    "x = pd.concat([df,res]).reset_index(drop=True)\n",
    "x=x[~x.id.duplicated(keep='first')]\n",
    "print (len(df),len(res),len(x))\n",
    "x.to_pickle('rip_dn_scrape.pkl')"
   ]
  },
  {
   "cell_type": "code",
   "execution_count": 6,
   "id": "a950cdc6-367e-430c-bb38-7f6a232c30a9",
   "metadata": {},
   "outputs": [
    {
     "name": "stdout",
     "output_type": "stream",
     "text": [
      "482038\n",
      "462131\n"
     ]
    }
   ],
   "source": [
    "print (len(x))\n",
    "x=x.replace('',None).dropna(axis=0,subset=['date'])\n",
    "x['date'] = pd.to_datetime(x['date']).apply(lambda x: x.strftime('%d/%m/%Y'))\n",
    "x=x.drop_duplicates(['name','notice'])\n",
    "x=x.drop_duplicates(['name','address'])\n",
    "x=x.drop_duplicates(['name','date','county'])\n",
    "x=x.sort_values('id')\n",
    "print (len(x))\n",
    "#x.to_csv('rip_dn_scrape_processed.csv')\n",
    "x.to_pickle('rip_dn_scrape_processed.pkl')"
   ]
  },
  {
   "cell_type": "code",
   "execution_count": null,
   "id": "cf2228ae-7210-487b-9c5b-495c9cebfb13",
   "metadata": {},
   "outputs": [],
   "source": []
  }
 ],
 "metadata": {
  "kernelspec": {
   "display_name": "Python 3",
   "language": "python",
   "name": "python3"
  },
  "language_info": {
   "codemirror_mode": {
    "name": "ipython",
    "version": 3
   },
   "file_extension": ".py",
   "mimetype": "text/x-python",
   "name": "python",
   "nbconvert_exporter": "python",
   "pygments_lexer": "ipython3",
   "version": "3.9.7"
  }
 },
 "nbformat": 4,
 "nbformat_minor": 5
}
