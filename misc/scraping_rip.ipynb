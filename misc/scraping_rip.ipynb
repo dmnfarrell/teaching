{
 "cells": [
  {
   "cell_type": "markdown",
   "id": "347aae96-d9f9-41c1-ad5f-9e1e96e6b730",
   "metadata": {},
   "source": [
    "# web scraping RIP.ie with beautifulsoup"
   ]
  },
  {
   "cell_type": "code",
   "execution_count": 3,
   "id": "5004cd5b-5908-41ec-b95d-82562ae63711",
   "metadata": {},
   "outputs": [],
   "source": [
    "import time\n",
    "import pandas as pd\n",
    "from bs4 import BeautifulSoup\n",
    "import requests\n",
    "import datefinder\n",
    "\n",
    "def get_dn_page(n):\n",
    "    \"\"\"Get death notice text from page matching the id number\"\"\"\n",
    "    \n",
    "    url = 'https://rip.ie/showdn.php?dn=%s' %n\n",
    "    req = requests.get(url)\n",
    "    soup = BeautifulSoup(req.content, 'html.parser')\n",
    "    if soup.title == None:\n",
    "        title = ''\n",
    "    else:        \n",
    "        title  = soup.title.text.strip()\n",
    "    name=''    \n",
    "    for s in ['Death Notice of ','The death has occurred of ']:\n",
    "        if title.startswith(s):\n",
    "            name = title.split(s)[1]   \n",
    "    elem = soup.find_all(\"div\", id=\"dn_photo_and_text\")\n",
    "    \n",
    "    if len(elem) == 0:\n",
    "        return name, '', '', '', ''\n",
    "    rows = elem[0].find_all('p')\n",
    "    if len(rows) == 0:\n",
    "        rows = elem[0].find_all('td')\n",
    "    text = ';'.join([r.text.strip() for r in rows]).replace('\\n','')\n",
    "    #address\n",
    "    addrelem = soup.find(\"span\", class_='small_addr') \n",
    "    if addrelem != None:\n",
    "        address = addrelem.text.strip()\n",
    "    else:\n",
    "        address = ''\n",
    "    #county  \n",
    "    ctyelem = soup.find(\"li\", class_='fd_county') \n",
    "    if ctyelem != None:\n",
    "        county = ctyelem.text.strip()\n",
    "    else:\n",
    "        county = ''\n",
    "    #date\n",
    "    dateelem = soup.find(\"div\", class_='ddeath')\n",
    "    if dateelem == None:\n",
    "        dateelem = soup.find(\"div\", class_='dpubl')\n",
    "    s = dateelem.text.strip()\n",
    "    try:\n",
    "        date = list(datefinder.find_dates(s))[0]\n",
    "    except:\n",
    "        date = ''\n",
    "    print (n, date, name, address, county)\n",
    "    return name, date, county, address, text"
   ]
  },
  {
   "cell_type": "code",
   "execution_count": 4,
   "id": "de167694-e030-4289-9f9d-e98541fe78f6",
   "metadata": {},
   "outputs": [
    {
     "name": "stdout",
     "output_type": "stream",
     "text": [
      "390045 2019-06-05 00:00:00 Margaret  Kelly Avenue Grove, Ballymodan Place, Bandon,  Cork Cork\n"
     ]
    },
    {
     "data": {
      "text/plain": [
       "('Margaret  Kelly',\n",
       " datetime.datetime(2019, 6, 5, 0, 0),\n",
       " 'Cork',\n",
       " 'Avenue Grove, Ballymodan Place, Bandon,  Cork',\n",
       " \"Kelly (Avenue Grove, Ballymodan Place, Bandon and late of Currivreeda West) on June 5th 2019. Margaret, beloved daughter of the late Timothy and Ellen. Sadly missed by her loving sisters Ann and Eileen, brothers Teddy and John, Margaret's Partner William, brothers-in-law, sisters-in-law, nieces, nephews, relatives and good friend Malcolm.;;Rosary on Friday evening at 7pm in St. Patrick's Church, Bandon. Requiem Mass on Saturday at 12 noon, funeral afterwards to the adjoining cemetery.;;May Margaret Rest in Peace\")"
      ]
     },
     "execution_count": 4,
     "metadata": {},
     "output_type": "execute_result"
    }
   ],
   "source": [
    "get_dn_page(390045)"
   ]
  },
  {
   "cell_type": "code",
   "execution_count": 28,
   "id": "d6e60be5-efa5-42e7-9b95-2387140c2483",
   "metadata": {},
   "outputs": [
    {
     "data": {
      "text/plain": [
       "473362"
      ]
     },
     "execution_count": 28,
     "metadata": {},
     "output_type": "execute_result"
    }
   ],
   "source": [
    "#df = pd.read_csv('rip_dn_scrape.csv')\n",
    "df = pd.read_pickle('rip_dn_scrape.pkl')\n",
    "len(df)"
   ]
  },
  {
   "cell_type": "code",
   "execution_count": 34,
   "id": "d507589c-1044-4320-a1d6-59e85f7b73c6",
   "metadata": {},
   "outputs": [],
   "source": [
    "z.to_csv('/home/damien/Downloads/test_day.csv')"
   ]
  },
  {
   "cell_type": "markdown",
   "id": "26620489-345c-4f6a-919d-e48b826b2393",
   "metadata": {},
   "source": [
    "## iterate over a range of ids and get info"
   ]
  },
  {
   "cell_type": "code",
   "execution_count": null,
   "id": "532df69c-9845-4ca6-8c53-749155759d1f",
   "metadata": {},
   "outputs": [],
   "source": [
    "#read current table in so we skip those already done\n",
    "df = pd.read_pickle('rip_dn_scrape.pkl')\n",
    "print (len(df))\n",
    "ids = list(df.id)\n",
    "\n",
    "results={}\n",
    "for n in range(470000,475303):\n",
    "    if n in ids:\n",
    "        continue\n",
    "    name,date,cty,addr,txt = get_dn_page(n)    \n",
    "    results[n] = [name,date,cty,addr,txt]\n",
    "    time.sleep(0.05)"
   ]
  },
  {
   "cell_type": "code",
   "execution_count": 6,
   "id": "45e5d930-0ba6-4824-a5ea-b3599faaa6db",
   "metadata": {},
   "outputs": [
    {
     "name": "stderr",
     "output_type": "stream",
     "text": [
      "<ipython-input-6-849ec239fce7>:1: FutureWarning: Inferring datetime64[ns] from data containing strings is deprecated and will be removed in a future version. To retain the old behavior explicitly pass Series(data, dtype={value.dtype})\n",
      "  res = pd.DataFrame.from_dict(results,orient='index',columns=['name','date','county','address','notice']).reset_index()\n"
     ]
    }
   ],
   "source": [
    "res = pd.DataFrame.from_dict(results,orient='index',columns=['name','date','county','address','notice']).reset_index()\n",
    "res = res.rename(columns={'index':'id'})"
   ]
  },
  {
   "cell_type": "code",
   "execution_count": 7,
   "id": "fd68e48e-9ea7-4838-a7fe-b05ce9b3e594",
   "metadata": {},
   "outputs": [
    {
     "data": {
      "text/html": [
       "<div>\n",
       "<style scoped>\n",
       "    .dataframe tbody tr th:only-of-type {\n",
       "        vertical-align: middle;\n",
       "    }\n",
       "\n",
       "    .dataframe tbody tr th {\n",
       "        vertical-align: top;\n",
       "    }\n",
       "\n",
       "    .dataframe thead th {\n",
       "        text-align: right;\n",
       "    }\n",
       "</style>\n",
       "<table border=\"1\" class=\"dataframe\">\n",
       "  <thead>\n",
       "    <tr style=\"text-align: right;\">\n",
       "      <th></th>\n",
       "      <th>id</th>\n",
       "      <th>name</th>\n",
       "      <th>date</th>\n",
       "      <th>county</th>\n",
       "      <th>address</th>\n",
       "      <th>notice</th>\n",
       "    </tr>\n",
       "  </thead>\n",
       "  <tbody>\n",
       "    <tr>\n",
       "      <th>0</th>\n",
       "      <td>474838</td>\n",
       "      <td>BRENDAN  CLIFFORD</td>\n",
       "      <td>2021-11-03</td>\n",
       "      <td>Kerry</td>\n",
       "      <td>SLIEVEGAURA, Beaufort,  Kerry / Causeway, Kerry</td>\n",
       "      <td>BRENDAN CLIFFORD, SLIEVEGAURA, BEAUFORT.;Brend...</td>\n",
       "    </tr>\n",
       "    <tr>\n",
       "      <th>1</th>\n",
       "      <td>474839</td>\n",
       "      <td>Desmond (Des)  Ferguson</td>\n",
       "      <td>2021-11-02</td>\n",
       "      <td>Meath</td>\n",
       "      <td>Navan Road, Kells,  Meath</td>\n",
       "      <td>The death has occurred peacefully following a ...</td>\n",
       "    </tr>\n",
       "    <tr>\n",
       "      <th>2</th>\n",
       "      <td>474840</td>\n",
       "      <td>John Joe  Traynor</td>\n",
       "      <td>2021-11-03</td>\n",
       "      <td>Cavan</td>\n",
       "      <td>Tievnaman, Termon, Virginia,  Cavan</td>\n",
       "      <td>John Joe Traynor, Tievenaman, Virginia, Co. Ca...</td>\n",
       "    </tr>\n",
       "    <tr>\n",
       "      <th>3</th>\n",
       "      <td>474841</td>\n",
       "      <td>Andrew John  O'Shaughnessy</td>\n",
       "      <td>2021-11-02</td>\n",
       "      <td>Cork</td>\n",
       "      <td>Carrig Na Muc Farm, Coachford,  Cork</td>\n",
       "      <td>O'Shaughnessy, Andrew John (Carrig Na Muc Farm...</td>\n",
       "    </tr>\n",
       "    <tr>\n",
       "      <th>4</th>\n",
       "      <td>474842</td>\n",
       "      <td>Sheila  PHILLIPS (née Weston)</td>\n",
       "      <td>2021-11-02</td>\n",
       "      <td>Dublin</td>\n",
       "      <td>Malahide,  Dublin</td>\n",
       "      <td>PHILLIPS (née Weston), Sheila (Malahide) - Nov...</td>\n",
       "    </tr>\n",
       "    <tr>\n",
       "      <th>...</th>\n",
       "      <td>...</td>\n",
       "      <td>...</td>\n",
       "      <td>...</td>\n",
       "      <td>...</td>\n",
       "      <td>...</td>\n",
       "      <td>...</td>\n",
       "    </tr>\n",
       "    <tr>\n",
       "      <th>460</th>\n",
       "      <td>475298</td>\n",
       "      <td>Eddie  O'Malley</td>\n",
       "      <td>NaT</td>\n",
       "      <td></td>\n",
       "      <td></td>\n",
       "      <td></td>\n",
       "    </tr>\n",
       "    <tr>\n",
       "      <th>461</th>\n",
       "      <td>475299</td>\n",
       "      <td>Baby Grace Olivia  O'Sullivan</td>\n",
       "      <td>2021-11-05</td>\n",
       "      <td>Cork</td>\n",
       "      <td>Slip, Bantry,  Cork</td>\n",
       "      <td>Cherished daughter of her heartbroken parents ...</td>\n",
       "    </tr>\n",
       "    <tr>\n",
       "      <th>462</th>\n",
       "      <td>475300</td>\n",
       "      <td>Davina  O'Brien</td>\n",
       "      <td>2021-11-05</td>\n",
       "      <td>Tipperary</td>\n",
       "      <td>Erinagh, Capparoe, Nenagh,  Tipperary</td>\n",
       "      <td>Davina O'Brien, Erinagh, Capparoe, Nenagh, Nov...</td>\n",
       "    </tr>\n",
       "    <tr>\n",
       "      <th>463</th>\n",
       "      <td>475301</td>\n",
       "      <td>Margaret  Purcell-Collins (née Culhane)</td>\n",
       "      <td>2021-11-06</td>\n",
       "      <td>Cork</td>\n",
       "      <td>Ardnageetha, Charleville,  Cork</td>\n",
       "      <td>Passed away, peacefully, in Windmill Nursing H...</td>\n",
       "    </tr>\n",
       "    <tr>\n",
       "      <th>464</th>\n",
       "      <td>475302</td>\n",
       "      <td>Cyril  Crew</td>\n",
       "      <td>2021-11-05</td>\n",
       "      <td>Clare</td>\n",
       "      <td>Hermitage, Ennis,  Clare</td>\n",
       "      <td>Cyril Crew, Hermitage, Ennis, Co. Clare, Novem...</td>\n",
       "    </tr>\n",
       "  </tbody>\n",
       "</table>\n",
       "<p>465 rows × 6 columns</p>\n",
       "</div>"
      ],
      "text/plain": [
       "         id                                     name       date     county  \\\n",
       "0    474838                        BRENDAN  CLIFFORD 2021-11-03      Kerry   \n",
       "1    474839                  Desmond (Des)  Ferguson 2021-11-02      Meath   \n",
       "2    474840                        John Joe  Traynor 2021-11-03      Cavan   \n",
       "3    474841               Andrew John  O'Shaughnessy 2021-11-02       Cork   \n",
       "4    474842            Sheila  PHILLIPS (née Weston) 2021-11-02     Dublin   \n",
       "..      ...                                      ...        ...        ...   \n",
       "460  475298                          Eddie  O'Malley        NaT              \n",
       "461  475299            Baby Grace Olivia  O'Sullivan 2021-11-05       Cork   \n",
       "462  475300                          Davina  O'Brien 2021-11-05  Tipperary   \n",
       "463  475301  Margaret  Purcell-Collins (née Culhane) 2021-11-06       Cork   \n",
       "464  475302                              Cyril  Crew 2021-11-05      Clare   \n",
       "\n",
       "                                             address  \\\n",
       "0    SLIEVEGAURA, Beaufort,  Kerry / Causeway, Kerry   \n",
       "1                          Navan Road, Kells,  Meath   \n",
       "2                Tievnaman, Termon, Virginia,  Cavan   \n",
       "3               Carrig Na Muc Farm, Coachford,  Cork   \n",
       "4                                  Malahide,  Dublin   \n",
       "..                                               ...   \n",
       "460                                                    \n",
       "461                              Slip, Bantry,  Cork   \n",
       "462            Erinagh, Capparoe, Nenagh,  Tipperary   \n",
       "463                  Ardnageetha, Charleville,  Cork   \n",
       "464                         Hermitage, Ennis,  Clare   \n",
       "\n",
       "                                                notice  \n",
       "0    BRENDAN CLIFFORD, SLIEVEGAURA, BEAUFORT.;Brend...  \n",
       "1    The death has occurred peacefully following a ...  \n",
       "2    John Joe Traynor, Tievenaman, Virginia, Co. Ca...  \n",
       "3    O'Shaughnessy, Andrew John (Carrig Na Muc Farm...  \n",
       "4    PHILLIPS (née Weston), Sheila (Malahide) - Nov...  \n",
       "..                                                 ...  \n",
       "460                                                     \n",
       "461  Cherished daughter of her heartbroken parents ...  \n",
       "462  Davina O'Brien, Erinagh, Capparoe, Nenagh, Nov...  \n",
       "463  Passed away, peacefully, in Windmill Nursing H...  \n",
       "464  Cyril Crew, Hermitage, Ennis, Co. Clare, Novem...  \n",
       "\n",
       "[465 rows x 6 columns]"
      ]
     },
     "execution_count": 7,
     "metadata": {},
     "output_type": "execute_result"
    }
   ],
   "source": [
    "res"
   ]
  },
  {
   "cell_type": "code",
   "execution_count": 8,
   "id": "6ff21563-f292-4ce4-a5a3-085670d82227",
   "metadata": {},
   "outputs": [
    {
     "name": "stdout",
     "output_type": "stream",
     "text": [
      "474838 465 475303\n"
     ]
    }
   ],
   "source": [
    "x = pd.concat([df,res]).reset_index(drop=True)\n",
    "x=x[~x.id.duplicated(keep='first')]\n",
    "print (len(df),len(res),len(x))\n",
    "x.to_pickle('rip_dn_scrape.pkl')"
   ]
  },
  {
   "cell_type": "code",
   "execution_count": 9,
   "id": "a950cdc6-367e-430c-bb38-7f6a232c30a9",
   "metadata": {},
   "outputs": [
    {
     "name": "stdout",
     "output_type": "stream",
     "text": [
      "475303\n",
      "455519\n"
     ]
    }
   ],
   "source": [
    "print (len(x))\n",
    "x=x.replace('',None).dropna(axis=0,subset=['date'])\n",
    "x['date'] = pd.to_datetime(x['date']).apply(lambda x: x.strftime('%d/%m/%Y'))\n",
    "x=x.drop_duplicates(['name','notice'])\n",
    "x=x.drop_duplicates(['name','address'])\n",
    "x=x.drop_duplicates(['name','date','county'])\n",
    "x=x.sort_values('id')\n",
    "print (len(x))\n",
    "#x.to_csv('rip_dn_scrape_processed.csv')\n",
    "x.to_pickle('rip_dn_scrape_processed.pkl')"
   ]
  },
  {
   "cell_type": "code",
   "execution_count": null,
   "id": "cf2228ae-7210-487b-9c5b-495c9cebfb13",
   "metadata": {},
   "outputs": [],
   "source": []
  }
 ],
 "metadata": {
  "kernelspec": {
   "display_name": "Python 3",
   "language": "python",
   "name": "python3"
  },
  "language_info": {
   "codemirror_mode": {
    "name": "ipython",
    "version": 3
   },
   "file_extension": ".py",
   "mimetype": "text/x-python",
   "name": "python",
   "nbconvert_exporter": "python",
   "pygments_lexer": "ipython3",
   "version": "3.9.7"
  }
 },
 "nbformat": 4,
 "nbformat_minor": 5
}
