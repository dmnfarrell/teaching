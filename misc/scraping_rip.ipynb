{
 "cells": [
  {
   "cell_type": "markdown",
   "id": "347aae96-d9f9-41c1-ad5f-9e1e96e6b730",
   "metadata": {},
   "source": [
    "# web scraping RIP.ie with beautifulsoup"
   ]
  },
  {
   "cell_type": "code",
   "execution_count": 37,
   "id": "5004cd5b-5908-41ec-b95d-82562ae63711",
   "metadata": {},
   "outputs": [],
   "source": [
    "import time\n",
    "import pandas as pd\n",
    "from bs4 import BeautifulSoup\n",
    "import requests\n",
    "import datefinder\n",
    "\n",
    "def get_dn_page(n):\n",
    "    \"\"\"Get death notice text from page matching the id number\"\"\"\n",
    "    \n",
    "    url = 'https://rip.ie/showdn.php?dn=%s' %n\n",
    "    req = requests.get(url)\n",
    "    soup = BeautifulSoup(req.content, 'html.parser')\n",
    "    title  = soup.title.text.strip()\n",
    "    name=''    \n",
    "    for s in ['Death Notice of ','The death has occurred of ']:\n",
    "        if title.startswith(s):\n",
    "            name = title.split(s)[1]   \n",
    "    elem = soup.find_all(\"div\", id=\"dn_photo_and_text\")\n",
    "    \n",
    "    if len(elem) == 0:\n",
    "        return name, '', '', '', ''\n",
    "    rows = elem[0].find_all('p')\n",
    "    if len(rows) == 0:\n",
    "        rows = elem[0].find_all('td')\n",
    "    text = ';'.join([r.text.strip() for r in rows]).replace('\\n','')\n",
    "    #address\n",
    "    addrelem = soup.find(\"span\", class_='small_addr') \n",
    "    if addrelem != None:\n",
    "        address = addrelem.text.strip()\n",
    "    else:\n",
    "        address = ''\n",
    "    #county  \n",
    "    ctyelem = soup.find(\"li\", class_='fd_county') \n",
    "    if ctyelem != None:\n",
    "        county = ctyelem.text.strip()\n",
    "    else:\n",
    "        county = ''\n",
    "    #date\n",
    "    dateelem = soup.find(\"div\", class_='ddeath')\n",
    "    if dateelem == None:\n",
    "        dateelem = soup.find(\"div\", class_='dpubl')\n",
    "    s = dateelem.text.strip()\n",
    "    try:\n",
    "        date = list(datefinder.find_dates(s))[0]\n",
    "    except:\n",
    "        date = ''\n",
    "    print (n, date, name, address, county)\n",
    "    return name, date, county, address, text"
   ]
  },
  {
   "cell_type": "code",
   "execution_count": 2,
   "id": "de167694-e030-4289-9f9d-e98541fe78f6",
   "metadata": {},
   "outputs": [
    {
     "name": "stdout",
     "output_type": "stream",
     "text": [
      "390045 2019-06-05 00:00:00 Margaret  Kelly Avenue Grove, Ballymodan Place, Bandon,  Cork Cork\n"
     ]
    },
    {
     "data": {
      "text/plain": [
       "('Margaret  Kelly',\n",
       " datetime.datetime(2019, 6, 5, 0, 0),\n",
       " 'Cork',\n",
       " 'Avenue Grove, Ballymodan Place, Bandon,  Cork',\n",
       " \"Kelly (Avenue Grove, Ballymodan Place, Bandon and late of Currivreeda West) on June 5th 2019. Margaret, beloved daughter of the late Timothy and Ellen. Sadly missed by her loving sisters Ann and Eileen, brothers Teddy and John, Margaret's Partner William, brothers-in-law, sisters-in-law, nieces, nephews, relatives and good friend Malcolm.;;Rosary on Friday evening at 7pm in St. Patrick's Church, Bandon. Requiem Mass on Saturday at 12 noon, funeral afterwards to the adjoining cemetery.;;May Margaret Rest in Peace\")"
      ]
     },
     "execution_count": 2,
     "metadata": {},
     "output_type": "execute_result"
    }
   ],
   "source": [
    "get_dn_page(390045)"
   ]
  },
  {
   "cell_type": "code",
   "execution_count": 40,
   "id": "d6e60be5-efa5-42e7-9b95-2387140c2483",
   "metadata": {},
   "outputs": [
    {
     "data": {
      "text/plain": [
       "238144"
      ]
     },
     "execution_count": 40,
     "metadata": {},
     "output_type": "execute_result"
    }
   ],
   "source": [
    "#df = pd.read_csv('rip_dn_scrape.csv')\n",
    "df = pd.read_pickle('rip_dn_scrape.pkl')\n",
    "len(df)"
   ]
  },
  {
   "cell_type": "markdown",
   "id": "26620489-345c-4f6a-919d-e48b826b2393",
   "metadata": {},
   "source": [
    "## iterate over a range of ids and get info"
   ]
  },
  {
   "cell_type": "code",
   "execution_count": null,
   "id": "532df69c-9845-4ca6-8c53-749155759d1f",
   "metadata": {},
   "outputs": [],
   "source": [
    "#read current table in so we skip those already done\n",
    "df = pd.read_pickle('rip_dn_scrape.pkl')\n",
    "print (len(df))\n",
    "ids = list(df.id)\n",
    "\n",
    "results={}\n",
    "for n in range(450000,462029):\n",
    "    if n in ids:\n",
    "        continue\n",
    "    name,date,cty,addr,txt = get_dn_page(n)    \n",
    "    results[n] = [name,date,cty,addr,txt]\n",
    "    time.sleep(0.05)"
   ]
  },
  {
   "cell_type": "code",
   "execution_count": 145,
   "id": "45e5d930-0ba6-4824-a5ea-b3599faaa6db",
   "metadata": {},
   "outputs": [],
   "source": [
    "res = pd.DataFrame.from_dict(results,orient='index',columns=['name','date','county','address','notice']).reset_index()\n",
    "res = res.rename(columns={'index':'id'})"
   ]
  },
  {
   "cell_type": "code",
   "execution_count": 146,
   "id": "fd68e48e-9ea7-4838-a7fe-b05ce9b3e594",
   "metadata": {},
   "outputs": [
    {
     "data": {
      "text/html": [
       "<div>\n",
       "<style scoped>\n",
       "    .dataframe tbody tr th:only-of-type {\n",
       "        vertical-align: middle;\n",
       "    }\n",
       "\n",
       "    .dataframe tbody tr th {\n",
       "        vertical-align: top;\n",
       "    }\n",
       "\n",
       "    .dataframe thead th {\n",
       "        text-align: right;\n",
       "    }\n",
       "</style>\n",
       "<table border=\"1\" class=\"dataframe\">\n",
       "  <thead>\n",
       "    <tr style=\"text-align: right;\">\n",
       "      <th></th>\n",
       "      <th>id</th>\n",
       "      <th>name</th>\n",
       "      <th>date</th>\n",
       "      <th>county</th>\n",
       "      <th>address</th>\n",
       "      <th>notice</th>\n",
       "    </tr>\n",
       "  </thead>\n",
       "  <tbody>\n",
       "    <tr>\n",
       "      <th>0</th>\n",
       "      <td>461783</td>\n",
       "      <td>William  Barrow</td>\n",
       "      <td>2021-06-19</td>\n",
       "      <td>Cork</td>\n",
       "      <td>Canon Corbett Place, Mallow,  Cork</td>\n",
       "      <td>The death has occurred of William Barrow, late...</td>\n",
       "    </tr>\n",
       "    <tr>\n",
       "      <th>1</th>\n",
       "      <td>461784</td>\n",
       "      <td>Michael  Wall</td>\n",
       "      <td>2021-06-20</td>\n",
       "      <td>Tipperary</td>\n",
       "      <td>Carrick-on-Suir,  Tipperary</td>\n",
       "      <td>Michael Wall, late of 6 Castle View, Carrick o...</td>\n",
       "    </tr>\n",
       "    <tr>\n",
       "      <th>2</th>\n",
       "      <td>461785</td>\n",
       "      <td>Jane  Lucey</td>\n",
       "      <td>2021-06-20</td>\n",
       "      <td>Cork</td>\n",
       "      <td>Kielnamoul, Bandon,  Cork</td>\n",
       "      <td>Lucey (Kielnamoul, Bandon) on June 20th 2021 i...</td>\n",
       "    </tr>\n",
       "    <tr>\n",
       "      <th>3</th>\n",
       "      <td>461786</td>\n",
       "      <td>Sarah (Sally)  Quirke (née Feeney)</td>\n",
       "      <td>2021-06-19</td>\n",
       "      <td>Galway</td>\n",
       "      <td>Fursey Road, Shantalla,  Galway / Inverin, Galway</td>\n",
       "      <td>Formerly Inverin Galway.;Sarah (Sally) died pe...</td>\n",
       "    </tr>\n",
       "    <tr>\n",
       "      <th>4</th>\n",
       "      <td>461787</td>\n",
       "      <td>Mary  Ring (née Delaney)</td>\n",
       "      <td>2021-06-19</td>\n",
       "      <td>Wexford</td>\n",
       "      <td>Rocklane, Adamstown,  Wexford / Enniscorthy, W...</td>\n",
       "      <td>Peacefully at home in the loving care of her f...</td>\n",
       "    </tr>\n",
       "    <tr>\n",
       "      <th>...</th>\n",
       "      <td>...</td>\n",
       "      <td>...</td>\n",
       "      <td>...</td>\n",
       "      <td>...</td>\n",
       "      <td>...</td>\n",
       "      <td>...</td>\n",
       "    </tr>\n",
       "    <tr>\n",
       "      <th>241</th>\n",
       "      <td>462024</td>\n",
       "      <td>Gerry  KILDUFF</td>\n",
       "      <td>2021-06-19</td>\n",
       "      <td>Dublin</td>\n",
       "      <td>Glenageary,  Dublin</td>\n",
       "      <td>KILDUFF Gerry (Glenageary, Co. Dublin) June 19...</td>\n",
       "    </tr>\n",
       "    <tr>\n",
       "      <th>242</th>\n",
       "      <td>462025</td>\n",
       "      <td>Maureen  McGirr (née Fitzpatrick)</td>\n",
       "      <td>2021-06-22</td>\n",
       "      <td>Meath</td>\n",
       "      <td>Kilbarrack Avenue, Raheny,  Dublin</td>\n",
       "      <td>Maureen McGirr (nee Fitzpatrick), Kilbarrack A...</td>\n",
       "    </tr>\n",
       "    <tr>\n",
       "      <th>243</th>\n",
       "      <td>462026</td>\n",
       "      <td>Margaret  Egan (née Wall)</td>\n",
       "      <td>2021-06-22</td>\n",
       "      <td>Offaly</td>\n",
       "      <td>Borris-in-Ossory,  Laois / Ballaghmore, Laois ...</td>\n",
       "      <td>Margaret Egan nee Wall, Kyle, Ballaghmore, Bor...</td>\n",
       "    </tr>\n",
       "    <tr>\n",
       "      <th>244</th>\n",
       "      <td>462027</td>\n",
       "      <td>Bridie  Donohoe (née Gill)</td>\n",
       "      <td>2021-06-22</td>\n",
       "      <td>Leitrim</td>\n",
       "      <td>Ardunsaghan, Carrigallen,  Leitrim / Killeshan...</td>\n",
       "      <td>Unexpectedly and peacefully at her residence.P...</td>\n",
       "    </tr>\n",
       "    <tr>\n",
       "      <th>245</th>\n",
       "      <td>462028</td>\n",
       "      <td>Agnes  Conwell (née Devine)</td>\n",
       "      <td>2021-06-23</td>\n",
       "      <td></td>\n",
       "      <td>176 Lisnafin Park, Strabane,  Tyrone</td>\n",
       "      <td>The death has taken place June 23rd 2021;at he...</td>\n",
       "    </tr>\n",
       "  </tbody>\n",
       "</table>\n",
       "<p>246 rows × 6 columns</p>\n",
       "</div>"
      ],
      "text/plain": [
       "         id                                name       date     county  \\\n",
       "0    461783                     William  Barrow 2021-06-19       Cork   \n",
       "1    461784                       Michael  Wall 2021-06-20  Tipperary   \n",
       "2    461785                         Jane  Lucey 2021-06-20       Cork   \n",
       "3    461786  Sarah (Sally)  Quirke (née Feeney) 2021-06-19     Galway   \n",
       "4    461787            Mary  Ring (née Delaney) 2021-06-19    Wexford   \n",
       "..      ...                                 ...        ...        ...   \n",
       "241  462024                      Gerry  KILDUFF 2021-06-19     Dublin   \n",
       "242  462025   Maureen  McGirr (née Fitzpatrick) 2021-06-22      Meath   \n",
       "243  462026           Margaret  Egan (née Wall) 2021-06-22     Offaly   \n",
       "244  462027          Bridie  Donohoe (née Gill) 2021-06-22    Leitrim   \n",
       "245  462028         Agnes  Conwell (née Devine) 2021-06-23              \n",
       "\n",
       "                                               address  \\\n",
       "0                   Canon Corbett Place, Mallow,  Cork   \n",
       "1                          Carrick-on-Suir,  Tipperary   \n",
       "2                            Kielnamoul, Bandon,  Cork   \n",
       "3    Fursey Road, Shantalla,  Galway / Inverin, Galway   \n",
       "4    Rocklane, Adamstown,  Wexford / Enniscorthy, W...   \n",
       "..                                                 ...   \n",
       "241                                Glenageary,  Dublin   \n",
       "242                 Kilbarrack Avenue, Raheny,  Dublin   \n",
       "243  Borris-in-Ossory,  Laois / Ballaghmore, Laois ...   \n",
       "244  Ardunsaghan, Carrigallen,  Leitrim / Killeshan...   \n",
       "245               176 Lisnafin Park, Strabane,  Tyrone   \n",
       "\n",
       "                                                notice  \n",
       "0    The death has occurred of William Barrow, late...  \n",
       "1    Michael Wall, late of 6 Castle View, Carrick o...  \n",
       "2    Lucey (Kielnamoul, Bandon) on June 20th 2021 i...  \n",
       "3    Formerly Inverin Galway.;Sarah (Sally) died pe...  \n",
       "4    Peacefully at home in the loving care of her f...  \n",
       "..                                                 ...  \n",
       "241  KILDUFF Gerry (Glenageary, Co. Dublin) June 19...  \n",
       "242  Maureen McGirr (nee Fitzpatrick), Kilbarrack A...  \n",
       "243  Margaret Egan nee Wall, Kyle, Ballaghmore, Bor...  \n",
       "244  Unexpectedly and peacefully at her residence.P...  \n",
       "245  The death has taken place June 23rd 2021;at he...  \n",
       "\n",
       "[246 rows x 6 columns]"
      ]
     },
     "execution_count": 146,
     "metadata": {},
     "output_type": "execute_result"
    }
   ],
   "source": [
    "res"
   ]
  },
  {
   "cell_type": "code",
   "execution_count": 147,
   "id": "6ff21563-f292-4ce4-a5a3-085670d82227",
   "metadata": {},
   "outputs": [
    {
     "name": "stdout",
     "output_type": "stream",
     "text": [
      "461783 246 462029\n"
     ]
    }
   ],
   "source": [
    "x = pd.concat([df,res]).reset_index(drop=True)\n",
    "x=x[~x.id.duplicated(keep='first')]\n",
    "print (len(df),len(res),len(x))\n",
    "x.to_pickle('rip_dn_scrape.pkl')"
   ]
  },
  {
   "cell_type": "code",
   "execution_count": 148,
   "id": "a950cdc6-367e-430c-bb38-7f6a232c30a9",
   "metadata": {},
   "outputs": [
    {
     "name": "stdout",
     "output_type": "stream",
     "text": [
      "462029\n",
      "443385\n"
     ]
    }
   ],
   "source": [
    "print (len(x))\n",
    "x=x.replace('',None).dropna(axis=0,subset=['date'])\n",
    "x['date'] = pd.to_datetime(x['date']).apply(lambda x: x.strftime('%d/%m/%Y'))\n",
    "x=x.drop_duplicates(['name','notice'])\n",
    "x=x.drop_duplicates(['name','address'])\n",
    "#x=x.drop_duplicates(['name','date','county'])\n",
    "x=x.sort_values('id')\n",
    "print (len(x))\n",
    "#x.to_csv('rip_dn_scrape_processed.csv')\n",
    "x.to_pickle('rip_dn_scrape_processed.pkl')"
   ]
  },
  {
   "cell_type": "markdown",
   "id": "a564a795-a283-4d31-9a08-b6d5560f6340",
   "metadata": {},
   "source": [
    "## test matching"
   ]
  },
  {
   "cell_type": "code",
   "execution_count": null,
   "id": "c83f1b30-e194-4f4d-9527-85080792c1a0",
   "metadata": {},
   "outputs": [],
   "source": [
    "targets=pd.DataFrame([('Lottie Graham','BigPark, Ballintra, Co Donegal'),('a','b')],columns=('name','address'))"
   ]
  },
  {
   "cell_type": "code",
   "execution_count": null,
   "id": "fea513e0-d9a9-42d7-a12e-0286f27449bd",
   "metadata": {},
   "outputs": [],
   "source": [
    "targets\n",
    "\n",
    "def find_match(x,s):\n",
    "    if s in str(x.notice):\n",
    "        return True\n",
    "    return False\n",
    "\n",
    "s='Rialto'\n",
    "x=res.apply(lambda x: find_match(x,s),1)\n",
    "res[x]"
   ]
  },
  {
   "cell_type": "code",
   "execution_count": 48,
   "id": "44842201-3cd9-4147-add9-475de1e95121",
   "metadata": {},
   "outputs": [],
   "source": [
    "dup=x[x.duplicated(['name','address'])]"
   ]
  },
  {
   "cell_type": "code",
   "execution_count": 38,
   "id": "e5d0f339-8c38-4067-b553-aec3881ec22f",
   "metadata": {},
   "outputs": [
    {
     "data": {
      "text/plain": [
       "name                                            David  Moran\n",
       "date                                              08/06/2019\n",
       "address                 Cedar Court, Kennedy Park,  Limerick\n",
       "notice     Late of John Carew Park.;David, passed away at...\n",
       "county                                              Limerick\n",
       "Name: 390559, dtype: object"
      ]
     },
     "execution_count": 38,
     "metadata": {},
     "output_type": "execute_result"
    }
   ],
   "source": [
    "x.loc[390559]"
   ]
  },
  {
   "cell_type": "code",
   "execution_count": null,
   "id": "cf2228ae-7210-487b-9c5b-495c9cebfb13",
   "metadata": {},
   "outputs": [],
   "source": []
  }
 ],
 "metadata": {
  "kernelspec": {
   "display_name": "Python 3",
   "language": "python",
   "name": "python3"
  },
  "language_info": {
   "codemirror_mode": {
    "name": "ipython",
    "version": 3
   },
   "file_extension": ".py",
   "mimetype": "text/x-python",
   "name": "python",
   "nbconvert_exporter": "python",
   "pygments_lexer": "ipython3",
   "version": "3.9.5"
  }
 },
 "nbformat": 4,
 "nbformat_minor": 5
}
