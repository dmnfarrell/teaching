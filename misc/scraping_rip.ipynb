{
 "cells": [
  {
   "cell_type": "markdown",
   "id": "347aae96-d9f9-41c1-ad5f-9e1e96e6b730",
   "metadata": {},
   "source": [
    "# web scraping RIP.ie with beautifulsoup"
   ]
  },
  {
   "cell_type": "code",
   "execution_count": 1,
   "id": "5004cd5b-5908-41ec-b95d-82562ae63711",
   "metadata": {},
   "outputs": [],
   "source": [
    "import time\n",
    "import pandas as pd\n",
    "from bs4 import BeautifulSoup\n",
    "import requests\n",
    "import datefinder\n",
    "\n",
    "def get_dn_page(n):\n",
    "    \"\"\"Get death notice text from page matching the id number\"\"\"\n",
    "    \n",
    "    url = 'https://rip.ie/showdn.php?dn=%s' %n\n",
    "    req = requests.get(url)\n",
    "    soup = BeautifulSoup(req.content, 'html.parser')\n",
    "    if soup.title == None:\n",
    "        title = ''\n",
    "    else:        \n",
    "        title  = soup.title.text.strip()\n",
    "    name=''    \n",
    "    for s in ['Death Notice of ','The death has occurred of ']:\n",
    "        if title.startswith(s):\n",
    "            name = title.split(s)[1]   \n",
    "    elem = soup.find_all(\"div\", id=\"dn_photo_and_text\")\n",
    "    \n",
    "    if len(elem) == 0:\n",
    "        return name, '', '', '', ''\n",
    "    rows = elem[0].find_all('p')\n",
    "    if len(rows) == 0:\n",
    "        rows = elem[0].find_all('td')\n",
    "    text = ';'.join([r.text.strip() for r in rows]).replace('\\n','')\n",
    "    #address\n",
    "    addrelem = soup.find(\"span\", class_='small_addr') \n",
    "    if addrelem != None:\n",
    "        address = addrelem.text.strip()\n",
    "    else:\n",
    "        address = ''\n",
    "    #county  \n",
    "    ctyelem = soup.find(\"li\", class_='fd_county') \n",
    "    if ctyelem != None:\n",
    "        county = ctyelem.text.strip()\n",
    "    else:\n",
    "        county = ''\n",
    "    #date\n",
    "    dateelem = soup.find(\"div\", class_='ddeath')\n",
    "    if dateelem == None:\n",
    "        dateelem = soup.find(\"div\", class_='dpubl')\n",
    "    s = dateelem.text.strip()\n",
    "    try:\n",
    "        date = list(datefinder.find_dates(s))[0]\n",
    "    except:\n",
    "        date = ''\n",
    "    print (n, date, name, address, county)\n",
    "    return name, date, county, address, text"
   ]
  },
  {
   "cell_type": "code",
   "execution_count": 3,
   "id": "de167694-e030-4289-9f9d-e98541fe78f6",
   "metadata": {},
   "outputs": [
    {
     "name": "stdout",
     "output_type": "stream",
     "text": [
      "390045 2019-06-05 00:00:00 Margaret  Kelly Avenue Grove, Ballymodan Place, Bandon,  Cork Cork\n"
     ]
    },
    {
     "data": {
      "text/plain": [
       "('Margaret  Kelly',\n",
       " datetime.datetime(2019, 6, 5, 0, 0),\n",
       " 'Cork',\n",
       " 'Avenue Grove, Ballymodan Place, Bandon,  Cork',\n",
       " \"Kelly (Avenue Grove, Ballymodan Place, Bandon and late of Currivreeda West) on June 5th 2019. Margaret, beloved daughter of the late Timothy and Ellen. Sadly missed by her loving sisters Ann and Eileen, brothers Teddy and John, Margaret's Partner William, brothers-in-law, sisters-in-law, nieces, nephews, relatives and good friend Malcolm.;;Rosary on Friday evening at 7pm in St. Patrick's Church, Bandon. Requiem Mass on Saturday at 12 noon, funeral afterwards to the adjoining cemetery.;;May Margaret Rest in Peace\")"
      ]
     },
     "execution_count": 3,
     "metadata": {},
     "output_type": "execute_result"
    }
   ],
   "source": [
    "get_dn_page(390045)"
   ]
  },
  {
   "cell_type": "code",
   "execution_count": 2,
   "id": "d6e60be5-efa5-42e7-9b95-2387140c2483",
   "metadata": {},
   "outputs": [
    {
     "data": {
      "text/plain": [
       "483921"
      ]
     },
     "execution_count": 2,
     "metadata": {},
     "output_type": "execute_result"
    }
   ],
   "source": [
    "#df = pd.read_csv('rip_dn_scrape.csv')\n",
    "df = pd.read_pickle('rip_dn_scrape.pkl')\n",
    "len(df)"
   ]
  },
  {
   "cell_type": "markdown",
   "id": "26620489-345c-4f6a-919d-e48b826b2393",
   "metadata": {},
   "source": [
    "## iterate over a range of ids and get info"
   ]
  },
  {
   "cell_type": "code",
   "execution_count": null,
   "id": "532df69c-9845-4ca6-8c53-749155759d1f",
   "metadata": {},
   "outputs": [],
   "source": [
    "#read current table in so we skip those already done\n",
    "df = pd.read_pickle('rip_dn_scrape.pkl')\n",
    "print (len(df))\n",
    "ids = list(df.id)\n",
    "\n",
    "results={}\n",
    "for n in range(482000,484050):\n",
    "    if n in ids:\n",
    "        continue\n",
    "    name,date,cty,addr,txt = get_dn_page(n)\n",
    "    if name == '':\n",
    "        continue\n",
    "    results[n] = [name,date,cty,addr,txt]\n",
    "    time.sleep(0.05)"
   ]
  },
  {
   "cell_type": "code",
   "execution_count": 4,
   "id": "45e5d930-0ba6-4824-a5ea-b3599faaa6db",
   "metadata": {},
   "outputs": [],
   "source": [
    "res = pd.DataFrame.from_dict(results,orient='index',columns=['name','date','county','address','notice']).reset_index()\n",
    "res = res.rename(columns={'index':'id'})"
   ]
  },
  {
   "cell_type": "code",
   "execution_count": 5,
   "id": "fd68e48e-9ea7-4838-a7fe-b05ce9b3e594",
   "metadata": {},
   "outputs": [
    {
     "data": {
      "text/html": [
       "<div>\n",
       "<style scoped>\n",
       "    .dataframe tbody tr th:only-of-type {\n",
       "        vertical-align: middle;\n",
       "    }\n",
       "\n",
       "    .dataframe tbody tr th {\n",
       "        vertical-align: top;\n",
       "    }\n",
       "\n",
       "    .dataframe thead th {\n",
       "        text-align: right;\n",
       "    }\n",
       "</style>\n",
       "<table border=\"1\" class=\"dataframe\">\n",
       "  <thead>\n",
       "    <tr style=\"text-align: right;\">\n",
       "      <th></th>\n",
       "      <th>id</th>\n",
       "      <th>name</th>\n",
       "      <th>date</th>\n",
       "      <th>county</th>\n",
       "      <th>address</th>\n",
       "      <th>notice</th>\n",
       "    </tr>\n",
       "  </thead>\n",
       "  <tbody>\n",
       "    <tr>\n",
       "      <th>0</th>\n",
       "      <td>483950</td>\n",
       "      <td>David  O'Shea</td>\n",
       "      <td>2022-01-23</td>\n",
       "      <td>Kerry</td>\n",
       "      <td>Springfield Lodge, Rookery Close, Killarney,  ...</td>\n",
       "      <td>Formerly of Turrenafersh, Blackwater, Kenmare....</td>\n",
       "    </tr>\n",
       "    <tr>\n",
       "      <th>1</th>\n",
       "      <td>483951</td>\n",
       "      <td>Eamon  Bracken</td>\n",
       "      <td>2022-01-23</td>\n",
       "      <td>Westmeath</td>\n",
       "      <td>Ballybroder, Kilbeggan,  Westmeath / Durrow, O...</td>\n",
       "      <td>Eamon Bracken, Ballybroder, Kilbeggan, Co. Wes...</td>\n",
       "    </tr>\n",
       "    <tr>\n",
       "      <th>2</th>\n",
       "      <td>483952</td>\n",
       "      <td>Breda  O'Leary (née Ronayne)</td>\n",
       "      <td>2022-01-22</td>\n",
       "      <td>Galway</td>\n",
       "      <td>Kilcolgan,  Galway / Cork / Limerick / Dublin</td>\n",
       "      <td>Formerly of Cork, Limerick, Castleknock and Ca...</td>\n",
       "    </tr>\n",
       "    <tr>\n",
       "      <th>3</th>\n",
       "      <td>483953</td>\n",
       "      <td>Eugene (Janey)  Brady</td>\n",
       "      <td>2022-01-23</td>\n",
       "      <td></td>\n",
       "      <td>Camagh, Abbeylara,  Longford</td>\n",
       "      <td>Died Sunday 23th January 2022 peacefully at hi...</td>\n",
       "    </tr>\n",
       "    <tr>\n",
       "      <th>4</th>\n",
       "      <td>483954</td>\n",
       "      <td>Margaret (Mairéad)  Brophy (née Bracken)</td>\n",
       "      <td>2022-01-22</td>\n",
       "      <td>Offaly</td>\n",
       "      <td>Lackaroe, Cadamstown / Castletown, The Island,...</td>\n",
       "      <td>Margaret passed away peacefully, at home surro...</td>\n",
       "    </tr>\n",
       "    <tr>\n",
       "      <th>...</th>\n",
       "      <td>...</td>\n",
       "      <td>...</td>\n",
       "      <td>...</td>\n",
       "      <td>...</td>\n",
       "      <td>...</td>\n",
       "      <td>...</td>\n",
       "    </tr>\n",
       "    <tr>\n",
       "      <th>95</th>\n",
       "      <td>484045</td>\n",
       "      <td>Glenn  HOGAN</td>\n",
       "      <td>2022-01-22</td>\n",
       "      <td>Dublin</td>\n",
       "      <td>Thomond Road, Ballyfermot,  Dublin</td>\n",
       "      <td>Hogan, Glenn (Thomond Road, Ballyfermot) 22nd ...</td>\n",
       "    </tr>\n",
       "    <tr>\n",
       "      <th>96</th>\n",
       "      <td>484046</td>\n",
       "      <td>Ken  Rennison</td>\n",
       "      <td>2022-01-23</td>\n",
       "      <td>Limerick</td>\n",
       "      <td>Rivers, Lisnagry,  Limerick</td>\n",
       "      <td>Ken Rennison (Rivers, Lisnagry, Co. Limerick, ...</td>\n",
       "    </tr>\n",
       "    <tr>\n",
       "      <th>97</th>\n",
       "      <td>484047</td>\n",
       "      <td>Daniel  Tierney</td>\n",
       "      <td>2022-01-24</td>\n",
       "      <td>Dublin</td>\n",
       "      <td>Donnycarney,  Dublin</td>\n",
       "      <td>Tierney, Daniel (Dan) (late of Donnycarney and...</td>\n",
       "    </tr>\n",
       "    <tr>\n",
       "      <th>98</th>\n",
       "      <td>484048</td>\n",
       "      <td>Michael  Cowley</td>\n",
       "      <td>2022-01-23</td>\n",
       "      <td>Dublin</td>\n",
       "      <td>Annadale Drive, Marino,  Dublin</td>\n",
       "      <td>Cowley, Michael (late of Annadale Drive, Marin...</td>\n",
       "    </tr>\n",
       "    <tr>\n",
       "      <th>99</th>\n",
       "      <td>484049</td>\n",
       "      <td>Antoinette  O'Connor (née McKeown)</td>\n",
       "      <td>2022-01-23</td>\n",
       "      <td>Dublin</td>\n",
       "      <td>Raheny,  Dublin</td>\n",
       "      <td>O’Connor, Antoinette (neé McKeown) –, 23rd Jan...</td>\n",
       "    </tr>\n",
       "  </tbody>\n",
       "</table>\n",
       "<p>100 rows × 6 columns</p>\n",
       "</div>"
      ],
      "text/plain": [
       "        id                                      name       date     county  \\\n",
       "0   483950                             David  O'Shea 2022-01-23      Kerry   \n",
       "1   483951                            Eamon  Bracken 2022-01-23  Westmeath   \n",
       "2   483952              Breda  O'Leary (née Ronayne) 2022-01-22     Galway   \n",
       "3   483953                     Eugene (Janey)  Brady 2022-01-23              \n",
       "4   483954  Margaret (Mairéad)  Brophy (née Bracken) 2022-01-22     Offaly   \n",
       "..     ...                                       ...        ...        ...   \n",
       "95  484045                              Glenn  HOGAN 2022-01-22     Dublin   \n",
       "96  484046                             Ken  Rennison 2022-01-23   Limerick   \n",
       "97  484047                           Daniel  Tierney 2022-01-24     Dublin   \n",
       "98  484048                           Michael  Cowley 2022-01-23     Dublin   \n",
       "99  484049        Antoinette  O'Connor (née McKeown) 2022-01-23     Dublin   \n",
       "\n",
       "                                              address  \\\n",
       "0   Springfield Lodge, Rookery Close, Killarney,  ...   \n",
       "1   Ballybroder, Kilbeggan,  Westmeath / Durrow, O...   \n",
       "2       Kilcolgan,  Galway / Cork / Limerick / Dublin   \n",
       "3                        Camagh, Abbeylara,  Longford   \n",
       "4   Lackaroe, Cadamstown / Castletown, The Island,...   \n",
       "..                                                ...   \n",
       "95                 Thomond Road, Ballyfermot,  Dublin   \n",
       "96                        Rivers, Lisnagry,  Limerick   \n",
       "97                               Donnycarney,  Dublin   \n",
       "98                    Annadale Drive, Marino,  Dublin   \n",
       "99                                    Raheny,  Dublin   \n",
       "\n",
       "                                               notice  \n",
       "0   Formerly of Turrenafersh, Blackwater, Kenmare....  \n",
       "1   Eamon Bracken, Ballybroder, Kilbeggan, Co. Wes...  \n",
       "2   Formerly of Cork, Limerick, Castleknock and Ca...  \n",
       "3   Died Sunday 23th January 2022 peacefully at hi...  \n",
       "4   Margaret passed away peacefully, at home surro...  \n",
       "..                                                ...  \n",
       "95  Hogan, Glenn (Thomond Road, Ballyfermot) 22nd ...  \n",
       "96  Ken Rennison (Rivers, Lisnagry, Co. Limerick, ...  \n",
       "97  Tierney, Daniel (Dan) (late of Donnycarney and...  \n",
       "98  Cowley, Michael (late of Annadale Drive, Marin...  \n",
       "99  O’Connor, Antoinette (neé McKeown) –, 23rd Jan...  \n",
       "\n",
       "[100 rows x 6 columns]"
      ]
     },
     "execution_count": 5,
     "metadata": {},
     "output_type": "execute_result"
    }
   ],
   "source": [
    "res"
   ]
  },
  {
   "cell_type": "code",
   "execution_count": 8,
   "id": "6ff21563-f292-4ce4-a5a3-085670d82227",
   "metadata": {},
   "outputs": [
    {
     "name": "stdout",
     "output_type": "stream",
     "text": [
      "483921 100 484021\n"
     ]
    }
   ],
   "source": [
    "x = pd.concat([df,res]).reset_index(drop=True)\n",
    "x=x[~x.id.duplicated(keep='first')]\n",
    "print (len(df),len(res),len(x))\n",
    "x.to_pickle('rip_dn_scrape.pkl')"
   ]
  },
  {
   "cell_type": "code",
   "execution_count": 9,
   "id": "2e8d97f6-70ec-4df4-b300-58e362d4063c",
   "metadata": {},
   "outputs": [],
   "source": [
    "x.to_csv('rip_dn_scrape.csv')"
   ]
  },
  {
   "cell_type": "markdown",
   "id": "4a3361c3-5466-4d81-908d-2c09d0fd9847",
   "metadata": {},
   "source": [
    "## clean data"
   ]
  },
  {
   "cell_type": "code",
   "execution_count": 6,
   "id": "a950cdc6-367e-430c-bb38-7f6a232c30a9",
   "metadata": {},
   "outputs": [
    {
     "name": "stdout",
     "output_type": "stream",
     "text": [
      "483839\n",
      "449109\n"
     ]
    }
   ],
   "source": [
    "print (len(x))\n",
    "x=x.replace('',None).dropna(axis=0,subset=['date'])\n",
    "x['date'] = pd.to_datetime(x['date']).apply(lambda x: x.strftime('%d/%m/%Y'))\n",
    "x=x.drop_duplicates(['name','notice'])\n",
    "x=x.drop_duplicates(['name','address'])\n",
    "x=x.drop_duplicates(['name','date','county'])\n",
    "nc = ['Fermanagh','Armagh','Tyrone','Down','Antrim','Derry']\n",
    "x = x[~x.county.isin(nc)]\n",
    "x = x[~x.address.str.contains('|'.join(nc))]\n",
    "x=x.sort_values('id')\n",
    "print (len(x))\n",
    "#x.to_csv('rip_dn_scrape_processed.csv')\n",
    "x.to_pickle('rip_dn_scrape_processed.pkl')"
   ]
  },
  {
   "cell_type": "code",
   "execution_count": null,
   "id": "cf2228ae-7210-487b-9c5b-495c9cebfb13",
   "metadata": {},
   "outputs": [],
   "source": []
  }
 ],
 "metadata": {
  "kernelspec": {
   "display_name": "Python 3",
   "language": "python",
   "name": "python3"
  },
  "language_info": {
   "codemirror_mode": {
    "name": "ipython",
    "version": 3
   },
   "file_extension": ".py",
   "mimetype": "text/x-python",
   "name": "python",
   "nbconvert_exporter": "python",
   "pygments_lexer": "ipython3",
   "version": "3.9.7"
  }
 },
 "nbformat": 4,
 "nbformat_minor": 5
}
