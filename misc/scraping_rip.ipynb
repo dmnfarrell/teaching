{
 "cells": [
  {
   "cell_type": "markdown",
   "id": "347aae96-d9f9-41c1-ad5f-9e1e96e6b730",
   "metadata": {},
   "source": [
    "# web scraping RIP.ie with beautifulsoup"
   ]
  },
  {
   "cell_type": "code",
   "execution_count": 2,
   "id": "5004cd5b-5908-41ec-b95d-82562ae63711",
   "metadata": {},
   "outputs": [],
   "source": [
    "import time\n",
    "import pandas as pd\n",
    "from bs4 import BeautifulSoup\n",
    "import requests\n",
    "import datefinder\n",
    "\n",
    "def get_dn_page(n):\n",
    "    \"\"\"Get death notice text from page matching the id number\"\"\"\n",
    "    \n",
    "    url = 'https://rip.ie/showdn.php?dn=%s' %n\n",
    "    req = requests.get(url)\n",
    "    soup = BeautifulSoup(req.content, 'html.parser')\n",
    "    if soup.title == None:\n",
    "        title = ''\n",
    "    else:        \n",
    "        title  = soup.title.text.strip()\n",
    "    name=''    \n",
    "    for s in ['Death Notice of ','The death has occurred of ']:\n",
    "        if title.startswith(s):\n",
    "            name = title.split(s)[1]   \n",
    "    elem = soup.find_all(\"div\", id=\"dn_photo_and_text\")\n",
    "    \n",
    "    if len(elem) == 0:\n",
    "        return name, '', '', '', ''\n",
    "    rows = elem[0].find_all('p')\n",
    "    if len(rows) == 0:\n",
    "        rows = elem[0].find_all('td')\n",
    "    text = ';'.join([r.text.strip() for r in rows]).replace('\\n','')\n",
    "    #address\n",
    "    addrelem = soup.find(\"span\", class_='small_addr') \n",
    "    if addrelem != None:\n",
    "        address = addrelem.text.strip()\n",
    "    else:\n",
    "        address = ''\n",
    "    #county  \n",
    "    ctyelem = soup.find(\"li\", class_='fd_county') \n",
    "    if ctyelem != None:\n",
    "        county = ctyelem.text.strip()\n",
    "    else:\n",
    "        county = ''\n",
    "    #date\n",
    "    dateelem = soup.find(\"div\", class_='ddeath')\n",
    "    if dateelem == None:\n",
    "        dateelem = soup.find(\"div\", class_='dpubl')\n",
    "    s = dateelem.text.strip()\n",
    "    try:\n",
    "        date = list(datefinder.find_dates(s))[0]\n",
    "    except:\n",
    "        date = ''\n",
    "    print (n, date, name, address, county)\n",
    "    return name, date, county, address, text"
   ]
  },
  {
   "cell_type": "code",
   "execution_count": 2,
   "id": "de167694-e030-4289-9f9d-e98541fe78f6",
   "metadata": {},
   "outputs": [
    {
     "name": "stdout",
     "output_type": "stream",
     "text": [
      "390045 2019-06-05 00:00:00 Margaret  Kelly Avenue Grove, Ballymodan Place, Bandon,  Cork Cork\n"
     ]
    },
    {
     "data": {
      "text/plain": [
       "('Margaret  Kelly',\n",
       " datetime.datetime(2019, 6, 5, 0, 0),\n",
       " 'Cork',\n",
       " 'Avenue Grove, Ballymodan Place, Bandon,  Cork',\n",
       " \"Kelly (Avenue Grove, Ballymodan Place, Bandon and late of Currivreeda West) on June 5th 2019. Margaret, beloved daughter of the late Timothy and Ellen. Sadly missed by her loving sisters Ann and Eileen, brothers Teddy and John, Margaret's Partner William, brothers-in-law, sisters-in-law, nieces, nephews, relatives and good friend Malcolm.;;Rosary on Friday evening at 7pm in St. Patrick's Church, Bandon. Requiem Mass on Saturday at 12 noon, funeral afterwards to the adjoining cemetery.;;May Margaret Rest in Peace\")"
      ]
     },
     "execution_count": 2,
     "metadata": {},
     "output_type": "execute_result"
    }
   ],
   "source": [
    "get_dn_page(390045)"
   ]
  },
  {
   "cell_type": "code",
   "execution_count": 28,
   "id": "d6e60be5-efa5-42e7-9b95-2387140c2483",
   "metadata": {},
   "outputs": [
    {
     "data": {
      "text/plain": [
       "473362"
      ]
     },
     "execution_count": 28,
     "metadata": {},
     "output_type": "execute_result"
    }
   ],
   "source": [
    "#df = pd.read_csv('rip_dn_scrape.csv')\n",
    "df = pd.read_pickle('rip_dn_scrape.pkl')\n",
    "len(df)"
   ]
  },
  {
   "cell_type": "code",
   "execution_count": 34,
   "id": "d507589c-1044-4320-a1d6-59e85f7b73c6",
   "metadata": {},
   "outputs": [],
   "source": [
    "z.to_csv('/home/damien/Downloads/test_day.csv')"
   ]
  },
  {
   "cell_type": "markdown",
   "id": "26620489-345c-4f6a-919d-e48b826b2393",
   "metadata": {},
   "source": [
    "## iterate over a range of ids and get info"
   ]
  },
  {
   "cell_type": "code",
   "execution_count": null,
   "id": "532df69c-9845-4ca6-8c53-749155759d1f",
   "metadata": {},
   "outputs": [],
   "source": [
    "#read current table in so we skip those already done\n",
    "df = pd.read_pickle('rip_dn_scrape.pkl')\n",
    "print (len(df))\n",
    "ids = list(df.id)\n",
    "\n",
    "results={}\n",
    "for n in range(470000,473370):\n",
    "    if n in ids:\n",
    "        continue\n",
    "    name,date,cty,addr,txt = get_dn_page(n)    \n",
    "    results[n] = [name,date,cty,addr,txt]\n",
    "    time.sleep(0.05)"
   ]
  },
  {
   "cell_type": "code",
   "execution_count": 63,
   "id": "45e5d930-0ba6-4824-a5ea-b3599faaa6db",
   "metadata": {},
   "outputs": [],
   "source": [
    "res = pd.DataFrame.from_dict(results,orient='index',columns=['name','date','county','address','notice']).reset_index()\n",
    "res = res.rename(columns={'index':'id'})"
   ]
  },
  {
   "cell_type": "code",
   "execution_count": 64,
   "id": "fd68e48e-9ea7-4838-a7fe-b05ce9b3e594",
   "metadata": {},
   "outputs": [
    {
     "data": {
      "text/html": [
       "<div>\n",
       "<style scoped>\n",
       "    .dataframe tbody tr th:only-of-type {\n",
       "        vertical-align: middle;\n",
       "    }\n",
       "\n",
       "    .dataframe tbody tr th {\n",
       "        vertical-align: top;\n",
       "    }\n",
       "\n",
       "    .dataframe thead th {\n",
       "        text-align: right;\n",
       "    }\n",
       "</style>\n",
       "<table border=\"1\" class=\"dataframe\">\n",
       "  <thead>\n",
       "    <tr style=\"text-align: right;\">\n",
       "      <th></th>\n",
       "      <th>id</th>\n",
       "      <th>name</th>\n",
       "      <th>date</th>\n",
       "      <th>county</th>\n",
       "      <th>address</th>\n",
       "      <th>notice</th>\n",
       "    </tr>\n",
       "  </thead>\n",
       "  <tbody>\n",
       "    <tr>\n",
       "      <th>0</th>\n",
       "      <td>473362</td>\n",
       "      <td>Kieran  Timlin</td>\n",
       "      <td>2021-10-20</td>\n",
       "      <td>Fermanagh</td>\n",
       "      <td>4 The Meadows, Irvinestown,  Fermanagh</td>\n",
       "      <td>Kieran Timlin R.I.P, 19th October 2021 (4 The ...</td>\n",
       "    </tr>\n",
       "    <tr>\n",
       "      <th>1</th>\n",
       "      <td>473363</td>\n",
       "      <td>Hugh  O'BYRNE</td>\n",
       "      <td>2021-10-19</td>\n",
       "      <td>Carlow</td>\n",
       "      <td>Ballykealy, Ballon,  Carlow</td>\n",
       "      <td>Hugh O’Byrne, October 19th 2021 (peacefully) a...</td>\n",
       "    </tr>\n",
       "    <tr>\n",
       "      <th>2</th>\n",
       "      <td>473364</td>\n",
       "      <td>Christy (Kit)  Kelly</td>\n",
       "      <td>2021-10-19</td>\n",
       "      <td>Meath</td>\n",
       "      <td>Castletown, Athboy,  Meath</td>\n",
       "      <td>The death has occurred of Christy (Kit) Kelly,...</td>\n",
       "    </tr>\n",
       "    <tr>\n",
       "      <th>3</th>\n",
       "      <td>473365</td>\n",
       "      <td>PJ  McLoughlin</td>\n",
       "      <td>2021-10-19</td>\n",
       "      <td>Leitrim</td>\n",
       "      <td>Sheena, Drumkeerin,  Leitrim</td>\n",
       "      <td>The death has occurred of PJ McLoughlin, Sheen...</td>\n",
       "    </tr>\n",
       "    <tr>\n",
       "      <th>4</th>\n",
       "      <td>473366</td>\n",
       "      <td>Ian  Pearson</td>\n",
       "      <td>2021-10-17</td>\n",
       "      <td>Meath</td>\n",
       "      <td>Connaught Place, Athboy,  Meath</td>\n",
       "      <td>The death has occurred of Ian Pearson, Connaug...</td>\n",
       "    </tr>\n",
       "    <tr>\n",
       "      <th>5</th>\n",
       "      <td>473367</td>\n",
       "      <td>John A.  Nolan</td>\n",
       "      <td>2021-10-19</td>\n",
       "      <td>Kerry</td>\n",
       "      <td>2 St. Stephen's Park, Castleisland,  Kerry</td>\n",
       "      <td>John A.Nolan 2 St. Stephen's Park, Castleislan...</td>\n",
       "    </tr>\n",
       "    <tr>\n",
       "      <th>6</th>\n",
       "      <td>473368</td>\n",
       "      <td>Michael (Mikie)  Bourke</td>\n",
       "      <td>2021-10-11</td>\n",
       "      <td>Limerick</td>\n",
       "      <td>Ballyhobin, Caherconlish,  Limerick / Shannon,...</td>\n",
       "      <td>London and formerly of Ballyhobin, Caherconlis...</td>\n",
       "    </tr>\n",
       "    <tr>\n",
       "      <th>7</th>\n",
       "      <td>473369</td>\n",
       "      <td>Kate (Kitty)  Barry (née Hurley)</td>\n",
       "      <td>2021-10-19</td>\n",
       "      <td></td>\n",
       "      <td>Curraglass,  Cork / Tallow, Waterford</td>\n",
       "      <td>Barry, Glasshouse, Curraglass &amp; late of Clonak...</td>\n",
       "    </tr>\n",
       "  </tbody>\n",
       "</table>\n",
       "</div>"
      ],
      "text/plain": [
       "       id                              name       date     county  \\\n",
       "0  473362                    Kieran  Timlin 2021-10-20  Fermanagh   \n",
       "1  473363                     Hugh  O'BYRNE 2021-10-19     Carlow   \n",
       "2  473364              Christy (Kit)  Kelly 2021-10-19      Meath   \n",
       "3  473365                    PJ  McLoughlin 2021-10-19    Leitrim   \n",
       "4  473366                      Ian  Pearson 2021-10-17      Meath   \n",
       "5  473367                    John A.  Nolan 2021-10-19      Kerry   \n",
       "6  473368           Michael (Mikie)  Bourke 2021-10-11   Limerick   \n",
       "7  473369  Kate (Kitty)  Barry (née Hurley) 2021-10-19              \n",
       "\n",
       "                                             address  \\\n",
       "0             4 The Meadows, Irvinestown,  Fermanagh   \n",
       "1                        Ballykealy, Ballon,  Carlow   \n",
       "2                         Castletown, Athboy,  Meath   \n",
       "3                       Sheena, Drumkeerin,  Leitrim   \n",
       "4                    Connaught Place, Athboy,  Meath   \n",
       "5         2 St. Stephen's Park, Castleisland,  Kerry   \n",
       "6  Ballyhobin, Caherconlish,  Limerick / Shannon,...   \n",
       "7              Curraglass,  Cork / Tallow, Waterford   \n",
       "\n",
       "                                              notice  \n",
       "0  Kieran Timlin R.I.P, 19th October 2021 (4 The ...  \n",
       "1  Hugh O’Byrne, October 19th 2021 (peacefully) a...  \n",
       "2  The death has occurred of Christy (Kit) Kelly,...  \n",
       "3  The death has occurred of PJ McLoughlin, Sheen...  \n",
       "4  The death has occurred of Ian Pearson, Connaug...  \n",
       "5  John A.Nolan 2 St. Stephen's Park, Castleislan...  \n",
       "6  London and formerly of Ballyhobin, Caherconlis...  \n",
       "7  Barry, Glasshouse, Curraglass & late of Clonak...  "
      ]
     },
     "execution_count": 64,
     "metadata": {},
     "output_type": "execute_result"
    }
   ],
   "source": [
    "res"
   ]
  },
  {
   "cell_type": "code",
   "execution_count": 65,
   "id": "6ff21563-f292-4ce4-a5a3-085670d82227",
   "metadata": {},
   "outputs": [
    {
     "name": "stdout",
     "output_type": "stream",
     "text": [
      "473362 8 473370\n"
     ]
    }
   ],
   "source": [
    "x = pd.concat([df,res]).reset_index(drop=True)\n",
    "x=x[~x.id.duplicated(keep='first')]\n",
    "print (len(df),len(res),len(x))\n",
    "x.to_pickle('rip_dn_scrape.pkl')"
   ]
  },
  {
   "cell_type": "code",
   "execution_count": 66,
   "id": "a950cdc6-367e-430c-bb38-7f6a232c30a9",
   "metadata": {},
   "outputs": [
    {
     "name": "stdout",
     "output_type": "stream",
     "text": [
      "473370\n",
      "453636\n"
     ]
    }
   ],
   "source": [
    "print (len(x))\n",
    "x=x.replace('',None).dropna(axis=0,subset=['date'])\n",
    "x['date'] = pd.to_datetime(x['date']).apply(lambda x: x.strftime('%d/%m/%Y'))\n",
    "x=x.drop_duplicates(['name','notice'])\n",
    "x=x.drop_duplicates(['name','address'])\n",
    "x=x.drop_duplicates(['name','date','county'])\n",
    "x=x.sort_values('id')\n",
    "print (len(x))\n",
    "#x.to_csv('rip_dn_scrape_processed.csv')\n",
    "x.to_pickle('rip_dn_scrape_processed.pkl')"
   ]
  },
  {
   "cell_type": "code",
   "execution_count": null,
   "id": "cf2228ae-7210-487b-9c5b-495c9cebfb13",
   "metadata": {},
   "outputs": [],
   "source": []
  }
 ],
 "metadata": {
  "kernelspec": {
   "display_name": "Python 3",
   "language": "python",
   "name": "python3"
  },
  "language_info": {
   "codemirror_mode": {
    "name": "ipython",
    "version": 3
   },
   "file_extension": ".py",
   "mimetype": "text/x-python",
   "name": "python",
   "nbconvert_exporter": "python",
   "pygments_lexer": "ipython3",
   "version": "3.9.5"
  }
 },
 "nbformat": 4,
 "nbformat_minor": 5
}
