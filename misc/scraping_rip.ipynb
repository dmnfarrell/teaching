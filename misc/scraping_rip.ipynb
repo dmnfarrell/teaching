{
 "cells": [
  {
   "cell_type": "markdown",
   "id": "347aae96-d9f9-41c1-ad5f-9e1e96e6b730",
   "metadata": {},
   "source": [
    "# web scraping RIP.ie with beautifulsoup"
   ]
  },
  {
   "cell_type": "code",
   "execution_count": 1,
   "id": "5004cd5b-5908-41ec-b95d-82562ae63711",
   "metadata": {},
   "outputs": [],
   "source": [
    "import time\n",
    "import pandas as pd\n",
    "from bs4 import BeautifulSoup\n",
    "import requests\n",
    "import datefinder\n",
    "\n",
    "def get_dn_page(n):\n",
    "    \"\"\"Get death notice text from page matching the id number\"\"\"\n",
    "    \n",
    "    url = 'https://rip.ie/showdn.php?dn=%s' %n\n",
    "    req = requests.get(url)\n",
    "    soup = BeautifulSoup(req.content, 'html.parser')\n",
    "    if soup.title == None:\n",
    "        title = ''\n",
    "    else:        \n",
    "        title  = soup.title.text.strip()\n",
    "    name=''    \n",
    "    for s in ['Death Notice of ','The death has occurred of ']:\n",
    "        if title.startswith(s):\n",
    "            name = title.split(s)[1]   \n",
    "    elem = soup.find_all(\"div\", id=\"dn_photo_and_text\")\n",
    "    \n",
    "    if len(elem) == 0:\n",
    "        return name, '', '', '', ''\n",
    "    rows = elem[0].find_all('p')\n",
    "    if len(rows) == 0:\n",
    "        rows = elem[0].find_all('td')\n",
    "    text = ';'.join([r.text.strip() for r in rows]).replace('\\n','')\n",
    "    #address\n",
    "    addrelem = soup.find(\"span\", class_='small_addr') \n",
    "    if addrelem != None:\n",
    "        address = addrelem.text.strip()\n",
    "    else:\n",
    "        address = ''\n",
    "    #county  \n",
    "    ctyelem = soup.find(\"li\", class_='fd_county') \n",
    "    if ctyelem != None:\n",
    "        county = ctyelem.text.strip()\n",
    "    else:\n",
    "        county = ''\n",
    "    #date\n",
    "    dateelem = soup.find(\"div\", class_='ddeath')\n",
    "    if dateelem == None:\n",
    "        dateelem = soup.find(\"div\", class_='dpubl')\n",
    "    s = dateelem.text.strip()\n",
    "    try:\n",
    "        date = list(datefinder.find_dates(s))[0]\n",
    "    except:\n",
    "        date = ''\n",
    "    print (n, date, name, address, county)\n",
    "    return name, date, county, address, text"
   ]
  },
  {
   "cell_type": "code",
   "execution_count": 2,
   "id": "de167694-e030-4289-9f9d-e98541fe78f6",
   "metadata": {},
   "outputs": [
    {
     "name": "stdout",
     "output_type": "stream",
     "text": [
      "390045 2019-06-05 00:00:00 Margaret  Kelly Avenue Grove, Ballymodan Place, Bandon,  Cork Cork\n"
     ]
    },
    {
     "data": {
      "text/plain": [
       "('Margaret  Kelly',\n",
       " datetime.datetime(2019, 6, 5, 0, 0),\n",
       " 'Cork',\n",
       " 'Avenue Grove, Ballymodan Place, Bandon,  Cork',\n",
       " \"Kelly (Avenue Grove, Ballymodan Place, Bandon and late of Currivreeda West) on June 5th 2019. Margaret, beloved daughter of the late Timothy and Ellen. Sadly missed by her loving sisters Ann and Eileen, brothers Teddy and John, Margaret's Partner William, brothers-in-law, sisters-in-law, nieces, nephews, relatives and good friend Malcolm.;;Rosary on Friday evening at 7pm in St. Patrick's Church, Bandon. Requiem Mass on Saturday at 12 noon, funeral afterwards to the adjoining cemetery.;;May Margaret Rest in Peace\")"
      ]
     },
     "execution_count": 2,
     "metadata": {},
     "output_type": "execute_result"
    }
   ],
   "source": [
    "get_dn_page(390045)"
   ]
  },
  {
   "cell_type": "code",
   "execution_count": 28,
   "id": "d6e60be5-efa5-42e7-9b95-2387140c2483",
   "metadata": {},
   "outputs": [
    {
     "data": {
      "text/plain": [
       "473362"
      ]
     },
     "execution_count": 28,
     "metadata": {},
     "output_type": "execute_result"
    }
   ],
   "source": [
    "#df = pd.read_csv('rip_dn_scrape.csv')\n",
    "df = pd.read_pickle('rip_dn_scrape.pkl')\n",
    "len(df)"
   ]
  },
  {
   "cell_type": "code",
   "execution_count": 34,
   "id": "d507589c-1044-4320-a1d6-59e85f7b73c6",
   "metadata": {},
   "outputs": [],
   "source": [
    "z.to_csv('/home/damien/Downloads/test_day.csv')"
   ]
  },
  {
   "cell_type": "markdown",
   "id": "26620489-345c-4f6a-919d-e48b826b2393",
   "metadata": {},
   "source": [
    "## iterate over a range of ids and get info"
   ]
  },
  {
   "cell_type": "code",
   "execution_count": null,
   "id": "532df69c-9845-4ca6-8c53-749155759d1f",
   "metadata": {},
   "outputs": [],
   "source": [
    "#read current table in so we skip those already done\n",
    "df = pd.read_pickle('rip_dn_scrape.pkl')\n",
    "print (len(df))\n",
    "ids = list(df.id)\n",
    "\n",
    "results={}\n",
    "for n in range(481000,483868):\n",
    "    if n in ids:\n",
    "        continue\n",
    "    name,date,cty,addr,txt = get_dn_page(n)\n",
    "    if name == '':\n",
    "        continue\n",
    "    results[n] = [name,date,cty,addr,txt]\n",
    "    time.sleep(0.05)"
   ]
  },
  {
   "cell_type": "code",
   "execution_count": 3,
   "id": "45e5d930-0ba6-4824-a5ea-b3599faaa6db",
   "metadata": {},
   "outputs": [
    {
     "name": "stderr",
     "output_type": "stream",
     "text": [
      "<ipython-input-3-849ec239fce7>:1: FutureWarning: Inferring datetime64[ns] from data containing strings is deprecated and will be removed in a future version. To retain the old behavior explicitly pass Series(data, dtype={value.dtype})\n",
      "  res = pd.DataFrame.from_dict(results,orient='index',columns=['name','date','county','address','notice']).reset_index()\n"
     ]
    }
   ],
   "source": [
    "res = pd.DataFrame.from_dict(results,orient='index',columns=['name','date','county','address','notice']).reset_index()\n",
    "res = res.rename(columns={'index':'id'})"
   ]
  },
  {
   "cell_type": "code",
   "execution_count": 4,
   "id": "fd68e48e-9ea7-4838-a7fe-b05ce9b3e594",
   "metadata": {},
   "outputs": [
    {
     "data": {
      "text/html": [
       "<div>\n",
       "<style scoped>\n",
       "    .dataframe tbody tr th:only-of-type {\n",
       "        vertical-align: middle;\n",
       "    }\n",
       "\n",
       "    .dataframe tbody tr th {\n",
       "        vertical-align: top;\n",
       "    }\n",
       "\n",
       "    .dataframe thead th {\n",
       "        text-align: right;\n",
       "    }\n",
       "</style>\n",
       "<table border=\"1\" class=\"dataframe\">\n",
       "  <thead>\n",
       "    <tr style=\"text-align: right;\">\n",
       "      <th></th>\n",
       "      <th>id</th>\n",
       "      <th>name</th>\n",
       "      <th>date</th>\n",
       "      <th>county</th>\n",
       "      <th>address</th>\n",
       "      <th>notice</th>\n",
       "    </tr>\n",
       "  </thead>\n",
       "  <tbody>\n",
       "    <tr>\n",
       "      <th>0</th>\n",
       "      <td>483583</td>\n",
       "      <td>William (Billy)  Ahern</td>\n",
       "      <td>2022-01-20</td>\n",
       "      <td>Limerick</td>\n",
       "      <td>179, Rock Place, Carew Park, Limerick City,  L...</td>\n",
       "      <td>Billy, died (peacefully) on 20th January 2022;...</td>\n",
       "    </tr>\n",
       "    <tr>\n",
       "      <th>1</th>\n",
       "      <td>483584</td>\n",
       "      <td>Robert  HAYES</td>\n",
       "      <td>2022-01-20</td>\n",
       "      <td>Limerick</td>\n",
       "      <td>Meadow Springs, Clareview,  Limerick</td>\n",
       "      <td>Robert died peacefully, after a short illness,...</td>\n",
       "    </tr>\n",
       "    <tr>\n",
       "      <th>2</th>\n",
       "      <td>483585</td>\n",
       "      <td>Seamus  BROWNE</td>\n",
       "      <td>2022-01-19</td>\n",
       "      <td>Kilkenny</td>\n",
       "      <td>Fr. Murphy Sq., Kilkenny City,  Kilkenny</td>\n",
       "      <td>Browne (22 Fr. Murphy Sq. Kilkenny) 19th Janua...</td>\n",
       "    </tr>\n",
       "    <tr>\n",
       "      <th>3</th>\n",
       "      <td>483586</td>\n",
       "      <td>Owen  Hearty</td>\n",
       "      <td>2022-01-19</td>\n",
       "      <td>Dublin</td>\n",
       "      <td>Blackrock,  Dublin</td>\n",
       "      <td>HEARTY Owen (Blackrock, Co. Dublin and late of...</td>\n",
       "    </tr>\n",
       "    <tr>\n",
       "      <th>4</th>\n",
       "      <td>483587</td>\n",
       "      <td>Catherine  Fox (née O'Sullivan)</td>\n",
       "      <td>2022-01-20</td>\n",
       "      <td>Westmeath</td>\n",
       "      <td>''De Porres'', Cornamaddy, Athlone,  Westmeath...</td>\n",
       "      <td>Peacefully at home surrounded by her family on...</td>\n",
       "    </tr>\n",
       "    <tr>\n",
       "      <th>...</th>\n",
       "      <td>...</td>\n",
       "      <td>...</td>\n",
       "      <td>...</td>\n",
       "      <td>...</td>\n",
       "      <td>...</td>\n",
       "      <td>...</td>\n",
       "    </tr>\n",
       "    <tr>\n",
       "      <th>280</th>\n",
       "      <td>483863</td>\n",
       "      <td>Patrick (Paddy)  McGill</td>\n",
       "      <td>2022-01-21</td>\n",
       "      <td>Dublin</td>\n",
       "      <td>Finglas,  Dublin</td>\n",
       "      <td>Peacefully at Care Choice Care Home, Finglas, ...</td>\n",
       "    </tr>\n",
       "    <tr>\n",
       "      <th>281</th>\n",
       "      <td>483864</td>\n",
       "      <td>Mary Veronica (Ronnie)  KENNY (née Maguire)</td>\n",
       "      <td>2022-01-22</td>\n",
       "      <td>Dublin</td>\n",
       "      <td>Churchtown,  Dublin</td>\n",
       "      <td>KENNY (née Maguire) Mary Veronica (Ronnie) 22n...</td>\n",
       "    </tr>\n",
       "    <tr>\n",
       "      <th>282</th>\n",
       "      <td>483865</td>\n",
       "      <td>Tim  Cooney</td>\n",
       "      <td>2022-01-22</td>\n",
       "      <td>Tipperary</td>\n",
       "      <td>Glenconnor, Clonmel,  Tipperary, E91 Y590</td>\n",
       "      <td>The death has occurred of Tim Cooney, Glenconn...</td>\n",
       "    </tr>\n",
       "    <tr>\n",
       "      <th>283</th>\n",
       "      <td>483866</td>\n",
       "      <td>Teresa  Murray</td>\n",
       "      <td>2022-01-17</td>\n",
       "      <td>Dublin</td>\n",
       "      <td>Finglas,  Dublin</td>\n",
       "      <td>Suddenly, but peacefully, at home. Beloved dau...</td>\n",
       "    </tr>\n",
       "    <tr>\n",
       "      <th>284</th>\n",
       "      <td>483867</td>\n",
       "      <td>Kitty  Fleming (née O'Driscoll)</td>\n",
       "      <td>2022-01-21</td>\n",
       "      <td>Cork</td>\n",
       "      <td>Carrigeen, Butlerstown,  Cork / Clonakilty, Cork</td>\n",
       "      <td>FLEMING (Carrigeen, Butlerstown and late of Ba...</td>\n",
       "    </tr>\n",
       "  </tbody>\n",
       "</table>\n",
       "<p>285 rows × 6 columns</p>\n",
       "</div>"
      ],
      "text/plain": [
       "         id                                         name       date  \\\n",
       "0    483583                       William (Billy)  Ahern 2022-01-20   \n",
       "1    483584                                Robert  HAYES 2022-01-20   \n",
       "2    483585                               Seamus  BROWNE 2022-01-19   \n",
       "3    483586                                 Owen  Hearty 2022-01-19   \n",
       "4    483587              Catherine  Fox (née O'Sullivan) 2022-01-20   \n",
       "..      ...                                          ...        ...   \n",
       "280  483863                      Patrick (Paddy)  McGill 2022-01-21   \n",
       "281  483864  Mary Veronica (Ronnie)  KENNY (née Maguire) 2022-01-22   \n",
       "282  483865                                  Tim  Cooney 2022-01-22   \n",
       "283  483866                               Teresa  Murray 2022-01-17   \n",
       "284  483867              Kitty  Fleming (née O'Driscoll) 2022-01-21   \n",
       "\n",
       "        county                                            address  \\\n",
       "0     Limerick  179, Rock Place, Carew Park, Limerick City,  L...   \n",
       "1     Limerick               Meadow Springs, Clareview,  Limerick   \n",
       "2     Kilkenny           Fr. Murphy Sq., Kilkenny City,  Kilkenny   \n",
       "3       Dublin                                 Blackrock,  Dublin   \n",
       "4    Westmeath  ''De Porres'', Cornamaddy, Athlone,  Westmeath...   \n",
       "..         ...                                                ...   \n",
       "280     Dublin                                   Finglas,  Dublin   \n",
       "281     Dublin                                Churchtown,  Dublin   \n",
       "282  Tipperary          Glenconnor, Clonmel,  Tipperary, E91 Y590   \n",
       "283     Dublin                                   Finglas,  Dublin   \n",
       "284       Cork   Carrigeen, Butlerstown,  Cork / Clonakilty, Cork   \n",
       "\n",
       "                                                notice  \n",
       "0    Billy, died (peacefully) on 20th January 2022;...  \n",
       "1    Robert died peacefully, after a short illness,...  \n",
       "2    Browne (22 Fr. Murphy Sq. Kilkenny) 19th Janua...  \n",
       "3    HEARTY Owen (Blackrock, Co. Dublin and late of...  \n",
       "4    Peacefully at home surrounded by her family on...  \n",
       "..                                                 ...  \n",
       "280  Peacefully at Care Choice Care Home, Finglas, ...  \n",
       "281  KENNY (née Maguire) Mary Veronica (Ronnie) 22n...  \n",
       "282  The death has occurred of Tim Cooney, Glenconn...  \n",
       "283  Suddenly, but peacefully, at home. Beloved dau...  \n",
       "284  FLEMING (Carrigeen, Butlerstown and late of Ba...  \n",
       "\n",
       "[285 rows x 6 columns]"
      ]
     },
     "execution_count": 4,
     "metadata": {},
     "output_type": "execute_result"
    }
   ],
   "source": [
    "res"
   ]
  },
  {
   "cell_type": "code",
   "execution_count": 5,
   "id": "6ff21563-f292-4ce4-a5a3-085670d82227",
   "metadata": {},
   "outputs": [
    {
     "name": "stdout",
     "output_type": "stream",
     "text": [
      "483554 285 483839\n"
     ]
    }
   ],
   "source": [
    "x = pd.concat([df,res]).reset_index(drop=True)\n",
    "x=x[~x.id.duplicated(keep='first')]\n",
    "print (len(df),len(res),len(x))\n",
    "x.to_pickle('rip_dn_scrape.pkl')"
   ]
  },
  {
   "cell_type": "markdown",
   "id": "4a3361c3-5466-4d81-908d-2c09d0fd9847",
   "metadata": {},
   "source": [
    "## clean data"
   ]
  },
  {
   "cell_type": "code",
   "execution_count": 6,
   "id": "a950cdc6-367e-430c-bb38-7f6a232c30a9",
   "metadata": {},
   "outputs": [
    {
     "name": "stdout",
     "output_type": "stream",
     "text": [
      "483839\n",
      "449109\n"
     ]
    }
   ],
   "source": [
    "print (len(x))\n",
    "x=x.replace('',None).dropna(axis=0,subset=['date'])\n",
    "x['date'] = pd.to_datetime(x['date']).apply(lambda x: x.strftime('%d/%m/%Y'))\n",
    "x=x.drop_duplicates(['name','notice'])\n",
    "x=x.drop_duplicates(['name','address'])\n",
    "x=x.drop_duplicates(['name','date','county'])\n",
    "nc = ['Fermanagh','Armagh','Tyrone','Down','Antrim','Derry']\n",
    "x = x[~x.county.isin(nc)]\n",
    "x = x[~x.address.str.contains('|'.join(nc))]\n",
    "x=x.sort_values('id')\n",
    "print (len(x))\n",
    "#x.to_csv('rip_dn_scrape_processed.csv')\n",
    "x.to_pickle('rip_dn_scrape_processed.pkl')"
   ]
  },
  {
   "cell_type": "code",
   "execution_count": null,
   "id": "cf2228ae-7210-487b-9c5b-495c9cebfb13",
   "metadata": {},
   "outputs": [],
   "source": []
  }
 ],
 "metadata": {
  "kernelspec": {
   "display_name": "Python 3",
   "language": "python",
   "name": "python3"
  },
  "language_info": {
   "codemirror_mode": {
    "name": "ipython",
    "version": 3
   },
   "file_extension": ".py",
   "mimetype": "text/x-python",
   "name": "python",
   "nbconvert_exporter": "python",
   "pygments_lexer": "ipython3",
   "version": "3.9.7"
  }
 },
 "nbformat": 4,
 "nbformat_minor": 5
}
